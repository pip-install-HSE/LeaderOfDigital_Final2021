{
 "cells": [
  {
   "cell_type": "markdown",
   "metadata": {},
   "source": [
    "# What is Semantic Segmentation?\n",
    "Semantic segmentation refers to the process of linking each pixel in an image to a class label. These labels could include a person, car, flower, piece of furniture, etc., just to mention a few.\n",
    "We can think of semantic segmentation as image classification at a pixel level. For example, in an image that has many cars, segmentation will label all the objects as car objects. However, a separate class of models known as instance segmentation is able to label the separate instances where an object appears in an image. This kind of segmentation can be very useful in applications that are used to count the number of objects, such as counting the amount of foot traffic in a mall."
   ]
  },
  {
   "cell_type": "markdown",
   "metadata": {},
   "source": [
    "# Please upvote the kernel if you found it insightful!"
   ]
  },
  {
   "cell_type": "markdown",
   "metadata": {
    "id": "l5i3N-weKP6-",
    "papermill": {
     "duration": 0.022866,
     "end_time": "2021-02-18T10:06:03.865074",
     "exception": false,
     "start_time": "2021-02-18T10:06:03.842208",
     "status": "completed"
    },
    "tags": []
   },
   "source": [
    "# Import Libraries"
   ]
  },
  {
   "cell_type": "code",
   "execution_count": 1,
   "metadata": {
    "id": "kFSYoYRqJSfB",
    "papermill": {
     "duration": 23.025453,
     "end_time": "2021-02-18T10:06:26.911588",
     "exception": false,
     "start_time": "2021-02-18T10:06:03.886135",
     "status": "completed"
    },
    "tags": []
   },
   "outputs": [],
   "source": [
    "# !pip install albumentations\n",
    "import numpy as np \n",
    "import pandas as pd\n",
    "import matplotlib.pyplot as plt\n",
    "\n",
    "from sklearn.model_selection import train_test_split\n",
    "\n",
    "import torch\n",
    "import torch.nn as nn\n",
    "from torch.utils.data import Dataset, DataLoader\n",
    "from torchvision import transforms as T\n",
    "import torchvision\n",
    "import torch.nn.functional as F\n",
    "from torch.autograd import Variable\n",
    "\n",
    "from PIL import Image\n",
    "import cv2\n",
    "import albumentations as A\n",
    "\n",
    "import time\n",
    "import os\n",
    "from tqdm.notebook import tqdm\n",
    "\n",
    "!pip install -q segmentation-models-pytorch\n",
    "!pip install -q torchsummary\n",
    "\n",
    "from torchsummary import summary\n",
    "import segmentation_models_pytorch as smp\n",
    "\n",
    "\n",
    "import torchvision\n",
    "from torchvision import models\n",
    "from torchvision import transforms\n",
    "\n",
    "device = torch.device(\"cuda\" if torch.cuda.is_available() else \"cpu\")"
   ]
  },
  {
   "cell_type": "markdown",
   "metadata": {
    "id": "1_HWVOdhJSfP",
    "papermill": {
     "duration": 0.026783,
     "end_time": "2021-02-18T10:06:26.966143",
     "exception": false,
     "start_time": "2021-02-18T10:06:26.93936",
     "status": "completed"
    },
    "tags": []
   },
   "source": [
    "# Preprocessing"
   ]
  },
  {
   "cell_type": "code",
   "execution_count": 2,
   "metadata": {
    "papermill": {
     "duration": 0.033799,
     "end_time": "2021-02-18T10:06:27.027862",
     "exception": false,
     "start_time": "2021-02-18T10:06:26.994063",
     "status": "completed"
    },
    "tags": []
   },
   "outputs": [],
   "source": [
    "IMAGE_PATH_1 = '../Denchik/dataСlass/oil'\n",
    "IMAGE_PATH_0 = '../Denchik/dataСlass/clear/'\n",
    "MASK_PATH = '../data2/Default/'"
   ]
  },
  {
   "cell_type": "code",
   "execution_count": 3,
   "metadata": {
    "id": "gmPIy2ZFJSfQ",
    "outputId": "895760d0-0896-49e9-b90b-3a06dc227886",
    "papermill": {
     "duration": 0.157328,
     "end_time": "2021-02-18T10:06:27.211938",
     "exception": false,
     "start_time": "2021-02-18T10:06:27.05461",
     "status": "completed"
    },
    "tags": []
   },
   "outputs": [],
   "source": [
    "n_classes = 2\n",
    "\n"
   ]
  },
  {
   "cell_type": "code",
   "execution_count": null,
   "metadata": {
    "papermill": {
     "duration": 0.045372,
     "end_time": "2021-02-18T10:06:27.28512",
     "exception": false,
     "start_time": "2021-02-18T10:06:27.239748",
     "status": "completed"
    },
    "tags": []
   },
   "outputs": [],
   "source": []
  },
  {
   "cell_type": "code",
   "execution_count": null,
   "metadata": {
    "id": "-uXF6vetJSff",
    "outputId": "3dbf6719-75ed-46f7-805c-7892b7b3a6d1",
    "papermill": {
     "duration": 4.280771,
     "end_time": "2021-02-18T10:06:31.595115",
     "exception": false,
     "start_time": "2021-02-18T10:06:27.314344",
     "status": "completed"
    },
    "tags": []
   },
   "outputs": [],
   "source": []
  },
  {
   "cell_type": "markdown",
   "metadata": {
    "id": "dkjFEoe7JSfo",
    "papermill": {
     "duration": 0.030107,
     "end_time": "2021-02-18T10:06:31.656378",
     "exception": false,
     "start_time": "2021-02-18T10:06:31.626271",
     "status": "completed"
    },
    "tags": []
   },
   "source": [
    "# Dataset"
   ]
  },
  {
   "cell_type": "code",
   "execution_count": 4,
   "metadata": {
    "id": "yne-vteuJSfp",
    "papermill": {
     "duration": 0.045449,
     "end_time": "2021-02-18T10:06:31.732603",
     "exception": false,
     "start_time": "2021-02-18T10:06:31.687154",
     "status": "completed"
    },
    "tags": []
   },
   "outputs": [],
   "source": [
    "from tqdm.notebook import tqdm\n",
    "\n",
    "\n",
    "def get_id_from_str(s):\n",
    "    s = s.split(\".\")[0]\n",
    "    return int(s[3:])\n",
    "\n",
    "def ch_first(img):\n",
    "    return np.moveaxis(img, -1, 0)\n",
    "\n",
    "def ch_last(img):\n",
    "    return np.moveaxis(img, 0, -1)\n",
    "\n",
    "\n",
    "class DroneDataset(Dataset):\n",
    "    \n",
    "    def __init__(self, img_path_1, img_path_0, mask_path):\n",
    "        self.img_path_0 = img_path_0\n",
    "        self.img_path_1 = img_path_1\n",
    "        self.mask_path = mask_path\n",
    "        \n",
    "        self.zero_img = os.listdir(self.img_path_0)[:200]\n",
    "        zero_len = len(self.zero_img)\n",
    "        \n",
    "        self.mask_path_list = os.listdir(self.mask_path)[1:]\n",
    "        # print(self.mask_path_list)\n",
    "        self.id_list = [get_id_from_str(x) for x in self.mask_path_list] + [-1] * zero_len\n",
    "        \n",
    "        self.traintransform = transforms.Compose([\n",
    "                transforms.RandomRotation((0, 360)),\n",
    "\n",
    "                transforms.RandomHorizontalFlip(),\n",
    "                transforms.RandomVerticalFlip(),\n",
    "            ])\n",
    "        \n",
    "        \n",
    "    def __len__(self):\n",
    "        return len(self.id_list)\n",
    "    \n",
    "    def __getitem__(self, idx):\n",
    "        id_ = self.id_list[idx]\n",
    "        if id_ != -1:\n",
    "            img_path = os.path.join(self.img_path_1, \"img\"+str(id_)+\".npy\")\n",
    "            mask_path = os.path.join(self.mask_path, \"img\"+str(id_)+\".npy.png\")\n",
    "        else:\n",
    "            img = torch.from_numpy(ch_first(np.load(os.path.join(self.img_path_0, self.zero_img[idx - len(self.mask_path_list)])))).long()\n",
    "            mask = torch.from_numpy(np.zeros((64, 64))).long()\n",
    "            return img, mask\n",
    "        \n",
    "        img = np.load(img_path)\n",
    "        mask = cv2.imread(mask_path)\n",
    "        mask = mask[:, :, 2] != 0\n",
    "        \n",
    "        img, mask = torch.from_numpy(ch_first(img)).long(), torch.from_numpy(mask)\n",
    "        \n",
    "        img_mask = self.traintransform(torch.cat([img, mask.reshape(1, 64, 64)], dim=0))\n",
    "        \n",
    "        img, mask = img_mask[:-1], img_mask[-1]\n",
    "        \n",
    "        # print(img.shape)\n",
    "        # print(mask.shape)\n",
    "        \n",
    "        return img, mask"
   ]
  },
  {
   "cell_type": "code",
   "execution_count": 5,
   "metadata": {
    "id": "CCL93_giJSft",
    "papermill": {
     "duration": 0.041706,
     "end_time": "2021-02-18T10:06:31.80439",
     "exception": false,
     "start_time": "2021-02-18T10:06:31.762684",
     "status": "completed"
    },
    "tags": []
   },
   "outputs": [],
   "source": [
    "from torch.utils.data.dataset import random_split\n",
    "train_set = DroneDataset(IMAGE_PATH_1, IMAGE_PATH_0, MASK_PATH)\n",
    "train, val = random_split(train_set, [len(train_set) - 50, 50])"
   ]
  },
  {
   "cell_type": "code",
   "execution_count": 6,
   "metadata": {
    "id": "CCL93_giJSft",
    "papermill": {
     "duration": 0.041706,
     "end_time": "2021-02-18T10:06:31.80439",
     "exception": false,
     "start_time": "2021-02-18T10:06:31.762684",
     "status": "completed"
    },
    "tags": []
   },
   "outputs": [],
   "source": [
    "# train_set[0]"
   ]
  },
  {
   "cell_type": "code",
   "execution_count": 7,
   "metadata": {
    "id": "CCL93_giJSft",
    "papermill": {
     "duration": 0.041706,
     "end_time": "2021-02-18T10:06:31.80439",
     "exception": false,
     "start_time": "2021-02-18T10:06:31.762684",
     "status": "completed"
    },
    "tags": []
   },
   "outputs": [
    {
     "data": {
      "text/plain": [
       "238"
      ]
     },
     "execution_count": 7,
     "metadata": {},
     "output_type": "execute_result"
    }
   ],
   "source": [
    "len(train)"
   ]
  },
  {
   "cell_type": "code",
   "execution_count": 8,
   "metadata": {
    "id": "CCL93_giJSft",
    "papermill": {
     "duration": 0.041706,
     "end_time": "2021-02-18T10:06:31.80439",
     "exception": false,
     "start_time": "2021-02-18T10:06:31.762684",
     "status": "completed"
    },
    "tags": []
   },
   "outputs": [],
   "source": [
    "batch_size= 7\n",
    "\n",
    "train_loader = DataLoader(train, batch_size=batch_size, shuffle=True)\n",
    "val_loader = DataLoader(val, batch_size=batch_size, shuffle=True)               "
   ]
  },
  {
   "cell_type": "markdown",
   "metadata": {
    "id": "jJ-ZypiFJSgJ",
    "papermill": {
     "duration": 0.029797,
     "end_time": "2021-02-18T10:06:31.864199",
     "exception": false,
     "start_time": "2021-02-18T10:06:31.834402",
     "status": "completed"
    },
    "tags": []
   },
   "source": [
    "# Model"
   ]
  },
  {
   "cell_type": "code",
   "execution_count": 9,
   "metadata": {
    "id": "ZXb8nBmpJSgK",
    "outputId": "167e4afc-a54d-455b-ed0e-328558cfe23f",
    "papermill": {
     "duration": 0.637787,
     "end_time": "2021-02-18T10:06:32.532384",
     "exception": false,
     "start_time": "2021-02-18T10:06:31.894597",
     "status": "completed"
    },
    "tags": []
   },
   "outputs": [],
   "source": [
    "model = smp.Unet('mobilenet_v2', encoder_weights='imagenet', classes=2, activation=None, encoder_depth=5, decoder_channels=[256, 128, 64, 32, 16])\n"
   ]
  },
  {
   "cell_type": "code",
   "execution_count": 10,
   "metadata": {
    "id": "32nY_jBWJSgN",
    "papermill": {
     "duration": 0.043393,
     "end_time": "2021-02-18T10:06:32.607492",
     "exception": false,
     "start_time": "2021-02-18T10:06:32.564099",
     "status": "completed"
    },
    "tags": []
   },
   "outputs": [],
   "source": [
    "# model.encoder.features[0][0].in_channels = 13\n",
    "model.encoder.features[0][0] = torch.nn.Conv2d(13, 32, kernel_size=(3, 3), stride=(2, 2), padding=(1, 1), bias=False)\n",
    "# img, mask = next(iter(train_set))\n",
    "\n",
    "# img = img.reshape(1, 13, 64, 64)\n",
    "# out = model(img)"
   ]
  },
  {
   "cell_type": "code",
   "execution_count": 11,
   "metadata": {},
   "outputs": [],
   "source": [
    "# plt.imshow(out[0][0].detach())\n",
    "\n",
    "# mask.max()\n",
    "# plt.imshow(mask)\n",
    "\n",
    "\n",
    "# mask = cv2.imread(\"../data2/Default/img1161.npy.png\")\n",
    "# mask[:, :, 2] != 0"
   ]
  },
  {
   "cell_type": "markdown",
   "metadata": {
    "id": "ncudHa0UJSgQ",
    "papermill": {
     "duration": 0.031715,
     "end_time": "2021-02-18T10:06:32.670851",
     "exception": false,
     "start_time": "2021-02-18T10:06:32.639136",
     "status": "completed"
    },
    "tags": []
   },
   "source": [
    "# Training"
   ]
  },
  {
   "cell_type": "code",
   "execution_count": 12,
   "metadata": {
    "papermill": {
     "duration": 0.039711,
     "end_time": "2021-02-18T10:06:32.742919",
     "exception": false,
     "start_time": "2021-02-18T10:06:32.703208",
     "status": "completed"
    },
    "tags": []
   },
   "outputs": [],
   "source": [
    "def pixel_accuracy(output, mask):\n",
    "    with torch.no_grad():\n",
    "        output = torch.argmax(F.softmax(output, dim=1), dim=1)\n",
    "        correct = torch.eq(output, mask).int()\n",
    "        accuracy = float(correct.sum()) / float(correct.numel())\n",
    "    return accuracy"
   ]
  },
  {
   "cell_type": "code",
   "execution_count": 13,
   "metadata": {
    "id": "5cqfcLtOJSgS",
    "papermill": {
     "duration": 0.048322,
     "end_time": "2021-02-18T10:06:32.826838",
     "exception": false,
     "start_time": "2021-02-18T10:06:32.778516",
     "status": "completed"
    },
    "tags": []
   },
   "outputs": [],
   "source": [
    "def mIoU(pred_mask, mask, smooth=1e-10, n_classes=23):\n",
    "    with torch.no_grad():\n",
    "        pred_mask = F.softmax(pred_mask, dim=1)\n",
    "        pred_mask = torch.argmax(pred_mask, dim=1)\n",
    "        pred_mask = pred_mask.contiguous().view(-1)\n",
    "        mask = mask.contiguous().view(-1)\n",
    "\n",
    "        iou_per_class = []\n",
    "        for clas in range(0, n_classes): #loop per pixel class\n",
    "            true_class = pred_mask == clas\n",
    "            true_label = mask == clas\n",
    "\n",
    "            if true_label.float().sum().item() == 0: #no exist label in this loop\n",
    "                iou_per_class.append(np.nan)\n",
    "            else:\n",
    "                intersect = torch.logical_and(true_class, true_label).sum().float().item()\n",
    "                union = torch.logical_or(true_class, true_label).sum().float().item()\n",
    "\n",
    "                iou = (intersect + smooth) / (union + smooth)\n",
    "                iou_per_class.append(iou)\n",
    "        return np.nanmean(iou_per_class)"
   ]
  },
  {
   "cell_type": "code",
   "execution_count": 14,
   "metadata": {
    "id": "8i9UIFUJJSgZ",
    "papermill": {
     "duration": 0.060048,
     "end_time": "2021-02-18T10:06:32.922403",
     "exception": false,
     "start_time": "2021-02-18T10:06:32.862355",
     "status": "completed"
    },
    "tags": []
   },
   "outputs": [],
   "source": [
    "def get_lr(optimizer):\n",
    "    for param_group in optimizer.param_groups:\n",
    "        return param_group['lr']\n",
    "\n",
    "def fit(epochs, model, train_loader, val_loader, criterion, optimizer, scheduler, patch=False):\n",
    "    torch.cuda.empty_cache()\n",
    "    train_losses = []\n",
    "    test_losses = []\n",
    "    val_iou = []; val_acc = []\n",
    "    train_iou = []; train_acc = []\n",
    "    lrs = []\n",
    "    min_loss = np.inf\n",
    "    decrease = 1 ; not_improve=0\n",
    "\n",
    "    model.to(device)\n",
    "    fit_time = time.time()\n",
    "    for e in range(epochs):\n",
    "        since = time.time()\n",
    "        running_loss = 0\n",
    "        iou_score = 0\n",
    "        accuracy = 0\n",
    "        #training loop\n",
    "        model.train()\n",
    "        for i, data in enumerate(train_loader):\n",
    "            #training phase\n",
    "            image_tiles, mask_tiles = data\n",
    "            \n",
    "            image = image_tiles.to(device).float()\n",
    "            mask = mask_tiles.to(device)\n",
    "            #forward\n",
    "            output = model(image)\n",
    "            loss = criterion(output, mask)\n",
    "            #evaluation metrics\n",
    "            # iou_score += mIoU(output.long(), mask.long())\n",
    "            accuracy += pixel_accuracy(output, mask)\n",
    "            #backward\n",
    "            loss.backward()\n",
    "            optimizer.step() #update weight          \n",
    "            optimizer.zero_grad() #reset gradient\n",
    "            \n",
    "            #step the learning rate\n",
    "            lrs.append(get_lr(optimizer))\n",
    "            scheduler.step() \n",
    "            \n",
    "            running_loss += loss.item()\n",
    "            \n",
    "        else:\n",
    "            model.eval()\n",
    "            test_loss = 0\n",
    "            test_accuracy = 0\n",
    "            val_iou_score = 0\n",
    "            #validation loop\n",
    "            with torch.no_grad():\n",
    "                for i, data in enumerate(tqdm(val_loader)):\n",
    "                    #reshape to 9 patches from single image, delete batch size\n",
    "                    image_tiles, mask_tiles = data\n",
    "                    \n",
    "                    image = image_tiles.to(device).float()\n",
    "                    mask = mask_tiles.to(device);\n",
    "                    output = model(image)\n",
    "                    #evaluation metrics\n",
    "                    # val_iou_score +=  mIoU(output, mask)\n",
    "                    test_accuracy += pixel_accuracy(output, mask)\n",
    "                    #loss\n",
    "                    loss = criterion(output, mask)                                  \n",
    "                    test_loss += loss.item()\n",
    "            \n",
    "            #calculatio mean for each batch\n",
    "            train_losses.append(running_loss/len(train_loader))\n",
    "            test_losses.append(test_loss/len(val_loader))\n",
    "\n",
    "\n",
    "            if min_loss > (test_loss/len(val_loader)):\n",
    "                print('Loss Decreasing.. {:.3f} >> {:.3f} '.format(min_loss, (test_loss/len(val_loader))))\n",
    "                min_loss = (test_loss/len(val_loader))\n",
    "                decrease += 1\n",
    "                if decrease % 5 == 0:\n",
    "                    print('saving model...')\n",
    "                    torch.save(model, 'Unet-Mobilenet_v2_mIoU-{:.3f}.pt'.format(val_iou_score/len(val_loader)))\n",
    "                    \n",
    "\n",
    "#             if (test_loss/len(val_loader)) > min_loss:\n",
    "#                 not_improve += 1\n",
    "#                 min_loss = (test_loss/len(val_loader))\n",
    "#                 print(f'Loss Not Decrease for {not_improve} time')\n",
    "#                 if not_improve == 7:\n",
    "#                     print('Loss not decrease for 7 times, Stop Training')\n",
    "#                     break\n",
    "            \n",
    "            #iou\n",
    "            val_iou.append(val_iou_score/len(val_loader))\n",
    "            train_iou.append(iou_score/len(train_loader))\n",
    "            train_acc.append(accuracy/len(train_loader))\n",
    "            val_acc.append(test_accuracy/ len(val_loader))\n",
    "            print(\"Epoch:{}/{}..\".format(e+1, epochs),\n",
    "                  \"Train Loss: {:.3f}..\".format(running_loss/len(train_loader)),\n",
    "                  \"Val Loss: {:.3f}..\".format(test_loss/len(val_loader)),\n",
    "                  \"Train mIoU:{:.3f}..\".format(iou_score/len(train_loader)),\n",
    "                  \"Val mIoU: {:.3f}..\".format(val_iou_score/len(val_loader)),\n",
    "                  \"Train Acc:{:.3f}..\".format(accuracy/len(train_loader)),\n",
    "                  \"Val Acc:{:.3f}..\".format(test_accuracy/len(val_loader)),\n",
    "                  \"Time: {:.2f}m\".format((time.time()-since)/60))\n",
    "        \n",
    "    history = {'train_loss' : train_losses, 'val_loss': test_losses,\n",
    "               'train_miou' :train_iou, 'val_miou':val_iou,\n",
    "               'train_acc' :train_acc, 'val_acc':val_acc,\n",
    "               'lrs': lrs}\n",
    "    print('Total time: {:.2f} m' .format((time.time()- fit_time)/60))\n",
    "    return history"
   ]
  },
  {
   "cell_type": "code",
   "execution_count": 15,
   "metadata": {
    "id": "vo-VQwfJJSgg",
    "outputId": "6f9ba55a-1dc1-49e2-f4ef-6fac29b235e8",
    "papermill": {
     "duration": 3881.864248,
     "end_time": "2021-02-18T11:11:14.819081",
     "exception": false,
     "start_time": "2021-02-18T10:06:32.954833",
     "status": "completed"
    },
    "tags": []
   },
   "outputs": [
    {
     "data": {
      "application/vnd.jupyter.widget-view+json": {
       "model_id": "ac5a7507bbb745d2b3db70fc93beabad",
       "version_major": 2,
       "version_minor": 0
      },
      "text/plain": [
       "  0%|          | 0/8 [00:00<?, ?it/s]"
      ]
     },
     "metadata": {},
     "output_type": "display_data"
    },
    {
     "name": "stdout",
     "output_type": "stream",
     "text": [
      "Loss Decreasing.. inf >> 1.135 \n",
      "Epoch:1/1000.. Train Loss: 1.199.. Val Loss: 1.135.. Train mIoU:0.000.. Val mIoU: 0.000.. Train Acc:0.284.. Val Acc:0.342.. Time: 0.12m\n"
     ]
    },
    {
     "data": {
      "application/vnd.jupyter.widget-view+json": {
       "model_id": "0d4f69478cc34bfeb5d93e1c29941ce8",
       "version_major": 2,
       "version_minor": 0
      },
      "text/plain": [
       "  0%|          | 0/8 [00:00<?, ?it/s]"
      ]
     },
     "metadata": {},
     "output_type": "display_data"
    },
    {
     "name": "stdout",
     "output_type": "stream",
     "text": [
      "Epoch:2/1000.. Train Loss: 0.983.. Val Loss: 1.157.. Train mIoU:0.000.. Val mIoU: 0.000.. Train Acc:0.367.. Val Acc:0.451.. Time: 0.07m\n"
     ]
    },
    {
     "data": {
      "application/vnd.jupyter.widget-view+json": {
       "model_id": "f7df2f45c04b44c4867607954c42e568",
       "version_major": 2,
       "version_minor": 0
      },
      "text/plain": [
       "  0%|          | 0/8 [00:00<?, ?it/s]"
      ]
     },
     "metadata": {},
     "output_type": "display_data"
    },
    {
     "name": "stdout",
     "output_type": "stream",
     "text": [
      "Loss Decreasing.. 1.135 >> 0.824 \n",
      "Epoch:3/1000.. Train Loss: 0.872.. Val Loss: 0.824.. Train mIoU:0.000.. Val mIoU: 0.000.. Train Acc:0.468.. Val Acc:0.527.. Time: 0.07m\n"
     ]
    },
    {
     "data": {
      "application/vnd.jupyter.widget-view+json": {
       "model_id": "b7612ebc6a5f47b89ebd42b68dc330d8",
       "version_major": 2,
       "version_minor": 0
      },
      "text/plain": [
       "  0%|          | 0/8 [00:00<?, ?it/s]"
      ]
     },
     "metadata": {},
     "output_type": "display_data"
    },
    {
     "name": "stdout",
     "output_type": "stream",
     "text": [
      "Loss Decreasing.. 0.824 >> 0.687 \n",
      "Epoch:4/1000.. Train Loss: 0.775.. Val Loss: 0.687.. Train mIoU:0.000.. Val mIoU: 0.000.. Train Acc:0.575.. Val Acc:0.595.. Time: 0.07m\n"
     ]
    },
    {
     "data": {
      "application/vnd.jupyter.widget-view+json": {
       "model_id": "7b18a9a7a20c46b3864caf6434b2d46d",
       "version_major": 2,
       "version_minor": 0
      },
      "text/plain": [
       "  0%|          | 0/8 [00:00<?, ?it/s]"
      ]
     },
     "metadata": {},
     "output_type": "display_data"
    },
    {
     "name": "stdout",
     "output_type": "stream",
     "text": [
      "Epoch:5/1000.. Train Loss: 0.677.. Val Loss: 0.751.. Train mIoU:0.000.. Val mIoU: 0.000.. Train Acc:0.668.. Val Acc:0.658.. Time: 0.07m\n"
     ]
    },
    {
     "data": {
      "application/vnd.jupyter.widget-view+json": {
       "model_id": "a78a664cd1a34ac382cff91a61373460",
       "version_major": 2,
       "version_minor": 0
      },
      "text/plain": [
       "  0%|          | 0/8 [00:00<?, ?it/s]"
      ]
     },
     "metadata": {},
     "output_type": "display_data"
    },
    {
     "name": "stdout",
     "output_type": "stream",
     "text": [
      "Loss Decreasing.. 0.687 >> 0.617 \n",
      "saving model...\n",
      "Epoch:6/1000.. Train Loss: 0.667.. Val Loss: 0.617.. Train mIoU:0.000.. Val mIoU: 0.000.. Train Acc:0.730.. Val Acc:0.749.. Time: 0.07m\n"
     ]
    },
    {
     "data": {
      "application/vnd.jupyter.widget-view+json": {
       "model_id": "80550d2684e04a3b8cd47bd44a8220ec",
       "version_major": 2,
       "version_minor": 0
      },
      "text/plain": [
       "  0%|          | 0/8 [00:00<?, ?it/s]"
      ]
     },
     "metadata": {},
     "output_type": "display_data"
    },
    {
     "name": "stdout",
     "output_type": "stream",
     "text": [
      "Loss Decreasing.. 0.617 >> 0.581 \n",
      "Epoch:7/1000.. Train Loss: 0.590.. Val Loss: 0.581.. Train mIoU:0.000.. Val mIoU: 0.000.. Train Acc:0.786.. Val Acc:0.779.. Time: 0.07m\n"
     ]
    },
    {
     "data": {
      "application/vnd.jupyter.widget-view+json": {
       "model_id": "48a7231279e146e29df697271484fcbe",
       "version_major": 2,
       "version_minor": 0
      },
      "text/plain": [
       "  0%|          | 0/8 [00:00<?, ?it/s]"
      ]
     },
     "metadata": {},
     "output_type": "display_data"
    },
    {
     "name": "stdout",
     "output_type": "stream",
     "text": [
      "Loss Decreasing.. 0.581 >> 0.560 \n",
      "Epoch:8/1000.. Train Loss: 0.573.. Val Loss: 0.560.. Train mIoU:0.000.. Val mIoU: 0.000.. Train Acc:0.801.. Val Acc:0.768.. Time: 0.07m\n"
     ]
    },
    {
     "data": {
      "application/vnd.jupyter.widget-view+json": {
       "model_id": "6ee110f25ecd4a6986c1c983916092f1",
       "version_major": 2,
       "version_minor": 0
      },
      "text/plain": [
       "  0%|          | 0/8 [00:00<?, ?it/s]"
      ]
     },
     "metadata": {},
     "output_type": "display_data"
    },
    {
     "name": "stdout",
     "output_type": "stream",
     "text": [
      "Loss Decreasing.. 0.560 >> 0.494 \n",
      "Epoch:9/1000.. Train Loss: 0.523.. Val Loss: 0.494.. Train mIoU:0.000.. Val mIoU: 0.000.. Train Acc:0.826.. Val Acc:0.809.. Time: 0.07m\n"
     ]
    },
    {
     "data": {
      "application/vnd.jupyter.widget-view+json": {
       "model_id": "ab20414f8f70421b91dba5c5ebe60692",
       "version_major": 2,
       "version_minor": 0
      },
      "text/plain": [
       "  0%|          | 0/8 [00:00<?, ?it/s]"
      ]
     },
     "metadata": {},
     "output_type": "display_data"
    },
    {
     "name": "stdout",
     "output_type": "stream",
     "text": [
      "Epoch:10/1000.. Train Loss: 0.490.. Val Loss: 0.662.. Train mIoU:0.000.. Val mIoU: 0.000.. Train Acc:0.844.. Val Acc:0.778.. Time: 0.08m\n"
     ]
    },
    {
     "data": {
      "application/vnd.jupyter.widget-view+json": {
       "model_id": "018c390ba2484d0ba306af44debd7cab",
       "version_major": 2,
       "version_minor": 0
      },
      "text/plain": [
       "  0%|          | 0/8 [00:00<?, ?it/s]"
      ]
     },
     "metadata": {},
     "output_type": "display_data"
    },
    {
     "name": "stdout",
     "output_type": "stream",
     "text": [
      "Loss Decreasing.. 0.494 >> 0.485 \n",
      "Epoch:11/1000.. Train Loss: 0.481.. Val Loss: 0.485.. Train mIoU:0.000.. Val mIoU: 0.000.. Train Acc:0.836.. Val Acc:0.830.. Time: 0.07m\n"
     ]
    },
    {
     "data": {
      "application/vnd.jupyter.widget-view+json": {
       "model_id": "67140616340347eaadf62dbbf43dfce2",
       "version_major": 2,
       "version_minor": 0
      },
      "text/plain": [
       "  0%|          | 0/8 [00:00<?, ?it/s]"
      ]
     },
     "metadata": {},
     "output_type": "display_data"
    },
    {
     "name": "stdout",
     "output_type": "stream",
     "text": [
      "Epoch:12/1000.. Train Loss: 0.427.. Val Loss: 0.568.. Train mIoU:0.000.. Val mIoU: 0.000.. Train Acc:0.871.. Val Acc:0.749.. Time: 0.07m\n"
     ]
    },
    {
     "data": {
      "application/vnd.jupyter.widget-view+json": {
       "model_id": "7bae920d184446d08340b722818bed78",
       "version_major": 2,
       "version_minor": 0
      },
      "text/plain": [
       "  0%|          | 0/8 [00:00<?, ?it/s]"
      ]
     },
     "metadata": {},
     "output_type": "display_data"
    },
    {
     "name": "stdout",
     "output_type": "stream",
     "text": [
      "Loss Decreasing.. 0.485 >> 0.407 \n",
      "saving model...\n",
      "Epoch:13/1000.. Train Loss: 0.409.. Val Loss: 0.407.. Train mIoU:0.000.. Val mIoU: 0.000.. Train Acc:0.869.. Val Acc:0.845.. Time: 0.08m\n"
     ]
    },
    {
     "data": {
      "application/vnd.jupyter.widget-view+json": {
       "model_id": "ccb6f1960db84572bf70d8959fceca74",
       "version_major": 2,
       "version_minor": 0
      },
      "text/plain": [
       "  0%|          | 0/8 [00:00<?, ?it/s]"
      ]
     },
     "metadata": {},
     "output_type": "display_data"
    },
    {
     "name": "stdout",
     "output_type": "stream",
     "text": [
      "Loss Decreasing.. 0.407 >> 0.404 \n",
      "Epoch:14/1000.. Train Loss: 0.396.. Val Loss: 0.404.. Train mIoU:0.000.. Val mIoU: 0.000.. Train Acc:0.864.. Val Acc:0.855.. Time: 0.07m\n"
     ]
    },
    {
     "data": {
      "application/vnd.jupyter.widget-view+json": {
       "model_id": "fa27b10d07b74a6984870b2e0320ad9e",
       "version_major": 2,
       "version_minor": 0
      },
      "text/plain": [
       "  0%|          | 0/8 [00:00<?, ?it/s]"
      ]
     },
     "metadata": {},
     "output_type": "display_data"
    },
    {
     "name": "stdout",
     "output_type": "stream",
     "text": [
      "Epoch:15/1000.. Train Loss: 0.362.. Val Loss: 0.431.. Train mIoU:0.000.. Val mIoU: 0.000.. Train Acc:0.879.. Val Acc:0.815.. Time: 0.07m\n"
     ]
    },
    {
     "data": {
      "application/vnd.jupyter.widget-view+json": {
       "model_id": "51648e4c5eae46f59ddcf80ee781842c",
       "version_major": 2,
       "version_minor": 0
      },
      "text/plain": [
       "  0%|          | 0/8 [00:00<?, ?it/s]"
      ]
     },
     "metadata": {},
     "output_type": "display_data"
    },
    {
     "name": "stdout",
     "output_type": "stream",
     "text": [
      "Epoch:16/1000.. Train Loss: 0.349.. Val Loss: 0.433.. Train mIoU:0.000.. Val mIoU: 0.000.. Train Acc:0.878.. Val Acc:0.788.. Time: 0.07m\n"
     ]
    },
    {
     "data": {
      "application/vnd.jupyter.widget-view+json": {
       "model_id": "18e75bce253c43d9a98b94466960a132",
       "version_major": 2,
       "version_minor": 0
      },
      "text/plain": [
       "  0%|          | 0/8 [00:00<?, ?it/s]"
      ]
     },
     "metadata": {},
     "output_type": "display_data"
    },
    {
     "name": "stdout",
     "output_type": "stream",
     "text": [
      "Epoch:17/1000.. Train Loss: 0.349.. Val Loss: 0.425.. Train mIoU:0.000.. Val mIoU: 0.000.. Train Acc:0.871.. Val Acc:0.818.. Time: 0.07m\n"
     ]
    },
    {
     "data": {
      "application/vnd.jupyter.widget-view+json": {
       "model_id": "74bd4835b90441f698b9e5a8060abd00",
       "version_major": 2,
       "version_minor": 0
      },
      "text/plain": [
       "  0%|          | 0/8 [00:00<?, ?it/s]"
      ]
     },
     "metadata": {},
     "output_type": "display_data"
    },
    {
     "name": "stdout",
     "output_type": "stream",
     "text": [
      "Loss Decreasing.. 0.404 >> 0.361 \n",
      "Epoch:18/1000.. Train Loss: 0.336.. Val Loss: 0.361.. Train mIoU:0.000.. Val mIoU: 0.000.. Train Acc:0.872.. Val Acc:0.840.. Time: 0.07m\n"
     ]
    },
    {
     "data": {
      "application/vnd.jupyter.widget-view+json": {
       "model_id": "ccb8a893921e4b55afa4126ddaab9ce9",
       "version_major": 2,
       "version_minor": 0
      },
      "text/plain": [
       "  0%|          | 0/8 [00:00<?, ?it/s]"
      ]
     },
     "metadata": {},
     "output_type": "display_data"
    },
    {
     "name": "stdout",
     "output_type": "stream",
     "text": [
      "Epoch:19/1000.. Train Loss: 0.322.. Val Loss: 0.396.. Train mIoU:0.000.. Val mIoU: 0.000.. Train Acc:0.879.. Val Acc:0.843.. Time: 0.07m\n"
     ]
    },
    {
     "data": {
      "application/vnd.jupyter.widget-view+json": {
       "model_id": "16c24d348caf4b31a5f3ef17f768e646",
       "version_major": 2,
       "version_minor": 0
      },
      "text/plain": [
       "  0%|          | 0/8 [00:00<?, ?it/s]"
      ]
     },
     "metadata": {},
     "output_type": "display_data"
    },
    {
     "name": "stdout",
     "output_type": "stream",
     "text": [
      "Loss Decreasing.. 0.361 >> 0.349 \n",
      "Epoch:20/1000.. Train Loss: 0.310.. Val Loss: 0.349.. Train mIoU:0.000.. Val mIoU: 0.000.. Train Acc:0.880.. Val Acc:0.840.. Time: 0.08m\n"
     ]
    },
    {
     "data": {
      "application/vnd.jupyter.widget-view+json": {
       "model_id": "76c8665abd73448cb4d7e254e22ee72f",
       "version_major": 2,
       "version_minor": 0
      },
      "text/plain": [
       "  0%|          | 0/8 [00:00<?, ?it/s]"
      ]
     },
     "metadata": {},
     "output_type": "display_data"
    },
    {
     "name": "stdout",
     "output_type": "stream",
     "text": [
      "Epoch:21/1000.. Train Loss: 0.334.. Val Loss: 0.420.. Train mIoU:0.000.. Val mIoU: 0.000.. Train Acc:0.849.. Val Acc:0.794.. Time: 0.07m\n"
     ]
    },
    {
     "data": {
      "application/vnd.jupyter.widget-view+json": {
       "model_id": "e111345b9f98475e8889d6d674b84a88",
       "version_major": 2,
       "version_minor": 0
      },
      "text/plain": [
       "  0%|          | 0/8 [00:00<?, ?it/s]"
      ]
     },
     "metadata": {},
     "output_type": "display_data"
    },
    {
     "name": "stdout",
     "output_type": "stream",
     "text": [
      "Epoch:22/1000.. Train Loss: 0.308.. Val Loss: 0.360.. Train mIoU:0.000.. Val mIoU: 0.000.. Train Acc:0.871.. Val Acc:0.840.. Time: 0.07m\n"
     ]
    },
    {
     "data": {
      "application/vnd.jupyter.widget-view+json": {
       "model_id": "e3ca0203a4fc4ca592f4af36261d641f",
       "version_major": 2,
       "version_minor": 0
      },
      "text/plain": [
       "  0%|          | 0/8 [00:00<?, ?it/s]"
      ]
     },
     "metadata": {},
     "output_type": "display_data"
    },
    {
     "name": "stdout",
     "output_type": "stream",
     "text": [
      "Loss Decreasing.. 0.349 >> 0.318 \n",
      "Epoch:23/1000.. Train Loss: 0.280.. Val Loss: 0.318.. Train mIoU:0.000.. Val mIoU: 0.000.. Train Acc:0.891.. Val Acc:0.849.. Time: 0.07m\n"
     ]
    },
    {
     "data": {
      "application/vnd.jupyter.widget-view+json": {
       "model_id": "bc4a9dc203494ab0baf6969f1a8025ce",
       "version_major": 2,
       "version_minor": 0
      },
      "text/plain": [
       "  0%|          | 0/8 [00:00<?, ?it/s]"
      ]
     },
     "metadata": {},
     "output_type": "display_data"
    },
    {
     "name": "stdout",
     "output_type": "stream",
     "text": [
      "Epoch:24/1000.. Train Loss: 0.286.. Val Loss: 0.321.. Train mIoU:0.000.. Val mIoU: 0.000.. Train Acc:0.873.. Val Acc:0.852.. Time: 0.07m\n"
     ]
    },
    {
     "data": {
      "application/vnd.jupyter.widget-view+json": {
       "model_id": "85992367db844a2091faa8ed204fab61",
       "version_major": 2,
       "version_minor": 0
      },
      "text/plain": [
       "  0%|          | 0/8 [00:00<?, ?it/s]"
      ]
     },
     "metadata": {},
     "output_type": "display_data"
    },
    {
     "name": "stdout",
     "output_type": "stream",
     "text": [
      "Epoch:25/1000.. Train Loss: 0.289.. Val Loss: 0.321.. Train mIoU:0.000.. Val mIoU: 0.000.. Train Acc:0.875.. Val Acc:0.846.. Time: 0.07m\n"
     ]
    },
    {
     "data": {
      "application/vnd.jupyter.widget-view+json": {
       "model_id": "4407159e60a048f19b215fc98d8f0e28",
       "version_major": 2,
       "version_minor": 0
      },
      "text/plain": [
       "  0%|          | 0/8 [00:00<?, ?it/s]"
      ]
     },
     "metadata": {},
     "output_type": "display_data"
    },
    {
     "name": "stdout",
     "output_type": "stream",
     "text": [
      "Epoch:26/1000.. Train Loss: 0.258.. Val Loss: 0.399.. Train mIoU:0.000.. Val mIoU: 0.000.. Train Acc:0.895.. Val Acc:0.805.. Time: 0.07m\n"
     ]
    },
    {
     "data": {
      "application/vnd.jupyter.widget-view+json": {
       "model_id": "c082390deda04a3bb191531c9bc0b7b5",
       "version_major": 2,
       "version_minor": 0
      },
      "text/plain": [
       "  0%|          | 0/8 [00:00<?, ?it/s]"
      ]
     },
     "metadata": {},
     "output_type": "display_data"
    },
    {
     "name": "stdout",
     "output_type": "stream",
     "text": [
      "Epoch:27/1000.. Train Loss: 0.274.. Val Loss: 0.321.. Train mIoU:0.000.. Val mIoU: 0.000.. Train Acc:0.882.. Val Acc:0.851.. Time: 0.07m\n"
     ]
    },
    {
     "data": {
      "application/vnd.jupyter.widget-view+json": {
       "model_id": "996cd5e8700d4fb1969322c8ef35e81c",
       "version_major": 2,
       "version_minor": 0
      },
      "text/plain": [
       "  0%|          | 0/8 [00:00<?, ?it/s]"
      ]
     },
     "metadata": {},
     "output_type": "display_data"
    },
    {
     "name": "stdout",
     "output_type": "stream",
     "text": [
      "Loss Decreasing.. 0.318 >> 0.307 \n",
      "saving model...\n",
      "Epoch:28/1000.. Train Loss: 0.289.. Val Loss: 0.307.. Train mIoU:0.000.. Val mIoU: 0.000.. Train Acc:0.873.. Val Acc:0.857.. Time: 0.07m\n"
     ]
    },
    {
     "data": {
      "application/vnd.jupyter.widget-view+json": {
       "model_id": "e23380725533499593ba1096ba58858e",
       "version_major": 2,
       "version_minor": 0
      },
      "text/plain": [
       "  0%|          | 0/8 [00:00<?, ?it/s]"
      ]
     },
     "metadata": {},
     "output_type": "display_data"
    },
    {
     "name": "stdout",
     "output_type": "stream",
     "text": [
      "Loss Decreasing.. 0.307 >> 0.303 \n",
      "Epoch:29/1000.. Train Loss: 0.257.. Val Loss: 0.303.. Train mIoU:0.000.. Val mIoU: 0.000.. Train Acc:0.881.. Val Acc:0.853.. Time: 0.07m\n"
     ]
    },
    {
     "data": {
      "application/vnd.jupyter.widget-view+json": {
       "model_id": "eea4f02c125d46518f1836b1bd9df30e",
       "version_major": 2,
       "version_minor": 0
      },
      "text/plain": [
       "  0%|          | 0/8 [00:00<?, ?it/s]"
      ]
     },
     "metadata": {},
     "output_type": "display_data"
    },
    {
     "name": "stdout",
     "output_type": "stream",
     "text": [
      "Epoch:30/1000.. Train Loss: 0.260.. Val Loss: 0.324.. Train mIoU:0.000.. Val mIoU: 0.000.. Train Acc:0.881.. Val Acc:0.851.. Time: 0.07m\n"
     ]
    },
    {
     "data": {
      "application/vnd.jupyter.widget-view+json": {
       "model_id": "fed2200d62a34ff0807f7b3c9b3b1328",
       "version_major": 2,
       "version_minor": 0
      },
      "text/plain": [
       "  0%|          | 0/8 [00:00<?, ?it/s]"
      ]
     },
     "metadata": {},
     "output_type": "display_data"
    },
    {
     "name": "stdout",
     "output_type": "stream",
     "text": [
      "Loss Decreasing.. 0.303 >> 0.303 \n",
      "Epoch:31/1000.. Train Loss: 0.276.. Val Loss: 0.303.. Train mIoU:0.000.. Val mIoU: 0.000.. Train Acc:0.867.. Val Acc:0.853.. Time: 0.07m\n"
     ]
    },
    {
     "data": {
      "application/vnd.jupyter.widget-view+json": {
       "model_id": "f90bf106cbaf4d53a4af592b35ef36cd",
       "version_major": 2,
       "version_minor": 0
      },
      "text/plain": [
       "  0%|          | 0/8 [00:00<?, ?it/s]"
      ]
     },
     "metadata": {},
     "output_type": "display_data"
    },
    {
     "name": "stdout",
     "output_type": "stream",
     "text": [
      "Epoch:32/1000.. Train Loss: 0.269.. Val Loss: 0.318.. Train mIoU:0.000.. Val mIoU: 0.000.. Train Acc:0.876.. Val Acc:0.853.. Time: 0.07m\n"
     ]
    },
    {
     "data": {
      "application/vnd.jupyter.widget-view+json": {
       "model_id": "85d0bc1c2bf9495892ed1546149b7bbd",
       "version_major": 2,
       "version_minor": 0
      },
      "text/plain": [
       "  0%|          | 0/8 [00:00<?, ?it/s]"
      ]
     },
     "metadata": {},
     "output_type": "display_data"
    },
    {
     "name": "stdout",
     "output_type": "stream",
     "text": [
      "Loss Decreasing.. 0.303 >> 0.294 \n",
      "Epoch:33/1000.. Train Loss: 0.242.. Val Loss: 0.294.. Train mIoU:0.000.. Val mIoU: 0.000.. Train Acc:0.889.. Val Acc:0.854.. Time: 0.07m\n"
     ]
    },
    {
     "data": {
      "application/vnd.jupyter.widget-view+json": {
       "model_id": "bfc6103223d54ddcb09f2acb475c21ff",
       "version_major": 2,
       "version_minor": 0
      },
      "text/plain": [
       "  0%|          | 0/8 [00:00<?, ?it/s]"
      ]
     },
     "metadata": {},
     "output_type": "display_data"
    },
    {
     "name": "stdout",
     "output_type": "stream",
     "text": [
      "Loss Decreasing.. 0.294 >> 0.267 \n",
      "Epoch:34/1000.. Train Loss: 0.248.. Val Loss: 0.267.. Train mIoU:0.000.. Val mIoU: 0.000.. Train Acc:0.883.. Val Acc:0.861.. Time: 0.07m\n"
     ]
    },
    {
     "data": {
      "application/vnd.jupyter.widget-view+json": {
       "model_id": "949918d74ef64836b9a1a061e17761ba",
       "version_major": 2,
       "version_minor": 0
      },
      "text/plain": [
       "  0%|          | 0/8 [00:00<?, ?it/s]"
      ]
     },
     "metadata": {},
     "output_type": "display_data"
    },
    {
     "name": "stdout",
     "output_type": "stream",
     "text": [
      "Epoch:35/1000.. Train Loss: 0.240.. Val Loss: 0.296.. Train mIoU:0.000.. Val mIoU: 0.000.. Train Acc:0.885.. Val Acc:0.845.. Time: 0.07m\n"
     ]
    },
    {
     "data": {
      "application/vnd.jupyter.widget-view+json": {
       "model_id": "523f8ad5139246e0953b9e9cc3c5bbb6",
       "version_major": 2,
       "version_minor": 0
      },
      "text/plain": [
       "  0%|          | 0/8 [00:00<?, ?it/s]"
      ]
     },
     "metadata": {},
     "output_type": "display_data"
    },
    {
     "name": "stdout",
     "output_type": "stream",
     "text": [
      "Epoch:36/1000.. Train Loss: 0.235.. Val Loss: 0.385.. Train mIoU:0.000.. Val mIoU: 0.000.. Train Acc:0.894.. Val Acc:0.820.. Time: 0.07m\n"
     ]
    },
    {
     "data": {
      "application/vnd.jupyter.widget-view+json": {
       "model_id": "935c43353bb542e88ddda56acc360b3d",
       "version_major": 2,
       "version_minor": 0
      },
      "text/plain": [
       "  0%|          | 0/8 [00:00<?, ?it/s]"
      ]
     },
     "metadata": {},
     "output_type": "display_data"
    },
    {
     "name": "stdout",
     "output_type": "stream",
     "text": [
      "Epoch:37/1000.. Train Loss: 0.228.. Val Loss: 0.367.. Train mIoU:0.000.. Val mIoU: 0.000.. Train Acc:0.890.. Val Acc:0.815.. Time: 0.07m\n"
     ]
    },
    {
     "data": {
      "application/vnd.jupyter.widget-view+json": {
       "model_id": "cfd40a5d01bd4be1ba92fcd8112b24e0",
       "version_major": 2,
       "version_minor": 0
      },
      "text/plain": [
       "  0%|          | 0/8 [00:00<?, ?it/s]"
      ]
     },
     "metadata": {},
     "output_type": "display_data"
    },
    {
     "name": "stdout",
     "output_type": "stream",
     "text": [
      "Epoch:38/1000.. Train Loss: 0.242.. Val Loss: 0.298.. Train mIoU:0.000.. Val mIoU: 0.000.. Train Acc:0.884.. Val Acc:0.839.. Time: 0.07m\n"
     ]
    },
    {
     "data": {
      "application/vnd.jupyter.widget-view+json": {
       "model_id": "7a435975bb264e2ea6fc6ca09e3836d9",
       "version_major": 2,
       "version_minor": 0
      },
      "text/plain": [
       "  0%|          | 0/8 [00:00<?, ?it/s]"
      ]
     },
     "metadata": {},
     "output_type": "display_data"
    },
    {
     "name": "stdout",
     "output_type": "stream",
     "text": [
      "Epoch:39/1000.. Train Loss: 0.237.. Val Loss: 0.298.. Train mIoU:0.000.. Val mIoU: 0.000.. Train Acc:0.893.. Val Acc:0.837.. Time: 0.07m\n"
     ]
    },
    {
     "data": {
      "application/vnd.jupyter.widget-view+json": {
       "model_id": "ce16226575594c9f9a66cd699d5b7ef6",
       "version_major": 2,
       "version_minor": 0
      },
      "text/plain": [
       "  0%|          | 0/8 [00:00<?, ?it/s]"
      ]
     },
     "metadata": {},
     "output_type": "display_data"
    },
    {
     "name": "stdout",
     "output_type": "stream",
     "text": [
      "Epoch:40/1000.. Train Loss: 0.226.. Val Loss: 0.357.. Train mIoU:0.000.. Val mIoU: 0.000.. Train Acc:0.893.. Val Acc:0.795.. Time: 0.07m\n"
     ]
    },
    {
     "data": {
      "application/vnd.jupyter.widget-view+json": {
       "model_id": "16ca607765954a39b6332575d203a04a",
       "version_major": 2,
       "version_minor": 0
      },
      "text/plain": [
       "  0%|          | 0/8 [00:00<?, ?it/s]"
      ]
     },
     "metadata": {},
     "output_type": "display_data"
    },
    {
     "name": "stdout",
     "output_type": "stream",
     "text": [
      "Epoch:41/1000.. Train Loss: 0.236.. Val Loss: 0.350.. Train mIoU:0.000.. Val mIoU: 0.000.. Train Acc:0.892.. Val Acc:0.816.. Time: 0.07m\n"
     ]
    },
    {
     "data": {
      "application/vnd.jupyter.widget-view+json": {
       "model_id": "284a6ffc4acb49a0b8202a5eff49f831",
       "version_major": 2,
       "version_minor": 0
      },
      "text/plain": [
       "  0%|          | 0/8 [00:00<?, ?it/s]"
      ]
     },
     "metadata": {},
     "output_type": "display_data"
    },
    {
     "name": "stdout",
     "output_type": "stream",
     "text": [
      "Epoch:42/1000.. Train Loss: 0.241.. Val Loss: 0.437.. Train mIoU:0.000.. Val mIoU: 0.000.. Train Acc:0.890.. Val Acc:0.805.. Time: 0.07m\n"
     ]
    },
    {
     "data": {
      "application/vnd.jupyter.widget-view+json": {
       "model_id": "f1da4caecf3c4128b3f8de3f031deaf1",
       "version_major": 2,
       "version_minor": 0
      },
      "text/plain": [
       "  0%|          | 0/8 [00:00<?, ?it/s]"
      ]
     },
     "metadata": {},
     "output_type": "display_data"
    },
    {
     "name": "stdout",
     "output_type": "stream",
     "text": [
      "Epoch:43/1000.. Train Loss: 0.219.. Val Loss: 0.268.. Train mIoU:0.000.. Val mIoU: 0.000.. Train Acc:0.898.. Val Acc:0.863.. Time: 0.07m\n"
     ]
    },
    {
     "data": {
      "application/vnd.jupyter.widget-view+json": {
       "model_id": "0aba4f0fde0b443b849e2d882c6bfdf9",
       "version_major": 2,
       "version_minor": 0
      },
      "text/plain": [
       "  0%|          | 0/8 [00:00<?, ?it/s]"
      ]
     },
     "metadata": {},
     "output_type": "display_data"
    },
    {
     "name": "stdout",
     "output_type": "stream",
     "text": [
      "Epoch:44/1000.. Train Loss: 0.210.. Val Loss: 0.274.. Train mIoU:0.000.. Val mIoU: 0.000.. Train Acc:0.901.. Val Acc:0.862.. Time: 0.07m\n"
     ]
    },
    {
     "data": {
      "application/vnd.jupyter.widget-view+json": {
       "model_id": "f3944ffa2a2c4ea4b0f7fe655ca6dde7",
       "version_major": 2,
       "version_minor": 0
      },
      "text/plain": [
       "  0%|          | 0/8 [00:00<?, ?it/s]"
      ]
     },
     "metadata": {},
     "output_type": "display_data"
    },
    {
     "name": "stdout",
     "output_type": "stream",
     "text": [
      "Epoch:45/1000.. Train Loss: 0.211.. Val Loss: 0.268.. Train mIoU:0.000.. Val mIoU: 0.000.. Train Acc:0.900.. Val Acc:0.856.. Time: 0.08m\n"
     ]
    },
    {
     "data": {
      "application/vnd.jupyter.widget-view+json": {
       "model_id": "332aea9fb48f4e6aabbc51467ab3b3df",
       "version_major": 2,
       "version_minor": 0
      },
      "text/plain": [
       "  0%|          | 0/8 [00:00<?, ?it/s]"
      ]
     },
     "metadata": {},
     "output_type": "display_data"
    },
    {
     "name": "stdout",
     "output_type": "stream",
     "text": [
      "Loss Decreasing.. 0.267 >> 0.260 \n",
      "saving model...\n",
      "Epoch:46/1000.. Train Loss: 0.237.. Val Loss: 0.260.. Train mIoU:0.000.. Val mIoU: 0.000.. Train Acc:0.889.. Val Acc:0.868.. Time: 0.08m\n"
     ]
    },
    {
     "data": {
      "application/vnd.jupyter.widget-view+json": {
       "model_id": "8042e68a313f4cb1aa96e8232e4edf12",
       "version_major": 2,
       "version_minor": 0
      },
      "text/plain": [
       "  0%|          | 0/8 [00:00<?, ?it/s]"
      ]
     },
     "metadata": {},
     "output_type": "display_data"
    },
    {
     "name": "stdout",
     "output_type": "stream",
     "text": [
      "Epoch:47/1000.. Train Loss: 0.209.. Val Loss: 0.317.. Train mIoU:0.000.. Val mIoU: 0.000.. Train Acc:0.905.. Val Acc:0.842.. Time: 0.07m\n"
     ]
    },
    {
     "data": {
      "application/vnd.jupyter.widget-view+json": {
       "model_id": "637d9f2a7e9645c6bf773d43d50b8e34",
       "version_major": 2,
       "version_minor": 0
      },
      "text/plain": [
       "  0%|          | 0/8 [00:00<?, ?it/s]"
      ]
     },
     "metadata": {},
     "output_type": "display_data"
    },
    {
     "name": "stdout",
     "output_type": "stream",
     "text": [
      "Epoch:48/1000.. Train Loss: 0.218.. Val Loss: 0.273.. Train mIoU:0.000.. Val mIoU: 0.000.. Train Acc:0.898.. Val Acc:0.852.. Time: 0.07m\n"
     ]
    },
    {
     "data": {
      "application/vnd.jupyter.widget-view+json": {
       "model_id": "0e1ffb6609f248129648cf74d8740ddb",
       "version_major": 2,
       "version_minor": 0
      },
      "text/plain": [
       "  0%|          | 0/8 [00:00<?, ?it/s]"
      ]
     },
     "metadata": {},
     "output_type": "display_data"
    },
    {
     "name": "stdout",
     "output_type": "stream",
     "text": [
      "Epoch:49/1000.. Train Loss: 0.219.. Val Loss: 0.347.. Train mIoU:0.000.. Val mIoU: 0.000.. Train Acc:0.899.. Val Acc:0.829.. Time: 0.07m\n"
     ]
    },
    {
     "data": {
      "application/vnd.jupyter.widget-view+json": {
       "model_id": "90eaca5f69c84c37ada2c8d4b87ee879",
       "version_major": 2,
       "version_minor": 0
      },
      "text/plain": [
       "  0%|          | 0/8 [00:00<?, ?it/s]"
      ]
     },
     "metadata": {},
     "output_type": "display_data"
    },
    {
     "name": "stdout",
     "output_type": "stream",
     "text": [
      "Epoch:50/1000.. Train Loss: 0.237.. Val Loss: 0.368.. Train mIoU:0.000.. Val mIoU: 0.000.. Train Acc:0.892.. Val Acc:0.789.. Time: 0.07m\n"
     ]
    },
    {
     "data": {
      "application/vnd.jupyter.widget-view+json": {
       "model_id": "6566d896942846be81a85cae10444c98",
       "version_major": 2,
       "version_minor": 0
      },
      "text/plain": [
       "  0%|          | 0/8 [00:00<?, ?it/s]"
      ]
     },
     "metadata": {},
     "output_type": "display_data"
    },
    {
     "name": "stdout",
     "output_type": "stream",
     "text": [
      "Epoch:51/1000.. Train Loss: 0.231.. Val Loss: 0.277.. Train mIoU:0.000.. Val mIoU: 0.000.. Train Acc:0.896.. Val Acc:0.861.. Time: 0.07m\n"
     ]
    },
    {
     "data": {
      "application/vnd.jupyter.widget-view+json": {
       "model_id": "0c71b3873fbf4c2b8bc0bc6af068d7c6",
       "version_major": 2,
       "version_minor": 0
      },
      "text/plain": [
       "  0%|          | 0/8 [00:00<?, ?it/s]"
      ]
     },
     "metadata": {},
     "output_type": "display_data"
    },
    {
     "name": "stdout",
     "output_type": "stream",
     "text": [
      "Epoch:52/1000.. Train Loss: 0.215.. Val Loss: 0.340.. Train mIoU:0.000.. Val mIoU: 0.000.. Train Acc:0.895.. Val Acc:0.823.. Time: 0.08m\n"
     ]
    },
    {
     "data": {
      "application/vnd.jupyter.widget-view+json": {
       "model_id": "e8b116f8c4204d958d9bd1b3b5bd2a23",
       "version_major": 2,
       "version_minor": 0
      },
      "text/plain": [
       "  0%|          | 0/8 [00:00<?, ?it/s]"
      ]
     },
     "metadata": {},
     "output_type": "display_data"
    },
    {
     "name": "stdout",
     "output_type": "stream",
     "text": [
      "Epoch:53/1000.. Train Loss: 0.202.. Val Loss: 0.329.. Train mIoU:0.000.. Val mIoU: 0.000.. Train Acc:0.903.. Val Acc:0.822.. Time: 0.07m\n"
     ]
    },
    {
     "data": {
      "application/vnd.jupyter.widget-view+json": {
       "model_id": "1582a1418a8e4c0994a1c49f2aeda8b4",
       "version_major": 2,
       "version_minor": 0
      },
      "text/plain": [
       "  0%|          | 0/8 [00:00<?, ?it/s]"
      ]
     },
     "metadata": {},
     "output_type": "display_data"
    },
    {
     "name": "stdout",
     "output_type": "stream",
     "text": [
      "Epoch:54/1000.. Train Loss: 0.191.. Val Loss: 0.333.. Train mIoU:0.000.. Val mIoU: 0.000.. Train Acc:0.907.. Val Acc:0.817.. Time: 0.07m\n"
     ]
    },
    {
     "data": {
      "application/vnd.jupyter.widget-view+json": {
       "model_id": "1b08e5c2da5b443e86ecee05282f4fb3",
       "version_major": 2,
       "version_minor": 0
      },
      "text/plain": [
       "  0%|          | 0/8 [00:00<?, ?it/s]"
      ]
     },
     "metadata": {},
     "output_type": "display_data"
    },
    {
     "name": "stdout",
     "output_type": "stream",
     "text": [
      "Epoch:55/1000.. Train Loss: 0.203.. Val Loss: 0.274.. Train mIoU:0.000.. Val mIoU: 0.000.. Train Acc:0.907.. Val Acc:0.851.. Time: 0.07m\n"
     ]
    },
    {
     "data": {
      "application/vnd.jupyter.widget-view+json": {
       "model_id": "e358ec8bd87b45a4a21ddb3c25a5e9c5",
       "version_major": 2,
       "version_minor": 0
      },
      "text/plain": [
       "  0%|          | 0/8 [00:00<?, ?it/s]"
      ]
     },
     "metadata": {},
     "output_type": "display_data"
    },
    {
     "name": "stdout",
     "output_type": "stream",
     "text": [
      "Epoch:56/1000.. Train Loss: 0.181.. Val Loss: 0.324.. Train mIoU:0.000.. Val mIoU: 0.000.. Train Acc:0.912.. Val Acc:0.841.. Time: 0.07m\n"
     ]
    },
    {
     "data": {
      "application/vnd.jupyter.widget-view+json": {
       "model_id": "8a5a2e5e6c57445bac2cdcc0d70d97c9",
       "version_major": 2,
       "version_minor": 0
      },
      "text/plain": [
       "  0%|          | 0/8 [00:00<?, ?it/s]"
      ]
     },
     "metadata": {},
     "output_type": "display_data"
    },
    {
     "name": "stdout",
     "output_type": "stream",
     "text": [
      "Epoch:57/1000.. Train Loss: 0.193.. Val Loss: 0.336.. Train mIoU:0.000.. Val mIoU: 0.000.. Train Acc:0.906.. Val Acc:0.803.. Time: 0.07m\n"
     ]
    },
    {
     "data": {
      "application/vnd.jupyter.widget-view+json": {
       "model_id": "f433dce981514f89bcbb2a263d7556c0",
       "version_major": 2,
       "version_minor": 0
      },
      "text/plain": [
       "  0%|          | 0/8 [00:00<?, ?it/s]"
      ]
     },
     "metadata": {},
     "output_type": "display_data"
    },
    {
     "name": "stdout",
     "output_type": "stream",
     "text": [
      "Epoch:58/1000.. Train Loss: 0.183.. Val Loss: 0.334.. Train mIoU:0.000.. Val mIoU: 0.000.. Train Acc:0.910.. Val Acc:0.814.. Time: 0.07m\n"
     ]
    },
    {
     "data": {
      "application/vnd.jupyter.widget-view+json": {
       "model_id": "f6572461a6af427eb8374883ad0b51dd",
       "version_major": 2,
       "version_minor": 0
      },
      "text/plain": [
       "  0%|          | 0/8 [00:00<?, ?it/s]"
      ]
     },
     "metadata": {},
     "output_type": "display_data"
    },
    {
     "name": "stdout",
     "output_type": "stream",
     "text": [
      "Epoch:59/1000.. Train Loss: 0.217.. Val Loss: 0.281.. Train mIoU:0.000.. Val mIoU: 0.000.. Train Acc:0.891.. Val Acc:0.861.. Time: 0.07m\n"
     ]
    },
    {
     "data": {
      "application/vnd.jupyter.widget-view+json": {
       "model_id": "1b2d095bb9474db582dc2922bb4a6eec",
       "version_major": 2,
       "version_minor": 0
      },
      "text/plain": [
       "  0%|          | 0/8 [00:00<?, ?it/s]"
      ]
     },
     "metadata": {},
     "output_type": "display_data"
    },
    {
     "name": "stdout",
     "output_type": "stream",
     "text": [
      "Epoch:60/1000.. Train Loss: 0.218.. Val Loss: 0.302.. Train mIoU:0.000.. Val mIoU: 0.000.. Train Acc:0.903.. Val Acc:0.857.. Time: 0.07m\n"
     ]
    },
    {
     "data": {
      "application/vnd.jupyter.widget-view+json": {
       "model_id": "990310bbfd974b179e4a87e2cd9b1147",
       "version_major": 2,
       "version_minor": 0
      },
      "text/plain": [
       "  0%|          | 0/8 [00:00<?, ?it/s]"
      ]
     },
     "metadata": {},
     "output_type": "display_data"
    },
    {
     "name": "stdout",
     "output_type": "stream",
     "text": [
      "Epoch:61/1000.. Train Loss: 0.191.. Val Loss: 0.276.. Train mIoU:0.000.. Val mIoU: 0.000.. Train Acc:0.909.. Val Acc:0.854.. Time: 0.07m\n"
     ]
    },
    {
     "data": {
      "application/vnd.jupyter.widget-view+json": {
       "model_id": "d3e94f820159415b8aa4235ffbd39c78",
       "version_major": 2,
       "version_minor": 0
      },
      "text/plain": [
       "  0%|          | 0/8 [00:00<?, ?it/s]"
      ]
     },
     "metadata": {},
     "output_type": "display_data"
    },
    {
     "name": "stdout",
     "output_type": "stream",
     "text": [
      "Epoch:62/1000.. Train Loss: 0.187.. Val Loss: 0.266.. Train mIoU:0.000.. Val mIoU: 0.000.. Train Acc:0.908.. Val Acc:0.860.. Time: 0.07m\n"
     ]
    },
    {
     "data": {
      "application/vnd.jupyter.widget-view+json": {
       "model_id": "24198e363f8e4c27963886fc791f04b3",
       "version_major": 2,
       "version_minor": 0
      },
      "text/plain": [
       "  0%|          | 0/8 [00:00<?, ?it/s]"
      ]
     },
     "metadata": {},
     "output_type": "display_data"
    },
    {
     "name": "stdout",
     "output_type": "stream",
     "text": [
      "Epoch:63/1000.. Train Loss: 0.216.. Val Loss: 0.263.. Train mIoU:0.000.. Val mIoU: 0.000.. Train Acc:0.907.. Val Acc:0.847.. Time: 0.08m\n"
     ]
    },
    {
     "data": {
      "application/vnd.jupyter.widget-view+json": {
       "model_id": "d9bfba2ef7de42dd8d8945b42b6c3e28",
       "version_major": 2,
       "version_minor": 0
      },
      "text/plain": [
       "  0%|          | 0/8 [00:00<?, ?it/s]"
      ]
     },
     "metadata": {},
     "output_type": "display_data"
    },
    {
     "name": "stdout",
     "output_type": "stream",
     "text": [
      "Epoch:64/1000.. Train Loss: 0.190.. Val Loss: 0.266.. Train mIoU:0.000.. Val mIoU: 0.000.. Train Acc:0.909.. Val Acc:0.858.. Time: 0.07m\n"
     ]
    },
    {
     "data": {
      "application/vnd.jupyter.widget-view+json": {
       "model_id": "fe82e1746589494bb56b58f34236f0c7",
       "version_major": 2,
       "version_minor": 0
      },
      "text/plain": [
       "  0%|          | 0/8 [00:00<?, ?it/s]"
      ]
     },
     "metadata": {},
     "output_type": "display_data"
    },
    {
     "name": "stdout",
     "output_type": "stream",
     "text": [
      "Loss Decreasing.. 0.260 >> 0.253 \n",
      "Epoch:65/1000.. Train Loss: 0.199.. Val Loss: 0.253.. Train mIoU:0.000.. Val mIoU: 0.000.. Train Acc:0.900.. Val Acc:0.861.. Time: 0.07m\n"
     ]
    },
    {
     "data": {
      "application/vnd.jupyter.widget-view+json": {
       "model_id": "f2a513fdae9e427187951fad604ea0c4",
       "version_major": 2,
       "version_minor": 0
      },
      "text/plain": [
       "  0%|          | 0/8 [00:00<?, ?it/s]"
      ]
     },
     "metadata": {},
     "output_type": "display_data"
    },
    {
     "name": "stdout",
     "output_type": "stream",
     "text": [
      "Epoch:66/1000.. Train Loss: 0.218.. Val Loss: 0.314.. Train mIoU:0.000.. Val mIoU: 0.000.. Train Acc:0.897.. Val Acc:0.837.. Time: 0.07m\n"
     ]
    },
    {
     "data": {
      "application/vnd.jupyter.widget-view+json": {
       "model_id": "9a01471fb1f34dd28fde0c83ab2d66f4",
       "version_major": 2,
       "version_minor": 0
      },
      "text/plain": [
       "  0%|          | 0/8 [00:00<?, ?it/s]"
      ]
     },
     "metadata": {},
     "output_type": "display_data"
    },
    {
     "name": "stdout",
     "output_type": "stream",
     "text": [
      "Epoch:67/1000.. Train Loss: 0.198.. Val Loss: 0.336.. Train mIoU:0.000.. Val mIoU: 0.000.. Train Acc:0.899.. Val Acc:0.817.. Time: 0.07m\n"
     ]
    },
    {
     "data": {
      "application/vnd.jupyter.widget-view+json": {
       "model_id": "9e834227869d4929a31ffbda853a3581",
       "version_major": 2,
       "version_minor": 0
      },
      "text/plain": [
       "  0%|          | 0/8 [00:00<?, ?it/s]"
      ]
     },
     "metadata": {},
     "output_type": "display_data"
    },
    {
     "name": "stdout",
     "output_type": "stream",
     "text": [
      "Loss Decreasing.. 0.253 >> 0.237 \n",
      "Epoch:68/1000.. Train Loss: 0.185.. Val Loss: 0.237.. Train mIoU:0.000.. Val mIoU: 0.000.. Train Acc:0.905.. Val Acc:0.863.. Time: 0.07m\n"
     ]
    },
    {
     "data": {
      "application/vnd.jupyter.widget-view+json": {
       "model_id": "47d5b86c916a42df9b82d491b85d1b6d",
       "version_major": 2,
       "version_minor": 0
      },
      "text/plain": [
       "  0%|          | 0/8 [00:00<?, ?it/s]"
      ]
     },
     "metadata": {},
     "output_type": "display_data"
    },
    {
     "name": "stdout",
     "output_type": "stream",
     "text": [
      "Epoch:69/1000.. Train Loss: 0.185.. Val Loss: 0.295.. Train mIoU:0.000.. Val mIoU: 0.000.. Train Acc:0.909.. Val Acc:0.841.. Time: 0.07m\n"
     ]
    },
    {
     "data": {
      "application/vnd.jupyter.widget-view+json": {
       "model_id": "609b879ca33d457aabf8377f583d4003",
       "version_major": 2,
       "version_minor": 0
      },
      "text/plain": [
       "  0%|          | 0/8 [00:00<?, ?it/s]"
      ]
     },
     "metadata": {},
     "output_type": "display_data"
    },
    {
     "name": "stdout",
     "output_type": "stream",
     "text": [
      "Epoch:70/1000.. Train Loss: 0.200.. Val Loss: 0.295.. Train mIoU:0.000.. Val mIoU: 0.000.. Train Acc:0.900.. Val Acc:0.829.. Time: 0.07m\n"
     ]
    },
    {
     "data": {
      "application/vnd.jupyter.widget-view+json": {
       "model_id": "027f52472bf14450a0a23f56a4a24ef2",
       "version_major": 2,
       "version_minor": 0
      },
      "text/plain": [
       "  0%|          | 0/8 [00:00<?, ?it/s]"
      ]
     },
     "metadata": {},
     "output_type": "display_data"
    },
    {
     "name": "stdout",
     "output_type": "stream",
     "text": [
      "Epoch:71/1000.. Train Loss: 0.182.. Val Loss: 0.323.. Train mIoU:0.000.. Val mIoU: 0.000.. Train Acc:0.908.. Val Acc:0.814.. Time: 0.07m\n"
     ]
    },
    {
     "data": {
      "application/vnd.jupyter.widget-view+json": {
       "model_id": "36401ac4e3c94a2ba3a38ad316507a3b",
       "version_major": 2,
       "version_minor": 0
      },
      "text/plain": [
       "  0%|          | 0/8 [00:00<?, ?it/s]"
      ]
     },
     "metadata": {},
     "output_type": "display_data"
    },
    {
     "name": "stdout",
     "output_type": "stream",
     "text": [
      "Epoch:72/1000.. Train Loss: 0.182.. Val Loss: 0.252.. Train mIoU:0.000.. Val mIoU: 0.000.. Train Acc:0.913.. Val Acc:0.867.. Time: 0.07m\n"
     ]
    },
    {
     "data": {
      "application/vnd.jupyter.widget-view+json": {
       "model_id": "0e165b77e83f450bb100bce3761feaa3",
       "version_major": 2,
       "version_minor": 0
      },
      "text/plain": [
       "  0%|          | 0/8 [00:00<?, ?it/s]"
      ]
     },
     "metadata": {},
     "output_type": "display_data"
    },
    {
     "name": "stdout",
     "output_type": "stream",
     "text": [
      "Epoch:73/1000.. Train Loss: 0.201.. Val Loss: 0.364.. Train mIoU:0.000.. Val mIoU: 0.000.. Train Acc:0.909.. Val Acc:0.793.. Time: 0.07m\n"
     ]
    },
    {
     "data": {
      "application/vnd.jupyter.widget-view+json": {
       "model_id": "fd0b7e1035f54704a047b5836dc1cf57",
       "version_major": 2,
       "version_minor": 0
      },
      "text/plain": [
       "  0%|          | 0/8 [00:00<?, ?it/s]"
      ]
     },
     "metadata": {},
     "output_type": "display_data"
    },
    {
     "name": "stdout",
     "output_type": "stream",
     "text": [
      "Epoch:74/1000.. Train Loss: 0.200.. Val Loss: 0.335.. Train mIoU:0.000.. Val mIoU: 0.000.. Train Acc:0.905.. Val Acc:0.809.. Time: 0.08m\n"
     ]
    },
    {
     "data": {
      "application/vnd.jupyter.widget-view+json": {
       "model_id": "81b040bdefcd43978a5de648bfba66ec",
       "version_major": 2,
       "version_minor": 0
      },
      "text/plain": [
       "  0%|          | 0/8 [00:00<?, ?it/s]"
      ]
     },
     "metadata": {},
     "output_type": "display_data"
    },
    {
     "name": "stdout",
     "output_type": "stream",
     "text": [
      "Epoch:75/1000.. Train Loss: 0.183.. Val Loss: 0.259.. Train mIoU:0.000.. Val mIoU: 0.000.. Train Acc:0.912.. Val Acc:0.854.. Time: 0.07m\n"
     ]
    },
    {
     "data": {
      "application/vnd.jupyter.widget-view+json": {
       "model_id": "88f326c1c6c94a8e8b0d2d6e119cab34",
       "version_major": 2,
       "version_minor": 0
      },
      "text/plain": [
       "  0%|          | 0/8 [00:00<?, ?it/s]"
      ]
     },
     "metadata": {},
     "output_type": "display_data"
    },
    {
     "name": "stdout",
     "output_type": "stream",
     "text": [
      "Epoch:76/1000.. Train Loss: 0.183.. Val Loss: 0.245.. Train mIoU:0.000.. Val mIoU: 0.000.. Train Acc:0.907.. Val Acc:0.860.. Time: 0.07m\n"
     ]
    },
    {
     "data": {
      "application/vnd.jupyter.widget-view+json": {
       "model_id": "c4615997c31546fb9859f6a7eecd15d4",
       "version_major": 2,
       "version_minor": 0
      },
      "text/plain": [
       "  0%|          | 0/8 [00:00<?, ?it/s]"
      ]
     },
     "metadata": {},
     "output_type": "display_data"
    },
    {
     "name": "stdout",
     "output_type": "stream",
     "text": [
      "Epoch:77/1000.. Train Loss: 0.198.. Val Loss: 0.255.. Train mIoU:0.000.. Val mIoU: 0.000.. Train Acc:0.907.. Val Acc:0.862.. Time: 0.07m\n"
     ]
    },
    {
     "data": {
      "application/vnd.jupyter.widget-view+json": {
       "model_id": "8f50d207ca3a469b8b66dafa35be8e8f",
       "version_major": 2,
       "version_minor": 0
      },
      "text/plain": [
       "  0%|          | 0/8 [00:00<?, ?it/s]"
      ]
     },
     "metadata": {},
     "output_type": "display_data"
    },
    {
     "name": "stdout",
     "output_type": "stream",
     "text": [
      "Epoch:78/1000.. Train Loss: 0.169.. Val Loss: 0.237.. Train mIoU:0.000.. Val mIoU: 0.000.. Train Acc:0.915.. Val Acc:0.870.. Time: 0.07m\n"
     ]
    },
    {
     "data": {
      "application/vnd.jupyter.widget-view+json": {
       "model_id": "07cbfb9675f042d9a76d957e708dabd8",
       "version_major": 2,
       "version_minor": 0
      },
      "text/plain": [
       "  0%|          | 0/8 [00:00<?, ?it/s]"
      ]
     },
     "metadata": {},
     "output_type": "display_data"
    },
    {
     "name": "stdout",
     "output_type": "stream",
     "text": [
      "Loss Decreasing.. 0.237 >> 0.228 \n",
      "Epoch:79/1000.. Train Loss: 0.170.. Val Loss: 0.228.. Train mIoU:0.000.. Val mIoU: 0.000.. Train Acc:0.917.. Val Acc:0.870.. Time: 0.07m\n"
     ]
    },
    {
     "data": {
      "application/vnd.jupyter.widget-view+json": {
       "model_id": "d75deaf3503d4f0fb762a378558a4e65",
       "version_major": 2,
       "version_minor": 0
      },
      "text/plain": [
       "  0%|          | 0/8 [00:00<?, ?it/s]"
      ]
     },
     "metadata": {},
     "output_type": "display_data"
    },
    {
     "name": "stdout",
     "output_type": "stream",
     "text": [
      "Epoch:80/1000.. Train Loss: 0.181.. Val Loss: 0.442.. Train mIoU:0.000.. Val mIoU: 0.000.. Train Acc:0.911.. Val Acc:0.813.. Time: 0.07m\n"
     ]
    },
    {
     "data": {
      "application/vnd.jupyter.widget-view+json": {
       "model_id": "972da7db3e464286be83adb72a16d42b",
       "version_major": 2,
       "version_minor": 0
      },
      "text/plain": [
       "  0%|          | 0/8 [00:00<?, ?it/s]"
      ]
     },
     "metadata": {},
     "output_type": "display_data"
    },
    {
     "name": "stdout",
     "output_type": "stream",
     "text": [
      "Epoch:81/1000.. Train Loss: 0.211.. Val Loss: 0.274.. Train mIoU:0.000.. Val mIoU: 0.000.. Train Acc:0.897.. Val Acc:0.862.. Time: 0.07m\n"
     ]
    },
    {
     "data": {
      "application/vnd.jupyter.widget-view+json": {
       "model_id": "c45f105595d14826bfa76a6f9380776e",
       "version_major": 2,
       "version_minor": 0
      },
      "text/plain": [
       "  0%|          | 0/8 [00:00<?, ?it/s]"
      ]
     },
     "metadata": {},
     "output_type": "display_data"
    },
    {
     "name": "stdout",
     "output_type": "stream",
     "text": [
      "Epoch:82/1000.. Train Loss: 0.242.. Val Loss: 0.257.. Train mIoU:0.000.. Val mIoU: 0.000.. Train Acc:0.902.. Val Acc:0.866.. Time: 0.07m\n"
     ]
    },
    {
     "data": {
      "application/vnd.jupyter.widget-view+json": {
       "model_id": "952dbcf0d795436c9a5ddfab81d42c8c",
       "version_major": 2,
       "version_minor": 0
      },
      "text/plain": [
       "  0%|          | 0/8 [00:00<?, ?it/s]"
      ]
     },
     "metadata": {},
     "output_type": "display_data"
    },
    {
     "name": "stdout",
     "output_type": "stream",
     "text": [
      "Epoch:83/1000.. Train Loss: 0.226.. Val Loss: 0.320.. Train mIoU:0.000.. Val mIoU: 0.000.. Train Acc:0.900.. Val Acc:0.831.. Time: 0.07m\n"
     ]
    },
    {
     "data": {
      "application/vnd.jupyter.widget-view+json": {
       "model_id": "46202b9cc2fb4a5e817ea0e00d3abf22",
       "version_major": 2,
       "version_minor": 0
      },
      "text/plain": [
       "  0%|          | 0/8 [00:00<?, ?it/s]"
      ]
     },
     "metadata": {},
     "output_type": "display_data"
    },
    {
     "name": "stdout",
     "output_type": "stream",
     "text": [
      "Epoch:84/1000.. Train Loss: 0.198.. Val Loss: 0.309.. Train mIoU:0.000.. Val mIoU: 0.000.. Train Acc:0.904.. Val Acc:0.817.. Time: 0.08m\n"
     ]
    },
    {
     "data": {
      "application/vnd.jupyter.widget-view+json": {
       "model_id": "8451407c4a424029bff4559b89aa8278",
       "version_major": 2,
       "version_minor": 0
      },
      "text/plain": [
       "  0%|          | 0/8 [00:00<?, ?it/s]"
      ]
     },
     "metadata": {},
     "output_type": "display_data"
    },
    {
     "name": "stdout",
     "output_type": "stream",
     "text": [
      "Epoch:85/1000.. Train Loss: 0.179.. Val Loss: 0.304.. Train mIoU:0.000.. Val mIoU: 0.000.. Train Acc:0.913.. Val Acc:0.817.. Time: 0.07m\n"
     ]
    },
    {
     "data": {
      "application/vnd.jupyter.widget-view+json": {
       "model_id": "562b28cd175440a1af116b0be72ffef9",
       "version_major": 2,
       "version_minor": 0
      },
      "text/plain": [
       "  0%|          | 0/8 [00:00<?, ?it/s]"
      ]
     },
     "metadata": {},
     "output_type": "display_data"
    },
    {
     "name": "stdout",
     "output_type": "stream",
     "text": [
      "Epoch:86/1000.. Train Loss: 0.187.. Val Loss: 0.256.. Train mIoU:0.000.. Val mIoU: 0.000.. Train Acc:0.912.. Val Acc:0.861.. Time: 0.07m\n"
     ]
    },
    {
     "data": {
      "application/vnd.jupyter.widget-view+json": {
       "model_id": "92d93337df5346a3b59bcec9e0f50078",
       "version_major": 2,
       "version_minor": 0
      },
      "text/plain": [
       "  0%|          | 0/8 [00:00<?, ?it/s]"
      ]
     },
     "metadata": {},
     "output_type": "display_data"
    },
    {
     "name": "stdout",
     "output_type": "stream",
     "text": [
      "Epoch:87/1000.. Train Loss: 0.171.. Val Loss: 0.252.. Train mIoU:0.000.. Val mIoU: 0.000.. Train Acc:0.913.. Val Acc:0.860.. Time: 0.07m\n"
     ]
    },
    {
     "data": {
      "application/vnd.jupyter.widget-view+json": {
       "model_id": "8c919f53e4ae4ceabeb64e47100781ad",
       "version_major": 2,
       "version_minor": 0
      },
      "text/plain": [
       "  0%|          | 0/8 [00:00<?, ?it/s]"
      ]
     },
     "metadata": {},
     "output_type": "display_data"
    },
    {
     "name": "stdout",
     "output_type": "stream",
     "text": [
      "Epoch:88/1000.. Train Loss: 0.169.. Val Loss: 0.241.. Train mIoU:0.000.. Val mIoU: 0.000.. Train Acc:0.914.. Val Acc:0.866.. Time: 0.07m\n"
     ]
    },
    {
     "data": {
      "application/vnd.jupyter.widget-view+json": {
       "model_id": "6b57cad05ed04287b58c485c8d2ff1ae",
       "version_major": 2,
       "version_minor": 0
      },
      "text/plain": [
       "  0%|          | 0/8 [00:00<?, ?it/s]"
      ]
     },
     "metadata": {},
     "output_type": "display_data"
    },
    {
     "name": "stdout",
     "output_type": "stream",
     "text": [
      "Epoch:89/1000.. Train Loss: 0.183.. Val Loss: 0.313.. Train mIoU:0.000.. Val mIoU: 0.000.. Train Acc:0.909.. Val Acc:0.836.. Time: 0.07m\n"
     ]
    },
    {
     "data": {
      "application/vnd.jupyter.widget-view+json": {
       "model_id": "f29f35a0bed240bcb300625099b2f6bc",
       "version_major": 2,
       "version_minor": 0
      },
      "text/plain": [
       "  0%|          | 0/8 [00:00<?, ?it/s]"
      ]
     },
     "metadata": {},
     "output_type": "display_data"
    },
    {
     "name": "stdout",
     "output_type": "stream",
     "text": [
      "Epoch:90/1000.. Train Loss: 0.178.. Val Loss: 0.245.. Train mIoU:0.000.. Val mIoU: 0.000.. Train Acc:0.911.. Val Acc:0.867.. Time: 0.07m\n"
     ]
    },
    {
     "data": {
      "application/vnd.jupyter.widget-view+json": {
       "model_id": "9dbe294b233f4a42b2a9f6fedf102946",
       "version_major": 2,
       "version_minor": 0
      },
      "text/plain": [
       "  0%|          | 0/8 [00:00<?, ?it/s]"
      ]
     },
     "metadata": {},
     "output_type": "display_data"
    },
    {
     "name": "stdout",
     "output_type": "stream",
     "text": [
      "Epoch:91/1000.. Train Loss: 0.167.. Val Loss: 0.301.. Train mIoU:0.000.. Val mIoU: 0.000.. Train Acc:0.917.. Val Acc:0.820.. Time: 0.07m\n"
     ]
    },
    {
     "data": {
      "application/vnd.jupyter.widget-view+json": {
       "model_id": "9f0c3ee4091a498ea824b009d69405b1",
       "version_major": 2,
       "version_minor": 0
      },
      "text/plain": [
       "  0%|          | 0/8 [00:00<?, ?it/s]"
      ]
     },
     "metadata": {},
     "output_type": "display_data"
    },
    {
     "name": "stdout",
     "output_type": "stream",
     "text": [
      "Epoch:92/1000.. Train Loss: 0.187.. Val Loss: 0.330.. Train mIoU:0.000.. Val mIoU: 0.000.. Train Acc:0.913.. Val Acc:0.823.. Time: 0.07m\n"
     ]
    },
    {
     "data": {
      "application/vnd.jupyter.widget-view+json": {
       "model_id": "e6f33cd94b7b4bc6893711e9248ca008",
       "version_major": 2,
       "version_minor": 0
      },
      "text/plain": [
       "  0%|          | 0/8 [00:00<?, ?it/s]"
      ]
     },
     "metadata": {},
     "output_type": "display_data"
    },
    {
     "name": "stdout",
     "output_type": "stream",
     "text": [
      "Epoch:93/1000.. Train Loss: 0.233.. Val Loss: 0.309.. Train mIoU:0.000.. Val mIoU: 0.000.. Train Acc:0.895.. Val Acc:0.825.. Time: 0.07m\n"
     ]
    },
    {
     "data": {
      "application/vnd.jupyter.widget-view+json": {
       "model_id": "e971cf97cb5b42488d0cebd0453aa04d",
       "version_major": 2,
       "version_minor": 0
      },
      "text/plain": [
       "  0%|          | 0/8 [00:00<?, ?it/s]"
      ]
     },
     "metadata": {},
     "output_type": "display_data"
    },
    {
     "name": "stdout",
     "output_type": "stream",
     "text": [
      "Epoch:94/1000.. Train Loss: 0.181.. Val Loss: 0.264.. Train mIoU:0.000.. Val mIoU: 0.000.. Train Acc:0.908.. Val Acc:0.864.. Time: 0.07m\n"
     ]
    },
    {
     "data": {
      "application/vnd.jupyter.widget-view+json": {
       "model_id": "9096229510aa4cb78d4e8e931e5cf14d",
       "version_major": 2,
       "version_minor": 0
      },
      "text/plain": [
       "  0%|          | 0/8 [00:00<?, ?it/s]"
      ]
     },
     "metadata": {},
     "output_type": "display_data"
    },
    {
     "name": "stdout",
     "output_type": "stream",
     "text": [
      "Epoch:95/1000.. Train Loss: 0.164.. Val Loss: 0.237.. Train mIoU:0.000.. Val mIoU: 0.000.. Train Acc:0.917.. Val Acc:0.869.. Time: 0.08m\n"
     ]
    },
    {
     "data": {
      "application/vnd.jupyter.widget-view+json": {
       "model_id": "a7cede217ab64e13bed10bafa730c982",
       "version_major": 2,
       "version_minor": 0
      },
      "text/plain": [
       "  0%|          | 0/8 [00:00<?, ?it/s]"
      ]
     },
     "metadata": {},
     "output_type": "display_data"
    },
    {
     "name": "stdout",
     "output_type": "stream",
     "text": [
      "Epoch:96/1000.. Train Loss: 0.176.. Val Loss: 0.229.. Train mIoU:0.000.. Val mIoU: 0.000.. Train Acc:0.914.. Val Acc:0.876.. Time: 0.07m\n"
     ]
    },
    {
     "data": {
      "application/vnd.jupyter.widget-view+json": {
       "model_id": "016560817a304684a851baba4e87d9b8",
       "version_major": 2,
       "version_minor": 0
      },
      "text/plain": [
       "  0%|          | 0/8 [00:00<?, ?it/s]"
      ]
     },
     "metadata": {},
     "output_type": "display_data"
    },
    {
     "name": "stdout",
     "output_type": "stream",
     "text": [
      "Epoch:97/1000.. Train Loss: 0.180.. Val Loss: 0.228.. Train mIoU:0.000.. Val mIoU: 0.000.. Train Acc:0.914.. Val Acc:0.872.. Time: 0.07m\n"
     ]
    },
    {
     "data": {
      "application/vnd.jupyter.widget-view+json": {
       "model_id": "6395ba091f5f40198c057d3c0813fb0a",
       "version_major": 2,
       "version_minor": 0
      },
      "text/plain": [
       "  0%|          | 0/8 [00:00<?, ?it/s]"
      ]
     },
     "metadata": {},
     "output_type": "display_data"
    },
    {
     "name": "stdout",
     "output_type": "stream",
     "text": [
      "Epoch:98/1000.. Train Loss: 0.171.. Val Loss: 0.238.. Train mIoU:0.000.. Val mIoU: 0.000.. Train Acc:0.914.. Val Acc:0.867.. Time: 0.07m\n"
     ]
    },
    {
     "data": {
      "application/vnd.jupyter.widget-view+json": {
       "model_id": "05c242843c3c4fc98d703ca732a63e3a",
       "version_major": 2,
       "version_minor": 0
      },
      "text/plain": [
       "  0%|          | 0/8 [00:00<?, ?it/s]"
      ]
     },
     "metadata": {},
     "output_type": "display_data"
    },
    {
     "name": "stdout",
     "output_type": "stream",
     "text": [
      "Epoch:99/1000.. Train Loss: 0.168.. Val Loss: 0.238.. Train mIoU:0.000.. Val mIoU: 0.000.. Train Acc:0.913.. Val Acc:0.866.. Time: 0.07m\n"
     ]
    },
    {
     "data": {
      "application/vnd.jupyter.widget-view+json": {
       "model_id": "fe1f54ac74c34d9a9943c6680c0dbba5",
       "version_major": 2,
       "version_minor": 0
      },
      "text/plain": [
       "  0%|          | 0/8 [00:00<?, ?it/s]"
      ]
     },
     "metadata": {},
     "output_type": "display_data"
    },
    {
     "name": "stdout",
     "output_type": "stream",
     "text": [
      "Epoch:100/1000.. Train Loss: 0.163.. Val Loss: 0.247.. Train mIoU:0.000.. Val mIoU: 0.000.. Train Acc:0.916.. Val Acc:0.870.. Time: 0.07m\n"
     ]
    },
    {
     "data": {
      "application/vnd.jupyter.widget-view+json": {
       "model_id": "74a68724cbff4f4898716a6aba9b7f92",
       "version_major": 2,
       "version_minor": 0
      },
      "text/plain": [
       "  0%|          | 0/8 [00:00<?, ?it/s]"
      ]
     },
     "metadata": {},
     "output_type": "display_data"
    },
    {
     "name": "stdout",
     "output_type": "stream",
     "text": [
      "Epoch:101/1000.. Train Loss: 0.165.. Val Loss: 0.248.. Train mIoU:0.000.. Val mIoU: 0.000.. Train Acc:0.915.. Val Acc:0.868.. Time: 0.07m\n"
     ]
    },
    {
     "data": {
      "application/vnd.jupyter.widget-view+json": {
       "model_id": "6812312e659649a0a664084303000145",
       "version_major": 2,
       "version_minor": 0
      },
      "text/plain": [
       "  0%|          | 0/8 [00:00<?, ?it/s]"
      ]
     },
     "metadata": {},
     "output_type": "display_data"
    },
    {
     "name": "stdout",
     "output_type": "stream",
     "text": [
      "Epoch:102/1000.. Train Loss: 0.165.. Val Loss: 0.277.. Train mIoU:0.000.. Val mIoU: 0.000.. Train Acc:0.915.. Val Acc:0.849.. Time: 0.07m\n"
     ]
    },
    {
     "data": {
      "application/vnd.jupyter.widget-view+json": {
       "model_id": "723cfaaddb194572956f99de11ee19f4",
       "version_major": 2,
       "version_minor": 0
      },
      "text/plain": [
       "  0%|          | 0/8 [00:00<?, ?it/s]"
      ]
     },
     "metadata": {},
     "output_type": "display_data"
    },
    {
     "name": "stdout",
     "output_type": "stream",
     "text": [
      "Epoch:103/1000.. Train Loss: 0.177.. Val Loss: 0.335.. Train mIoU:0.000.. Val mIoU: 0.000.. Train Acc:0.915.. Val Acc:0.814.. Time: 0.07m\n"
     ]
    },
    {
     "data": {
      "application/vnd.jupyter.widget-view+json": {
       "model_id": "86c4ea4471c64e2aa565c6acfd47d64c",
       "version_major": 2,
       "version_minor": 0
      },
      "text/plain": [
       "  0%|          | 0/8 [00:00<?, ?it/s]"
      ]
     },
     "metadata": {},
     "output_type": "display_data"
    },
    {
     "name": "stdout",
     "output_type": "stream",
     "text": [
      "Epoch:104/1000.. Train Loss: 0.194.. Val Loss: 0.245.. Train mIoU:0.000.. Val mIoU: 0.000.. Train Acc:0.912.. Val Acc:0.867.. Time: 0.07m\n"
     ]
    },
    {
     "data": {
      "application/vnd.jupyter.widget-view+json": {
       "model_id": "b34d56b7fa7148f29eda09348538117a",
       "version_major": 2,
       "version_minor": 0
      },
      "text/plain": [
       "  0%|          | 0/8 [00:00<?, ?it/s]"
      ]
     },
     "metadata": {},
     "output_type": "display_data"
    },
    {
     "name": "stdout",
     "output_type": "stream",
     "text": [
      "Epoch:105/1000.. Train Loss: 0.165.. Val Loss: 0.306.. Train mIoU:0.000.. Val mIoU: 0.000.. Train Acc:0.920.. Val Acc:0.842.. Time: 0.07m\n"
     ]
    },
    {
     "data": {
      "application/vnd.jupyter.widget-view+json": {
       "model_id": "69561624bc82428eade81acc26e596cf",
       "version_major": 2,
       "version_minor": 0
      },
      "text/plain": [
       "  0%|          | 0/8 [00:00<?, ?it/s]"
      ]
     },
     "metadata": {},
     "output_type": "display_data"
    },
    {
     "name": "stdout",
     "output_type": "stream",
     "text": [
      "Epoch:106/1000.. Train Loss: 0.179.. Val Loss: 0.264.. Train mIoU:0.000.. Val mIoU: 0.000.. Train Acc:0.906.. Val Acc:0.849.. Time: 0.08m\n"
     ]
    },
    {
     "data": {
      "application/vnd.jupyter.widget-view+json": {
       "model_id": "95034d2f0574473b857ee4537799a371",
       "version_major": 2,
       "version_minor": 0
      },
      "text/plain": [
       "  0%|          | 0/8 [00:00<?, ?it/s]"
      ]
     },
     "metadata": {},
     "output_type": "display_data"
    },
    {
     "name": "stdout",
     "output_type": "stream",
     "text": [
      "Epoch:107/1000.. Train Loss: 0.197.. Val Loss: 0.328.. Train mIoU:0.000.. Val mIoU: 0.000.. Train Acc:0.909.. Val Acc:0.809.. Time: 0.07m\n"
     ]
    },
    {
     "data": {
      "application/vnd.jupyter.widget-view+json": {
       "model_id": "422ce20b7bf14c23a16b8e0e1df9ca93",
       "version_major": 2,
       "version_minor": 0
      },
      "text/plain": [
       "  0%|          | 0/8 [00:00<?, ?it/s]"
      ]
     },
     "metadata": {},
     "output_type": "display_data"
    },
    {
     "name": "stdout",
     "output_type": "stream",
     "text": [
      "Epoch:108/1000.. Train Loss: 0.170.. Val Loss: 0.235.. Train mIoU:0.000.. Val mIoU: 0.000.. Train Acc:0.916.. Val Acc:0.867.. Time: 0.07m\n"
     ]
    },
    {
     "data": {
      "application/vnd.jupyter.widget-view+json": {
       "model_id": "4ed980f2824545b28099678ccec4d54e",
       "version_major": 2,
       "version_minor": 0
      },
      "text/plain": [
       "  0%|          | 0/8 [00:00<?, ?it/s]"
      ]
     },
     "metadata": {},
     "output_type": "display_data"
    },
    {
     "name": "stdout",
     "output_type": "stream",
     "text": [
      "Epoch:109/1000.. Train Loss: 0.166.. Val Loss: 0.378.. Train mIoU:0.000.. Val mIoU: 0.000.. Train Acc:0.918.. Val Acc:0.810.. Time: 0.07m\n"
     ]
    },
    {
     "data": {
      "application/vnd.jupyter.widget-view+json": {
       "model_id": "b6730e24e619420a82350dc048bb5546",
       "version_major": 2,
       "version_minor": 0
      },
      "text/plain": [
       "  0%|          | 0/8 [00:00<?, ?it/s]"
      ]
     },
     "metadata": {},
     "output_type": "display_data"
    },
    {
     "name": "stdout",
     "output_type": "stream",
     "text": [
      "Epoch:110/1000.. Train Loss: 0.178.. Val Loss: 0.319.. Train mIoU:0.000.. Val mIoU: 0.000.. Train Acc:0.918.. Val Acc:0.824.. Time: 0.07m\n"
     ]
    },
    {
     "data": {
      "application/vnd.jupyter.widget-view+json": {
       "model_id": "e41f40a9750e46529edcb26ad374a33d",
       "version_major": 2,
       "version_minor": 0
      },
      "text/plain": [
       "  0%|          | 0/8 [00:00<?, ?it/s]"
      ]
     },
     "metadata": {},
     "output_type": "display_data"
    },
    {
     "name": "stdout",
     "output_type": "stream",
     "text": [
      "Epoch:111/1000.. Train Loss: 0.178.. Val Loss: 0.242.. Train mIoU:0.000.. Val mIoU: 0.000.. Train Acc:0.915.. Val Acc:0.871.. Time: 0.06m\n"
     ]
    },
    {
     "data": {
      "application/vnd.jupyter.widget-view+json": {
       "model_id": "8b0d71d6244947e388efc6c0c3b4e7ef",
       "version_major": 2,
       "version_minor": 0
      },
      "text/plain": [
       "  0%|          | 0/8 [00:00<?, ?it/s]"
      ]
     },
     "metadata": {},
     "output_type": "display_data"
    },
    {
     "name": "stdout",
     "output_type": "stream",
     "text": [
      "Epoch:112/1000.. Train Loss: 0.192.. Val Loss: 0.360.. Train mIoU:0.000.. Val mIoU: 0.000.. Train Acc:0.903.. Val Acc:0.804.. Time: 0.06m\n"
     ]
    },
    {
     "data": {
      "application/vnd.jupyter.widget-view+json": {
       "model_id": "c9c7a0e66c604aa5b359bd2eff9af38e",
       "version_major": 2,
       "version_minor": 0
      },
      "text/plain": [
       "  0%|          | 0/8 [00:00<?, ?it/s]"
      ]
     },
     "metadata": {},
     "output_type": "display_data"
    },
    {
     "name": "stdout",
     "output_type": "stream",
     "text": [
      "Epoch:113/1000.. Train Loss: 0.187.. Val Loss: 0.254.. Train mIoU:0.000.. Val mIoU: 0.000.. Train Acc:0.903.. Val Acc:0.864.. Time: 0.06m\n"
     ]
    },
    {
     "data": {
      "application/vnd.jupyter.widget-view+json": {
       "model_id": "637e85fe65504cc8a1dd6d9465b2d654",
       "version_major": 2,
       "version_minor": 0
      },
      "text/plain": [
       "  0%|          | 0/8 [00:00<?, ?it/s]"
      ]
     },
     "metadata": {},
     "output_type": "display_data"
    },
    {
     "name": "stdout",
     "output_type": "stream",
     "text": [
      "Epoch:114/1000.. Train Loss: 0.171.. Val Loss: 0.290.. Train mIoU:0.000.. Val mIoU: 0.000.. Train Acc:0.917.. Val Acc:0.856.. Time: 0.06m\n"
     ]
    },
    {
     "data": {
      "application/vnd.jupyter.widget-view+json": {
       "model_id": "52d499ff268e4d3f9138223fba77e720",
       "version_major": 2,
       "version_minor": 0
      },
      "text/plain": [
       "  0%|          | 0/8 [00:00<?, ?it/s]"
      ]
     },
     "metadata": {},
     "output_type": "display_data"
    },
    {
     "name": "stdout",
     "output_type": "stream",
     "text": [
      "Epoch:115/1000.. Train Loss: 0.174.. Val Loss: 0.243.. Train mIoU:0.000.. Val mIoU: 0.000.. Train Acc:0.913.. Val Acc:0.867.. Time: 0.06m\n"
     ]
    },
    {
     "data": {
      "application/vnd.jupyter.widget-view+json": {
       "model_id": "aed89bea658f4a71a715ba7a65c4a0ca",
       "version_major": 2,
       "version_minor": 0
      },
      "text/plain": [
       "  0%|          | 0/8 [00:00<?, ?it/s]"
      ]
     },
     "metadata": {},
     "output_type": "display_data"
    },
    {
     "name": "stdout",
     "output_type": "stream",
     "text": [
      "Epoch:116/1000.. Train Loss: 0.185.. Val Loss: 0.260.. Train mIoU:0.000.. Val mIoU: 0.000.. Train Acc:0.912.. Val Acc:0.865.. Time: 0.06m\n"
     ]
    },
    {
     "data": {
      "application/vnd.jupyter.widget-view+json": {
       "model_id": "eefc23685c6540f2aa8345287ad04935",
       "version_major": 2,
       "version_minor": 0
      },
      "text/plain": [
       "  0%|          | 0/8 [00:00<?, ?it/s]"
      ]
     },
     "metadata": {},
     "output_type": "display_data"
    },
    {
     "name": "stdout",
     "output_type": "stream",
     "text": [
      "Epoch:117/1000.. Train Loss: 0.169.. Val Loss: 0.249.. Train mIoU:0.000.. Val mIoU: 0.000.. Train Acc:0.919.. Val Acc:0.868.. Time: 0.06m\n"
     ]
    },
    {
     "data": {
      "application/vnd.jupyter.widget-view+json": {
       "model_id": "78d8d1533b4d4274a0bb99e6ac2192f4",
       "version_major": 2,
       "version_minor": 0
      },
      "text/plain": [
       "  0%|          | 0/8 [00:00<?, ?it/s]"
      ]
     },
     "metadata": {},
     "output_type": "display_data"
    },
    {
     "name": "stdout",
     "output_type": "stream",
     "text": [
      "Epoch:118/1000.. Train Loss: 0.189.. Val Loss: 0.239.. Train mIoU:0.000.. Val mIoU: 0.000.. Train Acc:0.909.. Val Acc:0.868.. Time: 0.06m\n"
     ]
    },
    {
     "data": {
      "application/vnd.jupyter.widget-view+json": {
       "model_id": "97c90a69f44242fc925849f77d3e861a",
       "version_major": 2,
       "version_minor": 0
      },
      "text/plain": [
       "  0%|          | 0/8 [00:00<?, ?it/s]"
      ]
     },
     "metadata": {},
     "output_type": "display_data"
    },
    {
     "name": "stdout",
     "output_type": "stream",
     "text": [
      "Epoch:119/1000.. Train Loss: 0.179.. Val Loss: 0.339.. Train mIoU:0.000.. Val mIoU: 0.000.. Train Acc:0.914.. Val Acc:0.802.. Time: 0.06m\n"
     ]
    },
    {
     "data": {
      "application/vnd.jupyter.widget-view+json": {
       "model_id": "0ca8af276ca24ce1ac58d2fa3eaad6ba",
       "version_major": 2,
       "version_minor": 0
      },
      "text/plain": [
       "  0%|          | 0/8 [00:00<?, ?it/s]"
      ]
     },
     "metadata": {},
     "output_type": "display_data"
    },
    {
     "name": "stdout",
     "output_type": "stream",
     "text": [
      "Epoch:120/1000.. Train Loss: 0.170.. Val Loss: 0.244.. Train mIoU:0.000.. Val mIoU: 0.000.. Train Acc:0.915.. Val Acc:0.862.. Time: 0.06m\n"
     ]
    },
    {
     "data": {
      "application/vnd.jupyter.widget-view+json": {
       "model_id": "a2280c28ca8a4cdfb9b7b7e4f38a26dd",
       "version_major": 2,
       "version_minor": 0
      },
      "text/plain": [
       "  0%|          | 0/8 [00:00<?, ?it/s]"
      ]
     },
     "metadata": {},
     "output_type": "display_data"
    },
    {
     "name": "stdout",
     "output_type": "stream",
     "text": [
      "Epoch:121/1000.. Train Loss: 0.205.. Val Loss: 0.274.. Train mIoU:0.000.. Val mIoU: 0.000.. Train Acc:0.910.. Val Acc:0.857.. Time: 0.06m\n"
     ]
    },
    {
     "data": {
      "application/vnd.jupyter.widget-view+json": {
       "model_id": "985df766ccb04db5a79a112f64df000a",
       "version_major": 2,
       "version_minor": 0
      },
      "text/plain": [
       "  0%|          | 0/8 [00:00<?, ?it/s]"
      ]
     },
     "metadata": {},
     "output_type": "display_data"
    },
    {
     "name": "stdout",
     "output_type": "stream",
     "text": [
      "Epoch:122/1000.. Train Loss: 0.162.. Val Loss: 0.306.. Train mIoU:0.000.. Val mIoU: 0.000.. Train Acc:0.917.. Val Acc:0.811.. Time: 0.06m\n"
     ]
    },
    {
     "data": {
      "application/vnd.jupyter.widget-view+json": {
       "model_id": "bd02574b0d584186a6797a4317d7be51",
       "version_major": 2,
       "version_minor": 0
      },
      "text/plain": [
       "  0%|          | 0/8 [00:00<?, ?it/s]"
      ]
     },
     "metadata": {},
     "output_type": "display_data"
    },
    {
     "name": "stdout",
     "output_type": "stream",
     "text": [
      "Epoch:123/1000.. Train Loss: 0.169.. Val Loss: 0.238.. Train mIoU:0.000.. Val mIoU: 0.000.. Train Acc:0.918.. Val Acc:0.866.. Time: 0.06m\n"
     ]
    },
    {
     "data": {
      "application/vnd.jupyter.widget-view+json": {
       "model_id": "fee7c767a9bd46ad84664fb539806dc6",
       "version_major": 2,
       "version_minor": 0
      },
      "text/plain": [
       "  0%|          | 0/8 [00:00<?, ?it/s]"
      ]
     },
     "metadata": {},
     "output_type": "display_data"
    },
    {
     "name": "stdout",
     "output_type": "stream",
     "text": [
      "Epoch:124/1000.. Train Loss: 0.161.. Val Loss: 0.348.. Train mIoU:0.000.. Val mIoU: 0.000.. Train Acc:0.921.. Val Acc:0.825.. Time: 0.06m\n"
     ]
    },
    {
     "data": {
      "application/vnd.jupyter.widget-view+json": {
       "model_id": "20b167cfc69441d69da73fc8b6b68ffd",
       "version_major": 2,
       "version_minor": 0
      },
      "text/plain": [
       "  0%|          | 0/8 [00:00<?, ?it/s]"
      ]
     },
     "metadata": {},
     "output_type": "display_data"
    },
    {
     "name": "stdout",
     "output_type": "stream",
     "text": [
      "Epoch:125/1000.. Train Loss: 0.173.. Val Loss: 0.306.. Train mIoU:0.000.. Val mIoU: 0.000.. Train Acc:0.915.. Val Acc:0.819.. Time: 0.06m\n"
     ]
    },
    {
     "data": {
      "application/vnd.jupyter.widget-view+json": {
       "model_id": "2a28d35f47eb493a98a39bfbf15b1a53",
       "version_major": 2,
       "version_minor": 0
      },
      "text/plain": [
       "  0%|          | 0/8 [00:00<?, ?it/s]"
      ]
     },
     "metadata": {},
     "output_type": "display_data"
    },
    {
     "name": "stdout",
     "output_type": "stream",
     "text": [
      "Epoch:126/1000.. Train Loss: 0.167.. Val Loss: 0.244.. Train mIoU:0.000.. Val mIoU: 0.000.. Train Acc:0.921.. Val Acc:0.869.. Time: 0.06m\n"
     ]
    },
    {
     "data": {
      "application/vnd.jupyter.widget-view+json": {
       "model_id": "f5e95b337b4e4754a1e9b260187c3fc6",
       "version_major": 2,
       "version_minor": 0
      },
      "text/plain": [
       "  0%|          | 0/8 [00:00<?, ?it/s]"
      ]
     },
     "metadata": {},
     "output_type": "display_data"
    },
    {
     "name": "stdout",
     "output_type": "stream",
     "text": [
      "Epoch:127/1000.. Train Loss: 0.166.. Val Loss: 0.324.. Train mIoU:0.000.. Val mIoU: 0.000.. Train Acc:0.915.. Val Acc:0.813.. Time: 0.06m\n"
     ]
    },
    {
     "data": {
      "application/vnd.jupyter.widget-view+json": {
       "model_id": "df5179bd0f634e01b23c7648d1c61290",
       "version_major": 2,
       "version_minor": 0
      },
      "text/plain": [
       "  0%|          | 0/8 [00:00<?, ?it/s]"
      ]
     },
     "metadata": {},
     "output_type": "display_data"
    },
    {
     "name": "stdout",
     "output_type": "stream",
     "text": [
      "Epoch:128/1000.. Train Loss: 0.172.. Val Loss: 0.370.. Train mIoU:0.000.. Val mIoU: 0.000.. Train Acc:0.911.. Val Acc:0.803.. Time: 0.06m\n"
     ]
    },
    {
     "data": {
      "application/vnd.jupyter.widget-view+json": {
       "model_id": "e96525e891704596b596ea7fe99867a6",
       "version_major": 2,
       "version_minor": 0
      },
      "text/plain": [
       "  0%|          | 0/8 [00:00<?, ?it/s]"
      ]
     },
     "metadata": {},
     "output_type": "display_data"
    },
    {
     "name": "stdout",
     "output_type": "stream",
     "text": [
      "Epoch:129/1000.. Train Loss: 0.181.. Val Loss: 0.246.. Train mIoU:0.000.. Val mIoU: 0.000.. Train Acc:0.910.. Val Acc:0.861.. Time: 0.06m\n"
     ]
    },
    {
     "data": {
      "application/vnd.jupyter.widget-view+json": {
       "model_id": "2ea457a2c0934619be914962918f23b7",
       "version_major": 2,
       "version_minor": 0
      },
      "text/plain": [
       "  0%|          | 0/8 [00:00<?, ?it/s]"
      ]
     },
     "metadata": {},
     "output_type": "display_data"
    },
    {
     "name": "stdout",
     "output_type": "stream",
     "text": [
      "Epoch:130/1000.. Train Loss: 0.180.. Val Loss: 0.237.. Train mIoU:0.000.. Val mIoU: 0.000.. Train Acc:0.911.. Val Acc:0.863.. Time: 0.06m\n"
     ]
    },
    {
     "data": {
      "application/vnd.jupyter.widget-view+json": {
       "model_id": "2bd7c551ded74190a592347955736016",
       "version_major": 2,
       "version_minor": 0
      },
      "text/plain": [
       "  0%|          | 0/8 [00:00<?, ?it/s]"
      ]
     },
     "metadata": {},
     "output_type": "display_data"
    },
    {
     "name": "stdout",
     "output_type": "stream",
     "text": [
      "Loss Decreasing.. 0.228 >> 0.227 \n",
      "Epoch:131/1000.. Train Loss: 0.160.. Val Loss: 0.227.. Train mIoU:0.000.. Val mIoU: 0.000.. Train Acc:0.918.. Val Acc:0.870.. Time: 0.06m\n"
     ]
    },
    {
     "data": {
      "application/vnd.jupyter.widget-view+json": {
       "model_id": "b0158e680c71471d966e2fa5cafb661a",
       "version_major": 2,
       "version_minor": 0
      },
      "text/plain": [
       "  0%|          | 0/8 [00:00<?, ?it/s]"
      ]
     },
     "metadata": {},
     "output_type": "display_data"
    },
    {
     "name": "stdout",
     "output_type": "stream",
     "text": [
      "Epoch:132/1000.. Train Loss: 0.175.. Val Loss: 0.250.. Train mIoU:0.000.. Val mIoU: 0.000.. Train Acc:0.915.. Val Acc:0.855.. Time: 0.06m\n"
     ]
    },
    {
     "data": {
      "application/vnd.jupyter.widget-view+json": {
       "model_id": "28ff5a41a22e4f5a9bc3703e33c7f49d",
       "version_major": 2,
       "version_minor": 0
      },
      "text/plain": [
       "  0%|          | 0/8 [00:00<?, ?it/s]"
      ]
     },
     "metadata": {},
     "output_type": "display_data"
    },
    {
     "name": "stdout",
     "output_type": "stream",
     "text": [
      "Epoch:133/1000.. Train Loss: 0.169.. Val Loss: 0.251.. Train mIoU:0.000.. Val mIoU: 0.000.. Train Acc:0.914.. Val Acc:0.859.. Time: 0.06m\n"
     ]
    },
    {
     "data": {
      "application/vnd.jupyter.widget-view+json": {
       "model_id": "b3ac46980c704c2895abb0597c75e059",
       "version_major": 2,
       "version_minor": 0
      },
      "text/plain": [
       "  0%|          | 0/8 [00:00<?, ?it/s]"
      ]
     },
     "metadata": {},
     "output_type": "display_data"
    },
    {
     "name": "stdout",
     "output_type": "stream",
     "text": [
      "Epoch:134/1000.. Train Loss: 0.163.. Val Loss: 0.270.. Train mIoU:0.000.. Val mIoU: 0.000.. Train Acc:0.916.. Val Acc:0.849.. Time: 0.06m\n"
     ]
    },
    {
     "data": {
      "application/vnd.jupyter.widget-view+json": {
       "model_id": "1e486102028644229711f80211c55ffd",
       "version_major": 2,
       "version_minor": 0
      },
      "text/plain": [
       "  0%|          | 0/8 [00:00<?, ?it/s]"
      ]
     },
     "metadata": {},
     "output_type": "display_data"
    },
    {
     "name": "stdout",
     "output_type": "stream",
     "text": [
      "Epoch:135/1000.. Train Loss: 0.161.. Val Loss: 0.285.. Train mIoU:0.000.. Val mIoU: 0.000.. Train Acc:0.913.. Val Acc:0.855.. Time: 0.06m\n"
     ]
    },
    {
     "data": {
      "application/vnd.jupyter.widget-view+json": {
       "model_id": "28959462ce2d463092ff680917a2e31a",
       "version_major": 2,
       "version_minor": 0
      },
      "text/plain": [
       "  0%|          | 0/8 [00:00<?, ?it/s]"
      ]
     },
     "metadata": {},
     "output_type": "display_data"
    },
    {
     "name": "stdout",
     "output_type": "stream",
     "text": [
      "Epoch:136/1000.. Train Loss: 0.168.. Val Loss: 0.307.. Train mIoU:0.000.. Val mIoU: 0.000.. Train Acc:0.917.. Val Acc:0.822.. Time: 0.07m\n"
     ]
    },
    {
     "data": {
      "application/vnd.jupyter.widget-view+json": {
       "model_id": "2135fad13d5c4dbaa8fa54e7c6792e38",
       "version_major": 2,
       "version_minor": 0
      },
      "text/plain": [
       "  0%|          | 0/8 [00:00<?, ?it/s]"
      ]
     },
     "metadata": {},
     "output_type": "display_data"
    },
    {
     "name": "stdout",
     "output_type": "stream",
     "text": [
      "Epoch:137/1000.. Train Loss: 0.179.. Val Loss: 0.230.. Train mIoU:0.000.. Val mIoU: 0.000.. Train Acc:0.916.. Val Acc:0.871.. Time: 0.07m\n"
     ]
    },
    {
     "data": {
      "application/vnd.jupyter.widget-view+json": {
       "model_id": "67c3bfdbf25b4eaeafced139eebb1976",
       "version_major": 2,
       "version_minor": 0
      },
      "text/plain": [
       "  0%|          | 0/8 [00:00<?, ?it/s]"
      ]
     },
     "metadata": {},
     "output_type": "display_data"
    },
    {
     "name": "stdout",
     "output_type": "stream",
     "text": [
      "Epoch:138/1000.. Train Loss: 0.169.. Val Loss: 0.245.. Train mIoU:0.000.. Val mIoU: 0.000.. Train Acc:0.914.. Val Acc:0.870.. Time: 0.07m\n"
     ]
    },
    {
     "data": {
      "application/vnd.jupyter.widget-view+json": {
       "model_id": "568496d3a8c64b34805530e9b29fc425",
       "version_major": 2,
       "version_minor": 0
      },
      "text/plain": [
       "  0%|          | 0/8 [00:00<?, ?it/s]"
      ]
     },
     "metadata": {},
     "output_type": "display_data"
    },
    {
     "name": "stdout",
     "output_type": "stream",
     "text": [
      "Epoch:139/1000.. Train Loss: 0.187.. Val Loss: 0.257.. Train mIoU:0.000.. Val mIoU: 0.000.. Train Acc:0.909.. Val Acc:0.863.. Time: 0.07m\n"
     ]
    },
    {
     "data": {
      "application/vnd.jupyter.widget-view+json": {
       "model_id": "c461c4d4db0f4055b651bc65bb7b7993",
       "version_major": 2,
       "version_minor": 0
      },
      "text/plain": [
       "  0%|          | 0/8 [00:00<?, ?it/s]"
      ]
     },
     "metadata": {},
     "output_type": "display_data"
    },
    {
     "name": "stdout",
     "output_type": "stream",
     "text": [
      "Epoch:140/1000.. Train Loss: 0.200.. Val Loss: 0.233.. Train mIoU:0.000.. Val mIoU: 0.000.. Train Acc:0.905.. Val Acc:0.868.. Time: 0.06m\n"
     ]
    },
    {
     "data": {
      "application/vnd.jupyter.widget-view+json": {
       "model_id": "c3c75202033d4cd0ba16a18b73c16ee2",
       "version_major": 2,
       "version_minor": 0
      },
      "text/plain": [
       "  0%|          | 0/8 [00:00<?, ?it/s]"
      ]
     },
     "metadata": {},
     "output_type": "display_data"
    },
    {
     "name": "stdout",
     "output_type": "stream",
     "text": [
      "Epoch:141/1000.. Train Loss: 0.168.. Val Loss: 0.318.. Train mIoU:0.000.. Val mIoU: 0.000.. Train Acc:0.915.. Val Acc:0.823.. Time: 0.06m\n"
     ]
    },
    {
     "data": {
      "application/vnd.jupyter.widget-view+json": {
       "model_id": "1870189be9a9440dba7b45c93b6355bc",
       "version_major": 2,
       "version_minor": 0
      },
      "text/plain": [
       "  0%|          | 0/8 [00:00<?, ?it/s]"
      ]
     },
     "metadata": {},
     "output_type": "display_data"
    },
    {
     "name": "stdout",
     "output_type": "stream",
     "text": [
      "Epoch:142/1000.. Train Loss: 0.157.. Val Loss: 0.250.. Train mIoU:0.000.. Val mIoU: 0.000.. Train Acc:0.920.. Val Acc:0.867.. Time: 0.06m\n"
     ]
    },
    {
     "data": {
      "application/vnd.jupyter.widget-view+json": {
       "model_id": "a33d36fabaca499bac6ca445dd26a879",
       "version_major": 2,
       "version_minor": 0
      },
      "text/plain": [
       "  0%|          | 0/8 [00:00<?, ?it/s]"
      ]
     },
     "metadata": {},
     "output_type": "display_data"
    },
    {
     "name": "stdout",
     "output_type": "stream",
     "text": [
      "Epoch:143/1000.. Train Loss: 0.155.. Val Loss: 0.300.. Train mIoU:0.000.. Val mIoU: 0.000.. Train Acc:0.919.. Val Acc:0.815.. Time: 0.06m\n"
     ]
    },
    {
     "data": {
      "application/vnd.jupyter.widget-view+json": {
       "model_id": "0e809af318c9496389a59581745b0370",
       "version_major": 2,
       "version_minor": 0
      },
      "text/plain": [
       "  0%|          | 0/8 [00:00<?, ?it/s]"
      ]
     },
     "metadata": {},
     "output_type": "display_data"
    },
    {
     "name": "stdout",
     "output_type": "stream",
     "text": [
      "Epoch:144/1000.. Train Loss: 0.233.. Val Loss: 0.249.. Train mIoU:0.000.. Val mIoU: 0.000.. Train Acc:0.912.. Val Acc:0.865.. Time: 0.06m\n"
     ]
    },
    {
     "data": {
      "application/vnd.jupyter.widget-view+json": {
       "model_id": "61b2b77c300a4841833f36dd95c59eb6",
       "version_major": 2,
       "version_minor": 0
      },
      "text/plain": [
       "  0%|          | 0/8 [00:00<?, ?it/s]"
      ]
     },
     "metadata": {},
     "output_type": "display_data"
    },
    {
     "name": "stdout",
     "output_type": "stream",
     "text": [
      "Epoch:145/1000.. Train Loss: 0.159.. Val Loss: 0.243.. Train mIoU:0.000.. Val mIoU: 0.000.. Train Acc:0.920.. Val Acc:0.864.. Time: 0.06m\n"
     ]
    },
    {
     "data": {
      "application/vnd.jupyter.widget-view+json": {
       "model_id": "80a5d31865e647c0871c91ef3bb89b62",
       "version_major": 2,
       "version_minor": 0
      },
      "text/plain": [
       "  0%|          | 0/8 [00:00<?, ?it/s]"
      ]
     },
     "metadata": {},
     "output_type": "display_data"
    },
    {
     "name": "stdout",
     "output_type": "stream",
     "text": [
      "Epoch:146/1000.. Train Loss: 0.188.. Val Loss: 0.489.. Train mIoU:0.000.. Val mIoU: 0.000.. Train Acc:0.901.. Val Acc:0.766.. Time: 0.07m\n"
     ]
    },
    {
     "data": {
      "application/vnd.jupyter.widget-view+json": {
       "model_id": "eda9bf20751e461c84424166885a93de",
       "version_major": 2,
       "version_minor": 0
      },
      "text/plain": [
       "  0%|          | 0/8 [00:00<?, ?it/s]"
      ]
     },
     "metadata": {},
     "output_type": "display_data"
    },
    {
     "name": "stdout",
     "output_type": "stream",
     "text": [
      "Epoch:147/1000.. Train Loss: 0.221.. Val Loss: 0.273.. Train mIoU:0.000.. Val mIoU: 0.000.. Train Acc:0.888.. Val Acc:0.849.. Time: 0.06m\n"
     ]
    },
    {
     "data": {
      "application/vnd.jupyter.widget-view+json": {
       "model_id": "c42c4562dcaa4c3e97fda308a4cf9e20",
       "version_major": 2,
       "version_minor": 0
      },
      "text/plain": [
       "  0%|          | 0/8 [00:00<?, ?it/s]"
      ]
     },
     "metadata": {},
     "output_type": "display_data"
    },
    {
     "name": "stdout",
     "output_type": "stream",
     "text": [
      "Epoch:148/1000.. Train Loss: 0.189.. Val Loss: 0.240.. Train mIoU:0.000.. Val mIoU: 0.000.. Train Acc:0.904.. Val Acc:0.852.. Time: 0.06m\n"
     ]
    },
    {
     "data": {
      "application/vnd.jupyter.widget-view+json": {
       "model_id": "146cd6519416469db10d8d5bc17712bd",
       "version_major": 2,
       "version_minor": 0
      },
      "text/plain": [
       "  0%|          | 0/8 [00:00<?, ?it/s]"
      ]
     },
     "metadata": {},
     "output_type": "display_data"
    },
    {
     "name": "stdout",
     "output_type": "stream",
     "text": [
      "Epoch:149/1000.. Train Loss: 0.175.. Val Loss: 0.250.. Train mIoU:0.000.. Val mIoU: 0.000.. Train Acc:0.911.. Val Acc:0.866.. Time: 0.07m\n"
     ]
    },
    {
     "data": {
      "application/vnd.jupyter.widget-view+json": {
       "model_id": "7cde86132aa943e4b1481af8fca67d7b",
       "version_major": 2,
       "version_minor": 0
      },
      "text/plain": [
       "  0%|          | 0/8 [00:00<?, ?it/s]"
      ]
     },
     "metadata": {},
     "output_type": "display_data"
    },
    {
     "name": "stdout",
     "output_type": "stream",
     "text": [
      "Epoch:150/1000.. Train Loss: 0.167.. Val Loss: 0.244.. Train mIoU:0.000.. Val mIoU: 0.000.. Train Acc:0.914.. Val Acc:0.856.. Time: 0.06m\n"
     ]
    },
    {
     "data": {
      "application/vnd.jupyter.widget-view+json": {
       "model_id": "d11abaa1d70b47feaed9dc8c7b87c454",
       "version_major": 2,
       "version_minor": 0
      },
      "text/plain": [
       "  0%|          | 0/8 [00:00<?, ?it/s]"
      ]
     },
     "metadata": {},
     "output_type": "display_data"
    },
    {
     "name": "stdout",
     "output_type": "stream",
     "text": [
      "Epoch:151/1000.. Train Loss: 0.163.. Val Loss: 0.297.. Train mIoU:0.000.. Val mIoU: 0.000.. Train Acc:0.920.. Val Acc:0.845.. Time: 0.06m\n"
     ]
    },
    {
     "data": {
      "application/vnd.jupyter.widget-view+json": {
       "model_id": "ffc39104cb4d45d89921021bc3d88a8c",
       "version_major": 2,
       "version_minor": 0
      },
      "text/plain": [
       "  0%|          | 0/8 [00:00<?, ?it/s]"
      ]
     },
     "metadata": {},
     "output_type": "display_data"
    },
    {
     "name": "stdout",
     "output_type": "stream",
     "text": [
      "Epoch:152/1000.. Train Loss: 0.163.. Val Loss: 0.264.. Train mIoU:0.000.. Val mIoU: 0.000.. Train Acc:0.917.. Val Acc:0.863.. Time: 0.06m\n"
     ]
    },
    {
     "data": {
      "application/vnd.jupyter.widget-view+json": {
       "model_id": "24abba68dbe44bea8b9a418dee0bed01",
       "version_major": 2,
       "version_minor": 0
      },
      "text/plain": [
       "  0%|          | 0/8 [00:00<?, ?it/s]"
      ]
     },
     "metadata": {},
     "output_type": "display_data"
    },
    {
     "name": "stdout",
     "output_type": "stream",
     "text": [
      "Epoch:153/1000.. Train Loss: 0.161.. Val Loss: 0.256.. Train mIoU:0.000.. Val mIoU: 0.000.. Train Acc:0.919.. Val Acc:0.858.. Time: 0.06m\n"
     ]
    },
    {
     "data": {
      "application/vnd.jupyter.widget-view+json": {
       "model_id": "ed7e370b157d4eec9d1990d2d002785a",
       "version_major": 2,
       "version_minor": 0
      },
      "text/plain": [
       "  0%|          | 0/8 [00:00<?, ?it/s]"
      ]
     },
     "metadata": {},
     "output_type": "display_data"
    },
    {
     "name": "stdout",
     "output_type": "stream",
     "text": [
      "Epoch:154/1000.. Train Loss: 0.159.. Val Loss: 0.240.. Train mIoU:0.000.. Val mIoU: 0.000.. Train Acc:0.916.. Val Acc:0.865.. Time: 0.06m\n"
     ]
    },
    {
     "data": {
      "application/vnd.jupyter.widget-view+json": {
       "model_id": "1165897b7e5f4a93b62679799ff043e9",
       "version_major": 2,
       "version_minor": 0
      },
      "text/plain": [
       "  0%|          | 0/8 [00:00<?, ?it/s]"
      ]
     },
     "metadata": {},
     "output_type": "display_data"
    },
    {
     "name": "stdout",
     "output_type": "stream",
     "text": [
      "Epoch:155/1000.. Train Loss: 0.156.. Val Loss: 0.264.. Train mIoU:0.000.. Val mIoU: 0.000.. Train Acc:0.921.. Val Acc:0.867.. Time: 0.06m\n"
     ]
    },
    {
     "data": {
      "application/vnd.jupyter.widget-view+json": {
       "model_id": "d46fa15623e94946bcf5991b5ec0239d",
       "version_major": 2,
       "version_minor": 0
      },
      "text/plain": [
       "  0%|          | 0/8 [00:00<?, ?it/s]"
      ]
     },
     "metadata": {},
     "output_type": "display_data"
    },
    {
     "name": "stdout",
     "output_type": "stream",
     "text": [
      "Epoch:156/1000.. Train Loss: 0.152.. Val Loss: 0.235.. Train mIoU:0.000.. Val mIoU: 0.000.. Train Acc:0.922.. Val Acc:0.867.. Time: 0.06m\n"
     ]
    },
    {
     "data": {
      "application/vnd.jupyter.widget-view+json": {
       "model_id": "305131907de44c4282c2a1bc15c7d3f9",
       "version_major": 2,
       "version_minor": 0
      },
      "text/plain": [
       "  0%|          | 0/8 [00:00<?, ?it/s]"
      ]
     },
     "metadata": {},
     "output_type": "display_data"
    },
    {
     "name": "stdout",
     "output_type": "stream",
     "text": [
      "Epoch:157/1000.. Train Loss: 0.160.. Val Loss: 0.295.. Train mIoU:0.000.. Val mIoU: 0.000.. Train Acc:0.919.. Val Acc:0.822.. Time: 0.06m\n"
     ]
    },
    {
     "data": {
      "application/vnd.jupyter.widget-view+json": {
       "model_id": "69ffb549d01d4c0e8d47fcffdd94148d",
       "version_major": 2,
       "version_minor": 0
      },
      "text/plain": [
       "  0%|          | 0/8 [00:00<?, ?it/s]"
      ]
     },
     "metadata": {},
     "output_type": "display_data"
    },
    {
     "name": "stdout",
     "output_type": "stream",
     "text": [
      "Epoch:158/1000.. Train Loss: 0.153.. Val Loss: 0.228.. Train mIoU:0.000.. Val mIoU: 0.000.. Train Acc:0.923.. Val Acc:0.872.. Time: 0.06m\n"
     ]
    },
    {
     "data": {
      "application/vnd.jupyter.widget-view+json": {
       "model_id": "2df74f6b601e4301b865800a05c97811",
       "version_major": 2,
       "version_minor": 0
      },
      "text/plain": [
       "  0%|          | 0/8 [00:00<?, ?it/s]"
      ]
     },
     "metadata": {},
     "output_type": "display_data"
    },
    {
     "name": "stdout",
     "output_type": "stream",
     "text": [
      "Epoch:159/1000.. Train Loss: 0.153.. Val Loss: 0.232.. Train mIoU:0.000.. Val mIoU: 0.000.. Train Acc:0.920.. Val Acc:0.872.. Time: 0.06m\n"
     ]
    },
    {
     "data": {
      "application/vnd.jupyter.widget-view+json": {
       "model_id": "6e4eb75b090d49d19ac21ce742dcde64",
       "version_major": 2,
       "version_minor": 0
      },
      "text/plain": [
       "  0%|          | 0/8 [00:00<?, ?it/s]"
      ]
     },
     "metadata": {},
     "output_type": "display_data"
    },
    {
     "name": "stdout",
     "output_type": "stream",
     "text": [
      "Epoch:160/1000.. Train Loss: 0.157.. Val Loss: 0.309.. Train mIoU:0.000.. Val mIoU: 0.000.. Train Acc:0.924.. Val Acc:0.848.. Time: 0.06m\n"
     ]
    },
    {
     "data": {
      "application/vnd.jupyter.widget-view+json": {
       "model_id": "12f4655f4dff4cbe87a0fc77ff4d3628",
       "version_major": 2,
       "version_minor": 0
      },
      "text/plain": [
       "  0%|          | 0/8 [00:00<?, ?it/s]"
      ]
     },
     "metadata": {},
     "output_type": "display_data"
    },
    {
     "name": "stdout",
     "output_type": "stream",
     "text": [
      "Epoch:161/1000.. Train Loss: 0.193.. Val Loss: 0.301.. Train mIoU:0.000.. Val mIoU: 0.000.. Train Acc:0.906.. Val Acc:0.832.. Time: 0.07m\n"
     ]
    },
    {
     "data": {
      "application/vnd.jupyter.widget-view+json": {
       "model_id": "6680d358441042c6b462bca356c2cb78",
       "version_major": 2,
       "version_minor": 0
      },
      "text/plain": [
       "  0%|          | 0/8 [00:00<?, ?it/s]"
      ]
     },
     "metadata": {},
     "output_type": "display_data"
    },
    {
     "name": "stdout",
     "output_type": "stream",
     "text": [
      "Epoch:162/1000.. Train Loss: 0.159.. Val Loss: 0.227.. Train mIoU:0.000.. Val mIoU: 0.000.. Train Acc:0.918.. Val Acc:0.872.. Time: 0.06m\n"
     ]
    },
    {
     "data": {
      "application/vnd.jupyter.widget-view+json": {
       "model_id": "7af9eff213404d04bde2ee5300389e4c",
       "version_major": 2,
       "version_minor": 0
      },
      "text/plain": [
       "  0%|          | 0/8 [00:00<?, ?it/s]"
      ]
     },
     "metadata": {},
     "output_type": "display_data"
    },
    {
     "name": "stdout",
     "output_type": "stream",
     "text": [
      "Epoch:163/1000.. Train Loss: 0.156.. Val Loss: 0.242.. Train mIoU:0.000.. Val mIoU: 0.000.. Train Acc:0.918.. Val Acc:0.856.. Time: 0.06m\n"
     ]
    },
    {
     "data": {
      "application/vnd.jupyter.widget-view+json": {
       "model_id": "771639ed8cfc48c995f6e6e325bc35d9",
       "version_major": 2,
       "version_minor": 0
      },
      "text/plain": [
       "  0%|          | 0/8 [00:00<?, ?it/s]"
      ]
     },
     "metadata": {},
     "output_type": "display_data"
    },
    {
     "name": "stdout",
     "output_type": "stream",
     "text": [
      "Epoch:164/1000.. Train Loss: 0.177.. Val Loss: 0.246.. Train mIoU:0.000.. Val mIoU: 0.000.. Train Acc:0.915.. Val Acc:0.856.. Time: 0.06m\n"
     ]
    },
    {
     "data": {
      "application/vnd.jupyter.widget-view+json": {
       "model_id": "52d726e6d9574d8495be380e9a932a21",
       "version_major": 2,
       "version_minor": 0
      },
      "text/plain": [
       "  0%|          | 0/8 [00:00<?, ?it/s]"
      ]
     },
     "metadata": {},
     "output_type": "display_data"
    },
    {
     "name": "stdout",
     "output_type": "stream",
     "text": [
      "Epoch:165/1000.. Train Loss: 0.154.. Val Loss: 0.245.. Train mIoU:0.000.. Val mIoU: 0.000.. Train Acc:0.923.. Val Acc:0.872.. Time: 0.06m\n"
     ]
    },
    {
     "data": {
      "application/vnd.jupyter.widget-view+json": {
       "model_id": "fed2d1285a954a71818587a3cdf91b7c",
       "version_major": 2,
       "version_minor": 0
      },
      "text/plain": [
       "  0%|          | 0/8 [00:00<?, ?it/s]"
      ]
     },
     "metadata": {},
     "output_type": "display_data"
    },
    {
     "name": "stdout",
     "output_type": "stream",
     "text": [
      "Epoch:166/1000.. Train Loss: 0.152.. Val Loss: 0.333.. Train mIoU:0.000.. Val mIoU: 0.000.. Train Acc:0.922.. Val Acc:0.820.. Time: 0.06m\n"
     ]
    },
    {
     "data": {
      "application/vnd.jupyter.widget-view+json": {
       "model_id": "8051551155934a5a95dc83e423911eb4",
       "version_major": 2,
       "version_minor": 0
      },
      "text/plain": [
       "  0%|          | 0/8 [00:00<?, ?it/s]"
      ]
     },
     "metadata": {},
     "output_type": "display_data"
    },
    {
     "name": "stdout",
     "output_type": "stream",
     "text": [
      "Epoch:167/1000.. Train Loss: 0.163.. Val Loss: 0.366.. Train mIoU:0.000.. Val mIoU: 0.000.. Train Acc:0.920.. Val Acc:0.812.. Time: 0.06m\n"
     ]
    },
    {
     "data": {
      "application/vnd.jupyter.widget-view+json": {
       "model_id": "4e1f83f0650c4228a6aa8ef7f7cc73e0",
       "version_major": 2,
       "version_minor": 0
      },
      "text/plain": [
       "  0%|          | 0/8 [00:00<?, ?it/s]"
      ]
     },
     "metadata": {},
     "output_type": "display_data"
    },
    {
     "name": "stdout",
     "output_type": "stream",
     "text": [
      "Epoch:168/1000.. Train Loss: 0.149.. Val Loss: 0.316.. Train mIoU:0.000.. Val mIoU: 0.000.. Train Acc:0.924.. Val Acc:0.820.. Time: 0.06m\n"
     ]
    },
    {
     "data": {
      "application/vnd.jupyter.widget-view+json": {
       "model_id": "7cbc3d5b2aa54a7f8659360551a7ca8f",
       "version_major": 2,
       "version_minor": 0
      },
      "text/plain": [
       "  0%|          | 0/8 [00:00<?, ?it/s]"
      ]
     },
     "metadata": {},
     "output_type": "display_data"
    },
    {
     "name": "stdout",
     "output_type": "stream",
     "text": [
      "Epoch:169/1000.. Train Loss: 0.163.. Val Loss: 0.268.. Train mIoU:0.000.. Val mIoU: 0.000.. Train Acc:0.922.. Val Acc:0.872.. Time: 0.06m\n"
     ]
    },
    {
     "data": {
      "application/vnd.jupyter.widget-view+json": {
       "model_id": "27d146ddb42c4b709992d001d2a8887a",
       "version_major": 2,
       "version_minor": 0
      },
      "text/plain": [
       "  0%|          | 0/8 [00:00<?, ?it/s]"
      ]
     },
     "metadata": {},
     "output_type": "display_data"
    },
    {
     "name": "stdout",
     "output_type": "stream",
     "text": [
      "Epoch:170/1000.. Train Loss: 0.192.. Val Loss: 0.251.. Train mIoU:0.000.. Val mIoU: 0.000.. Train Acc:0.907.. Val Acc:0.866.. Time: 0.06m\n"
     ]
    },
    {
     "data": {
      "application/vnd.jupyter.widget-view+json": {
       "model_id": "546e6b4ab08647028750ce11dca94ea3",
       "version_major": 2,
       "version_minor": 0
      },
      "text/plain": [
       "  0%|          | 0/8 [00:00<?, ?it/s]"
      ]
     },
     "metadata": {},
     "output_type": "display_data"
    },
    {
     "name": "stdout",
     "output_type": "stream",
     "text": [
      "Epoch:171/1000.. Train Loss: 0.169.. Val Loss: 0.292.. Train mIoU:0.000.. Val mIoU: 0.000.. Train Acc:0.920.. Val Acc:0.827.. Time: 0.06m\n"
     ]
    },
    {
     "data": {
      "application/vnd.jupyter.widget-view+json": {
       "model_id": "7e23b658ecc2419bb3916df43e2d94f2",
       "version_major": 2,
       "version_minor": 0
      },
      "text/plain": [
       "  0%|          | 0/8 [00:00<?, ?it/s]"
      ]
     },
     "metadata": {},
     "output_type": "display_data"
    },
    {
     "name": "stdout",
     "output_type": "stream",
     "text": [
      "Epoch:172/1000.. Train Loss: 0.164.. Val Loss: 0.240.. Train mIoU:0.000.. Val mIoU: 0.000.. Train Acc:0.921.. Val Acc:0.859.. Time: 0.06m\n"
     ]
    },
    {
     "data": {
      "application/vnd.jupyter.widget-view+json": {
       "model_id": "0ca8b8890a064d628b5d5d5e45cb9ac5",
       "version_major": 2,
       "version_minor": 0
      },
      "text/plain": [
       "  0%|          | 0/8 [00:00<?, ?it/s]"
      ]
     },
     "metadata": {},
     "output_type": "display_data"
    },
    {
     "name": "stdout",
     "output_type": "stream",
     "text": [
      "Epoch:173/1000.. Train Loss: 0.160.. Val Loss: 0.255.. Train mIoU:0.000.. Val mIoU: 0.000.. Train Acc:0.918.. Val Acc:0.867.. Time: 0.06m\n"
     ]
    },
    {
     "data": {
      "application/vnd.jupyter.widget-view+json": {
       "model_id": "da923b6d501348daac355a851cada93b",
       "version_major": 2,
       "version_minor": 0
      },
      "text/plain": [
       "  0%|          | 0/8 [00:00<?, ?it/s]"
      ]
     },
     "metadata": {},
     "output_type": "display_data"
    },
    {
     "name": "stdout",
     "output_type": "stream",
     "text": [
      "Epoch:174/1000.. Train Loss: 0.202.. Val Loss: 0.242.. Train mIoU:0.000.. Val mIoU: 0.000.. Train Acc:0.891.. Val Acc:0.865.. Time: 0.06m\n"
     ]
    },
    {
     "data": {
      "application/vnd.jupyter.widget-view+json": {
       "model_id": "9988074761ea42a290aafab5c87f4bc6",
       "version_major": 2,
       "version_minor": 0
      },
      "text/plain": [
       "  0%|          | 0/8 [00:00<?, ?it/s]"
      ]
     },
     "metadata": {},
     "output_type": "display_data"
    },
    {
     "name": "stdout",
     "output_type": "stream",
     "text": [
      "Epoch:175/1000.. Train Loss: 0.223.. Val Loss: 0.232.. Train mIoU:0.000.. Val mIoU: 0.000.. Train Acc:0.887.. Val Acc:0.873.. Time: 0.06m\n"
     ]
    },
    {
     "data": {
      "application/vnd.jupyter.widget-view+json": {
       "model_id": "341eda0679c54911a284a7d565a544ed",
       "version_major": 2,
       "version_minor": 0
      },
      "text/plain": [
       "  0%|          | 0/8 [00:00<?, ?it/s]"
      ]
     },
     "metadata": {},
     "output_type": "display_data"
    },
    {
     "name": "stdout",
     "output_type": "stream",
     "text": [
      "Epoch:176/1000.. Train Loss: 0.227.. Val Loss: 0.232.. Train mIoU:0.000.. Val mIoU: 0.000.. Train Acc:0.884.. Val Acc:0.871.. Time: 0.06m\n"
     ]
    },
    {
     "data": {
      "application/vnd.jupyter.widget-view+json": {
       "model_id": "5f7eec61e83943119f68bc558da76fe9",
       "version_major": 2,
       "version_minor": 0
      },
      "text/plain": [
       "  0%|          | 0/8 [00:00<?, ?it/s]"
      ]
     },
     "metadata": {},
     "output_type": "display_data"
    },
    {
     "name": "stdout",
     "output_type": "stream",
     "text": [
      "Loss Decreasing.. 0.227 >> 0.218 \n",
      "saving model...\n",
      "Epoch:177/1000.. Train Loss: 0.161.. Val Loss: 0.218.. Train mIoU:0.000.. Val mIoU: 0.000.. Train Acc:0.918.. Val Acc:0.873.. Time: 0.06m\n"
     ]
    },
    {
     "data": {
      "application/vnd.jupyter.widget-view+json": {
       "model_id": "ab5478fd8cc84a25bfdbcaaae8d753a8",
       "version_major": 2,
       "version_minor": 0
      },
      "text/plain": [
       "  0%|          | 0/8 [00:00<?, ?it/s]"
      ]
     },
     "metadata": {},
     "output_type": "display_data"
    },
    {
     "name": "stdout",
     "output_type": "stream",
     "text": [
      "Epoch:178/1000.. Train Loss: 0.158.. Val Loss: 0.317.. Train mIoU:0.000.. Val mIoU: 0.000.. Train Acc:0.919.. Val Acc:0.860.. Time: 0.06m\n"
     ]
    },
    {
     "data": {
      "application/vnd.jupyter.widget-view+json": {
       "model_id": "9ecf88560e484d679c56531cb5b12f51",
       "version_major": 2,
       "version_minor": 0
      },
      "text/plain": [
       "  0%|          | 0/8 [00:00<?, ?it/s]"
      ]
     },
     "metadata": {},
     "output_type": "display_data"
    },
    {
     "name": "stdout",
     "output_type": "stream",
     "text": [
      "Epoch:179/1000.. Train Loss: 0.153.. Val Loss: 0.236.. Train mIoU:0.000.. Val mIoU: 0.000.. Train Acc:0.921.. Val Acc:0.870.. Time: 0.07m\n"
     ]
    },
    {
     "data": {
      "application/vnd.jupyter.widget-view+json": {
       "model_id": "aa50e546074a44c395d5b76dce7bdc8c",
       "version_major": 2,
       "version_minor": 0
      },
      "text/plain": [
       "  0%|          | 0/8 [00:00<?, ?it/s]"
      ]
     },
     "metadata": {},
     "output_type": "display_data"
    },
    {
     "name": "stdout",
     "output_type": "stream",
     "text": [
      "Epoch:180/1000.. Train Loss: 0.156.. Val Loss: 0.227.. Train mIoU:0.000.. Val mIoU: 0.000.. Train Acc:0.920.. Val Acc:0.868.. Time: 0.06m\n"
     ]
    },
    {
     "data": {
      "application/vnd.jupyter.widget-view+json": {
       "model_id": "65852066f6ee415a9bb85d30dafe9a78",
       "version_major": 2,
       "version_minor": 0
      },
      "text/plain": [
       "  0%|          | 0/8 [00:00<?, ?it/s]"
      ]
     },
     "metadata": {},
     "output_type": "display_data"
    },
    {
     "name": "stdout",
     "output_type": "stream",
     "text": [
      "Epoch:181/1000.. Train Loss: 0.165.. Val Loss: 0.327.. Train mIoU:0.000.. Val mIoU: 0.000.. Train Acc:0.921.. Val Acc:0.804.. Time: 0.06m\n"
     ]
    },
    {
     "data": {
      "application/vnd.jupyter.widget-view+json": {
       "model_id": "c29cc458e7c94c96ac2626703f9d765a",
       "version_major": 2,
       "version_minor": 0
      },
      "text/plain": [
       "  0%|          | 0/8 [00:00<?, ?it/s]"
      ]
     },
     "metadata": {},
     "output_type": "display_data"
    },
    {
     "name": "stdout",
     "output_type": "stream",
     "text": [
      "Epoch:182/1000.. Train Loss: 0.158.. Val Loss: 0.312.. Train mIoU:0.000.. Val mIoU: 0.000.. Train Acc:0.923.. Val Acc:0.820.. Time: 0.06m\n"
     ]
    },
    {
     "data": {
      "application/vnd.jupyter.widget-view+json": {
       "model_id": "45b7a9aa8a65454d9980481f629268ee",
       "version_major": 2,
       "version_minor": 0
      },
      "text/plain": [
       "  0%|          | 0/8 [00:00<?, ?it/s]"
      ]
     },
     "metadata": {},
     "output_type": "display_data"
    },
    {
     "name": "stdout",
     "output_type": "stream",
     "text": [
      "Epoch:183/1000.. Train Loss: 0.190.. Val Loss: 0.422.. Train mIoU:0.000.. Val mIoU: 0.000.. Train Acc:0.901.. Val Acc:0.845.. Time: 0.06m\n"
     ]
    },
    {
     "data": {
      "application/vnd.jupyter.widget-view+json": {
       "model_id": "b5ff35e332e64f688f01f2a4af415366",
       "version_major": 2,
       "version_minor": 0
      },
      "text/plain": [
       "  0%|          | 0/8 [00:00<?, ?it/s]"
      ]
     },
     "metadata": {},
     "output_type": "display_data"
    },
    {
     "name": "stdout",
     "output_type": "stream",
     "text": [
      "Epoch:184/1000.. Train Loss: 0.302.. Val Loss: 0.358.. Train mIoU:0.000.. Val mIoU: 0.000.. Train Acc:0.850.. Val Acc:0.823.. Time: 0.06m\n"
     ]
    },
    {
     "data": {
      "application/vnd.jupyter.widget-view+json": {
       "model_id": "518c5b31932e4516a90e9afcb1e98306",
       "version_major": 2,
       "version_minor": 0
      },
      "text/plain": [
       "  0%|          | 0/8 [00:00<?, ?it/s]"
      ]
     },
     "metadata": {},
     "output_type": "display_data"
    },
    {
     "name": "stdout",
     "output_type": "stream",
     "text": [
      "Epoch:185/1000.. Train Loss: 0.205.. Val Loss: 0.240.. Train mIoU:0.000.. Val mIoU: 0.000.. Train Acc:0.882.. Val Acc:0.861.. Time: 0.06m\n"
     ]
    },
    {
     "data": {
      "application/vnd.jupyter.widget-view+json": {
       "model_id": "685b33a9df504955b328b837cfe0eca8",
       "version_major": 2,
       "version_minor": 0
      },
      "text/plain": [
       "  0%|          | 0/8 [00:00<?, ?it/s]"
      ]
     },
     "metadata": {},
     "output_type": "display_data"
    },
    {
     "name": "stdout",
     "output_type": "stream",
     "text": [
      "Epoch:186/1000.. Train Loss: 0.234.. Val Loss: 0.336.. Train mIoU:0.000.. Val mIoU: 0.000.. Train Acc:0.888.. Val Acc:0.800.. Time: 0.06m\n"
     ]
    },
    {
     "data": {
      "application/vnd.jupyter.widget-view+json": {
       "model_id": "05a4387dbfa046579f54382295d26033",
       "version_major": 2,
       "version_minor": 0
      },
      "text/plain": [
       "  0%|          | 0/8 [00:00<?, ?it/s]"
      ]
     },
     "metadata": {},
     "output_type": "display_data"
    },
    {
     "name": "stdout",
     "output_type": "stream",
     "text": [
      "Epoch:187/1000.. Train Loss: 0.239.. Val Loss: 0.325.. Train mIoU:0.000.. Val mIoU: 0.000.. Train Acc:0.884.. Val Acc:0.820.. Time: 0.07m\n"
     ]
    },
    {
     "data": {
      "application/vnd.jupyter.widget-view+json": {
       "model_id": "62faeec8028e44ff963ddb880c88c187",
       "version_major": 2,
       "version_minor": 0
      },
      "text/plain": [
       "  0%|          | 0/8 [00:00<?, ?it/s]"
      ]
     },
     "metadata": {},
     "output_type": "display_data"
    },
    {
     "name": "stdout",
     "output_type": "stream",
     "text": [
      "Epoch:188/1000.. Train Loss: 0.198.. Val Loss: 0.299.. Train mIoU:0.000.. Val mIoU: 0.000.. Train Acc:0.900.. Val Acc:0.826.. Time: 0.06m\n"
     ]
    },
    {
     "data": {
      "application/vnd.jupyter.widget-view+json": {
       "model_id": "ad0194ac5379432fb3a50fdd809dfbc0",
       "version_major": 2,
       "version_minor": 0
      },
      "text/plain": [
       "  0%|          | 0/8 [00:00<?, ?it/s]"
      ]
     },
     "metadata": {},
     "output_type": "display_data"
    },
    {
     "name": "stdout",
     "output_type": "stream",
     "text": [
      "Epoch:189/1000.. Train Loss: 0.163.. Val Loss: 0.238.. Train mIoU:0.000.. Val mIoU: 0.000.. Train Acc:0.918.. Val Acc:0.871.. Time: 0.06m\n"
     ]
    },
    {
     "data": {
      "application/vnd.jupyter.widget-view+json": {
       "model_id": "a91a038c33a842778f9fd6fcc85d70dc",
       "version_major": 2,
       "version_minor": 0
      },
      "text/plain": [
       "  0%|          | 0/8 [00:00<?, ?it/s]"
      ]
     },
     "metadata": {},
     "output_type": "display_data"
    },
    {
     "name": "stdout",
     "output_type": "stream",
     "text": [
      "Epoch:190/1000.. Train Loss: 0.175.. Val Loss: 0.438.. Train mIoU:0.000.. Val mIoU: 0.000.. Train Acc:0.909.. Val Acc:0.733.. Time: 0.06m\n"
     ]
    },
    {
     "data": {
      "application/vnd.jupyter.widget-view+json": {
       "model_id": "a07fc42e7a02420c80add1d5b9543bc4",
       "version_major": 2,
       "version_minor": 0
      },
      "text/plain": [
       "  0%|          | 0/8 [00:00<?, ?it/s]"
      ]
     },
     "metadata": {},
     "output_type": "display_data"
    },
    {
     "name": "stdout",
     "output_type": "stream",
     "text": [
      "Epoch:191/1000.. Train Loss: 0.182.. Val Loss: 0.225.. Train mIoU:0.000.. Val mIoU: 0.000.. Train Acc:0.901.. Val Acc:0.869.. Time: 0.06m\n"
     ]
    },
    {
     "data": {
      "application/vnd.jupyter.widget-view+json": {
       "model_id": "c24ee23b4f0b4a0b9a650ffd37c1da5d",
       "version_major": 2,
       "version_minor": 0
      },
      "text/plain": [
       "  0%|          | 0/8 [00:00<?, ?it/s]"
      ]
     },
     "metadata": {},
     "output_type": "display_data"
    },
    {
     "name": "stdout",
     "output_type": "stream",
     "text": [
      "Epoch:192/1000.. Train Loss: 0.218.. Val Loss: 0.306.. Train mIoU:0.000.. Val mIoU: 0.000.. Train Acc:0.910.. Val Acc:0.845.. Time: 0.06m\n"
     ]
    },
    {
     "data": {
      "application/vnd.jupyter.widget-view+json": {
       "model_id": "51d087dd3189488d9e2b48dc6e5ed5d5",
       "version_major": 2,
       "version_minor": 0
      },
      "text/plain": [
       "  0%|          | 0/8 [00:00<?, ?it/s]"
      ]
     },
     "metadata": {},
     "output_type": "display_data"
    },
    {
     "name": "stdout",
     "output_type": "stream",
     "text": [
      "Epoch:193/1000.. Train Loss: 0.189.. Val Loss: 0.234.. Train mIoU:0.000.. Val mIoU: 0.000.. Train Acc:0.911.. Val Acc:0.869.. Time: 0.06m\n"
     ]
    },
    {
     "data": {
      "application/vnd.jupyter.widget-view+json": {
       "model_id": "d37fb5ffc350440585afb3fdf1c176bb",
       "version_major": 2,
       "version_minor": 0
      },
      "text/plain": [
       "  0%|          | 0/8 [00:00<?, ?it/s]"
      ]
     },
     "metadata": {},
     "output_type": "display_data"
    },
    {
     "name": "stdout",
     "output_type": "stream",
     "text": [
      "Epoch:194/1000.. Train Loss: 0.163.. Val Loss: 0.221.. Train mIoU:0.000.. Val mIoU: 0.000.. Train Acc:0.915.. Val Acc:0.873.. Time: 0.06m\n"
     ]
    },
    {
     "data": {
      "application/vnd.jupyter.widget-view+json": {
       "model_id": "3bd8e9834e084edab51aa5d9a1489b73",
       "version_major": 2,
       "version_minor": 0
      },
      "text/plain": [
       "  0%|          | 0/8 [00:00<?, ?it/s]"
      ]
     },
     "metadata": {},
     "output_type": "display_data"
    },
    {
     "name": "stdout",
     "output_type": "stream",
     "text": [
      "Epoch:195/1000.. Train Loss: 0.161.. Val Loss: 0.281.. Train mIoU:0.000.. Val mIoU: 0.000.. Train Acc:0.916.. Val Acc:0.852.. Time: 0.06m\n"
     ]
    },
    {
     "data": {
      "application/vnd.jupyter.widget-view+json": {
       "model_id": "c7b972a9954d46779bd58358f46d7170",
       "version_major": 2,
       "version_minor": 0
      },
      "text/plain": [
       "  0%|          | 0/8 [00:00<?, ?it/s]"
      ]
     },
     "metadata": {},
     "output_type": "display_data"
    },
    {
     "name": "stdout",
     "output_type": "stream",
     "text": [
      "Epoch:196/1000.. Train Loss: 0.199.. Val Loss: 0.309.. Train mIoU:0.000.. Val mIoU: 0.000.. Train Acc:0.906.. Val Acc:0.840.. Time: 0.06m\n"
     ]
    },
    {
     "data": {
      "application/vnd.jupyter.widget-view+json": {
       "model_id": "6bfc36b0b9ef4e3794337836f8e4baa3",
       "version_major": 2,
       "version_minor": 0
      },
      "text/plain": [
       "  0%|          | 0/8 [00:00<?, ?it/s]"
      ]
     },
     "metadata": {},
     "output_type": "display_data"
    },
    {
     "name": "stdout",
     "output_type": "stream",
     "text": [
      "Epoch:197/1000.. Train Loss: 0.184.. Val Loss: 0.241.. Train mIoU:0.000.. Val mIoU: 0.000.. Train Acc:0.904.. Val Acc:0.865.. Time: 0.06m\n"
     ]
    },
    {
     "data": {
      "application/vnd.jupyter.widget-view+json": {
       "model_id": "82bf6faf07a24f9eb225e5f92a4f2eca",
       "version_major": 2,
       "version_minor": 0
      },
      "text/plain": [
       "  0%|          | 0/8 [00:00<?, ?it/s]"
      ]
     },
     "metadata": {},
     "output_type": "display_data"
    },
    {
     "name": "stdout",
     "output_type": "stream",
     "text": [
      "Epoch:198/1000.. Train Loss: 0.167.. Val Loss: 0.223.. Train mIoU:0.000.. Val mIoU: 0.000.. Train Acc:0.916.. Val Acc:0.868.. Time: 0.06m\n"
     ]
    },
    {
     "data": {
      "application/vnd.jupyter.widget-view+json": {
       "model_id": "dcb08266309b499ab11d7e9d1c686bdc",
       "version_major": 2,
       "version_minor": 0
      },
      "text/plain": [
       "  0%|          | 0/8 [00:00<?, ?it/s]"
      ]
     },
     "metadata": {},
     "output_type": "display_data"
    },
    {
     "name": "stdout",
     "output_type": "stream",
     "text": [
      "Epoch:199/1000.. Train Loss: 0.174.. Val Loss: 0.327.. Train mIoU:0.000.. Val mIoU: 0.000.. Train Acc:0.914.. Val Acc:0.821.. Time: 0.06m\n"
     ]
    },
    {
     "data": {
      "application/vnd.jupyter.widget-view+json": {
       "model_id": "2153557ffc2e4ab9aee5cd9cffea56fc",
       "version_major": 2,
       "version_minor": 0
      },
      "text/plain": [
       "  0%|          | 0/8 [00:00<?, ?it/s]"
      ]
     },
     "metadata": {},
     "output_type": "display_data"
    },
    {
     "name": "stdout",
     "output_type": "stream",
     "text": [
      "Epoch:200/1000.. Train Loss: 0.173.. Val Loss: 0.228.. Train mIoU:0.000.. Val mIoU: 0.000.. Train Acc:0.913.. Val Acc:0.871.. Time: 0.07m\n"
     ]
    },
    {
     "data": {
      "application/vnd.jupyter.widget-view+json": {
       "model_id": "db7435cf00564ffb8b73138ae5c9b45b",
       "version_major": 2,
       "version_minor": 0
      },
      "text/plain": [
       "  0%|          | 0/8 [00:00<?, ?it/s]"
      ]
     },
     "metadata": {},
     "output_type": "display_data"
    },
    {
     "name": "stdout",
     "output_type": "stream",
     "text": [
      "Epoch:201/1000.. Train Loss: 0.158.. Val Loss: 0.221.. Train mIoU:0.000.. Val mIoU: 0.000.. Train Acc:0.918.. Val Acc:0.874.. Time: 0.06m\n"
     ]
    },
    {
     "data": {
      "application/vnd.jupyter.widget-view+json": {
       "model_id": "5ebfe0e57df84fe2bd6d3217e8cda043",
       "version_major": 2,
       "version_minor": 0
      },
      "text/plain": [
       "  0%|          | 0/8 [00:00<?, ?it/s]"
      ]
     },
     "metadata": {},
     "output_type": "display_data"
    },
    {
     "name": "stdout",
     "output_type": "stream",
     "text": [
      "Epoch:202/1000.. Train Loss: 0.173.. Val Loss: 0.328.. Train mIoU:0.000.. Val mIoU: 0.000.. Train Acc:0.915.. Val Acc:0.812.. Time: 0.06m\n"
     ]
    },
    {
     "data": {
      "application/vnd.jupyter.widget-view+json": {
       "model_id": "c602ff8a07ae4ab7bd33657b86a74d40",
       "version_major": 2,
       "version_minor": 0
      },
      "text/plain": [
       "  0%|          | 0/8 [00:00<?, ?it/s]"
      ]
     },
     "metadata": {},
     "output_type": "display_data"
    },
    {
     "name": "stdout",
     "output_type": "stream",
     "text": [
      "Epoch:203/1000.. Train Loss: 0.161.. Val Loss: 0.245.. Train mIoU:0.000.. Val mIoU: 0.000.. Train Acc:0.920.. Val Acc:0.862.. Time: 0.06m\n"
     ]
    },
    {
     "data": {
      "application/vnd.jupyter.widget-view+json": {
       "model_id": "f3c79dbd0490458d83e50cb917b75903",
       "version_major": 2,
       "version_minor": 0
      },
      "text/plain": [
       "  0%|          | 0/8 [00:00<?, ?it/s]"
      ]
     },
     "metadata": {},
     "output_type": "display_data"
    },
    {
     "name": "stdout",
     "output_type": "stream",
     "text": [
      "Epoch:204/1000.. Train Loss: 0.201.. Val Loss: 0.353.. Train mIoU:0.000.. Val mIoU: 0.000.. Train Acc:0.900.. Val Acc:0.800.. Time: 0.06m\n"
     ]
    },
    {
     "data": {
      "application/vnd.jupyter.widget-view+json": {
       "model_id": "9b08cdbacdfe4d129141c4c62990e72a",
       "version_major": 2,
       "version_minor": 0
      },
      "text/plain": [
       "  0%|          | 0/8 [00:00<?, ?it/s]"
      ]
     },
     "metadata": {},
     "output_type": "display_data"
    },
    {
     "name": "stdout",
     "output_type": "stream",
     "text": [
      "Epoch:205/1000.. Train Loss: 0.169.. Val Loss: 0.276.. Train mIoU:0.000.. Val mIoU: 0.000.. Train Acc:0.919.. Val Acc:0.874.. Time: 0.06m\n"
     ]
    },
    {
     "data": {
      "application/vnd.jupyter.widget-view+json": {
       "model_id": "6ef6273e8be345e0ae59eea2ead12852",
       "version_major": 2,
       "version_minor": 0
      },
      "text/plain": [
       "  0%|          | 0/8 [00:00<?, ?it/s]"
      ]
     },
     "metadata": {},
     "output_type": "display_data"
    },
    {
     "name": "stdout",
     "output_type": "stream",
     "text": [
      "Epoch:206/1000.. Train Loss: 0.176.. Val Loss: 0.238.. Train mIoU:0.000.. Val mIoU: 0.000.. Train Acc:0.914.. Val Acc:0.868.. Time: 0.06m\n"
     ]
    },
    {
     "data": {
      "application/vnd.jupyter.widget-view+json": {
       "model_id": "527c155188b54d2687cbcc446b46215a",
       "version_major": 2,
       "version_minor": 0
      },
      "text/plain": [
       "  0%|          | 0/8 [00:00<?, ?it/s]"
      ]
     },
     "metadata": {},
     "output_type": "display_data"
    },
    {
     "name": "stdout",
     "output_type": "stream",
     "text": [
      "Epoch:207/1000.. Train Loss: 0.158.. Val Loss: 0.275.. Train mIoU:0.000.. Val mIoU: 0.000.. Train Acc:0.915.. Val Acc:0.866.. Time: 0.06m\n"
     ]
    },
    {
     "data": {
      "application/vnd.jupyter.widget-view+json": {
       "model_id": "11cf9fd652464638b24a90790aca2869",
       "version_major": 2,
       "version_minor": 0
      },
      "text/plain": [
       "  0%|          | 0/8 [00:00<?, ?it/s]"
      ]
     },
     "metadata": {},
     "output_type": "display_data"
    },
    {
     "name": "stdout",
     "output_type": "stream",
     "text": [
      "Epoch:208/1000.. Train Loss: 0.168.. Val Loss: 0.302.. Train mIoU:0.000.. Val mIoU: 0.000.. Train Acc:0.920.. Val Acc:0.832.. Time: 0.06m\n"
     ]
    },
    {
     "data": {
      "application/vnd.jupyter.widget-view+json": {
       "model_id": "5528a014dc4949d683a11e82db685081",
       "version_major": 2,
       "version_minor": 0
      },
      "text/plain": [
       "  0%|          | 0/8 [00:00<?, ?it/s]"
      ]
     },
     "metadata": {},
     "output_type": "display_data"
    },
    {
     "name": "stdout",
     "output_type": "stream",
     "text": [
      "Epoch:209/1000.. Train Loss: 0.157.. Val Loss: 0.227.. Train mIoU:0.000.. Val mIoU: 0.000.. Train Acc:0.920.. Val Acc:0.872.. Time: 0.06m\n"
     ]
    },
    {
     "data": {
      "application/vnd.jupyter.widget-view+json": {
       "model_id": "228668f4c53f44e1848df15dc1b758ec",
       "version_major": 2,
       "version_minor": 0
      },
      "text/plain": [
       "  0%|          | 0/8 [00:00<?, ?it/s]"
      ]
     },
     "metadata": {},
     "output_type": "display_data"
    },
    {
     "name": "stdout",
     "output_type": "stream",
     "text": [
      "Epoch:210/1000.. Train Loss: 0.172.. Val Loss: 0.293.. Train mIoU:0.000.. Val mIoU: 0.000.. Train Acc:0.910.. Val Acc:0.844.. Time: 0.06m\n"
     ]
    },
    {
     "data": {
      "application/vnd.jupyter.widget-view+json": {
       "model_id": "2ab91b77b6e1455782677869cc1070b4",
       "version_major": 2,
       "version_minor": 0
      },
      "text/plain": [
       "  0%|          | 0/8 [00:00<?, ?it/s]"
      ]
     },
     "metadata": {},
     "output_type": "display_data"
    },
    {
     "name": "stdout",
     "output_type": "stream",
     "text": [
      "Epoch:211/1000.. Train Loss: 0.189.. Val Loss: 0.291.. Train mIoU:0.000.. Val mIoU: 0.000.. Train Acc:0.911.. Val Acc:0.857.. Time: 0.06m\n"
     ]
    },
    {
     "data": {
      "application/vnd.jupyter.widget-view+json": {
       "model_id": "8c33a12f32b14e95b1f4eae5af3ac39a",
       "version_major": 2,
       "version_minor": 0
      },
      "text/plain": [
       "  0%|          | 0/8 [00:00<?, ?it/s]"
      ]
     },
     "metadata": {},
     "output_type": "display_data"
    },
    {
     "name": "stdout",
     "output_type": "stream",
     "text": [
      "Epoch:212/1000.. Train Loss: 0.174.. Val Loss: 0.283.. Train mIoU:0.000.. Val mIoU: 0.000.. Train Acc:0.915.. Val Acc:0.837.. Time: 0.06m\n"
     ]
    },
    {
     "data": {
      "application/vnd.jupyter.widget-view+json": {
       "model_id": "1e364ca4efa543489db79c5e0fe8896f",
       "version_major": 2,
       "version_minor": 0
      },
      "text/plain": [
       "  0%|          | 0/8 [00:00<?, ?it/s]"
      ]
     },
     "metadata": {},
     "output_type": "display_data"
    },
    {
     "name": "stdout",
     "output_type": "stream",
     "text": [
      "Epoch:213/1000.. Train Loss: 0.162.. Val Loss: 0.287.. Train mIoU:0.000.. Val mIoU: 0.000.. Train Acc:0.912.. Val Acc:0.826.. Time: 0.06m\n"
     ]
    },
    {
     "data": {
      "application/vnd.jupyter.widget-view+json": {
       "model_id": "97dd75884bf445aba5df048fdfe0c5dd",
       "version_major": 2,
       "version_minor": 0
      },
      "text/plain": [
       "  0%|          | 0/8 [00:00<?, ?it/s]"
      ]
     },
     "metadata": {},
     "output_type": "display_data"
    },
    {
     "name": "stdout",
     "output_type": "stream",
     "text": [
      "Epoch:214/1000.. Train Loss: 0.160.. Val Loss: 0.237.. Train mIoU:0.000.. Val mIoU: 0.000.. Train Acc:0.918.. Val Acc:0.866.. Time: 0.06m\n"
     ]
    },
    {
     "data": {
      "application/vnd.jupyter.widget-view+json": {
       "model_id": "0b753cee0461422b81d6d4b11dac26aa",
       "version_major": 2,
       "version_minor": 0
      },
      "text/plain": [
       "  0%|          | 0/8 [00:00<?, ?it/s]"
      ]
     },
     "metadata": {},
     "output_type": "display_data"
    },
    {
     "name": "stdout",
     "output_type": "stream",
     "text": [
      "Epoch:215/1000.. Train Loss: 0.158.. Val Loss: 0.299.. Train mIoU:0.000.. Val mIoU: 0.000.. Train Acc:0.917.. Val Acc:0.827.. Time: 0.06m\n"
     ]
    },
    {
     "data": {
      "application/vnd.jupyter.widget-view+json": {
       "model_id": "4d632b763c6149d0ac231625b91d64ef",
       "version_major": 2,
       "version_minor": 0
      },
      "text/plain": [
       "  0%|          | 0/8 [00:00<?, ?it/s]"
      ]
     },
     "metadata": {},
     "output_type": "display_data"
    },
    {
     "name": "stdout",
     "output_type": "stream",
     "text": [
      "Epoch:216/1000.. Train Loss: 0.149.. Val Loss: 0.368.. Train mIoU:0.000.. Val mIoU: 0.000.. Train Acc:0.923.. Val Acc:0.806.. Time: 0.06m\n"
     ]
    },
    {
     "data": {
      "application/vnd.jupyter.widget-view+json": {
       "model_id": "a12a6a8990bf4b24b1aa573205fce016",
       "version_major": 2,
       "version_minor": 0
      },
      "text/plain": [
       "  0%|          | 0/8 [00:00<?, ?it/s]"
      ]
     },
     "metadata": {},
     "output_type": "display_data"
    },
    {
     "name": "stdout",
     "output_type": "stream",
     "text": [
      "Epoch:217/1000.. Train Loss: 0.162.. Val Loss: 0.239.. Train mIoU:0.000.. Val mIoU: 0.000.. Train Acc:0.921.. Val Acc:0.870.. Time: 0.06m\n"
     ]
    },
    {
     "data": {
      "application/vnd.jupyter.widget-view+json": {
       "model_id": "d63f9d6382584621abafe22537e61d73",
       "version_major": 2,
       "version_minor": 0
      },
      "text/plain": [
       "  0%|          | 0/8 [00:00<?, ?it/s]"
      ]
     },
     "metadata": {},
     "output_type": "display_data"
    },
    {
     "name": "stdout",
     "output_type": "stream",
     "text": [
      "Epoch:218/1000.. Train Loss: 0.155.. Val Loss: 0.246.. Train mIoU:0.000.. Val mIoU: 0.000.. Train Acc:0.921.. Val Acc:0.871.. Time: 0.06m\n"
     ]
    },
    {
     "data": {
      "application/vnd.jupyter.widget-view+json": {
       "model_id": "174cabc876c94454bbcb85cb1b5bf2f9",
       "version_major": 2,
       "version_minor": 0
      },
      "text/plain": [
       "  0%|          | 0/8 [00:00<?, ?it/s]"
      ]
     },
     "metadata": {},
     "output_type": "display_data"
    },
    {
     "name": "stdout",
     "output_type": "stream",
     "text": [
      "Epoch:219/1000.. Train Loss: 0.169.. Val Loss: 0.317.. Train mIoU:0.000.. Val mIoU: 0.000.. Train Acc:0.920.. Val Acc:0.820.. Time: 0.06m\n"
     ]
    },
    {
     "data": {
      "application/vnd.jupyter.widget-view+json": {
       "model_id": "923cf582a4144c589ad5637f32518209",
       "version_major": 2,
       "version_minor": 0
      },
      "text/plain": [
       "  0%|          | 0/8 [00:00<?, ?it/s]"
      ]
     },
     "metadata": {},
     "output_type": "display_data"
    },
    {
     "name": "stdout",
     "output_type": "stream",
     "text": [
      "Epoch:220/1000.. Train Loss: 0.160.. Val Loss: 0.313.. Train mIoU:0.000.. Val mIoU: 0.000.. Train Acc:0.919.. Val Acc:0.841.. Time: 0.06m\n"
     ]
    },
    {
     "data": {
      "application/vnd.jupyter.widget-view+json": {
       "model_id": "8154240e54e446e9aed3a4aec3f4eeff",
       "version_major": 2,
       "version_minor": 0
      },
      "text/plain": [
       "  0%|          | 0/8 [00:00<?, ?it/s]"
      ]
     },
     "metadata": {},
     "output_type": "display_data"
    },
    {
     "name": "stdout",
     "output_type": "stream",
     "text": [
      "Epoch:221/1000.. Train Loss: 0.152.. Val Loss: 0.234.. Train mIoU:0.000.. Val mIoU: 0.000.. Train Acc:0.921.. Val Acc:0.870.. Time: 0.06m\n"
     ]
    },
    {
     "data": {
      "application/vnd.jupyter.widget-view+json": {
       "model_id": "6ad5939e6b2042c29159d5b9f4cba86f",
       "version_major": 2,
       "version_minor": 0
      },
      "text/plain": [
       "  0%|          | 0/8 [00:00<?, ?it/s]"
      ]
     },
     "metadata": {},
     "output_type": "display_data"
    },
    {
     "name": "stdout",
     "output_type": "stream",
     "text": [
      "Epoch:222/1000.. Train Loss: 0.159.. Val Loss: 0.248.. Train mIoU:0.000.. Val mIoU: 0.000.. Train Acc:0.920.. Val Acc:0.872.. Time: 0.06m\n"
     ]
    },
    {
     "data": {
      "application/vnd.jupyter.widget-view+json": {
       "model_id": "d07b4d06b5564c2b83f6f3bc595a578b",
       "version_major": 2,
       "version_minor": 0
      },
      "text/plain": [
       "  0%|          | 0/8 [00:00<?, ?it/s]"
      ]
     },
     "metadata": {},
     "output_type": "display_data"
    },
    {
     "name": "stdout",
     "output_type": "stream",
     "text": [
      "Epoch:223/1000.. Train Loss: 0.160.. Val Loss: 0.568.. Train mIoU:0.000.. Val mIoU: 0.000.. Train Acc:0.921.. Val Acc:0.811.. Time: 0.06m\n"
     ]
    },
    {
     "data": {
      "application/vnd.jupyter.widget-view+json": {
       "model_id": "f894b798310647d2899556298b48304a",
       "version_major": 2,
       "version_minor": 0
      },
      "text/plain": [
       "  0%|          | 0/8 [00:00<?, ?it/s]"
      ]
     },
     "metadata": {},
     "output_type": "display_data"
    },
    {
     "name": "stdout",
     "output_type": "stream",
     "text": [
      "Epoch:224/1000.. Train Loss: 0.155.. Val Loss: 0.248.. Train mIoU:0.000.. Val mIoU: 0.000.. Train Acc:0.918.. Val Acc:0.871.. Time: 0.06m\n"
     ]
    },
    {
     "data": {
      "application/vnd.jupyter.widget-view+json": {
       "model_id": "f9ec48e211634524821449f4a1d422c0",
       "version_major": 2,
       "version_minor": 0
      },
      "text/plain": [
       "  0%|          | 0/8 [00:00<?, ?it/s]"
      ]
     },
     "metadata": {},
     "output_type": "display_data"
    },
    {
     "name": "stdout",
     "output_type": "stream",
     "text": [
      "Epoch:225/1000.. Train Loss: 0.152.. Val Loss: 0.329.. Train mIoU:0.000.. Val mIoU: 0.000.. Train Acc:0.922.. Val Acc:0.808.. Time: 0.06m\n"
     ]
    },
    {
     "data": {
      "application/vnd.jupyter.widget-view+json": {
       "model_id": "4b6e312039e445b9a059960d07bf791e",
       "version_major": 2,
       "version_minor": 0
      },
      "text/plain": [
       "  0%|          | 0/8 [00:00<?, ?it/s]"
      ]
     },
     "metadata": {},
     "output_type": "display_data"
    },
    {
     "name": "stdout",
     "output_type": "stream",
     "text": [
      "Epoch:226/1000.. Train Loss: 0.168.. Val Loss: 0.292.. Train mIoU:0.000.. Val mIoU: 0.000.. Train Acc:0.921.. Val Acc:0.848.. Time: 0.06m\n"
     ]
    },
    {
     "data": {
      "application/vnd.jupyter.widget-view+json": {
       "model_id": "d58a30d457d64085a9356de0882739a8",
       "version_major": 2,
       "version_minor": 0
      },
      "text/plain": [
       "  0%|          | 0/8 [00:00<?, ?it/s]"
      ]
     },
     "metadata": {},
     "output_type": "display_data"
    },
    {
     "name": "stdout",
     "output_type": "stream",
     "text": [
      "Epoch:227/1000.. Train Loss: 0.165.. Val Loss: 0.325.. Train mIoU:0.000.. Val mIoU: 0.000.. Train Acc:0.916.. Val Acc:0.821.. Time: 0.06m\n"
     ]
    },
    {
     "data": {
      "application/vnd.jupyter.widget-view+json": {
       "model_id": "8f93fd3d0e6c49d6b6d661733f75d0dc",
       "version_major": 2,
       "version_minor": 0
      },
      "text/plain": [
       "  0%|          | 0/8 [00:00<?, ?it/s]"
      ]
     },
     "metadata": {},
     "output_type": "display_data"
    },
    {
     "name": "stdout",
     "output_type": "stream",
     "text": [
      "Epoch:228/1000.. Train Loss: 0.151.. Val Loss: 0.329.. Train mIoU:0.000.. Val mIoU: 0.000.. Train Acc:0.925.. Val Acc:0.827.. Time: 0.07m\n"
     ]
    },
    {
     "data": {
      "application/vnd.jupyter.widget-view+json": {
       "model_id": "20fdd5b4ae844fdaab0eb2df3e19a944",
       "version_major": 2,
       "version_minor": 0
      },
      "text/plain": [
       "  0%|          | 0/8 [00:00<?, ?it/s]"
      ]
     },
     "metadata": {},
     "output_type": "display_data"
    },
    {
     "name": "stdout",
     "output_type": "stream",
     "text": [
      "Epoch:229/1000.. Train Loss: 0.152.. Val Loss: 0.229.. Train mIoU:0.000.. Val mIoU: 0.000.. Train Acc:0.921.. Val Acc:0.872.. Time: 0.06m\n"
     ]
    },
    {
     "data": {
      "application/vnd.jupyter.widget-view+json": {
       "model_id": "4de1886ac4b74b0194926038273b73e1",
       "version_major": 2,
       "version_minor": 0
      },
      "text/plain": [
       "  0%|          | 0/8 [00:00<?, ?it/s]"
      ]
     },
     "metadata": {},
     "output_type": "display_data"
    },
    {
     "name": "stdout",
     "output_type": "stream",
     "text": [
      "Epoch:230/1000.. Train Loss: 0.147.. Val Loss: 0.233.. Train mIoU:0.000.. Val mIoU: 0.000.. Train Acc:0.927.. Val Acc:0.871.. Time: 0.06m\n"
     ]
    },
    {
     "data": {
      "application/vnd.jupyter.widget-view+json": {
       "model_id": "838a11858aa34ba69f79db196cd4ab8d",
       "version_major": 2,
       "version_minor": 0
      },
      "text/plain": [
       "  0%|          | 0/8 [00:00<?, ?it/s]"
      ]
     },
     "metadata": {},
     "output_type": "display_data"
    },
    {
     "name": "stdout",
     "output_type": "stream",
     "text": [
      "Epoch:231/1000.. Train Loss: 0.147.. Val Loss: 0.223.. Train mIoU:0.000.. Val mIoU: 0.000.. Train Acc:0.926.. Val Acc:0.873.. Time: 0.06m\n"
     ]
    },
    {
     "data": {
      "application/vnd.jupyter.widget-view+json": {
       "model_id": "55929e7820fa43b5ac3c0220dc0db3fc",
       "version_major": 2,
       "version_minor": 0
      },
      "text/plain": [
       "  0%|          | 0/8 [00:00<?, ?it/s]"
      ]
     },
     "metadata": {},
     "output_type": "display_data"
    },
    {
     "name": "stdout",
     "output_type": "stream",
     "text": [
      "Epoch:232/1000.. Train Loss: 0.152.. Val Loss: 0.247.. Train mIoU:0.000.. Val mIoU: 0.000.. Train Acc:0.923.. Val Acc:0.870.. Time: 0.06m\n"
     ]
    },
    {
     "data": {
      "application/vnd.jupyter.widget-view+json": {
       "model_id": "25f7a3a4977d4afe8a31fc2441e26548",
       "version_major": 2,
       "version_minor": 0
      },
      "text/plain": [
       "  0%|          | 0/8 [00:00<?, ?it/s]"
      ]
     },
     "metadata": {},
     "output_type": "display_data"
    },
    {
     "name": "stdout",
     "output_type": "stream",
     "text": [
      "Epoch:233/1000.. Train Loss: 0.166.. Val Loss: 0.222.. Train mIoU:0.000.. Val mIoU: 0.000.. Train Acc:0.917.. Val Acc:0.870.. Time: 0.06m\n"
     ]
    },
    {
     "data": {
      "application/vnd.jupyter.widget-view+json": {
       "model_id": "71033f74f49247f7ab71fc8e7472a43f",
       "version_major": 2,
       "version_minor": 0
      },
      "text/plain": [
       "  0%|          | 0/8 [00:00<?, ?it/s]"
      ]
     },
     "metadata": {},
     "output_type": "display_data"
    },
    {
     "name": "stdout",
     "output_type": "stream",
     "text": [
      "Epoch:234/1000.. Train Loss: 0.159.. Val Loss: 0.247.. Train mIoU:0.000.. Val mIoU: 0.000.. Train Acc:0.919.. Val Acc:0.856.. Time: 0.06m\n"
     ]
    },
    {
     "data": {
      "application/vnd.jupyter.widget-view+json": {
       "model_id": "30fc17728bee4f4eabff5bc30b3116e7",
       "version_major": 2,
       "version_minor": 0
      },
      "text/plain": [
       "  0%|          | 0/8 [00:00<?, ?it/s]"
      ]
     },
     "metadata": {},
     "output_type": "display_data"
    },
    {
     "name": "stdout",
     "output_type": "stream",
     "text": [
      "Epoch:235/1000.. Train Loss: 0.199.. Val Loss: 0.358.. Train mIoU:0.000.. Val mIoU: 0.000.. Train Acc:0.910.. Val Acc:0.799.. Time: 0.06m\n"
     ]
    },
    {
     "data": {
      "application/vnd.jupyter.widget-view+json": {
       "model_id": "93f004639b654b7b8ed19178b33f197f",
       "version_major": 2,
       "version_minor": 0
      },
      "text/plain": [
       "  0%|          | 0/8 [00:00<?, ?it/s]"
      ]
     },
     "metadata": {},
     "output_type": "display_data"
    },
    {
     "name": "stdout",
     "output_type": "stream",
     "text": [
      "Epoch:236/1000.. Train Loss: 0.245.. Val Loss: 0.242.. Train mIoU:0.000.. Val mIoU: 0.000.. Train Acc:0.872.. Val Acc:0.870.. Time: 0.06m\n"
     ]
    },
    {
     "data": {
      "application/vnd.jupyter.widget-view+json": {
       "model_id": "31c9548caabd43e0a3651128bdb9f5b0",
       "version_major": 2,
       "version_minor": 0
      },
      "text/plain": [
       "  0%|          | 0/8 [00:00<?, ?it/s]"
      ]
     },
     "metadata": {},
     "output_type": "display_data"
    },
    {
     "name": "stdout",
     "output_type": "stream",
     "text": [
      "Epoch:237/1000.. Train Loss: 0.216.. Val Loss: 0.296.. Train mIoU:0.000.. Val mIoU: 0.000.. Train Acc:0.896.. Val Acc:0.825.. Time: 0.06m\n"
     ]
    },
    {
     "data": {
      "application/vnd.jupyter.widget-view+json": {
       "model_id": "def62ebad8364a2a918f6845be16ffdc",
       "version_major": 2,
       "version_minor": 0
      },
      "text/plain": [
       "  0%|          | 0/8 [00:00<?, ?it/s]"
      ]
     },
     "metadata": {},
     "output_type": "display_data"
    },
    {
     "name": "stdout",
     "output_type": "stream",
     "text": [
      "Epoch:238/1000.. Train Loss: 0.191.. Val Loss: 0.308.. Train mIoU:0.000.. Val mIoU: 0.000.. Train Acc:0.909.. Val Acc:0.829.. Time: 0.07m\n"
     ]
    },
    {
     "data": {
      "application/vnd.jupyter.widget-view+json": {
       "model_id": "65b37592ac7f4626a246a8b18c51b4d7",
       "version_major": 2,
       "version_minor": 0
      },
      "text/plain": [
       "  0%|          | 0/8 [00:00<?, ?it/s]"
      ]
     },
     "metadata": {},
     "output_type": "display_data"
    },
    {
     "name": "stdout",
     "output_type": "stream",
     "text": [
      "Epoch:239/1000.. Train Loss: 0.185.. Val Loss: 0.229.. Train mIoU:0.000.. Val mIoU: 0.000.. Train Acc:0.903.. Val Acc:0.874.. Time: 0.07m\n"
     ]
    },
    {
     "data": {
      "application/vnd.jupyter.widget-view+json": {
       "model_id": "6d66fdd615c549deb8b03dad5ed25b45",
       "version_major": 2,
       "version_minor": 0
      },
      "text/plain": [
       "  0%|          | 0/8 [00:00<?, ?it/s]"
      ]
     },
     "metadata": {},
     "output_type": "display_data"
    },
    {
     "name": "stdout",
     "output_type": "stream",
     "text": [
      "Epoch:240/1000.. Train Loss: 0.175.. Val Loss: 0.234.. Train mIoU:0.000.. Val mIoU: 0.000.. Train Acc:0.912.. Val Acc:0.872.. Time: 0.06m\n"
     ]
    },
    {
     "data": {
      "application/vnd.jupyter.widget-view+json": {
       "model_id": "85f82255c5374ac7b189e0680ff14cd2",
       "version_major": 2,
       "version_minor": 0
      },
      "text/plain": [
       "  0%|          | 0/8 [00:00<?, ?it/s]"
      ]
     },
     "metadata": {},
     "output_type": "display_data"
    },
    {
     "name": "stdout",
     "output_type": "stream",
     "text": [
      "Epoch:241/1000.. Train Loss: 0.170.. Val Loss: 0.257.. Train mIoU:0.000.. Val mIoU: 0.000.. Train Acc:0.916.. Val Acc:0.870.. Time: 0.06m\n"
     ]
    },
    {
     "data": {
      "application/vnd.jupyter.widget-view+json": {
       "model_id": "4c9425597d1340a1b775c86d3545ab07",
       "version_major": 2,
       "version_minor": 0
      },
      "text/plain": [
       "  0%|          | 0/8 [00:00<?, ?it/s]"
      ]
     },
     "metadata": {},
     "output_type": "display_data"
    },
    {
     "name": "stdout",
     "output_type": "stream",
     "text": [
      "Epoch:242/1000.. Train Loss: 0.162.. Val Loss: 0.268.. Train mIoU:0.000.. Val mIoU: 0.000.. Train Acc:0.918.. Val Acc:0.868.. Time: 0.06m\n"
     ]
    },
    {
     "data": {
      "application/vnd.jupyter.widget-view+json": {
       "model_id": "deef5752caad4fe0ac76c84686a0d270",
       "version_major": 2,
       "version_minor": 0
      },
      "text/plain": [
       "  0%|          | 0/8 [00:00<?, ?it/s]"
      ]
     },
     "metadata": {},
     "output_type": "display_data"
    },
    {
     "name": "stdout",
     "output_type": "stream",
     "text": [
      "Epoch:243/1000.. Train Loss: 0.184.. Val Loss: 0.289.. Train mIoU:0.000.. Val mIoU: 0.000.. Train Acc:0.901.. Val Acc:0.823.. Time: 0.06m\n"
     ]
    },
    {
     "data": {
      "application/vnd.jupyter.widget-view+json": {
       "model_id": "a4ab503ae1e04133bf9be27680acbd67",
       "version_major": 2,
       "version_minor": 0
      },
      "text/plain": [
       "  0%|          | 0/8 [00:00<?, ?it/s]"
      ]
     },
     "metadata": {},
     "output_type": "display_data"
    },
    {
     "name": "stdout",
     "output_type": "stream",
     "text": [
      "Epoch:244/1000.. Train Loss: 0.167.. Val Loss: 0.291.. Train mIoU:0.000.. Val mIoU: 0.000.. Train Acc:0.919.. Val Acc:0.833.. Time: 0.06m\n"
     ]
    },
    {
     "data": {
      "application/vnd.jupyter.widget-view+json": {
       "model_id": "b529a2ab3d80484e833aff6e810e5f3f",
       "version_major": 2,
       "version_minor": 0
      },
      "text/plain": [
       "  0%|          | 0/8 [00:00<?, ?it/s]"
      ]
     },
     "metadata": {},
     "output_type": "display_data"
    },
    {
     "name": "stdout",
     "output_type": "stream",
     "text": [
      "Epoch:245/1000.. Train Loss: 0.186.. Val Loss: 0.234.. Train mIoU:0.000.. Val mIoU: 0.000.. Train Acc:0.914.. Val Acc:0.870.. Time: 0.06m\n"
     ]
    },
    {
     "data": {
      "application/vnd.jupyter.widget-view+json": {
       "model_id": "9ecfdbd4871741d1b27ee57d771fe3ef",
       "version_major": 2,
       "version_minor": 0
      },
      "text/plain": [
       "  0%|          | 0/8 [00:00<?, ?it/s]"
      ]
     },
     "metadata": {},
     "output_type": "display_data"
    },
    {
     "name": "stdout",
     "output_type": "stream",
     "text": [
      "Epoch:246/1000.. Train Loss: 0.169.. Val Loss: 0.229.. Train mIoU:0.000.. Val mIoU: 0.000.. Train Acc:0.918.. Val Acc:0.872.. Time: 0.06m\n"
     ]
    },
    {
     "data": {
      "application/vnd.jupyter.widget-view+json": {
       "model_id": "f0cbd74654cf479ca1b916cad317e227",
       "version_major": 2,
       "version_minor": 0
      },
      "text/plain": [
       "  0%|          | 0/8 [00:00<?, ?it/s]"
      ]
     },
     "metadata": {},
     "output_type": "display_data"
    },
    {
     "name": "stdout",
     "output_type": "stream",
     "text": [
      "Epoch:247/1000.. Train Loss: 0.164.. Val Loss: 0.230.. Train mIoU:0.000.. Val mIoU: 0.000.. Train Acc:0.920.. Val Acc:0.868.. Time: 0.06m\n"
     ]
    },
    {
     "data": {
      "application/vnd.jupyter.widget-view+json": {
       "model_id": "bba445ee5ad742139db5015674a00f63",
       "version_major": 2,
       "version_minor": 0
      },
      "text/plain": [
       "  0%|          | 0/8 [00:00<?, ?it/s]"
      ]
     },
     "metadata": {},
     "output_type": "display_data"
    },
    {
     "name": "stdout",
     "output_type": "stream",
     "text": [
      "Epoch:248/1000.. Train Loss: 0.161.. Val Loss: 0.230.. Train mIoU:0.000.. Val mIoU: 0.000.. Train Acc:0.919.. Val Acc:0.868.. Time: 0.06m\n"
     ]
    },
    {
     "data": {
      "application/vnd.jupyter.widget-view+json": {
       "model_id": "82f83057465141ab920ec975d7b6d2cf",
       "version_major": 2,
       "version_minor": 0
      },
      "text/plain": [
       "  0%|          | 0/8 [00:00<?, ?it/s]"
      ]
     },
     "metadata": {},
     "output_type": "display_data"
    },
    {
     "name": "stdout",
     "output_type": "stream",
     "text": [
      "Epoch:249/1000.. Train Loss: 0.176.. Val Loss: 0.263.. Train mIoU:0.000.. Val mIoU: 0.000.. Train Acc:0.909.. Val Acc:0.862.. Time: 0.06m\n"
     ]
    },
    {
     "data": {
      "application/vnd.jupyter.widget-view+json": {
       "model_id": "0ed0239806a44706854c21383bc2ed85",
       "version_major": 2,
       "version_minor": 0
      },
      "text/plain": [
       "  0%|          | 0/8 [00:00<?, ?it/s]"
      ]
     },
     "metadata": {},
     "output_type": "display_data"
    },
    {
     "name": "stdout",
     "output_type": "stream",
     "text": [
      "Epoch:250/1000.. Train Loss: 0.166.. Val Loss: 0.310.. Train mIoU:0.000.. Val mIoU: 0.000.. Train Acc:0.915.. Val Acc:0.822.. Time: 0.06m\n"
     ]
    },
    {
     "data": {
      "application/vnd.jupyter.widget-view+json": {
       "model_id": "d44490de1b344201a6cc7fb16997b5f8",
       "version_major": 2,
       "version_minor": 0
      },
      "text/plain": [
       "  0%|          | 0/8 [00:00<?, ?it/s]"
      ]
     },
     "metadata": {},
     "output_type": "display_data"
    },
    {
     "name": "stdout",
     "output_type": "stream",
     "text": [
      "Epoch:251/1000.. Train Loss: 0.168.. Val Loss: 0.230.. Train mIoU:0.000.. Val mIoU: 0.000.. Train Acc:0.916.. Val Acc:0.871.. Time: 0.06m\n"
     ]
    },
    {
     "data": {
      "application/vnd.jupyter.widget-view+json": {
       "model_id": "58bc59908cc44e72a6b54846b6517842",
       "version_major": 2,
       "version_minor": 0
      },
      "text/plain": [
       "  0%|          | 0/8 [00:00<?, ?it/s]"
      ]
     },
     "metadata": {},
     "output_type": "display_data"
    },
    {
     "name": "stdout",
     "output_type": "stream",
     "text": [
      "Loss Decreasing.. 0.218 >> 0.214 \n",
      "Epoch:252/1000.. Train Loss: 0.158.. Val Loss: 0.214.. Train mIoU:0.000.. Val mIoU: 0.000.. Train Acc:0.917.. Val Acc:0.878.. Time: 0.06m\n"
     ]
    },
    {
     "data": {
      "application/vnd.jupyter.widget-view+json": {
       "model_id": "d006b1f1606e40ae839a6a27f0805ad3",
       "version_major": 2,
       "version_minor": 0
      },
      "text/plain": [
       "  0%|          | 0/8 [00:00<?, ?it/s]"
      ]
     },
     "metadata": {},
     "output_type": "display_data"
    },
    {
     "name": "stdout",
     "output_type": "stream",
     "text": [
      "Epoch:253/1000.. Train Loss: 0.154.. Val Loss: 0.219.. Train mIoU:0.000.. Val mIoU: 0.000.. Train Acc:0.920.. Val Acc:0.875.. Time: 0.06m\n"
     ]
    },
    {
     "data": {
      "application/vnd.jupyter.widget-view+json": {
       "model_id": "580c58d2e0204a05aa51da030443fc95",
       "version_major": 2,
       "version_minor": 0
      },
      "text/plain": [
       "  0%|          | 0/8 [00:00<?, ?it/s]"
      ]
     },
     "metadata": {},
     "output_type": "display_data"
    },
    {
     "name": "stdout",
     "output_type": "stream",
     "text": [
      "Epoch:254/1000.. Train Loss: 0.245.. Val Loss: 0.299.. Train mIoU:0.000.. Val mIoU: 0.000.. Train Acc:0.885.. Val Acc:0.830.. Time: 0.06m\n"
     ]
    },
    {
     "data": {
      "application/vnd.jupyter.widget-view+json": {
       "model_id": "bf5f561219284f2c94ece83368cc4355",
       "version_major": 2,
       "version_minor": 0
      },
      "text/plain": [
       "  0%|          | 0/8 [00:00<?, ?it/s]"
      ]
     },
     "metadata": {},
     "output_type": "display_data"
    },
    {
     "name": "stdout",
     "output_type": "stream",
     "text": [
      "Epoch:255/1000.. Train Loss: 0.213.. Val Loss: 0.256.. Train mIoU:0.000.. Val mIoU: 0.000.. Train Acc:0.890.. Val Acc:0.869.. Time: 0.06m\n"
     ]
    },
    {
     "data": {
      "application/vnd.jupyter.widget-view+json": {
       "model_id": "b9ad1439ac1e4db1ac8e77967ea18d92",
       "version_major": 2,
       "version_minor": 0
      },
      "text/plain": [
       "  0%|          | 0/8 [00:00<?, ?it/s]"
      ]
     },
     "metadata": {},
     "output_type": "display_data"
    },
    {
     "name": "stdout",
     "output_type": "stream",
     "text": [
      "Epoch:256/1000.. Train Loss: 0.179.. Val Loss: 0.245.. Train mIoU:0.000.. Val mIoU: 0.000.. Train Acc:0.904.. Val Acc:0.864.. Time: 0.06m\n"
     ]
    },
    {
     "data": {
      "application/vnd.jupyter.widget-view+json": {
       "model_id": "67e76dfce6e5456faae5271e56475ed0",
       "version_major": 2,
       "version_minor": 0
      },
      "text/plain": [
       "  0%|          | 0/8 [00:00<?, ?it/s]"
      ]
     },
     "metadata": {},
     "output_type": "display_data"
    },
    {
     "name": "stdout",
     "output_type": "stream",
     "text": [
      "Epoch:257/1000.. Train Loss: 0.235.. Val Loss: 0.301.. Train mIoU:0.000.. Val mIoU: 0.000.. Train Acc:0.885.. Val Acc:0.834.. Time: 0.06m\n"
     ]
    },
    {
     "data": {
      "application/vnd.jupyter.widget-view+json": {
       "model_id": "e1b108bcf2b145f9bae176391ccde6d0",
       "version_major": 2,
       "version_minor": 0
      },
      "text/plain": [
       "  0%|          | 0/8 [00:00<?, ?it/s]"
      ]
     },
     "metadata": {},
     "output_type": "display_data"
    },
    {
     "name": "stdout",
     "output_type": "stream",
     "text": [
      "Epoch:258/1000.. Train Loss: 0.172.. Val Loss: 0.236.. Train mIoU:0.000.. Val mIoU: 0.000.. Train Acc:0.908.. Val Acc:0.866.. Time: 0.06m\n"
     ]
    },
    {
     "data": {
      "application/vnd.jupyter.widget-view+json": {
       "model_id": "8a8b1317b5c5420e8c150e077c3e7a88",
       "version_major": 2,
       "version_minor": 0
      },
      "text/plain": [
       "  0%|          | 0/8 [00:00<?, ?it/s]"
      ]
     },
     "metadata": {},
     "output_type": "display_data"
    },
    {
     "name": "stdout",
     "output_type": "stream",
     "text": [
      "Epoch:259/1000.. Train Loss: 0.184.. Val Loss: 0.302.. Train mIoU:0.000.. Val mIoU: 0.000.. Train Acc:0.912.. Val Acc:0.813.. Time: 0.06m\n"
     ]
    },
    {
     "data": {
      "application/vnd.jupyter.widget-view+json": {
       "model_id": "8b993bc24d6943e5a6d7f666e2016fff",
       "version_major": 2,
       "version_minor": 0
      },
      "text/plain": [
       "  0%|          | 0/8 [00:00<?, ?it/s]"
      ]
     },
     "metadata": {},
     "output_type": "display_data"
    },
    {
     "name": "stdout",
     "output_type": "stream",
     "text": [
      "Epoch:260/1000.. Train Loss: 0.161.. Val Loss: 0.316.. Train mIoU:0.000.. Val mIoU: 0.000.. Train Acc:0.919.. Val Acc:0.815.. Time: 0.06m\n"
     ]
    },
    {
     "data": {
      "application/vnd.jupyter.widget-view+json": {
       "model_id": "90f9132d54c14242bf58cf2f90974ad3",
       "version_major": 2,
       "version_minor": 0
      },
      "text/plain": [
       "  0%|          | 0/8 [00:00<?, ?it/s]"
      ]
     },
     "metadata": {},
     "output_type": "display_data"
    },
    {
     "name": "stdout",
     "output_type": "stream",
     "text": [
      "Epoch:261/1000.. Train Loss: 0.159.. Val Loss: 0.268.. Train mIoU:0.000.. Val mIoU: 0.000.. Train Acc:0.919.. Val Acc:0.858.. Time: 0.06m\n"
     ]
    },
    {
     "data": {
      "application/vnd.jupyter.widget-view+json": {
       "model_id": "fb6b66fffc144706890b2278f9499fc2",
       "version_major": 2,
       "version_minor": 0
      },
      "text/plain": [
       "  0%|          | 0/8 [00:00<?, ?it/s]"
      ]
     },
     "metadata": {},
     "output_type": "display_data"
    },
    {
     "name": "stdout",
     "output_type": "stream",
     "text": [
      "Epoch:262/1000.. Train Loss: 0.164.. Val Loss: 0.279.. Train mIoU:0.000.. Val mIoU: 0.000.. Train Acc:0.918.. Val Acc:0.853.. Time: 0.06m\n"
     ]
    },
    {
     "data": {
      "application/vnd.jupyter.widget-view+json": {
       "model_id": "311b8f847dd24cd4948ef2d97bbb4984",
       "version_major": 2,
       "version_minor": 0
      },
      "text/plain": [
       "  0%|          | 0/8 [00:00<?, ?it/s]"
      ]
     },
     "metadata": {},
     "output_type": "display_data"
    },
    {
     "name": "stdout",
     "output_type": "stream",
     "text": [
      "Epoch:263/1000.. Train Loss: 0.166.. Val Loss: 0.227.. Train mIoU:0.000.. Val mIoU: 0.000.. Train Acc:0.914.. Val Acc:0.870.. Time: 0.06m\n"
     ]
    },
    {
     "data": {
      "application/vnd.jupyter.widget-view+json": {
       "model_id": "0140094d38d34f16b17fd6851c188e76",
       "version_major": 2,
       "version_minor": 0
      },
      "text/plain": [
       "  0%|          | 0/8 [00:00<?, ?it/s]"
      ]
     },
     "metadata": {},
     "output_type": "display_data"
    },
    {
     "name": "stdout",
     "output_type": "stream",
     "text": [
      "Epoch:264/1000.. Train Loss: 0.162.. Val Loss: 0.303.. Train mIoU:0.000.. Val mIoU: 0.000.. Train Acc:0.918.. Val Acc:0.833.. Time: 0.06m\n"
     ]
    },
    {
     "data": {
      "application/vnd.jupyter.widget-view+json": {
       "model_id": "ec749e8550cd43d78fddec2b40e6bebd",
       "version_major": 2,
       "version_minor": 0
      },
      "text/plain": [
       "  0%|          | 0/8 [00:00<?, ?it/s]"
      ]
     },
     "metadata": {},
     "output_type": "display_data"
    },
    {
     "name": "stdout",
     "output_type": "stream",
     "text": [
      "Epoch:265/1000.. Train Loss: 0.167.. Val Loss: 0.318.. Train mIoU:0.000.. Val mIoU: 0.000.. Train Acc:0.920.. Val Acc:0.800.. Time: 0.06m\n"
     ]
    },
    {
     "data": {
      "application/vnd.jupyter.widget-view+json": {
       "model_id": "a0c0c2e167c8401982103afa6b6b337c",
       "version_major": 2,
       "version_minor": 0
      },
      "text/plain": [
       "  0%|          | 0/8 [00:00<?, ?it/s]"
      ]
     },
     "metadata": {},
     "output_type": "display_data"
    },
    {
     "name": "stdout",
     "output_type": "stream",
     "text": [
      "Epoch:266/1000.. Train Loss: 0.157.. Val Loss: 0.221.. Train mIoU:0.000.. Val mIoU: 0.000.. Train Acc:0.918.. Val Acc:0.873.. Time: 0.06m\n"
     ]
    },
    {
     "data": {
      "application/vnd.jupyter.widget-view+json": {
       "model_id": "7ac1f9a6c6064068a54b4be18f11a4d6",
       "version_major": 2,
       "version_minor": 0
      },
      "text/plain": [
       "  0%|          | 0/8 [00:00<?, ?it/s]"
      ]
     },
     "metadata": {},
     "output_type": "display_data"
    },
    {
     "name": "stdout",
     "output_type": "stream",
     "text": [
      "Epoch:267/1000.. Train Loss: 0.154.. Val Loss: 0.226.. Train mIoU:0.000.. Val mIoU: 0.000.. Train Acc:0.920.. Val Acc:0.872.. Time: 0.07m\n"
     ]
    },
    {
     "data": {
      "application/vnd.jupyter.widget-view+json": {
       "model_id": "7587417ace37425bae856be0c5b7a284",
       "version_major": 2,
       "version_minor": 0
      },
      "text/plain": [
       "  0%|          | 0/8 [00:00<?, ?it/s]"
      ]
     },
     "metadata": {},
     "output_type": "display_data"
    },
    {
     "name": "stdout",
     "output_type": "stream",
     "text": [
      "Epoch:268/1000.. Train Loss: 0.184.. Val Loss: 0.237.. Train mIoU:0.000.. Val mIoU: 0.000.. Train Acc:0.920.. Val Acc:0.869.. Time: 0.06m\n"
     ]
    },
    {
     "data": {
      "application/vnd.jupyter.widget-view+json": {
       "model_id": "6bc05f05710e44b2af3d31961435d08a",
       "version_major": 2,
       "version_minor": 0
      },
      "text/plain": [
       "  0%|          | 0/8 [00:00<?, ?it/s]"
      ]
     },
     "metadata": {},
     "output_type": "display_data"
    },
    {
     "name": "stdout",
     "output_type": "stream",
     "text": [
      "Epoch:269/1000.. Train Loss: 0.171.. Val Loss: 0.228.. Train mIoU:0.000.. Val mIoU: 0.000.. Train Acc:0.912.. Val Acc:0.871.. Time: 0.06m\n"
     ]
    },
    {
     "data": {
      "application/vnd.jupyter.widget-view+json": {
       "model_id": "af5fa79032df45d7a5f8dcff9c2f0fda",
       "version_major": 2,
       "version_minor": 0
      },
      "text/plain": [
       "  0%|          | 0/8 [00:00<?, ?it/s]"
      ]
     },
     "metadata": {},
     "output_type": "display_data"
    },
    {
     "name": "stdout",
     "output_type": "stream",
     "text": [
      "Epoch:270/1000.. Train Loss: 0.164.. Val Loss: 0.227.. Train mIoU:0.000.. Val mIoU: 0.000.. Train Acc:0.914.. Val Acc:0.872.. Time: 0.06m\n"
     ]
    },
    {
     "data": {
      "application/vnd.jupyter.widget-view+json": {
       "model_id": "11c128103de64e23ab41265b8ee660be",
       "version_major": 2,
       "version_minor": 0
      },
      "text/plain": [
       "  0%|          | 0/8 [00:00<?, ?it/s]"
      ]
     },
     "metadata": {},
     "output_type": "display_data"
    },
    {
     "name": "stdout",
     "output_type": "stream",
     "text": [
      "Epoch:271/1000.. Train Loss: 0.165.. Val Loss: 0.311.. Train mIoU:0.000.. Val mIoU: 0.000.. Train Acc:0.916.. Val Acc:0.828.. Time: 0.06m\n"
     ]
    },
    {
     "data": {
      "application/vnd.jupyter.widget-view+json": {
       "model_id": "8aae0aa0b4934d9caad35c65d400cf76",
       "version_major": 2,
       "version_minor": 0
      },
      "text/plain": [
       "  0%|          | 0/8 [00:00<?, ?it/s]"
      ]
     },
     "metadata": {},
     "output_type": "display_data"
    },
    {
     "name": "stdout",
     "output_type": "stream",
     "text": [
      "Epoch:272/1000.. Train Loss: 0.165.. Val Loss: 0.347.. Train mIoU:0.000.. Val mIoU: 0.000.. Train Acc:0.917.. Val Acc:0.824.. Time: 0.06m\n"
     ]
    },
    {
     "data": {
      "application/vnd.jupyter.widget-view+json": {
       "model_id": "08060b3d24614944a716155a3bbaa5a7",
       "version_major": 2,
       "version_minor": 0
      },
      "text/plain": [
       "  0%|          | 0/8 [00:00<?, ?it/s]"
      ]
     },
     "metadata": {},
     "output_type": "display_data"
    },
    {
     "name": "stdout",
     "output_type": "stream",
     "text": [
      "Epoch:273/1000.. Train Loss: 0.156.. Val Loss: 0.246.. Train mIoU:0.000.. Val mIoU: 0.000.. Train Acc:0.921.. Val Acc:0.871.. Time: 0.06m\n"
     ]
    },
    {
     "data": {
      "application/vnd.jupyter.widget-view+json": {
       "model_id": "fceb1579543947de8392e37f7e796316",
       "version_major": 2,
       "version_minor": 0
      },
      "text/plain": [
       "  0%|          | 0/8 [00:00<?, ?it/s]"
      ]
     },
     "metadata": {},
     "output_type": "display_data"
    },
    {
     "name": "stdout",
     "output_type": "stream",
     "text": [
      "Epoch:274/1000.. Train Loss: 0.163.. Val Loss: 0.298.. Train mIoU:0.000.. Val mIoU: 0.000.. Train Acc:0.919.. Val Acc:0.824.. Time: 0.06m\n"
     ]
    },
    {
     "data": {
      "application/vnd.jupyter.widget-view+json": {
       "model_id": "0664c94296b74481bfe17ea01c5a801c",
       "version_major": 2,
       "version_minor": 0
      },
      "text/plain": [
       "  0%|          | 0/8 [00:00<?, ?it/s]"
      ]
     },
     "metadata": {},
     "output_type": "display_data"
    },
    {
     "name": "stdout",
     "output_type": "stream",
     "text": [
      "Epoch:275/1000.. Train Loss: 0.157.. Val Loss: 0.255.. Train mIoU:0.000.. Val mIoU: 0.000.. Train Acc:0.921.. Val Acc:0.869.. Time: 0.06m\n"
     ]
    },
    {
     "data": {
      "application/vnd.jupyter.widget-view+json": {
       "model_id": "2fd8026602ee44c69c7eb6426588459a",
       "version_major": 2,
       "version_minor": 0
      },
      "text/plain": [
       "  0%|          | 0/8 [00:00<?, ?it/s]"
      ]
     },
     "metadata": {},
     "output_type": "display_data"
    },
    {
     "name": "stdout",
     "output_type": "stream",
     "text": [
      "Epoch:276/1000.. Train Loss: 0.198.. Val Loss: 0.297.. Train mIoU:0.000.. Val mIoU: 0.000.. Train Acc:0.895.. Val Acc:0.832.. Time: 0.06m\n"
     ]
    },
    {
     "data": {
      "application/vnd.jupyter.widget-view+json": {
       "model_id": "1bd7c4faa7374a27a26091bc72478391",
       "version_major": 2,
       "version_minor": 0
      },
      "text/plain": [
       "  0%|          | 0/8 [00:00<?, ?it/s]"
      ]
     },
     "metadata": {},
     "output_type": "display_data"
    },
    {
     "name": "stdout",
     "output_type": "stream",
     "text": [
      "Epoch:277/1000.. Train Loss: 0.169.. Val Loss: 0.230.. Train mIoU:0.000.. Val mIoU: 0.000.. Train Acc:0.919.. Val Acc:0.872.. Time: 0.06m\n"
     ]
    },
    {
     "data": {
      "application/vnd.jupyter.widget-view+json": {
       "model_id": "a0122402533644cb94445c37450adca3",
       "version_major": 2,
       "version_minor": 0
      },
      "text/plain": [
       "  0%|          | 0/8 [00:00<?, ?it/s]"
      ]
     },
     "metadata": {},
     "output_type": "display_data"
    },
    {
     "name": "stdout",
     "output_type": "stream",
     "text": [
      "Epoch:278/1000.. Train Loss: 0.159.. Val Loss: 0.293.. Train mIoU:0.000.. Val mIoU: 0.000.. Train Acc:0.919.. Val Acc:0.849.. Time: 0.06m\n"
     ]
    },
    {
     "data": {
      "application/vnd.jupyter.widget-view+json": {
       "model_id": "28378d2ce53042948c444bc6607ba17f",
       "version_major": 2,
       "version_minor": 0
      },
      "text/plain": [
       "  0%|          | 0/8 [00:00<?, ?it/s]"
      ]
     },
     "metadata": {},
     "output_type": "display_data"
    },
    {
     "name": "stdout",
     "output_type": "stream",
     "text": [
      "Epoch:279/1000.. Train Loss: 0.155.. Val Loss: 0.314.. Train mIoU:0.000.. Val mIoU: 0.000.. Train Acc:0.922.. Val Acc:0.807.. Time: 0.06m\n"
     ]
    },
    {
     "data": {
      "application/vnd.jupyter.widget-view+json": {
       "model_id": "45fdedf47b134137a915ee70c419ae61",
       "version_major": 2,
       "version_minor": 0
      },
      "text/plain": [
       "  0%|          | 0/8 [00:00<?, ?it/s]"
      ]
     },
     "metadata": {},
     "output_type": "display_data"
    },
    {
     "name": "stdout",
     "output_type": "stream",
     "text": [
      "Epoch:280/1000.. Train Loss: 0.154.. Val Loss: 0.261.. Train mIoU:0.000.. Val mIoU: 0.000.. Train Acc:0.920.. Val Acc:0.863.. Time: 0.06m\n"
     ]
    },
    {
     "data": {
      "application/vnd.jupyter.widget-view+json": {
       "model_id": "a5f638c14a39445c9d133306b0aae5a2",
       "version_major": 2,
       "version_minor": 0
      },
      "text/plain": [
       "  0%|          | 0/8 [00:00<?, ?it/s]"
      ]
     },
     "metadata": {},
     "output_type": "display_data"
    },
    {
     "name": "stdout",
     "output_type": "stream",
     "text": [
      "Epoch:281/1000.. Train Loss: 0.182.. Val Loss: 0.298.. Train mIoU:0.000.. Val mIoU: 0.000.. Train Acc:0.920.. Val Acc:0.835.. Time: 0.06m\n"
     ]
    },
    {
     "data": {
      "application/vnd.jupyter.widget-view+json": {
       "model_id": "5fd064646e5140e090b42aa067c4f78b",
       "version_major": 2,
       "version_minor": 0
      },
      "text/plain": [
       "  0%|          | 0/8 [00:00<?, ?it/s]"
      ]
     },
     "metadata": {},
     "output_type": "display_data"
    },
    {
     "name": "stdout",
     "output_type": "stream",
     "text": [
      "Epoch:282/1000.. Train Loss: 0.157.. Val Loss: 0.232.. Train mIoU:0.000.. Val mIoU: 0.000.. Train Acc:0.918.. Val Acc:0.865.. Time: 0.06m\n"
     ]
    },
    {
     "data": {
      "application/vnd.jupyter.widget-view+json": {
       "model_id": "1912f95949f549daa764703546209024",
       "version_major": 2,
       "version_minor": 0
      },
      "text/plain": [
       "  0%|          | 0/8 [00:00<?, ?it/s]"
      ]
     },
     "metadata": {},
     "output_type": "display_data"
    },
    {
     "name": "stdout",
     "output_type": "stream",
     "text": [
      "Epoch:283/1000.. Train Loss: 0.149.. Val Loss: 0.236.. Train mIoU:0.000.. Val mIoU: 0.000.. Train Acc:0.921.. Val Acc:0.869.. Time: 0.06m\n"
     ]
    },
    {
     "data": {
      "application/vnd.jupyter.widget-view+json": {
       "model_id": "915732bb1f9746fcab12b0977d2e862d",
       "version_major": 2,
       "version_minor": 0
      },
      "text/plain": [
       "  0%|          | 0/8 [00:00<?, ?it/s]"
      ]
     },
     "metadata": {},
     "output_type": "display_data"
    },
    {
     "name": "stdout",
     "output_type": "stream",
     "text": [
      "Epoch:284/1000.. Train Loss: 0.168.. Val Loss: 0.328.. Train mIoU:0.000.. Val mIoU: 0.000.. Train Acc:0.919.. Val Acc:0.811.. Time: 0.07m\n"
     ]
    },
    {
     "data": {
      "application/vnd.jupyter.widget-view+json": {
       "model_id": "44ac17d74c934157abca21a26476f087",
       "version_major": 2,
       "version_minor": 0
      },
      "text/plain": [
       "  0%|          | 0/8 [00:00<?, ?it/s]"
      ]
     },
     "metadata": {},
     "output_type": "display_data"
    },
    {
     "name": "stdout",
     "output_type": "stream",
     "text": [
      "Epoch:285/1000.. Train Loss: 0.154.. Val Loss: 0.321.. Train mIoU:0.000.. Val mIoU: 0.000.. Train Acc:0.919.. Val Acc:0.820.. Time: 0.06m\n"
     ]
    },
    {
     "data": {
      "application/vnd.jupyter.widget-view+json": {
       "model_id": "482a1b7c4e3640b38c5f0ab04cba76e5",
       "version_major": 2,
       "version_minor": 0
      },
      "text/plain": [
       "  0%|          | 0/8 [00:00<?, ?it/s]"
      ]
     },
     "metadata": {},
     "output_type": "display_data"
    },
    {
     "name": "stdout",
     "output_type": "stream",
     "text": [
      "Epoch:286/1000.. Train Loss: 0.157.. Val Loss: 0.245.. Train mIoU:0.000.. Val mIoU: 0.000.. Train Acc:0.919.. Val Acc:0.870.. Time: 0.06m\n"
     ]
    },
    {
     "data": {
      "application/vnd.jupyter.widget-view+json": {
       "model_id": "d293f64b97e94c339bb09af1132b9c21",
       "version_major": 2,
       "version_minor": 0
      },
      "text/plain": [
       "  0%|          | 0/8 [00:00<?, ?it/s]"
      ]
     },
     "metadata": {},
     "output_type": "display_data"
    },
    {
     "name": "stdout",
     "output_type": "stream",
     "text": [
      "Epoch:287/1000.. Train Loss: 0.153.. Val Loss: 0.257.. Train mIoU:0.000.. Val mIoU: 0.000.. Train Acc:0.923.. Val Acc:0.863.. Time: 0.06m\n"
     ]
    },
    {
     "data": {
      "application/vnd.jupyter.widget-view+json": {
       "model_id": "ed0094cfe97b4028871035355f4ef181",
       "version_major": 2,
       "version_minor": 0
      },
      "text/plain": [
       "  0%|          | 0/8 [00:00<?, ?it/s]"
      ]
     },
     "metadata": {},
     "output_type": "display_data"
    },
    {
     "name": "stdout",
     "output_type": "stream",
     "text": [
      "Epoch:288/1000.. Train Loss: 0.163.. Val Loss: 0.425.. Train mIoU:0.000.. Val mIoU: 0.000.. Train Acc:0.914.. Val Acc:0.807.. Time: 0.06m\n"
     ]
    },
    {
     "data": {
      "application/vnd.jupyter.widget-view+json": {
       "model_id": "8bf6dbe162564963af934739011e7f7d",
       "version_major": 2,
       "version_minor": 0
      },
      "text/plain": [
       "  0%|          | 0/8 [00:00<?, ?it/s]"
      ]
     },
     "metadata": {},
     "output_type": "display_data"
    },
    {
     "name": "stdout",
     "output_type": "stream",
     "text": [
      "Epoch:289/1000.. Train Loss: 0.154.. Val Loss: 0.235.. Train mIoU:0.000.. Val mIoU: 0.000.. Train Acc:0.918.. Val Acc:0.868.. Time: 0.06m\n"
     ]
    },
    {
     "data": {
      "application/vnd.jupyter.widget-view+json": {
       "model_id": "3dc1e47fb1b34b6b8e3afe9f6b51cf8e",
       "version_major": 2,
       "version_minor": 0
      },
      "text/plain": [
       "  0%|          | 0/8 [00:00<?, ?it/s]"
      ]
     },
     "metadata": {},
     "output_type": "display_data"
    },
    {
     "name": "stdout",
     "output_type": "stream",
     "text": [
      "Epoch:290/1000.. Train Loss: 0.151.. Val Loss: 0.230.. Train mIoU:0.000.. Val mIoU: 0.000.. Train Acc:0.921.. Val Acc:0.870.. Time: 0.06m\n"
     ]
    },
    {
     "data": {
      "application/vnd.jupyter.widget-view+json": {
       "model_id": "60df4d6f3a374a78b2d21640bc3ebbb5",
       "version_major": 2,
       "version_minor": 0
      },
      "text/plain": [
       "  0%|          | 0/8 [00:00<?, ?it/s]"
      ]
     },
     "metadata": {},
     "output_type": "display_data"
    },
    {
     "name": "stdout",
     "output_type": "stream",
     "text": [
      "Epoch:291/1000.. Train Loss: 0.153.. Val Loss: 0.320.. Train mIoU:0.000.. Val mIoU: 0.000.. Train Acc:0.919.. Val Acc:0.861.. Time: 0.06m\n"
     ]
    },
    {
     "data": {
      "application/vnd.jupyter.widget-view+json": {
       "model_id": "8504652aaa634f169a6c52edc6a2f0b2",
       "version_major": 2,
       "version_minor": 0
      },
      "text/plain": [
       "  0%|          | 0/8 [00:00<?, ?it/s]"
      ]
     },
     "metadata": {},
     "output_type": "display_data"
    },
    {
     "name": "stdout",
     "output_type": "stream",
     "text": [
      "Epoch:292/1000.. Train Loss: 0.152.. Val Loss: 0.293.. Train mIoU:0.000.. Val mIoU: 0.000.. Train Acc:0.918.. Val Acc:0.839.. Time: 0.06m\n"
     ]
    },
    {
     "data": {
      "application/vnd.jupyter.widget-view+json": {
       "model_id": "f231dcf2b000447baa36d8e131bcf8bb",
       "version_major": 2,
       "version_minor": 0
      },
      "text/plain": [
       "  0%|          | 0/8 [00:00<?, ?it/s]"
      ]
     },
     "metadata": {},
     "output_type": "display_data"
    },
    {
     "name": "stdout",
     "output_type": "stream",
     "text": [
      "Epoch:293/1000.. Train Loss: 0.151.. Val Loss: 0.232.. Train mIoU:0.000.. Val mIoU: 0.000.. Train Acc:0.922.. Val Acc:0.873.. Time: 0.06m\n"
     ]
    },
    {
     "data": {
      "application/vnd.jupyter.widget-view+json": {
       "model_id": "c85df80449d840d4b623545c71439957",
       "version_major": 2,
       "version_minor": 0
      },
      "text/plain": [
       "  0%|          | 0/8 [00:00<?, ?it/s]"
      ]
     },
     "metadata": {},
     "output_type": "display_data"
    },
    {
     "name": "stdout",
     "output_type": "stream",
     "text": [
      "Epoch:294/1000.. Train Loss: 0.152.. Val Loss: 0.340.. Train mIoU:0.000.. Val mIoU: 0.000.. Train Acc:0.922.. Val Acc:0.833.. Time: 0.06m\n"
     ]
    },
    {
     "data": {
      "application/vnd.jupyter.widget-view+json": {
       "model_id": "6dc42d52919a4d81875b1b528c17ec65",
       "version_major": 2,
       "version_minor": 0
      },
      "text/plain": [
       "  0%|          | 0/8 [00:00<?, ?it/s]"
      ]
     },
     "metadata": {},
     "output_type": "display_data"
    },
    {
     "name": "stdout",
     "output_type": "stream",
     "text": [
      "Epoch:295/1000.. Train Loss: 0.152.. Val Loss: 0.260.. Train mIoU:0.000.. Val mIoU: 0.000.. Train Acc:0.922.. Val Acc:0.872.. Time: 0.06m\n"
     ]
    },
    {
     "data": {
      "application/vnd.jupyter.widget-view+json": {
       "model_id": "59d41e01f9e34547b01863378adf0a28",
       "version_major": 2,
       "version_minor": 0
      },
      "text/plain": [
       "  0%|          | 0/8 [00:00<?, ?it/s]"
      ]
     },
     "metadata": {},
     "output_type": "display_data"
    },
    {
     "name": "stdout",
     "output_type": "stream",
     "text": [
      "Epoch:296/1000.. Train Loss: 0.169.. Val Loss: 0.309.. Train mIoU:0.000.. Val mIoU: 0.000.. Train Acc:0.911.. Val Acc:0.831.. Time: 0.06m\n"
     ]
    },
    {
     "data": {
      "application/vnd.jupyter.widget-view+json": {
       "model_id": "5f863df70ebf4396922977c315c80d75",
       "version_major": 2,
       "version_minor": 0
      },
      "text/plain": [
       "  0%|          | 0/8 [00:00<?, ?it/s]"
      ]
     },
     "metadata": {},
     "output_type": "display_data"
    },
    {
     "name": "stdout",
     "output_type": "stream",
     "text": [
      "Epoch:297/1000.. Train Loss: 0.161.. Val Loss: 0.231.. Train mIoU:0.000.. Val mIoU: 0.000.. Train Acc:0.921.. Val Acc:0.874.. Time: 0.06m\n"
     ]
    },
    {
     "data": {
      "application/vnd.jupyter.widget-view+json": {
       "model_id": "96481033e83d41249da51a4ea59bd4bc",
       "version_major": 2,
       "version_minor": 0
      },
      "text/plain": [
       "  0%|          | 0/8 [00:00<?, ?it/s]"
      ]
     },
     "metadata": {},
     "output_type": "display_data"
    },
    {
     "name": "stdout",
     "output_type": "stream",
     "text": [
      "Epoch:298/1000.. Train Loss: 0.155.. Val Loss: 0.229.. Train mIoU:0.000.. Val mIoU: 0.000.. Train Acc:0.919.. Val Acc:0.870.. Time: 0.06m\n"
     ]
    },
    {
     "data": {
      "application/vnd.jupyter.widget-view+json": {
       "model_id": "9e9e14d9610b419690e95a26fc3c2ac6",
       "version_major": 2,
       "version_minor": 0
      },
      "text/plain": [
       "  0%|          | 0/8 [00:00<?, ?it/s]"
      ]
     },
     "metadata": {},
     "output_type": "display_data"
    },
    {
     "name": "stdout",
     "output_type": "stream",
     "text": [
      "Epoch:299/1000.. Train Loss: 0.147.. Val Loss: 0.228.. Train mIoU:0.000.. Val mIoU: 0.000.. Train Acc:0.924.. Val Acc:0.870.. Time: 0.06m\n"
     ]
    },
    {
     "data": {
      "application/vnd.jupyter.widget-view+json": {
       "model_id": "7a85e614e85744bab853ee580ddf2b31",
       "version_major": 2,
       "version_minor": 0
      },
      "text/plain": [
       "  0%|          | 0/8 [00:00<?, ?it/s]"
      ]
     },
     "metadata": {},
     "output_type": "display_data"
    },
    {
     "name": "stdout",
     "output_type": "stream",
     "text": [
      "Epoch:300/1000.. Train Loss: 0.149.. Val Loss: 0.233.. Train mIoU:0.000.. Val mIoU: 0.000.. Train Acc:0.923.. Val Acc:0.869.. Time: 0.06m\n"
     ]
    },
    {
     "data": {
      "application/vnd.jupyter.widget-view+json": {
       "model_id": "55af76525a5d4de2bb55c7b1a19a5aae",
       "version_major": 2,
       "version_minor": 0
      },
      "text/plain": [
       "  0%|          | 0/8 [00:00<?, ?it/s]"
      ]
     },
     "metadata": {},
     "output_type": "display_data"
    },
    {
     "name": "stdout",
     "output_type": "stream",
     "text": [
      "Epoch:301/1000.. Train Loss: 0.146.. Val Loss: 0.314.. Train mIoU:0.000.. Val mIoU: 0.000.. Train Acc:0.924.. Val Acc:0.817.. Time: 0.06m\n"
     ]
    },
    {
     "data": {
      "application/vnd.jupyter.widget-view+json": {
       "model_id": "9c2127249e8e4a8c9669b9e7b0f989b0",
       "version_major": 2,
       "version_minor": 0
      },
      "text/plain": [
       "  0%|          | 0/8 [00:00<?, ?it/s]"
      ]
     },
     "metadata": {},
     "output_type": "display_data"
    },
    {
     "name": "stdout",
     "output_type": "stream",
     "text": [
      "Epoch:302/1000.. Train Loss: 0.149.. Val Loss: 0.237.. Train mIoU:0.000.. Val mIoU: 0.000.. Train Acc:0.923.. Val Acc:0.866.. Time: 0.07m\n"
     ]
    },
    {
     "data": {
      "application/vnd.jupyter.widget-view+json": {
       "model_id": "175a6d04640e448d88f24ca0c5c278ef",
       "version_major": 2,
       "version_minor": 0
      },
      "text/plain": [
       "  0%|          | 0/8 [00:00<?, ?it/s]"
      ]
     },
     "metadata": {},
     "output_type": "display_data"
    },
    {
     "name": "stdout",
     "output_type": "stream",
     "text": [
      "Epoch:303/1000.. Train Loss: 0.146.. Val Loss: 0.238.. Train mIoU:0.000.. Val mIoU: 0.000.. Train Acc:0.925.. Val Acc:0.870.. Time: 0.06m\n"
     ]
    },
    {
     "data": {
      "application/vnd.jupyter.widget-view+json": {
       "model_id": "3d62cafe4e154c6ba24ff2b29acecf12",
       "version_major": 2,
       "version_minor": 0
      },
      "text/plain": [
       "  0%|          | 0/8 [00:00<?, ?it/s]"
      ]
     },
     "metadata": {},
     "output_type": "display_data"
    },
    {
     "name": "stdout",
     "output_type": "stream",
     "text": [
      "Epoch:304/1000.. Train Loss: 0.156.. Val Loss: 0.381.. Train mIoU:0.000.. Val mIoU: 0.000.. Train Acc:0.924.. Val Acc:0.835.. Time: 0.06m\n"
     ]
    },
    {
     "data": {
      "application/vnd.jupyter.widget-view+json": {
       "model_id": "5f21e8a5466b4a1fb346065bf1fd897c",
       "version_major": 2,
       "version_minor": 0
      },
      "text/plain": [
       "  0%|          | 0/8 [00:00<?, ?it/s]"
      ]
     },
     "metadata": {},
     "output_type": "display_data"
    },
    {
     "name": "stdout",
     "output_type": "stream",
     "text": [
      "Epoch:305/1000.. Train Loss: 0.157.. Val Loss: 0.296.. Train mIoU:0.000.. Val mIoU: 0.000.. Train Acc:0.921.. Val Acc:0.854.. Time: 0.06m\n"
     ]
    },
    {
     "data": {
      "application/vnd.jupyter.widget-view+json": {
       "model_id": "ef50bb65630e4aacbc3dfb516caa5543",
       "version_major": 2,
       "version_minor": 0
      },
      "text/plain": [
       "  0%|          | 0/8 [00:00<?, ?it/s]"
      ]
     },
     "metadata": {},
     "output_type": "display_data"
    },
    {
     "name": "stdout",
     "output_type": "stream",
     "text": [
      "Epoch:306/1000.. Train Loss: 0.170.. Val Loss: 0.239.. Train mIoU:0.000.. Val mIoU: 0.000.. Train Acc:0.915.. Val Acc:0.878.. Time: 0.06m\n"
     ]
    },
    {
     "data": {
      "application/vnd.jupyter.widget-view+json": {
       "model_id": "1fa1b30f099542d583d9c7bb99f882a5",
       "version_major": 2,
       "version_minor": 0
      },
      "text/plain": [
       "  0%|          | 0/8 [00:00<?, ?it/s]"
      ]
     },
     "metadata": {},
     "output_type": "display_data"
    },
    {
     "name": "stdout",
     "output_type": "stream",
     "text": [
      "Epoch:307/1000.. Train Loss: 0.230.. Val Loss: 0.296.. Train mIoU:0.000.. Val mIoU: 0.000.. Train Acc:0.893.. Val Acc:0.843.. Time: 0.06m\n"
     ]
    },
    {
     "data": {
      "application/vnd.jupyter.widget-view+json": {
       "model_id": "c06b8542e3914593af989ad5f09518fb",
       "version_major": 2,
       "version_minor": 0
      },
      "text/plain": [
       "  0%|          | 0/8 [00:00<?, ?it/s]"
      ]
     },
     "metadata": {},
     "output_type": "display_data"
    },
    {
     "name": "stdout",
     "output_type": "stream",
     "text": [
      "Epoch:308/1000.. Train Loss: 0.170.. Val Loss: 0.291.. Train mIoU:0.000.. Val mIoU: 0.000.. Train Acc:0.917.. Val Acc:0.833.. Time: 0.06m\n"
     ]
    },
    {
     "data": {
      "application/vnd.jupyter.widget-view+json": {
       "model_id": "8817f15499b24f159ef40f42ed22f6c1",
       "version_major": 2,
       "version_minor": 0
      },
      "text/plain": [
       "  0%|          | 0/8 [00:00<?, ?it/s]"
      ]
     },
     "metadata": {},
     "output_type": "display_data"
    },
    {
     "name": "stdout",
     "output_type": "stream",
     "text": [
      "Epoch:309/1000.. Train Loss: 0.184.. Val Loss: 0.284.. Train mIoU:0.000.. Val mIoU: 0.000.. Train Acc:0.916.. Val Acc:0.840.. Time: 0.06m\n"
     ]
    },
    {
     "data": {
      "application/vnd.jupyter.widget-view+json": {
       "model_id": "b8f51de826234268b10efc948480fdf9",
       "version_major": 2,
       "version_minor": 0
      },
      "text/plain": [
       "  0%|          | 0/8 [00:00<?, ?it/s]"
      ]
     },
     "metadata": {},
     "output_type": "display_data"
    },
    {
     "name": "stdout",
     "output_type": "stream",
     "text": [
      "Epoch:310/1000.. Train Loss: 0.181.. Val Loss: 0.241.. Train mIoU:0.000.. Val mIoU: 0.000.. Train Acc:0.906.. Val Acc:0.869.. Time: 0.06m\n"
     ]
    },
    {
     "data": {
      "application/vnd.jupyter.widget-view+json": {
       "model_id": "69432801ca7c4569865cc106f74a7ea2",
       "version_major": 2,
       "version_minor": 0
      },
      "text/plain": [
       "  0%|          | 0/8 [00:00<?, ?it/s]"
      ]
     },
     "metadata": {},
     "output_type": "display_data"
    },
    {
     "name": "stdout",
     "output_type": "stream",
     "text": [
      "Epoch:311/1000.. Train Loss: 0.189.. Val Loss: 0.270.. Train mIoU:0.000.. Val mIoU: 0.000.. Train Acc:0.909.. Val Acc:0.858.. Time: 0.06m\n"
     ]
    },
    {
     "data": {
      "application/vnd.jupyter.widget-view+json": {
       "model_id": "378ff6b7ccdf4ba08cf63e218ecc3c2e",
       "version_major": 2,
       "version_minor": 0
      },
      "text/plain": [
       "  0%|          | 0/8 [00:00<?, ?it/s]"
      ]
     },
     "metadata": {},
     "output_type": "display_data"
    },
    {
     "name": "stdout",
     "output_type": "stream",
     "text": [
      "Epoch:312/1000.. Train Loss: 0.157.. Val Loss: 0.223.. Train mIoU:0.000.. Val mIoU: 0.000.. Train Acc:0.919.. Val Acc:0.872.. Time: 0.06m\n"
     ]
    },
    {
     "data": {
      "application/vnd.jupyter.widget-view+json": {
       "model_id": "02dabd54aee04ff395822328d70ee116",
       "version_major": 2,
       "version_minor": 0
      },
      "text/plain": [
       "  0%|          | 0/8 [00:00<?, ?it/s]"
      ]
     },
     "metadata": {},
     "output_type": "display_data"
    },
    {
     "name": "stdout",
     "output_type": "stream",
     "text": [
      "Epoch:313/1000.. Train Loss: 0.165.. Val Loss: 0.231.. Train mIoU:0.000.. Val mIoU: 0.000.. Train Acc:0.921.. Val Acc:0.873.. Time: 0.06m\n"
     ]
    },
    {
     "data": {
      "application/vnd.jupyter.widget-view+json": {
       "model_id": "ca187eb139374be08769a70888047e93",
       "version_major": 2,
       "version_minor": 0
      },
      "text/plain": [
       "  0%|          | 0/8 [00:00<?, ?it/s]"
      ]
     },
     "metadata": {},
     "output_type": "display_data"
    },
    {
     "name": "stdout",
     "output_type": "stream",
     "text": [
      "Epoch:314/1000.. Train Loss: 0.153.. Val Loss: 0.294.. Train mIoU:0.000.. Val mIoU: 0.000.. Train Acc:0.921.. Val Acc:0.846.. Time: 0.06m\n"
     ]
    },
    {
     "data": {
      "application/vnd.jupyter.widget-view+json": {
       "model_id": "755a370dff9f476e8e6ce6144fc02a5c",
       "version_major": 2,
       "version_minor": 0
      },
      "text/plain": [
       "  0%|          | 0/8 [00:00<?, ?it/s]"
      ]
     },
     "metadata": {},
     "output_type": "display_data"
    },
    {
     "name": "stdout",
     "output_type": "stream",
     "text": [
      "Epoch:315/1000.. Train Loss: 0.150.. Val Loss: 0.323.. Train mIoU:0.000.. Val mIoU: 0.000.. Train Acc:0.924.. Val Acc:0.816.. Time: 0.06m\n"
     ]
    },
    {
     "data": {
      "application/vnd.jupyter.widget-view+json": {
       "model_id": "71217e75a0064f83ba62d54312dd95e2",
       "version_major": 2,
       "version_minor": 0
      },
      "text/plain": [
       "  0%|          | 0/8 [00:00<?, ?it/s]"
      ]
     },
     "metadata": {},
     "output_type": "display_data"
    },
    {
     "name": "stdout",
     "output_type": "stream",
     "text": [
      "Epoch:316/1000.. Train Loss: 0.151.. Val Loss: 0.223.. Train mIoU:0.000.. Val mIoU: 0.000.. Train Acc:0.922.. Val Acc:0.875.. Time: 0.06m\n"
     ]
    },
    {
     "data": {
      "application/vnd.jupyter.widget-view+json": {
       "model_id": "02a3813c130241c0881e32a93b7b72fa",
       "version_major": 2,
       "version_minor": 0
      },
      "text/plain": [
       "  0%|          | 0/8 [00:00<?, ?it/s]"
      ]
     },
     "metadata": {},
     "output_type": "display_data"
    },
    {
     "name": "stdout",
     "output_type": "stream",
     "text": [
      "Epoch:317/1000.. Train Loss: 0.151.. Val Loss: 0.267.. Train mIoU:0.000.. Val mIoU: 0.000.. Train Acc:0.923.. Val Acc:0.864.. Time: 0.07m\n"
     ]
    },
    {
     "data": {
      "application/vnd.jupyter.widget-view+json": {
       "model_id": "6efb2a6434724b55a0657462f84f1a47",
       "version_major": 2,
       "version_minor": 0
      },
      "text/plain": [
       "  0%|          | 0/8 [00:00<?, ?it/s]"
      ]
     },
     "metadata": {},
     "output_type": "display_data"
    },
    {
     "name": "stdout",
     "output_type": "stream",
     "text": [
      "Epoch:318/1000.. Train Loss: 0.153.. Val Loss: 0.275.. Train mIoU:0.000.. Val mIoU: 0.000.. Train Acc:0.919.. Val Acc:0.856.. Time: 0.07m\n"
     ]
    },
    {
     "data": {
      "application/vnd.jupyter.widget-view+json": {
       "model_id": "5606411b23fb40bd97edd36ecc7e0d6a",
       "version_major": 2,
       "version_minor": 0
      },
      "text/plain": [
       "  0%|          | 0/8 [00:00<?, ?it/s]"
      ]
     },
     "metadata": {},
     "output_type": "display_data"
    },
    {
     "name": "stdout",
     "output_type": "stream",
     "text": [
      "Epoch:319/1000.. Train Loss: 0.176.. Val Loss: 0.387.. Train mIoU:0.000.. Val mIoU: 0.000.. Train Acc:0.908.. Val Acc:0.815.. Time: 0.06m\n"
     ]
    },
    {
     "data": {
      "application/vnd.jupyter.widget-view+json": {
       "model_id": "03d97862f1aa4b36ab7c38286928661f",
       "version_major": 2,
       "version_minor": 0
      },
      "text/plain": [
       "  0%|          | 0/8 [00:00<?, ?it/s]"
      ]
     },
     "metadata": {},
     "output_type": "display_data"
    },
    {
     "name": "stdout",
     "output_type": "stream",
     "text": [
      "Epoch:320/1000.. Train Loss: 0.160.. Val Loss: 0.314.. Train mIoU:0.000.. Val mIoU: 0.000.. Train Acc:0.919.. Val Acc:0.848.. Time: 0.07m\n"
     ]
    },
    {
     "data": {
      "application/vnd.jupyter.widget-view+json": {
       "model_id": "fbe5a514a1fe484fa220154b99c701c2",
       "version_major": 2,
       "version_minor": 0
      },
      "text/plain": [
       "  0%|          | 0/8 [00:00<?, ?it/s]"
      ]
     },
     "metadata": {},
     "output_type": "display_data"
    },
    {
     "name": "stdout",
     "output_type": "stream",
     "text": [
      "Epoch:321/1000.. Train Loss: 0.151.. Val Loss: 0.304.. Train mIoU:0.000.. Val mIoU: 0.000.. Train Acc:0.921.. Val Acc:0.824.. Time: 0.07m\n"
     ]
    },
    {
     "data": {
      "application/vnd.jupyter.widget-view+json": {
       "model_id": "7ef02be1ff0547648b62a876bf125992",
       "version_major": 2,
       "version_minor": 0
      },
      "text/plain": [
       "  0%|          | 0/8 [00:00<?, ?it/s]"
      ]
     },
     "metadata": {},
     "output_type": "display_data"
    },
    {
     "name": "stdout",
     "output_type": "stream",
     "text": [
      "Epoch:322/1000.. Train Loss: 0.224.. Val Loss: 0.381.. Train mIoU:0.000.. Val mIoU: 0.000.. Train Acc:0.915.. Val Acc:0.820.. Time: 0.06m\n"
     ]
    },
    {
     "data": {
      "application/vnd.jupyter.widget-view+json": {
       "model_id": "e138d9d5a39546788446b5ce7657425c",
       "version_major": 2,
       "version_minor": 0
      },
      "text/plain": [
       "  0%|          | 0/8 [00:00<?, ?it/s]"
      ]
     },
     "metadata": {},
     "output_type": "display_data"
    },
    {
     "name": "stdout",
     "output_type": "stream",
     "text": [
      "Epoch:323/1000.. Train Loss: 0.276.. Val Loss: 0.335.. Train mIoU:0.000.. Val mIoU: 0.000.. Train Acc:0.862.. Val Acc:0.840.. Time: 0.06m\n"
     ]
    },
    {
     "data": {
      "application/vnd.jupyter.widget-view+json": {
       "model_id": "f7a49f8acab142d3a3d6fc5869e8bf9c",
       "version_major": 2,
       "version_minor": 0
      },
      "text/plain": [
       "  0%|          | 0/8 [00:00<?, ?it/s]"
      ]
     },
     "metadata": {},
     "output_type": "display_data"
    },
    {
     "name": "stdout",
     "output_type": "stream",
     "text": [
      "Epoch:324/1000.. Train Loss: 0.252.. Val Loss: 0.238.. Train mIoU:0.000.. Val mIoU: 0.000.. Train Acc:0.879.. Val Acc:0.868.. Time: 0.06m\n"
     ]
    },
    {
     "data": {
      "application/vnd.jupyter.widget-view+json": {
       "model_id": "4b49fa115f834932bc776b49aaca21c5",
       "version_major": 2,
       "version_minor": 0
      },
      "text/plain": [
       "  0%|          | 0/8 [00:00<?, ?it/s]"
      ]
     },
     "metadata": {},
     "output_type": "display_data"
    },
    {
     "name": "stdout",
     "output_type": "stream",
     "text": [
      "Epoch:325/1000.. Train Loss: 0.190.. Val Loss: 0.233.. Train mIoU:0.000.. Val mIoU: 0.000.. Train Acc:0.909.. Val Acc:0.870.. Time: 0.06m\n"
     ]
    },
    {
     "data": {
      "application/vnd.jupyter.widget-view+json": {
       "model_id": "0de1ac9f159b446e8041a710f461cd00",
       "version_major": 2,
       "version_minor": 0
      },
      "text/plain": [
       "  0%|          | 0/8 [00:00<?, ?it/s]"
      ]
     },
     "metadata": {},
     "output_type": "display_data"
    },
    {
     "name": "stdout",
     "output_type": "stream",
     "text": [
      "Epoch:326/1000.. Train Loss: 0.166.. Val Loss: 0.233.. Train mIoU:0.000.. Val mIoU: 0.000.. Train Acc:0.914.. Val Acc:0.864.. Time: 0.06m\n"
     ]
    },
    {
     "data": {
      "application/vnd.jupyter.widget-view+json": {
       "model_id": "58bed5edc4ee477c975cf0982b6eb136",
       "version_major": 2,
       "version_minor": 0
      },
      "text/plain": [
       "  0%|          | 0/8 [00:00<?, ?it/s]"
      ]
     },
     "metadata": {},
     "output_type": "display_data"
    },
    {
     "name": "stdout",
     "output_type": "stream",
     "text": [
      "Epoch:327/1000.. Train Loss: 0.165.. Val Loss: 0.271.. Train mIoU:0.000.. Val mIoU: 0.000.. Train Acc:0.919.. Val Acc:0.871.. Time: 0.06m\n"
     ]
    },
    {
     "data": {
      "application/vnd.jupyter.widget-view+json": {
       "model_id": "c397c0dd20804f3b841d3e85d617944d",
       "version_major": 2,
       "version_minor": 0
      },
      "text/plain": [
       "  0%|          | 0/8 [00:00<?, ?it/s]"
      ]
     },
     "metadata": {},
     "output_type": "display_data"
    },
    {
     "name": "stdout",
     "output_type": "stream",
     "text": [
      "Epoch:328/1000.. Train Loss: 0.157.. Val Loss: 0.291.. Train mIoU:0.000.. Val mIoU: 0.000.. Train Acc:0.921.. Val Acc:0.845.. Time: 0.06m\n"
     ]
    },
    {
     "data": {
      "application/vnd.jupyter.widget-view+json": {
       "model_id": "606c732336da4d9db3600494c99342f2",
       "version_major": 2,
       "version_minor": 0
      },
      "text/plain": [
       "  0%|          | 0/8 [00:00<?, ?it/s]"
      ]
     },
     "metadata": {},
     "output_type": "display_data"
    },
    {
     "name": "stdout",
     "output_type": "stream",
     "text": [
      "Epoch:329/1000.. Train Loss: 0.153.. Val Loss: 0.341.. Train mIoU:0.000.. Val mIoU: 0.000.. Train Acc:0.921.. Val Acc:0.838.. Time: 0.06m\n"
     ]
    },
    {
     "data": {
      "application/vnd.jupyter.widget-view+json": {
       "model_id": "2fe8c79914c84c4bb19980f8753da48a",
       "version_major": 2,
       "version_minor": 0
      },
      "text/plain": [
       "  0%|          | 0/8 [00:00<?, ?it/s]"
      ]
     },
     "metadata": {},
     "output_type": "display_data"
    },
    {
     "name": "stdout",
     "output_type": "stream",
     "text": [
      "Epoch:330/1000.. Train Loss: 0.178.. Val Loss: 0.262.. Train mIoU:0.000.. Val mIoU: 0.000.. Train Acc:0.909.. Val Acc:0.865.. Time: 0.06m\n"
     ]
    },
    {
     "data": {
      "application/vnd.jupyter.widget-view+json": {
       "model_id": "8213e5f1f59d4ce3b59a9bd7b9debf08",
       "version_major": 2,
       "version_minor": 0
      },
      "text/plain": [
       "  0%|          | 0/8 [00:00<?, ?it/s]"
      ]
     },
     "metadata": {},
     "output_type": "display_data"
    },
    {
     "name": "stdout",
     "output_type": "stream",
     "text": [
      "Epoch:331/1000.. Train Loss: 0.222.. Val Loss: 0.358.. Train mIoU:0.000.. Val mIoU: 0.000.. Train Acc:0.901.. Val Acc:0.807.. Time: 0.06m\n"
     ]
    },
    {
     "data": {
      "application/vnd.jupyter.widget-view+json": {
       "model_id": "c537f14477ef4bb6b62464e619cb6146",
       "version_major": 2,
       "version_minor": 0
      },
      "text/plain": [
       "  0%|          | 0/8 [00:00<?, ?it/s]"
      ]
     },
     "metadata": {},
     "output_type": "display_data"
    },
    {
     "name": "stdout",
     "output_type": "stream",
     "text": [
      "Epoch:332/1000.. Train Loss: 0.201.. Val Loss: 0.331.. Train mIoU:0.000.. Val mIoU: 0.000.. Train Acc:0.906.. Val Acc:0.835.. Time: 0.06m\n"
     ]
    },
    {
     "data": {
      "application/vnd.jupyter.widget-view+json": {
       "model_id": "f5cfe91c75af4fecb7962bc565976505",
       "version_major": 2,
       "version_minor": 0
      },
      "text/plain": [
       "  0%|          | 0/8 [00:00<?, ?it/s]"
      ]
     },
     "metadata": {},
     "output_type": "display_data"
    },
    {
     "name": "stdout",
     "output_type": "stream",
     "text": [
      "Epoch:333/1000.. Train Loss: 0.176.. Val Loss: 0.242.. Train mIoU:0.000.. Val mIoU: 0.000.. Train Acc:0.918.. Val Acc:0.871.. Time: 0.06m\n"
     ]
    },
    {
     "data": {
      "application/vnd.jupyter.widget-view+json": {
       "model_id": "8680df6622ef4c50a005305ac90e03ec",
       "version_major": 2,
       "version_minor": 0
      },
      "text/plain": [
       "  0%|          | 0/8 [00:00<?, ?it/s]"
      ]
     },
     "metadata": {},
     "output_type": "display_data"
    },
    {
     "name": "stdout",
     "output_type": "stream",
     "text": [
      "Epoch:334/1000.. Train Loss: 0.161.. Val Loss: 0.233.. Train mIoU:0.000.. Val mIoU: 0.000.. Train Acc:0.920.. Val Acc:0.871.. Time: 0.06m\n"
     ]
    },
    {
     "data": {
      "application/vnd.jupyter.widget-view+json": {
       "model_id": "3fed85de40c2422883f32dbd1ca09ba9",
       "version_major": 2,
       "version_minor": 0
      },
      "text/plain": [
       "  0%|          | 0/8 [00:00<?, ?it/s]"
      ]
     },
     "metadata": {},
     "output_type": "display_data"
    },
    {
     "name": "stdout",
     "output_type": "stream",
     "text": [
      "Epoch:335/1000.. Train Loss: 0.170.. Val Loss: 0.251.. Train mIoU:0.000.. Val mIoU: 0.000.. Train Acc:0.921.. Val Acc:0.863.. Time: 0.06m\n"
     ]
    },
    {
     "data": {
      "application/vnd.jupyter.widget-view+json": {
       "model_id": "b09d9cb963b54760a54134527d4f37e3",
       "version_major": 2,
       "version_minor": 0
      },
      "text/plain": [
       "  0%|          | 0/8 [00:00<?, ?it/s]"
      ]
     },
     "metadata": {},
     "output_type": "display_data"
    },
    {
     "name": "stdout",
     "output_type": "stream",
     "text": [
      "Epoch:336/1000.. Train Loss: 0.166.. Val Loss: 0.307.. Train mIoU:0.000.. Val mIoU: 0.000.. Train Acc:0.918.. Val Acc:0.829.. Time: 0.06m\n"
     ]
    },
    {
     "data": {
      "application/vnd.jupyter.widget-view+json": {
       "model_id": "a2029042a9094278b4bae94c64c0f4e3",
       "version_major": 2,
       "version_minor": 0
      },
      "text/plain": [
       "  0%|          | 0/8 [00:00<?, ?it/s]"
      ]
     },
     "metadata": {},
     "output_type": "display_data"
    },
    {
     "name": "stdout",
     "output_type": "stream",
     "text": [
      "Epoch:337/1000.. Train Loss: 0.183.. Val Loss: 0.256.. Train mIoU:0.000.. Val mIoU: 0.000.. Train Acc:0.918.. Val Acc:0.869.. Time: 0.06m\n"
     ]
    },
    {
     "data": {
      "application/vnd.jupyter.widget-view+json": {
       "model_id": "2227322afd4245f2bd4f48fcd0bb7ee7",
       "version_major": 2,
       "version_minor": 0
      },
      "text/plain": [
       "  0%|          | 0/8 [00:00<?, ?it/s]"
      ]
     },
     "metadata": {},
     "output_type": "display_data"
    },
    {
     "name": "stdout",
     "output_type": "stream",
     "text": [
      "Epoch:338/1000.. Train Loss: 0.188.. Val Loss: 0.327.. Train mIoU:0.000.. Val mIoU: 0.000.. Train Acc:0.919.. Val Acc:0.814.. Time: 0.06m\n"
     ]
    },
    {
     "data": {
      "application/vnd.jupyter.widget-view+json": {
       "model_id": "2bbde34f0bdc426e979a168d5e97a9d4",
       "version_major": 2,
       "version_minor": 0
      },
      "text/plain": [
       "  0%|          | 0/8 [00:00<?, ?it/s]"
      ]
     },
     "metadata": {},
     "output_type": "display_data"
    },
    {
     "name": "stdout",
     "output_type": "stream",
     "text": [
      "Epoch:339/1000.. Train Loss: 0.163.. Val Loss: 0.325.. Train mIoU:0.000.. Val mIoU: 0.000.. Train Acc:0.919.. Val Acc:0.835.. Time: 0.06m\n"
     ]
    },
    {
     "data": {
      "application/vnd.jupyter.widget-view+json": {
       "model_id": "2f27dc20dd4d41e6b16b17fc3a5debe8",
       "version_major": 2,
       "version_minor": 0
      },
      "text/plain": [
       "  0%|          | 0/8 [00:00<?, ?it/s]"
      ]
     },
     "metadata": {},
     "output_type": "display_data"
    },
    {
     "name": "stdout",
     "output_type": "stream",
     "text": [
      "Epoch:340/1000.. Train Loss: 0.155.. Val Loss: 0.234.. Train mIoU:0.000.. Val mIoU: 0.000.. Train Acc:0.919.. Val Acc:0.874.. Time: 0.06m\n"
     ]
    },
    {
     "data": {
      "application/vnd.jupyter.widget-view+json": {
       "model_id": "a94edba2b0f84c338a6c8a840a3af2e1",
       "version_major": 2,
       "version_minor": 0
      },
      "text/plain": [
       "  0%|          | 0/8 [00:00<?, ?it/s]"
      ]
     },
     "metadata": {},
     "output_type": "display_data"
    },
    {
     "name": "stdout",
     "output_type": "stream",
     "text": [
      "Epoch:341/1000.. Train Loss: 0.148.. Val Loss: 0.261.. Train mIoU:0.000.. Val mIoU: 0.000.. Train Acc:0.926.. Val Acc:0.869.. Time: 0.06m\n"
     ]
    },
    {
     "data": {
      "application/vnd.jupyter.widget-view+json": {
       "model_id": "1ff2c64cecf749f390d6df0eafa54945",
       "version_major": 2,
       "version_minor": 0
      },
      "text/plain": [
       "  0%|          | 0/8 [00:00<?, ?it/s]"
      ]
     },
     "metadata": {},
     "output_type": "display_data"
    },
    {
     "name": "stdout",
     "output_type": "stream",
     "text": [
      "Epoch:342/1000.. Train Loss: 0.151.. Val Loss: 0.302.. Train mIoU:0.000.. Val mIoU: 0.000.. Train Acc:0.924.. Val Acc:0.832.. Time: 0.06m\n"
     ]
    },
    {
     "data": {
      "application/vnd.jupyter.widget-view+json": {
       "model_id": "b9c860b780a747c895fdde5fd2a61d96",
       "version_major": 2,
       "version_minor": 0
      },
      "text/plain": [
       "  0%|          | 0/8 [00:00<?, ?it/s]"
      ]
     },
     "metadata": {},
     "output_type": "display_data"
    },
    {
     "name": "stdout",
     "output_type": "stream",
     "text": [
      "Epoch:343/1000.. Train Loss: 0.157.. Val Loss: 0.238.. Train mIoU:0.000.. Val mIoU: 0.000.. Train Acc:0.919.. Val Acc:0.867.. Time: 0.06m\n"
     ]
    },
    {
     "data": {
      "application/vnd.jupyter.widget-view+json": {
       "model_id": "62873cfbbf61430887e283cc36761c3a",
       "version_major": 2,
       "version_minor": 0
      },
      "text/plain": [
       "  0%|          | 0/8 [00:00<?, ?it/s]"
      ]
     },
     "metadata": {},
     "output_type": "display_data"
    },
    {
     "name": "stdout",
     "output_type": "stream",
     "text": [
      "Epoch:344/1000.. Train Loss: 0.153.. Val Loss: 0.317.. Train mIoU:0.000.. Val mIoU: 0.000.. Train Acc:0.921.. Val Acc:0.831.. Time: 0.06m\n"
     ]
    },
    {
     "data": {
      "application/vnd.jupyter.widget-view+json": {
       "model_id": "759e11c2fe814e448cf7bd009465f6d6",
       "version_major": 2,
       "version_minor": 0
      },
      "text/plain": [
       "  0%|          | 0/8 [00:00<?, ?it/s]"
      ]
     },
     "metadata": {},
     "output_type": "display_data"
    },
    {
     "name": "stdout",
     "output_type": "stream",
     "text": [
      "Epoch:345/1000.. Train Loss: 0.161.. Val Loss: 0.251.. Train mIoU:0.000.. Val mIoU: 0.000.. Train Acc:0.919.. Val Acc:0.864.. Time: 0.06m\n"
     ]
    },
    {
     "data": {
      "application/vnd.jupyter.widget-view+json": {
       "model_id": "705b60f632ce4cb0a0e0a8000e0c3722",
       "version_major": 2,
       "version_minor": 0
      },
      "text/plain": [
       "  0%|          | 0/8 [00:00<?, ?it/s]"
      ]
     },
     "metadata": {},
     "output_type": "display_data"
    },
    {
     "name": "stdout",
     "output_type": "stream",
     "text": [
      "Epoch:346/1000.. Train Loss: 0.158.. Val Loss: 0.248.. Train mIoU:0.000.. Val mIoU: 0.000.. Train Acc:0.920.. Val Acc:0.869.. Time: 0.07m\n"
     ]
    },
    {
     "data": {
      "application/vnd.jupyter.widget-view+json": {
       "model_id": "7f18bff6a38741e1ba07bddbb19c7d33",
       "version_major": 2,
       "version_minor": 0
      },
      "text/plain": [
       "  0%|          | 0/8 [00:00<?, ?it/s]"
      ]
     },
     "metadata": {},
     "output_type": "display_data"
    },
    {
     "name": "stdout",
     "output_type": "stream",
     "text": [
      "Epoch:347/1000.. Train Loss: 0.153.. Val Loss: 0.226.. Train mIoU:0.000.. Val mIoU: 0.000.. Train Acc:0.923.. Val Acc:0.868.. Time: 0.06m\n"
     ]
    },
    {
     "data": {
      "application/vnd.jupyter.widget-view+json": {
       "model_id": "3e65717529394184a96946beb2609be6",
       "version_major": 2,
       "version_minor": 0
      },
      "text/plain": [
       "  0%|          | 0/8 [00:00<?, ?it/s]"
      ]
     },
     "metadata": {},
     "output_type": "display_data"
    },
    {
     "name": "stdout",
     "output_type": "stream",
     "text": [
      "Epoch:348/1000.. Train Loss: 0.154.. Val Loss: 0.663.. Train mIoU:0.000.. Val mIoU: 0.000.. Train Acc:0.921.. Val Acc:0.811.. Time: 0.06m\n"
     ]
    },
    {
     "data": {
      "application/vnd.jupyter.widget-view+json": {
       "model_id": "27a6bf1c818f4202bde76aca36922e09",
       "version_major": 2,
       "version_minor": 0
      },
      "text/plain": [
       "  0%|          | 0/8 [00:00<?, ?it/s]"
      ]
     },
     "metadata": {},
     "output_type": "display_data"
    },
    {
     "name": "stdout",
     "output_type": "stream",
     "text": [
      "Epoch:349/1000.. Train Loss: 0.162.. Val Loss: 0.256.. Train mIoU:0.000.. Val mIoU: 0.000.. Train Acc:0.919.. Val Acc:0.870.. Time: 0.07m\n"
     ]
    },
    {
     "data": {
      "application/vnd.jupyter.widget-view+json": {
       "model_id": "fc39d7a317b749e68623d483193d4c15",
       "version_major": 2,
       "version_minor": 0
      },
      "text/plain": [
       "  0%|          | 0/8 [00:00<?, ?it/s]"
      ]
     },
     "metadata": {},
     "output_type": "display_data"
    },
    {
     "name": "stdout",
     "output_type": "stream",
     "text": [
      "Epoch:350/1000.. Train Loss: 0.171.. Val Loss: 0.301.. Train mIoU:0.000.. Val mIoU: 0.000.. Train Acc:0.921.. Val Acc:0.841.. Time: 0.07m\n"
     ]
    },
    {
     "data": {
      "application/vnd.jupyter.widget-view+json": {
       "model_id": "141c539d071f4473bcd4c9bc13769dc7",
       "version_major": 2,
       "version_minor": 0
      },
      "text/plain": [
       "  0%|          | 0/8 [00:00<?, ?it/s]"
      ]
     },
     "metadata": {},
     "output_type": "display_data"
    },
    {
     "name": "stdout",
     "output_type": "stream",
     "text": [
      "Epoch:351/1000.. Train Loss: 0.150.. Val Loss: 0.317.. Train mIoU:0.000.. Val mIoU: 0.000.. Train Acc:0.923.. Val Acc:0.835.. Time: 0.07m\n"
     ]
    },
    {
     "data": {
      "application/vnd.jupyter.widget-view+json": {
       "model_id": "1a9de134b4794b0e9132368142f0445d",
       "version_major": 2,
       "version_minor": 0
      },
      "text/plain": [
       "  0%|          | 0/8 [00:00<?, ?it/s]"
      ]
     },
     "metadata": {},
     "output_type": "display_data"
    },
    {
     "name": "stdout",
     "output_type": "stream",
     "text": [
      "Epoch:352/1000.. Train Loss: 0.149.. Val Loss: 0.241.. Train mIoU:0.000.. Val mIoU: 0.000.. Train Acc:0.925.. Val Acc:0.875.. Time: 0.06m\n"
     ]
    },
    {
     "data": {
      "application/vnd.jupyter.widget-view+json": {
       "model_id": "f4a7990e7250480d85f187aa643cc04e",
       "version_major": 2,
       "version_minor": 0
      },
      "text/plain": [
       "  0%|          | 0/8 [00:00<?, ?it/s]"
      ]
     },
     "metadata": {},
     "output_type": "display_data"
    },
    {
     "name": "stdout",
     "output_type": "stream",
     "text": [
      "Epoch:353/1000.. Train Loss: 0.173.. Val Loss: 0.366.. Train mIoU:0.000.. Val mIoU: 0.000.. Train Acc:0.924.. Val Acc:0.805.. Time: 0.06m\n"
     ]
    },
    {
     "data": {
      "application/vnd.jupyter.widget-view+json": {
       "model_id": "369448016c2b462ba10fbc1909735c78",
       "version_major": 2,
       "version_minor": 0
      },
      "text/plain": [
       "  0%|          | 0/8 [00:00<?, ?it/s]"
      ]
     },
     "metadata": {},
     "output_type": "display_data"
    },
    {
     "name": "stdout",
     "output_type": "stream",
     "text": [
      "Epoch:354/1000.. Train Loss: 0.160.. Val Loss: 0.296.. Train mIoU:0.000.. Val mIoU: 0.000.. Train Acc:0.920.. Val Acc:0.827.. Time: 0.06m\n"
     ]
    },
    {
     "data": {
      "application/vnd.jupyter.widget-view+json": {
       "model_id": "78408554ec5e4d13a421fcf176ffa7eb",
       "version_major": 2,
       "version_minor": 0
      },
      "text/plain": [
       "  0%|          | 0/8 [00:00<?, ?it/s]"
      ]
     },
     "metadata": {},
     "output_type": "display_data"
    },
    {
     "name": "stdout",
     "output_type": "stream",
     "text": [
      "Epoch:355/1000.. Train Loss: 0.172.. Val Loss: 0.318.. Train mIoU:0.000.. Val mIoU: 0.000.. Train Acc:0.915.. Val Acc:0.821.. Time: 0.06m\n"
     ]
    },
    {
     "data": {
      "application/vnd.jupyter.widget-view+json": {
       "model_id": "fb42e5c65fce440085e8ff4cf4e43adf",
       "version_major": 2,
       "version_minor": 0
      },
      "text/plain": [
       "  0%|          | 0/8 [00:00<?, ?it/s]"
      ]
     },
     "metadata": {},
     "output_type": "display_data"
    },
    {
     "name": "stdout",
     "output_type": "stream",
     "text": [
      "Epoch:356/1000.. Train Loss: 0.162.. Val Loss: 0.233.. Train mIoU:0.000.. Val mIoU: 0.000.. Train Acc:0.918.. Val Acc:0.871.. Time: 0.06m\n"
     ]
    },
    {
     "data": {
      "application/vnd.jupyter.widget-view+json": {
       "model_id": "0c1b447f8d1c4151884c49d1d0212c41",
       "version_major": 2,
       "version_minor": 0
      },
      "text/plain": [
       "  0%|          | 0/8 [00:00<?, ?it/s]"
      ]
     },
     "metadata": {},
     "output_type": "display_data"
    },
    {
     "name": "stdout",
     "output_type": "stream",
     "text": [
      "Epoch:357/1000.. Train Loss: 0.163.. Val Loss: 0.237.. Train mIoU:0.000.. Val mIoU: 0.000.. Train Acc:0.914.. Val Acc:0.870.. Time: 0.06m\n"
     ]
    },
    {
     "data": {
      "application/vnd.jupyter.widget-view+json": {
       "model_id": "cbbc8d45f65847e88de715accdf7071e",
       "version_major": 2,
       "version_minor": 0
      },
      "text/plain": [
       "  0%|          | 0/8 [00:00<?, ?it/s]"
      ]
     },
     "metadata": {},
     "output_type": "display_data"
    },
    {
     "name": "stdout",
     "output_type": "stream",
     "text": [
      "Epoch:358/1000.. Train Loss: 0.153.. Val Loss: 0.237.. Train mIoU:0.000.. Val mIoU: 0.000.. Train Acc:0.922.. Val Acc:0.872.. Time: 0.06m\n"
     ]
    },
    {
     "data": {
      "application/vnd.jupyter.widget-view+json": {
       "model_id": "f825562e084b48deb7a58393dd10a09f",
       "version_major": 2,
       "version_minor": 0
      },
      "text/plain": [
       "  0%|          | 0/8 [00:00<?, ?it/s]"
      ]
     },
     "metadata": {},
     "output_type": "display_data"
    },
    {
     "name": "stdout",
     "output_type": "stream",
     "text": [
      "Epoch:359/1000.. Train Loss: 0.161.. Val Loss: 0.312.. Train mIoU:0.000.. Val mIoU: 0.000.. Train Acc:0.918.. Val Acc:0.824.. Time: 0.06m\n"
     ]
    },
    {
     "data": {
      "application/vnd.jupyter.widget-view+json": {
       "model_id": "9d7479c93aeb4b6a8d8ecb68ecf50e66",
       "version_major": 2,
       "version_minor": 0
      },
      "text/plain": [
       "  0%|          | 0/8 [00:00<?, ?it/s]"
      ]
     },
     "metadata": {},
     "output_type": "display_data"
    },
    {
     "name": "stdout",
     "output_type": "stream",
     "text": [
      "Epoch:360/1000.. Train Loss: 0.153.. Val Loss: 0.300.. Train mIoU:0.000.. Val mIoU: 0.000.. Train Acc:0.921.. Val Acc:0.828.. Time: 0.06m\n"
     ]
    },
    {
     "data": {
      "application/vnd.jupyter.widget-view+json": {
       "model_id": "771262b2f99d492891d730136748556e",
       "version_major": 2,
       "version_minor": 0
      },
      "text/plain": [
       "  0%|          | 0/8 [00:00<?, ?it/s]"
      ]
     },
     "metadata": {},
     "output_type": "display_data"
    },
    {
     "name": "stdout",
     "output_type": "stream",
     "text": [
      "Epoch:361/1000.. Train Loss: 0.148.. Val Loss: 0.306.. Train mIoU:0.000.. Val mIoU: 0.000.. Train Acc:0.924.. Val Acc:0.835.. Time: 0.06m\n"
     ]
    },
    {
     "data": {
      "application/vnd.jupyter.widget-view+json": {
       "model_id": "4996f80f4a0d4927be733cade47a15b7",
       "version_major": 2,
       "version_minor": 0
      },
      "text/plain": [
       "  0%|          | 0/8 [00:00<?, ?it/s]"
      ]
     },
     "metadata": {},
     "output_type": "display_data"
    },
    {
     "name": "stdout",
     "output_type": "stream",
     "text": [
      "Epoch:362/1000.. Train Loss: 0.150.. Val Loss: 0.296.. Train mIoU:0.000.. Val mIoU: 0.000.. Train Acc:0.924.. Val Acc:0.829.. Time: 0.07m\n"
     ]
    },
    {
     "data": {
      "application/vnd.jupyter.widget-view+json": {
       "model_id": "5d621cadb3394f44b25b3280a1ff77f5",
       "version_major": 2,
       "version_minor": 0
      },
      "text/plain": [
       "  0%|          | 0/8 [00:00<?, ?it/s]"
      ]
     },
     "metadata": {},
     "output_type": "display_data"
    },
    {
     "name": "stdout",
     "output_type": "stream",
     "text": [
      "Epoch:363/1000.. Train Loss: 0.150.. Val Loss: 0.230.. Train mIoU:0.000.. Val mIoU: 0.000.. Train Acc:0.921.. Val Acc:0.874.. Time: 0.07m\n"
     ]
    },
    {
     "data": {
      "application/vnd.jupyter.widget-view+json": {
       "model_id": "2e30d9bd81004936b57c2d27d085618f",
       "version_major": 2,
       "version_minor": 0
      },
      "text/plain": [
       "  0%|          | 0/8 [00:00<?, ?it/s]"
      ]
     },
     "metadata": {},
     "output_type": "display_data"
    },
    {
     "name": "stdout",
     "output_type": "stream",
     "text": [
      "Epoch:364/1000.. Train Loss: 0.178.. Val Loss: 0.286.. Train mIoU:0.000.. Val mIoU: 0.000.. Train Acc:0.916.. Val Acc:0.844.. Time: 0.07m\n"
     ]
    },
    {
     "data": {
      "application/vnd.jupyter.widget-view+json": {
       "model_id": "86a1d5ecb9534799ae9230f9ce4d3578",
       "version_major": 2,
       "version_minor": 0
      },
      "text/plain": [
       "  0%|          | 0/8 [00:00<?, ?it/s]"
      ]
     },
     "metadata": {},
     "output_type": "display_data"
    },
    {
     "name": "stdout",
     "output_type": "stream",
     "text": [
      "Epoch:365/1000.. Train Loss: 0.159.. Val Loss: 0.273.. Train mIoU:0.000.. Val mIoU: 0.000.. Train Acc:0.920.. Val Acc:0.868.. Time: 0.06m\n"
     ]
    },
    {
     "data": {
      "application/vnd.jupyter.widget-view+json": {
       "model_id": "b72ec3cac6294ce4911716090888add0",
       "version_major": 2,
       "version_minor": 0
      },
      "text/plain": [
       "  0%|          | 0/8 [00:00<?, ?it/s]"
      ]
     },
     "metadata": {},
     "output_type": "display_data"
    },
    {
     "name": "stdout",
     "output_type": "stream",
     "text": [
      "Epoch:366/1000.. Train Loss: 0.153.. Val Loss: 0.258.. Train mIoU:0.000.. Val mIoU: 0.000.. Train Acc:0.919.. Val Acc:0.871.. Time: 0.06m\n"
     ]
    },
    {
     "data": {
      "application/vnd.jupyter.widget-view+json": {
       "model_id": "20b8fcb4ecf446689ab23bfe482c8ddf",
       "version_major": 2,
       "version_minor": 0
      },
      "text/plain": [
       "  0%|          | 0/8 [00:00<?, ?it/s]"
      ]
     },
     "metadata": {},
     "output_type": "display_data"
    },
    {
     "name": "stdout",
     "output_type": "stream",
     "text": [
      "Epoch:367/1000.. Train Loss: 0.146.. Val Loss: 0.246.. Train mIoU:0.000.. Val mIoU: 0.000.. Train Acc:0.926.. Val Acc:0.872.. Time: 0.06m\n"
     ]
    },
    {
     "data": {
      "application/vnd.jupyter.widget-view+json": {
       "model_id": "9e02e84d9ce74570be0c6511cdee19e3",
       "version_major": 2,
       "version_minor": 0
      },
      "text/plain": [
       "  0%|          | 0/8 [00:00<?, ?it/s]"
      ]
     },
     "metadata": {},
     "output_type": "display_data"
    },
    {
     "name": "stdout",
     "output_type": "stream",
     "text": [
      "Epoch:368/1000.. Train Loss: 0.145.. Val Loss: 0.241.. Train mIoU:0.000.. Val mIoU: 0.000.. Train Acc:0.926.. Val Acc:0.865.. Time: 0.06m\n"
     ]
    },
    {
     "data": {
      "application/vnd.jupyter.widget-view+json": {
       "model_id": "e945fa751e7743f18b66f1c84c7b9f76",
       "version_major": 2,
       "version_minor": 0
      },
      "text/plain": [
       "  0%|          | 0/8 [00:00<?, ?it/s]"
      ]
     },
     "metadata": {},
     "output_type": "display_data"
    },
    {
     "name": "stdout",
     "output_type": "stream",
     "text": [
      "Epoch:369/1000.. Train Loss: 0.151.. Val Loss: 0.285.. Train mIoU:0.000.. Val mIoU: 0.000.. Train Acc:0.921.. Val Acc:0.845.. Time: 0.06m\n"
     ]
    },
    {
     "data": {
      "application/vnd.jupyter.widget-view+json": {
       "model_id": "cf9e8691a2914dc1a456afe4e9626150",
       "version_major": 2,
       "version_minor": 0
      },
      "text/plain": [
       "  0%|          | 0/8 [00:00<?, ?it/s]"
      ]
     },
     "metadata": {},
     "output_type": "display_data"
    },
    {
     "name": "stdout",
     "output_type": "stream",
     "text": [
      "Epoch:370/1000.. Train Loss: 0.147.. Val Loss: 0.314.. Train mIoU:0.000.. Val mIoU: 0.000.. Train Acc:0.925.. Val Acc:0.812.. Time: 0.06m\n"
     ]
    },
    {
     "data": {
      "application/vnd.jupyter.widget-view+json": {
       "model_id": "e77a763b64084f1ca80cb71ff7041a77",
       "version_major": 2,
       "version_minor": 0
      },
      "text/plain": [
       "  0%|          | 0/8 [00:00<?, ?it/s]"
      ]
     },
     "metadata": {},
     "output_type": "display_data"
    },
    {
     "name": "stdout",
     "output_type": "stream",
     "text": [
      "Epoch:371/1000.. Train Loss: 0.155.. Val Loss: 0.261.. Train mIoU:0.000.. Val mIoU: 0.000.. Train Acc:0.921.. Val Acc:0.861.. Time: 0.06m\n"
     ]
    },
    {
     "data": {
      "application/vnd.jupyter.widget-view+json": {
       "model_id": "b527ab1f43d947309c4322b290972955",
       "version_major": 2,
       "version_minor": 0
      },
      "text/plain": [
       "  0%|          | 0/8 [00:00<?, ?it/s]"
      ]
     },
     "metadata": {},
     "output_type": "display_data"
    },
    {
     "name": "stdout",
     "output_type": "stream",
     "text": [
      "Epoch:372/1000.. Train Loss: 0.152.. Val Loss: 0.320.. Train mIoU:0.000.. Val mIoU: 0.000.. Train Acc:0.924.. Val Acc:0.821.. Time: 0.06m\n"
     ]
    },
    {
     "data": {
      "application/vnd.jupyter.widget-view+json": {
       "model_id": "a821c557adec4e77b8ab16d1fd8f2698",
       "version_major": 2,
       "version_minor": 0
      },
      "text/plain": [
       "  0%|          | 0/8 [00:00<?, ?it/s]"
      ]
     },
     "metadata": {},
     "output_type": "display_data"
    },
    {
     "name": "stdout",
     "output_type": "stream",
     "text": [
      "Epoch:373/1000.. Train Loss: 0.152.. Val Loss: 0.293.. Train mIoU:0.000.. Val mIoU: 0.000.. Train Acc:0.922.. Val Acc:0.832.. Time: 0.07m\n"
     ]
    },
    {
     "data": {
      "application/vnd.jupyter.widget-view+json": {
       "model_id": "a11f659fb62e4a93be0ad827a05ec4ee",
       "version_major": 2,
       "version_minor": 0
      },
      "text/plain": [
       "  0%|          | 0/8 [00:00<?, ?it/s]"
      ]
     },
     "metadata": {},
     "output_type": "display_data"
    },
    {
     "name": "stdout",
     "output_type": "stream",
     "text": [
      "Epoch:374/1000.. Train Loss: 0.149.. Val Loss: 0.237.. Train mIoU:0.000.. Val mIoU: 0.000.. Train Acc:0.923.. Val Acc:0.870.. Time: 0.07m\n"
     ]
    },
    {
     "data": {
      "application/vnd.jupyter.widget-view+json": {
       "model_id": "99c81d074f854079882eca851751569c",
       "version_major": 2,
       "version_minor": 0
      },
      "text/plain": [
       "  0%|          | 0/8 [00:00<?, ?it/s]"
      ]
     },
     "metadata": {},
     "output_type": "display_data"
    },
    {
     "name": "stdout",
     "output_type": "stream",
     "text": [
      "Epoch:375/1000.. Train Loss: 0.145.. Val Loss: 0.235.. Train mIoU:0.000.. Val mIoU: 0.000.. Train Acc:0.925.. Val Acc:0.870.. Time: 0.07m\n"
     ]
    },
    {
     "data": {
      "application/vnd.jupyter.widget-view+json": {
       "model_id": "9d05bbcf589d49c8ae5f9f5b42870156",
       "version_major": 2,
       "version_minor": 0
      },
      "text/plain": [
       "  0%|          | 0/8 [00:00<?, ?it/s]"
      ]
     },
     "metadata": {},
     "output_type": "display_data"
    },
    {
     "name": "stdout",
     "output_type": "stream",
     "text": [
      "Epoch:376/1000.. Train Loss: 0.150.. Val Loss: 0.268.. Train mIoU:0.000.. Val mIoU: 0.000.. Train Acc:0.921.. Val Acc:0.867.. Time: 0.07m\n"
     ]
    },
    {
     "data": {
      "application/vnd.jupyter.widget-view+json": {
       "model_id": "6598de83459243d183656ff7368bb9e6",
       "version_major": 2,
       "version_minor": 0
      },
      "text/plain": [
       "  0%|          | 0/8 [00:00<?, ?it/s]"
      ]
     },
     "metadata": {},
     "output_type": "display_data"
    },
    {
     "name": "stdout",
     "output_type": "stream",
     "text": [
      "Epoch:377/1000.. Train Loss: 0.147.. Val Loss: 0.233.. Train mIoU:0.000.. Val mIoU: 0.000.. Train Acc:0.923.. Val Acc:0.866.. Time: 0.06m\n"
     ]
    },
    {
     "data": {
      "application/vnd.jupyter.widget-view+json": {
       "model_id": "b4e80629823e4e30b8f957ef1c067c3f",
       "version_major": 2,
       "version_minor": 0
      },
      "text/plain": [
       "  0%|          | 0/8 [00:00<?, ?it/s]"
      ]
     },
     "metadata": {},
     "output_type": "display_data"
    },
    {
     "name": "stdout",
     "output_type": "stream",
     "text": [
      "Epoch:378/1000.. Train Loss: 0.147.. Val Loss: 0.283.. Train mIoU:0.000.. Val mIoU: 0.000.. Train Acc:0.925.. Val Acc:0.848.. Time: 0.06m\n"
     ]
    },
    {
     "data": {
      "application/vnd.jupyter.widget-view+json": {
       "model_id": "298ee20d31594201a644ff70a31c0010",
       "version_major": 2,
       "version_minor": 0
      },
      "text/plain": [
       "  0%|          | 0/8 [00:00<?, ?it/s]"
      ]
     },
     "metadata": {},
     "output_type": "display_data"
    },
    {
     "name": "stdout",
     "output_type": "stream",
     "text": [
      "Epoch:379/1000.. Train Loss: 0.169.. Val Loss: 0.290.. Train mIoU:0.000.. Val mIoU: 0.000.. Train Acc:0.925.. Val Acc:0.864.. Time: 0.06m\n"
     ]
    },
    {
     "data": {
      "application/vnd.jupyter.widget-view+json": {
       "model_id": "08da11e862864959966f2472d85b6269",
       "version_major": 2,
       "version_minor": 0
      },
      "text/plain": [
       "  0%|          | 0/8 [00:00<?, ?it/s]"
      ]
     },
     "metadata": {},
     "output_type": "display_data"
    },
    {
     "name": "stdout",
     "output_type": "stream",
     "text": [
      "Epoch:380/1000.. Train Loss: 0.157.. Val Loss: 0.266.. Train mIoU:0.000.. Val mIoU: 0.000.. Train Acc:0.923.. Val Acc:0.867.. Time: 0.06m\n"
     ]
    },
    {
     "data": {
      "application/vnd.jupyter.widget-view+json": {
       "model_id": "f33b90a1b9984a90b58b59931c037b73",
       "version_major": 2,
       "version_minor": 0
      },
      "text/plain": [
       "  0%|          | 0/8 [00:00<?, ?it/s]"
      ]
     },
     "metadata": {},
     "output_type": "display_data"
    },
    {
     "name": "stdout",
     "output_type": "stream",
     "text": [
      "Epoch:381/1000.. Train Loss: 0.151.. Val Loss: 0.278.. Train mIoU:0.000.. Val mIoU: 0.000.. Train Acc:0.925.. Val Acc:0.867.. Time: 0.06m\n"
     ]
    },
    {
     "data": {
      "application/vnd.jupyter.widget-view+json": {
       "model_id": "bdb026ce85a047d6919f072b32fa0d2f",
       "version_major": 2,
       "version_minor": 0
      },
      "text/plain": [
       "  0%|          | 0/8 [00:00<?, ?it/s]"
      ]
     },
     "metadata": {},
     "output_type": "display_data"
    },
    {
     "name": "stdout",
     "output_type": "stream",
     "text": [
      "Epoch:382/1000.. Train Loss: 0.154.. Val Loss: 0.284.. Train mIoU:0.000.. Val mIoU: 0.000.. Train Acc:0.925.. Val Acc:0.870.. Time: 0.06m\n"
     ]
    },
    {
     "data": {
      "application/vnd.jupyter.widget-view+json": {
       "model_id": "a828ec04604d43fd95aeaab2d767f98e",
       "version_major": 2,
       "version_minor": 0
      },
      "text/plain": [
       "  0%|          | 0/8 [00:00<?, ?it/s]"
      ]
     },
     "metadata": {},
     "output_type": "display_data"
    },
    {
     "name": "stdout",
     "output_type": "stream",
     "text": [
      "Epoch:383/1000.. Train Loss: 0.147.. Val Loss: 0.238.. Train mIoU:0.000.. Val mIoU: 0.000.. Train Acc:0.926.. Val Acc:0.868.. Time: 0.06m\n"
     ]
    },
    {
     "data": {
      "application/vnd.jupyter.widget-view+json": {
       "model_id": "013d680b6ae34fe9bb4f9fc11695928c",
       "version_major": 2,
       "version_minor": 0
      },
      "text/plain": [
       "  0%|          | 0/8 [00:00<?, ?it/s]"
      ]
     },
     "metadata": {},
     "output_type": "display_data"
    },
    {
     "name": "stdout",
     "output_type": "stream",
     "text": [
      "Epoch:384/1000.. Train Loss: 0.148.. Val Loss: 0.234.. Train mIoU:0.000.. Val mIoU: 0.000.. Train Acc:0.924.. Val Acc:0.871.. Time: 0.06m\n"
     ]
    },
    {
     "data": {
      "application/vnd.jupyter.widget-view+json": {
       "model_id": "8c16f0de7ac04475ad4b3a4fc27884a6",
       "version_major": 2,
       "version_minor": 0
      },
      "text/plain": [
       "  0%|          | 0/8 [00:00<?, ?it/s]"
      ]
     },
     "metadata": {},
     "output_type": "display_data"
    },
    {
     "name": "stdout",
     "output_type": "stream",
     "text": [
      "Epoch:385/1000.. Train Loss: 0.150.. Val Loss: 0.313.. Train mIoU:0.000.. Val mIoU: 0.000.. Train Acc:0.923.. Val Acc:0.846.. Time: 0.06m\n"
     ]
    },
    {
     "data": {
      "application/vnd.jupyter.widget-view+json": {
       "model_id": "f5ffa6c8e3c84a8a92a36e84dec552e8",
       "version_major": 2,
       "version_minor": 0
      },
      "text/plain": [
       "  0%|          | 0/8 [00:00<?, ?it/s]"
      ]
     },
     "metadata": {},
     "output_type": "display_data"
    },
    {
     "name": "stdout",
     "output_type": "stream",
     "text": [
      "Epoch:386/1000.. Train Loss: 0.162.. Val Loss: 0.231.. Train mIoU:0.000.. Val mIoU: 0.000.. Train Acc:0.918.. Val Acc:0.867.. Time: 0.06m\n"
     ]
    },
    {
     "data": {
      "application/vnd.jupyter.widget-view+json": {
       "model_id": "3787a714797a43338c9da63dd60b0c4f",
       "version_major": 2,
       "version_minor": 0
      },
      "text/plain": [
       "  0%|          | 0/8 [00:00<?, ?it/s]"
      ]
     },
     "metadata": {},
     "output_type": "display_data"
    },
    {
     "name": "stdout",
     "output_type": "stream",
     "text": [
      "Epoch:387/1000.. Train Loss: 0.151.. Val Loss: 0.313.. Train mIoU:0.000.. Val mIoU: 0.000.. Train Acc:0.922.. Val Acc:0.805.. Time: 0.06m\n"
     ]
    },
    {
     "data": {
      "application/vnd.jupyter.widget-view+json": {
       "model_id": "b7145a31966a4cd5b799e157be009bd8",
       "version_major": 2,
       "version_minor": 0
      },
      "text/plain": [
       "  0%|          | 0/8 [00:00<?, ?it/s]"
      ]
     },
     "metadata": {},
     "output_type": "display_data"
    },
    {
     "name": "stdout",
     "output_type": "stream",
     "text": [
      "Epoch:388/1000.. Train Loss: 0.149.. Val Loss: 0.299.. Train mIoU:0.000.. Val mIoU: 0.000.. Train Acc:0.924.. Val Acc:0.864.. Time: 0.06m\n"
     ]
    },
    {
     "data": {
      "application/vnd.jupyter.widget-view+json": {
       "model_id": "ab0f133b9a774b58acecb1ad386685f3",
       "version_major": 2,
       "version_minor": 0
      },
      "text/plain": [
       "  0%|          | 0/8 [00:00<?, ?it/s]"
      ]
     },
     "metadata": {},
     "output_type": "display_data"
    },
    {
     "name": "stdout",
     "output_type": "stream",
     "text": [
      "Epoch:389/1000.. Train Loss: 0.152.. Val Loss: 0.262.. Train mIoU:0.000.. Val mIoU: 0.000.. Train Acc:0.922.. Val Acc:0.870.. Time: 0.06m\n"
     ]
    },
    {
     "data": {
      "application/vnd.jupyter.widget-view+json": {
       "model_id": "8f7d42c4d84e458eb141a0c19467027a",
       "version_major": 2,
       "version_minor": 0
      },
      "text/plain": [
       "  0%|          | 0/8 [00:00<?, ?it/s]"
      ]
     },
     "metadata": {},
     "output_type": "display_data"
    },
    {
     "name": "stdout",
     "output_type": "stream",
     "text": [
      "Epoch:390/1000.. Train Loss: 0.145.. Val Loss: 0.320.. Train mIoU:0.000.. Val mIoU: 0.000.. Train Acc:0.926.. Val Acc:0.828.. Time: 0.06m\n"
     ]
    },
    {
     "data": {
      "application/vnd.jupyter.widget-view+json": {
       "model_id": "72e877bad4924c659ca0c68a9e1f73eb",
       "version_major": 2,
       "version_minor": 0
      },
      "text/plain": [
       "  0%|          | 0/8 [00:00<?, ?it/s]"
      ]
     },
     "metadata": {},
     "output_type": "display_data"
    },
    {
     "name": "stdout",
     "output_type": "stream",
     "text": [
      "Epoch:391/1000.. Train Loss: 0.144.. Val Loss: 0.243.. Train mIoU:0.000.. Val mIoU: 0.000.. Train Acc:0.926.. Val Acc:0.869.. Time: 0.06m\n"
     ]
    },
    {
     "data": {
      "application/vnd.jupyter.widget-view+json": {
       "model_id": "a61e935617654c7099f40fc382a498fd",
       "version_major": 2,
       "version_minor": 0
      },
      "text/plain": [
       "  0%|          | 0/8 [00:00<?, ?it/s]"
      ]
     },
     "metadata": {},
     "output_type": "display_data"
    },
    {
     "name": "stdout",
     "output_type": "stream",
     "text": [
      "Epoch:392/1000.. Train Loss: 0.150.. Val Loss: 0.320.. Train mIoU:0.000.. Val mIoU: 0.000.. Train Acc:0.923.. Val Acc:0.818.. Time: 0.06m\n"
     ]
    },
    {
     "data": {
      "application/vnd.jupyter.widget-view+json": {
       "model_id": "ca29bc5d6abb48b1a2eb934e8ac22721",
       "version_major": 2,
       "version_minor": 0
      },
      "text/plain": [
       "  0%|          | 0/8 [00:00<?, ?it/s]"
      ]
     },
     "metadata": {},
     "output_type": "display_data"
    },
    {
     "name": "stdout",
     "output_type": "stream",
     "text": [
      "Epoch:393/1000.. Train Loss: 0.147.. Val Loss: 0.229.. Train mIoU:0.000.. Val mIoU: 0.000.. Train Acc:0.926.. Val Acc:0.873.. Time: 0.06m\n"
     ]
    },
    {
     "data": {
      "application/vnd.jupyter.widget-view+json": {
       "model_id": "b19c0a5a84c441dd8820590d269ac263",
       "version_major": 2,
       "version_minor": 0
      },
      "text/plain": [
       "  0%|          | 0/8 [00:00<?, ?it/s]"
      ]
     },
     "metadata": {},
     "output_type": "display_data"
    },
    {
     "name": "stdout",
     "output_type": "stream",
     "text": [
      "Epoch:394/1000.. Train Loss: 0.146.. Val Loss: 0.809.. Train mIoU:0.000.. Val mIoU: 0.000.. Train Acc:0.926.. Val Acc:0.819.. Time: 0.06m\n"
     ]
    },
    {
     "data": {
      "application/vnd.jupyter.widget-view+json": {
       "model_id": "2bf4fe0d14fc4527bc871fc5b296de8f",
       "version_major": 2,
       "version_minor": 0
      },
      "text/plain": [
       "  0%|          | 0/8 [00:00<?, ?it/s]"
      ]
     },
     "metadata": {},
     "output_type": "display_data"
    },
    {
     "name": "stdout",
     "output_type": "stream",
     "text": [
      "Epoch:395/1000.. Train Loss: 0.145.. Val Loss: 0.247.. Train mIoU:0.000.. Val mIoU: 0.000.. Train Acc:0.927.. Val Acc:0.867.. Time: 0.06m\n"
     ]
    },
    {
     "data": {
      "application/vnd.jupyter.widget-view+json": {
       "model_id": "ecbf977828164b42a263a8435cd0293d",
       "version_major": 2,
       "version_minor": 0
      },
      "text/plain": [
       "  0%|          | 0/8 [00:00<?, ?it/s]"
      ]
     },
     "metadata": {},
     "output_type": "display_data"
    },
    {
     "name": "stdout",
     "output_type": "stream",
     "text": [
      "Epoch:396/1000.. Train Loss: 0.171.. Val Loss: 0.332.. Train mIoU:0.000.. Val mIoU: 0.000.. Train Acc:0.923.. Val Acc:0.818.. Time: 0.07m\n"
     ]
    },
    {
     "data": {
      "application/vnd.jupyter.widget-view+json": {
       "model_id": "3b3d554c36ae4b8e90849f3c31f50950",
       "version_major": 2,
       "version_minor": 0
      },
      "text/plain": [
       "  0%|          | 0/8 [00:00<?, ?it/s]"
      ]
     },
     "metadata": {},
     "output_type": "display_data"
    },
    {
     "name": "stdout",
     "output_type": "stream",
     "text": [
      "Epoch:397/1000.. Train Loss: 0.165.. Val Loss: 0.298.. Train mIoU:0.000.. Val mIoU: 0.000.. Train Acc:0.923.. Val Acc:0.828.. Time: 0.06m\n"
     ]
    },
    {
     "data": {
      "application/vnd.jupyter.widget-view+json": {
       "model_id": "c09b9015878f48e7aa7c4e2ac4467e3d",
       "version_major": 2,
       "version_minor": 0
      },
      "text/plain": [
       "  0%|          | 0/8 [00:00<?, ?it/s]"
      ]
     },
     "metadata": {},
     "output_type": "display_data"
    },
    {
     "name": "stdout",
     "output_type": "stream",
     "text": [
      "Epoch:398/1000.. Train Loss: 0.166.. Val Loss: 0.289.. Train mIoU:0.000.. Val mIoU: 0.000.. Train Acc:0.922.. Val Acc:0.849.. Time: 0.07m\n"
     ]
    },
    {
     "data": {
      "application/vnd.jupyter.widget-view+json": {
       "model_id": "b3979bba7aa147b3908e48e827d03e10",
       "version_major": 2,
       "version_minor": 0
      },
      "text/plain": [
       "  0%|          | 0/8 [00:00<?, ?it/s]"
      ]
     },
     "metadata": {},
     "output_type": "display_data"
    },
    {
     "name": "stdout",
     "output_type": "stream",
     "text": [
      "Epoch:399/1000.. Train Loss: 0.145.. Val Loss: 0.248.. Train mIoU:0.000.. Val mIoU: 0.000.. Train Acc:0.926.. Val Acc:0.869.. Time: 0.06m\n"
     ]
    },
    {
     "data": {
      "application/vnd.jupyter.widget-view+json": {
       "model_id": "0b89c1b57cf64709ab062542f64c70d2",
       "version_major": 2,
       "version_minor": 0
      },
      "text/plain": [
       "  0%|          | 0/8 [00:00<?, ?it/s]"
      ]
     },
     "metadata": {},
     "output_type": "display_data"
    },
    {
     "name": "stdout",
     "output_type": "stream",
     "text": [
      "Epoch:400/1000.. Train Loss: 0.148.. Val Loss: 0.237.. Train mIoU:0.000.. Val mIoU: 0.000.. Train Acc:0.926.. Val Acc:0.867.. Time: 0.07m\n"
     ]
    },
    {
     "data": {
      "application/vnd.jupyter.widget-view+json": {
       "model_id": "4df196c978b145409e57e9135102c337",
       "version_major": 2,
       "version_minor": 0
      },
      "text/plain": [
       "  0%|          | 0/8 [00:00<?, ?it/s]"
      ]
     },
     "metadata": {},
     "output_type": "display_data"
    },
    {
     "name": "stdout",
     "output_type": "stream",
     "text": [
      "Epoch:401/1000.. Train Loss: 0.143.. Val Loss: 0.317.. Train mIoU:0.000.. Val mIoU: 0.000.. Train Acc:0.928.. Val Acc:0.834.. Time: 0.07m\n"
     ]
    },
    {
     "data": {
      "application/vnd.jupyter.widget-view+json": {
       "model_id": "7c3b5604439749769a66b2fb98157b47",
       "version_major": 2,
       "version_minor": 0
      },
      "text/plain": [
       "  0%|          | 0/8 [00:00<?, ?it/s]"
      ]
     },
     "metadata": {},
     "output_type": "display_data"
    },
    {
     "name": "stdout",
     "output_type": "stream",
     "text": [
      "Epoch:402/1000.. Train Loss: 0.144.. Val Loss: 0.235.. Train mIoU:0.000.. Val mIoU: 0.000.. Train Acc:0.928.. Val Acc:0.868.. Time: 0.07m\n"
     ]
    },
    {
     "data": {
      "application/vnd.jupyter.widget-view+json": {
       "model_id": "e2cb7b3648b04a109b0a8ea8a08a1cce",
       "version_major": 2,
       "version_minor": 0
      },
      "text/plain": [
       "  0%|          | 0/8 [00:00<?, ?it/s]"
      ]
     },
     "metadata": {},
     "output_type": "display_data"
    },
    {
     "name": "stdout",
     "output_type": "stream",
     "text": [
      "Epoch:403/1000.. Train Loss: 0.149.. Val Loss: 0.350.. Train mIoU:0.000.. Val mIoU: 0.000.. Train Acc:0.926.. Val Acc:0.864.. Time: 0.07m\n"
     ]
    },
    {
     "data": {
      "application/vnd.jupyter.widget-view+json": {
       "model_id": "2ba6b6f51ed4442d8d60b02635c55ecd",
       "version_major": 2,
       "version_minor": 0
      },
      "text/plain": [
       "  0%|          | 0/8 [00:00<?, ?it/s]"
      ]
     },
     "metadata": {},
     "output_type": "display_data"
    },
    {
     "name": "stdout",
     "output_type": "stream",
     "text": [
      "Epoch:404/1000.. Train Loss: 0.161.. Val Loss: 0.300.. Train mIoU:0.000.. Val mIoU: 0.000.. Train Acc:0.917.. Val Acc:0.842.. Time: 0.07m\n"
     ]
    },
    {
     "data": {
      "application/vnd.jupyter.widget-view+json": {
       "model_id": "6d9d1253e4104793954ecf969212d704",
       "version_major": 2,
       "version_minor": 0
      },
      "text/plain": [
       "  0%|          | 0/8 [00:00<?, ?it/s]"
      ]
     },
     "metadata": {},
     "output_type": "display_data"
    },
    {
     "name": "stdout",
     "output_type": "stream",
     "text": [
      "Epoch:405/1000.. Train Loss: 0.166.. Val Loss: 0.240.. Train mIoU:0.000.. Val mIoU: 0.000.. Train Acc:0.922.. Val Acc:0.869.. Time: 0.07m\n"
     ]
    },
    {
     "data": {
      "application/vnd.jupyter.widget-view+json": {
       "model_id": "3783165216e74653aa2cbd06cbb6a385",
       "version_major": 2,
       "version_minor": 0
      },
      "text/plain": [
       "  0%|          | 0/8 [00:00<?, ?it/s]"
      ]
     },
     "metadata": {},
     "output_type": "display_data"
    },
    {
     "name": "stdout",
     "output_type": "stream",
     "text": [
      "Epoch:406/1000.. Train Loss: 0.149.. Val Loss: 0.482.. Train mIoU:0.000.. Val mIoU: 0.000.. Train Acc:0.924.. Val Acc:0.823.. Time: 0.06m\n"
     ]
    },
    {
     "data": {
      "application/vnd.jupyter.widget-view+json": {
       "model_id": "19be6bda772b4bc18b36cbea2612f807",
       "version_major": 2,
       "version_minor": 0
      },
      "text/plain": [
       "  0%|          | 0/8 [00:00<?, ?it/s]"
      ]
     },
     "metadata": {},
     "output_type": "display_data"
    },
    {
     "name": "stdout",
     "output_type": "stream",
     "text": [
      "Epoch:407/1000.. Train Loss: 0.147.. Val Loss: 0.241.. Train mIoU:0.000.. Val mIoU: 0.000.. Train Acc:0.922.. Val Acc:0.865.. Time: 0.06m\n"
     ]
    },
    {
     "data": {
      "application/vnd.jupyter.widget-view+json": {
       "model_id": "44dda9544c8f41d5a9ea7e7f60c3c6ed",
       "version_major": 2,
       "version_minor": 0
      },
      "text/plain": [
       "  0%|          | 0/8 [00:00<?, ?it/s]"
      ]
     },
     "metadata": {},
     "output_type": "display_data"
    },
    {
     "name": "stdout",
     "output_type": "stream",
     "text": [
      "Epoch:408/1000.. Train Loss: 0.154.. Val Loss: 0.393.. Train mIoU:0.000.. Val mIoU: 0.000.. Train Acc:0.923.. Val Acc:0.818.. Time: 0.06m\n"
     ]
    },
    {
     "data": {
      "application/vnd.jupyter.widget-view+json": {
       "model_id": "3c87eba72f76403e8532f6b840ac61a1",
       "version_major": 2,
       "version_minor": 0
      },
      "text/plain": [
       "  0%|          | 0/8 [00:00<?, ?it/s]"
      ]
     },
     "metadata": {},
     "output_type": "display_data"
    },
    {
     "name": "stdout",
     "output_type": "stream",
     "text": [
      "Epoch:409/1000.. Train Loss: 0.152.. Val Loss: 0.264.. Train mIoU:0.000.. Val mIoU: 0.000.. Train Acc:0.925.. Val Acc:0.867.. Time: 0.06m\n"
     ]
    },
    {
     "data": {
      "application/vnd.jupyter.widget-view+json": {
       "model_id": "38a323bdbaf84c579fddba0e22b41aef",
       "version_major": 2,
       "version_minor": 0
      },
      "text/plain": [
       "  0%|          | 0/8 [00:00<?, ?it/s]"
      ]
     },
     "metadata": {},
     "output_type": "display_data"
    },
    {
     "name": "stdout",
     "output_type": "stream",
     "text": [
      "Epoch:410/1000.. Train Loss: 0.162.. Val Loss: 0.242.. Train mIoU:0.000.. Val mIoU: 0.000.. Train Acc:0.925.. Val Acc:0.867.. Time: 0.06m\n"
     ]
    },
    {
     "data": {
      "application/vnd.jupyter.widget-view+json": {
       "model_id": "9ff47b497a7c4ac480f5c41d68a4248d",
       "version_major": 2,
       "version_minor": 0
      },
      "text/plain": [
       "  0%|          | 0/8 [00:00<?, ?it/s]"
      ]
     },
     "metadata": {},
     "output_type": "display_data"
    },
    {
     "name": "stdout",
     "output_type": "stream",
     "text": [
      "Epoch:411/1000.. Train Loss: 0.150.. Val Loss: 0.259.. Train mIoU:0.000.. Val mIoU: 0.000.. Train Acc:0.924.. Val Acc:0.874.. Time: 0.07m\n"
     ]
    },
    {
     "data": {
      "application/vnd.jupyter.widget-view+json": {
       "model_id": "6b76d681415e4923b04407e2bfbe01de",
       "version_major": 2,
       "version_minor": 0
      },
      "text/plain": [
       "  0%|          | 0/8 [00:00<?, ?it/s]"
      ]
     },
     "metadata": {},
     "output_type": "display_data"
    },
    {
     "name": "stdout",
     "output_type": "stream",
     "text": [
      "Epoch:412/1000.. Train Loss: 0.149.. Val Loss: 0.306.. Train mIoU:0.000.. Val mIoU: 0.000.. Train Acc:0.924.. Val Acc:0.832.. Time: 0.07m\n"
     ]
    },
    {
     "data": {
      "application/vnd.jupyter.widget-view+json": {
       "model_id": "0471f143c9944ebc8317ff00c503a507",
       "version_major": 2,
       "version_minor": 0
      },
      "text/plain": [
       "  0%|          | 0/8 [00:00<?, ?it/s]"
      ]
     },
     "metadata": {},
     "output_type": "display_data"
    },
    {
     "name": "stdout",
     "output_type": "stream",
     "text": [
      "Epoch:413/1000.. Train Loss: 0.145.. Val Loss: 0.289.. Train mIoU:0.000.. Val mIoU: 0.000.. Train Acc:0.925.. Val Acc:0.835.. Time: 0.07m\n"
     ]
    },
    {
     "data": {
      "application/vnd.jupyter.widget-view+json": {
       "model_id": "08387a81520d4e22a6cad3d0fa464606",
       "version_major": 2,
       "version_minor": 0
      },
      "text/plain": [
       "  0%|          | 0/8 [00:00<?, ?it/s]"
      ]
     },
     "metadata": {},
     "output_type": "display_data"
    },
    {
     "name": "stdout",
     "output_type": "stream",
     "text": [
      "Epoch:414/1000.. Train Loss: 0.144.. Val Loss: 0.228.. Train mIoU:0.000.. Val mIoU: 0.000.. Train Acc:0.928.. Val Acc:0.877.. Time: 0.07m\n"
     ]
    },
    {
     "data": {
      "application/vnd.jupyter.widget-view+json": {
       "model_id": "f19d2e4c7c9c4711a317b06d5fac9a05",
       "version_major": 2,
       "version_minor": 0
      },
      "text/plain": [
       "  0%|          | 0/8 [00:00<?, ?it/s]"
      ]
     },
     "metadata": {},
     "output_type": "display_data"
    },
    {
     "name": "stdout",
     "output_type": "stream",
     "text": [
      "Epoch:415/1000.. Train Loss: 0.162.. Val Loss: 0.239.. Train mIoU:0.000.. Val mIoU: 0.000.. Train Acc:0.922.. Val Acc:0.869.. Time: 0.06m\n"
     ]
    },
    {
     "data": {
      "application/vnd.jupyter.widget-view+json": {
       "model_id": "2fedba24e5e84afd95b6791f8a934521",
       "version_major": 2,
       "version_minor": 0
      },
      "text/plain": [
       "  0%|          | 0/8 [00:00<?, ?it/s]"
      ]
     },
     "metadata": {},
     "output_type": "display_data"
    },
    {
     "name": "stdout",
     "output_type": "stream",
     "text": [
      "Epoch:416/1000.. Train Loss: 0.155.. Val Loss: 0.243.. Train mIoU:0.000.. Val mIoU: 0.000.. Train Acc:0.922.. Val Acc:0.872.. Time: 0.06m\n"
     ]
    },
    {
     "data": {
      "application/vnd.jupyter.widget-view+json": {
       "model_id": "5374c3092fd644f59ec417f85efac962",
       "version_major": 2,
       "version_minor": 0
      },
      "text/plain": [
       "  0%|          | 0/8 [00:00<?, ?it/s]"
      ]
     },
     "metadata": {},
     "output_type": "display_data"
    },
    {
     "name": "stdout",
     "output_type": "stream",
     "text": [
      "Epoch:417/1000.. Train Loss: 0.151.. Val Loss: 0.232.. Train mIoU:0.000.. Val mIoU: 0.000.. Train Acc:0.922.. Val Acc:0.875.. Time: 0.06m\n"
     ]
    },
    {
     "data": {
      "application/vnd.jupyter.widget-view+json": {
       "model_id": "c1221b9d0f484de38db4ff4c94d66c7c",
       "version_major": 2,
       "version_minor": 0
      },
      "text/plain": [
       "  0%|          | 0/8 [00:00<?, ?it/s]"
      ]
     },
     "metadata": {},
     "output_type": "display_data"
    },
    {
     "name": "stdout",
     "output_type": "stream",
     "text": [
      "Epoch:418/1000.. Train Loss: 0.146.. Val Loss: 0.280.. Train mIoU:0.000.. Val mIoU: 0.000.. Train Acc:0.926.. Val Acc:0.854.. Time: 0.07m\n"
     ]
    },
    {
     "data": {
      "application/vnd.jupyter.widget-view+json": {
       "model_id": "e3dd1e2adaa64327a317048a01c0b12c",
       "version_major": 2,
       "version_minor": 0
      },
      "text/plain": [
       "  0%|          | 0/8 [00:00<?, ?it/s]"
      ]
     },
     "metadata": {},
     "output_type": "display_data"
    },
    {
     "name": "stdout",
     "output_type": "stream",
     "text": [
      "Epoch:419/1000.. Train Loss: 0.145.. Val Loss: 0.246.. Train mIoU:0.000.. Val mIoU: 0.000.. Train Acc:0.926.. Val Acc:0.865.. Time: 0.06m\n"
     ]
    },
    {
     "data": {
      "application/vnd.jupyter.widget-view+json": {
       "model_id": "c2641a46989a4c4e981b89d4861f043a",
       "version_major": 2,
       "version_minor": 0
      },
      "text/plain": [
       "  0%|          | 0/8 [00:00<?, ?it/s]"
      ]
     },
     "metadata": {},
     "output_type": "display_data"
    },
    {
     "name": "stdout",
     "output_type": "stream",
     "text": [
      "Epoch:420/1000.. Train Loss: 0.155.. Val Loss: 0.425.. Train mIoU:0.000.. Val mIoU: 0.000.. Train Acc:0.921.. Val Acc:0.850.. Time: 0.07m\n"
     ]
    },
    {
     "data": {
      "application/vnd.jupyter.widget-view+json": {
       "model_id": "252edf2ab4734853bc8b180a75b1df33",
       "version_major": 2,
       "version_minor": 0
      },
      "text/plain": [
       "  0%|          | 0/8 [00:00<?, ?it/s]"
      ]
     },
     "metadata": {},
     "output_type": "display_data"
    },
    {
     "name": "stdout",
     "output_type": "stream",
     "text": [
      "Epoch:421/1000.. Train Loss: 0.157.. Val Loss: 0.305.. Train mIoU:0.000.. Val mIoU: 0.000.. Train Acc:0.925.. Val Acc:0.838.. Time: 0.07m\n"
     ]
    },
    {
     "data": {
      "application/vnd.jupyter.widget-view+json": {
       "model_id": "6833ecd120bf49b9a2090c26fe2201cd",
       "version_major": 2,
       "version_minor": 0
      },
      "text/plain": [
       "  0%|          | 0/8 [00:00<?, ?it/s]"
      ]
     },
     "metadata": {},
     "output_type": "display_data"
    },
    {
     "name": "stdout",
     "output_type": "stream",
     "text": [
      "Epoch:422/1000.. Train Loss: 0.169.. Val Loss: 0.271.. Train mIoU:0.000.. Val mIoU: 0.000.. Train Acc:0.921.. Val Acc:0.867.. Time: 0.07m\n"
     ]
    },
    {
     "data": {
      "application/vnd.jupyter.widget-view+json": {
       "model_id": "2153299b2b974cc29c74945b8b3b77ec",
       "version_major": 2,
       "version_minor": 0
      },
      "text/plain": [
       "  0%|          | 0/8 [00:00<?, ?it/s]"
      ]
     },
     "metadata": {},
     "output_type": "display_data"
    },
    {
     "name": "stdout",
     "output_type": "stream",
     "text": [
      "Epoch:423/1000.. Train Loss: 0.146.. Val Loss: 0.268.. Train mIoU:0.000.. Val mIoU: 0.000.. Train Acc:0.925.. Val Acc:0.871.. Time: 0.06m\n"
     ]
    },
    {
     "data": {
      "application/vnd.jupyter.widget-view+json": {
       "model_id": "0964a48fc781411cae0d657e36072ba8",
       "version_major": 2,
       "version_minor": 0
      },
      "text/plain": [
       "  0%|          | 0/8 [00:00<?, ?it/s]"
      ]
     },
     "metadata": {},
     "output_type": "display_data"
    },
    {
     "name": "stdout",
     "output_type": "stream",
     "text": [
      "Epoch:424/1000.. Train Loss: 0.150.. Val Loss: 0.304.. Train mIoU:0.000.. Val mIoU: 0.000.. Train Acc:0.922.. Val Acc:0.844.. Time: 0.06m\n"
     ]
    },
    {
     "data": {
      "application/vnd.jupyter.widget-view+json": {
       "model_id": "0d8e178629f349b6ac1e297a2af0bd26",
       "version_major": 2,
       "version_minor": 0
      },
      "text/plain": [
       "  0%|          | 0/8 [00:00<?, ?it/s]"
      ]
     },
     "metadata": {},
     "output_type": "display_data"
    },
    {
     "name": "stdout",
     "output_type": "stream",
     "text": [
      "Epoch:425/1000.. Train Loss: 0.145.. Val Loss: 0.349.. Train mIoU:0.000.. Val mIoU: 0.000.. Train Acc:0.926.. Val Acc:0.827.. Time: 0.06m\n"
     ]
    },
    {
     "data": {
      "application/vnd.jupyter.widget-view+json": {
       "model_id": "22b54af952ba46b8ada802421e534621",
       "version_major": 2,
       "version_minor": 0
      },
      "text/plain": [
       "  0%|          | 0/8 [00:00<?, ?it/s]"
      ]
     },
     "metadata": {},
     "output_type": "display_data"
    },
    {
     "name": "stdout",
     "output_type": "stream",
     "text": [
      "Epoch:426/1000.. Train Loss: 0.146.. Val Loss: 0.237.. Train mIoU:0.000.. Val mIoU: 0.000.. Train Acc:0.925.. Val Acc:0.875.. Time: 0.06m\n"
     ]
    },
    {
     "data": {
      "application/vnd.jupyter.widget-view+json": {
       "model_id": "3fd3436084c049afae28f2c2b64333cd",
       "version_major": 2,
       "version_minor": 0
      },
      "text/plain": [
       "  0%|          | 0/8 [00:00<?, ?it/s]"
      ]
     },
     "metadata": {},
     "output_type": "display_data"
    },
    {
     "name": "stdout",
     "output_type": "stream",
     "text": [
      "Epoch:427/1000.. Train Loss: 0.144.. Val Loss: 0.243.. Train mIoU:0.000.. Val mIoU: 0.000.. Train Acc:0.928.. Val Acc:0.868.. Time: 0.06m\n"
     ]
    },
    {
     "data": {
      "application/vnd.jupyter.widget-view+json": {
       "model_id": "ee22d92ec60c497b902896f6caba5286",
       "version_major": 2,
       "version_minor": 0
      },
      "text/plain": [
       "  0%|          | 0/8 [00:00<?, ?it/s]"
      ]
     },
     "metadata": {},
     "output_type": "display_data"
    },
    {
     "name": "stdout",
     "output_type": "stream",
     "text": [
      "Epoch:428/1000.. Train Loss: 0.146.. Val Loss: 0.232.. Train mIoU:0.000.. Val mIoU: 0.000.. Train Acc:0.926.. Val Acc:0.878.. Time: 0.06m\n"
     ]
    },
    {
     "data": {
      "application/vnd.jupyter.widget-view+json": {
       "model_id": "f3ba67a4ec464aaf9a5da2ad5deeabd2",
       "version_major": 2,
       "version_minor": 0
      },
      "text/plain": [
       "  0%|          | 0/8 [00:00<?, ?it/s]"
      ]
     },
     "metadata": {},
     "output_type": "display_data"
    },
    {
     "name": "stdout",
     "output_type": "stream",
     "text": [
      "Epoch:429/1000.. Train Loss: 0.143.. Val Loss: 0.326.. Train mIoU:0.000.. Val mIoU: 0.000.. Train Acc:0.928.. Val Acc:0.813.. Time: 0.07m\n"
     ]
    },
    {
     "data": {
      "application/vnd.jupyter.widget-view+json": {
       "model_id": "0fcf4abeb07f4596b79193de7d9ebaf7",
       "version_major": 2,
       "version_minor": 0
      },
      "text/plain": [
       "  0%|          | 0/8 [00:00<?, ?it/s]"
      ]
     },
     "metadata": {},
     "output_type": "display_data"
    },
    {
     "name": "stdout",
     "output_type": "stream",
     "text": [
      "Epoch:430/1000.. Train Loss: 0.149.. Val Loss: 0.352.. Train mIoU:0.000.. Val mIoU: 0.000.. Train Acc:0.924.. Val Acc:0.819.. Time: 0.06m\n"
     ]
    },
    {
     "data": {
      "application/vnd.jupyter.widget-view+json": {
       "model_id": "6a6f47264fac42378ea4e29ee5687aa1",
       "version_major": 2,
       "version_minor": 0
      },
      "text/plain": [
       "  0%|          | 0/8 [00:00<?, ?it/s]"
      ]
     },
     "metadata": {},
     "output_type": "display_data"
    },
    {
     "name": "stdout",
     "output_type": "stream",
     "text": [
      "Epoch:431/1000.. Train Loss: 0.146.. Val Loss: 0.386.. Train mIoU:0.000.. Val mIoU: 0.000.. Train Acc:0.926.. Val Acc:0.819.. Time: 0.06m\n"
     ]
    },
    {
     "data": {
      "application/vnd.jupyter.widget-view+json": {
       "model_id": "f613b312e5774a78bacd6a64810ebc63",
       "version_major": 2,
       "version_minor": 0
      },
      "text/plain": [
       "  0%|          | 0/8 [00:00<?, ?it/s]"
      ]
     },
     "metadata": {},
     "output_type": "display_data"
    },
    {
     "name": "stdout",
     "output_type": "stream",
     "text": [
      "Epoch:432/1000.. Train Loss: 0.145.. Val Loss: 0.305.. Train mIoU:0.000.. Val mIoU: 0.000.. Train Acc:0.926.. Val Acc:0.833.. Time: 0.07m\n"
     ]
    },
    {
     "data": {
      "application/vnd.jupyter.widget-view+json": {
       "model_id": "027e73181d9d45bead44a71e8ef2666d",
       "version_major": 2,
       "version_minor": 0
      },
      "text/plain": [
       "  0%|          | 0/8 [00:00<?, ?it/s]"
      ]
     },
     "metadata": {},
     "output_type": "display_data"
    },
    {
     "name": "stdout",
     "output_type": "stream",
     "text": [
      "Epoch:433/1000.. Train Loss: 0.143.. Val Loss: 0.342.. Train mIoU:0.000.. Val mIoU: 0.000.. Train Acc:0.927.. Val Acc:0.823.. Time: 0.07m\n"
     ]
    },
    {
     "data": {
      "application/vnd.jupyter.widget-view+json": {
       "model_id": "4aee1d69580b4042b5663d2aeb6aa09f",
       "version_major": 2,
       "version_minor": 0
      },
      "text/plain": [
       "  0%|          | 0/8 [00:00<?, ?it/s]"
      ]
     },
     "metadata": {},
     "output_type": "display_data"
    },
    {
     "name": "stdout",
     "output_type": "stream",
     "text": [
      "Epoch:434/1000.. Train Loss: 0.143.. Val Loss: 0.313.. Train mIoU:0.000.. Val mIoU: 0.000.. Train Acc:0.928.. Val Acc:0.830.. Time: 0.07m\n"
     ]
    },
    {
     "data": {
      "application/vnd.jupyter.widget-view+json": {
       "model_id": "9539c8fd1c524c06a15c396c197c9892",
       "version_major": 2,
       "version_minor": 0
      },
      "text/plain": [
       "  0%|          | 0/8 [00:00<?, ?it/s]"
      ]
     },
     "metadata": {},
     "output_type": "display_data"
    },
    {
     "name": "stdout",
     "output_type": "stream",
     "text": [
      "Epoch:435/1000.. Train Loss: 0.147.. Val Loss: 0.336.. Train mIoU:0.000.. Val mIoU: 0.000.. Train Acc:0.923.. Val Acc:0.837.. Time: 0.07m\n"
     ]
    },
    {
     "data": {
      "application/vnd.jupyter.widget-view+json": {
       "model_id": "ebc74ad289464b3994d26fdc17dea89c",
       "version_major": 2,
       "version_minor": 0
      },
      "text/plain": [
       "  0%|          | 0/8 [00:00<?, ?it/s]"
      ]
     },
     "metadata": {},
     "output_type": "display_data"
    },
    {
     "name": "stdout",
     "output_type": "stream",
     "text": [
      "Epoch:436/1000.. Train Loss: 0.149.. Val Loss: 0.252.. Train mIoU:0.000.. Val mIoU: 0.000.. Train Acc:0.926.. Val Acc:0.861.. Time: 0.07m\n"
     ]
    },
    {
     "data": {
      "application/vnd.jupyter.widget-view+json": {
       "model_id": "87ec456d4d974ee691d27a9eb617e07e",
       "version_major": 2,
       "version_minor": 0
      },
      "text/plain": [
       "  0%|          | 0/8 [00:00<?, ?it/s]"
      ]
     },
     "metadata": {},
     "output_type": "display_data"
    },
    {
     "name": "stdout",
     "output_type": "stream",
     "text": [
      "Epoch:437/1000.. Train Loss: 0.197.. Val Loss: 0.372.. Train mIoU:0.000.. Val mIoU: 0.000.. Train Acc:0.896.. Val Acc:0.837.. Time: 0.07m\n"
     ]
    },
    {
     "data": {
      "application/vnd.jupyter.widget-view+json": {
       "model_id": "c088b8b290d54d6b96a8284d9d9949d8",
       "version_major": 2,
       "version_minor": 0
      },
      "text/plain": [
       "  0%|          | 0/8 [00:00<?, ?it/s]"
      ]
     },
     "metadata": {},
     "output_type": "display_data"
    },
    {
     "name": "stdout",
     "output_type": "stream",
     "text": [
      "Epoch:438/1000.. Train Loss: 0.165.. Val Loss: 0.249.. Train mIoU:0.000.. Val mIoU: 0.000.. Train Acc:0.918.. Val Acc:0.871.. Time: 0.07m\n"
     ]
    },
    {
     "data": {
      "application/vnd.jupyter.widget-view+json": {
       "model_id": "ca7a32ede51e4e8abca19e130a28ca48",
       "version_major": 2,
       "version_minor": 0
      },
      "text/plain": [
       "  0%|          | 0/8 [00:00<?, ?it/s]"
      ]
     },
     "metadata": {},
     "output_type": "display_data"
    },
    {
     "name": "stdout",
     "output_type": "stream",
     "text": [
      "Epoch:439/1000.. Train Loss: 0.151.. Val Loss: 0.323.. Train mIoU:0.000.. Val mIoU: 0.000.. Train Acc:0.922.. Val Acc:0.831.. Time: 0.07m\n"
     ]
    },
    {
     "data": {
      "application/vnd.jupyter.widget-view+json": {
       "model_id": "5b39b7f81eb94788abe762eb0170b151",
       "version_major": 2,
       "version_minor": 0
      },
      "text/plain": [
       "  0%|          | 0/8 [00:00<?, ?it/s]"
      ]
     },
     "metadata": {},
     "output_type": "display_data"
    },
    {
     "name": "stdout",
     "output_type": "stream",
     "text": [
      "Epoch:440/1000.. Train Loss: 0.151.. Val Loss: 0.240.. Train mIoU:0.000.. Val mIoU: 0.000.. Train Acc:0.923.. Val Acc:0.873.. Time: 0.07m\n"
     ]
    },
    {
     "data": {
      "application/vnd.jupyter.widget-view+json": {
       "model_id": "bef3885384fb4cb499b4be342eb73c9d",
       "version_major": 2,
       "version_minor": 0
      },
      "text/plain": [
       "  0%|          | 0/8 [00:00<?, ?it/s]"
      ]
     },
     "metadata": {},
     "output_type": "display_data"
    },
    {
     "name": "stdout",
     "output_type": "stream",
     "text": [
      "Epoch:441/1000.. Train Loss: 0.147.. Val Loss: 0.232.. Train mIoU:0.000.. Val mIoU: 0.000.. Train Acc:0.925.. Val Acc:0.873.. Time: 0.07m\n"
     ]
    },
    {
     "data": {
      "application/vnd.jupyter.widget-view+json": {
       "model_id": "13ae567f77144737a8db5d81625c82f7",
       "version_major": 2,
       "version_minor": 0
      },
      "text/plain": [
       "  0%|          | 0/8 [00:00<?, ?it/s]"
      ]
     },
     "metadata": {},
     "output_type": "display_data"
    },
    {
     "name": "stdout",
     "output_type": "stream",
     "text": [
      "Epoch:442/1000.. Train Loss: 0.149.. Val Loss: 0.303.. Train mIoU:0.000.. Val mIoU: 0.000.. Train Acc:0.924.. Val Acc:0.827.. Time: 0.07m\n"
     ]
    },
    {
     "data": {
      "application/vnd.jupyter.widget-view+json": {
       "model_id": "c3f6825d33124e8d814fc9b9b52e5c79",
       "version_major": 2,
       "version_minor": 0
      },
      "text/plain": [
       "  0%|          | 0/8 [00:00<?, ?it/s]"
      ]
     },
     "metadata": {},
     "output_type": "display_data"
    },
    {
     "name": "stdout",
     "output_type": "stream",
     "text": [
      "Epoch:443/1000.. Train Loss: 0.145.. Val Loss: 0.232.. Train mIoU:0.000.. Val mIoU: 0.000.. Train Acc:0.923.. Val Acc:0.874.. Time: 0.07m\n"
     ]
    },
    {
     "data": {
      "application/vnd.jupyter.widget-view+json": {
       "model_id": "e1a59e3cfb2744fbbeff1f6f45ec0890",
       "version_major": 2,
       "version_minor": 0
      },
      "text/plain": [
       "  0%|          | 0/8 [00:00<?, ?it/s]"
      ]
     },
     "metadata": {},
     "output_type": "display_data"
    },
    {
     "name": "stdout",
     "output_type": "stream",
     "text": [
      "Epoch:444/1000.. Train Loss: 0.184.. Val Loss: 0.269.. Train mIoU:0.000.. Val mIoU: 0.000.. Train Acc:0.917.. Val Acc:0.855.. Time: 0.08m\n"
     ]
    },
    {
     "data": {
      "application/vnd.jupyter.widget-view+json": {
       "model_id": "ab6d41a513d949d0825d0f8494fb8afc",
       "version_major": 2,
       "version_minor": 0
      },
      "text/plain": [
       "  0%|          | 0/8 [00:00<?, ?it/s]"
      ]
     },
     "metadata": {},
     "output_type": "display_data"
    },
    {
     "name": "stdout",
     "output_type": "stream",
     "text": [
      "Epoch:445/1000.. Train Loss: 0.168.. Val Loss: 0.240.. Train mIoU:0.000.. Val mIoU: 0.000.. Train Acc:0.918.. Val Acc:0.868.. Time: 0.07m\n"
     ]
    },
    {
     "data": {
      "application/vnd.jupyter.widget-view+json": {
       "model_id": "14e927c6ac18428094728a87ab0d2599",
       "version_major": 2,
       "version_minor": 0
      },
      "text/plain": [
       "  0%|          | 0/8 [00:00<?, ?it/s]"
      ]
     },
     "metadata": {},
     "output_type": "display_data"
    },
    {
     "name": "stdout",
     "output_type": "stream",
     "text": [
      "Epoch:446/1000.. Train Loss: 0.151.. Val Loss: 0.228.. Train mIoU:0.000.. Val mIoU: 0.000.. Train Acc:0.922.. Val Acc:0.872.. Time: 0.07m\n"
     ]
    },
    {
     "data": {
      "application/vnd.jupyter.widget-view+json": {
       "model_id": "97146b9657534e3ca4d4974601f43c39",
       "version_major": 2,
       "version_minor": 0
      },
      "text/plain": [
       "  0%|          | 0/8 [00:00<?, ?it/s]"
      ]
     },
     "metadata": {},
     "output_type": "display_data"
    },
    {
     "name": "stdout",
     "output_type": "stream",
     "text": [
      "Epoch:447/1000.. Train Loss: 0.145.. Val Loss: 0.244.. Train mIoU:0.000.. Val mIoU: 0.000.. Train Acc:0.926.. Val Acc:0.870.. Time: 0.07m\n"
     ]
    },
    {
     "data": {
      "application/vnd.jupyter.widget-view+json": {
       "model_id": "4e70b8cfbbad43a0b24e5226cee9f46a",
       "version_major": 2,
       "version_minor": 0
      },
      "text/plain": [
       "  0%|          | 0/8 [00:00<?, ?it/s]"
      ]
     },
     "metadata": {},
     "output_type": "display_data"
    },
    {
     "name": "stdout",
     "output_type": "stream",
     "text": [
      "Epoch:448/1000.. Train Loss: 0.145.. Val Loss: 0.298.. Train mIoU:0.000.. Val mIoU: 0.000.. Train Acc:0.927.. Val Acc:0.834.. Time: 0.07m\n"
     ]
    },
    {
     "data": {
      "application/vnd.jupyter.widget-view+json": {
       "model_id": "38aa92383ee541cda8c3181df5c05ddc",
       "version_major": 2,
       "version_minor": 0
      },
      "text/plain": [
       "  0%|          | 0/8 [00:00<?, ?it/s]"
      ]
     },
     "metadata": {},
     "output_type": "display_data"
    },
    {
     "name": "stdout",
     "output_type": "stream",
     "text": [
      "Epoch:449/1000.. Train Loss: 0.146.. Val Loss: 0.279.. Train mIoU:0.000.. Val mIoU: 0.000.. Train Acc:0.925.. Val Acc:0.863.. Time: 0.07m\n"
     ]
    },
    {
     "data": {
      "application/vnd.jupyter.widget-view+json": {
       "model_id": "d0c984b6cb6c488985d652bf14682bae",
       "version_major": 2,
       "version_minor": 0
      },
      "text/plain": [
       "  0%|          | 0/8 [00:00<?, ?it/s]"
      ]
     },
     "metadata": {},
     "output_type": "display_data"
    },
    {
     "name": "stdout",
     "output_type": "stream",
     "text": [
      "Epoch:450/1000.. Train Loss: 0.156.. Val Loss: 0.236.. Train mIoU:0.000.. Val mIoU: 0.000.. Train Acc:0.926.. Val Acc:0.867.. Time: 0.07m\n"
     ]
    },
    {
     "data": {
      "application/vnd.jupyter.widget-view+json": {
       "model_id": "afad0c3cea584072a697a3dacafc8822",
       "version_major": 2,
       "version_minor": 0
      },
      "text/plain": [
       "  0%|          | 0/8 [00:00<?, ?it/s]"
      ]
     },
     "metadata": {},
     "output_type": "display_data"
    },
    {
     "name": "stdout",
     "output_type": "stream",
     "text": [
      "Epoch:451/1000.. Train Loss: 0.145.. Val Loss: 0.239.. Train mIoU:0.000.. Val mIoU: 0.000.. Train Acc:0.928.. Val Acc:0.872.. Time: 0.07m\n"
     ]
    },
    {
     "data": {
      "application/vnd.jupyter.widget-view+json": {
       "model_id": "6344613125fb450795d56c008a43af61",
       "version_major": 2,
       "version_minor": 0
      },
      "text/plain": [
       "  0%|          | 0/8 [00:00<?, ?it/s]"
      ]
     },
     "metadata": {},
     "output_type": "display_data"
    },
    {
     "name": "stdout",
     "output_type": "stream",
     "text": [
      "Epoch:452/1000.. Train Loss: 0.165.. Val Loss: 0.232.. Train mIoU:0.000.. Val mIoU: 0.000.. Train Acc:0.925.. Val Acc:0.869.. Time: 0.07m\n"
     ]
    },
    {
     "data": {
      "application/vnd.jupyter.widget-view+json": {
       "model_id": "1d17a20c6a8941229e10658e75779f51",
       "version_major": 2,
       "version_minor": 0
      },
      "text/plain": [
       "  0%|          | 0/8 [00:00<?, ?it/s]"
      ]
     },
     "metadata": {},
     "output_type": "display_data"
    },
    {
     "name": "stdout",
     "output_type": "stream",
     "text": [
      "Epoch:453/1000.. Train Loss: 0.148.. Val Loss: 0.233.. Train mIoU:0.000.. Val mIoU: 0.000.. Train Acc:0.925.. Val Acc:0.875.. Time: 0.07m\n"
     ]
    },
    {
     "data": {
      "application/vnd.jupyter.widget-view+json": {
       "model_id": "85480830f6ce4e7b82b3d4349d5527ab",
       "version_major": 2,
       "version_minor": 0
      },
      "text/plain": [
       "  0%|          | 0/8 [00:00<?, ?it/s]"
      ]
     },
     "metadata": {},
     "output_type": "display_data"
    },
    {
     "name": "stdout",
     "output_type": "stream",
     "text": [
      "Epoch:454/1000.. Train Loss: 0.145.. Val Loss: 0.232.. Train mIoU:0.000.. Val mIoU: 0.000.. Train Acc:0.926.. Val Acc:0.872.. Time: 0.07m\n"
     ]
    },
    {
     "data": {
      "application/vnd.jupyter.widget-view+json": {
       "model_id": "ec34982b95534c0783e96f0a302a2aeb",
       "version_major": 2,
       "version_minor": 0
      },
      "text/plain": [
       "  0%|          | 0/8 [00:00<?, ?it/s]"
      ]
     },
     "metadata": {},
     "output_type": "display_data"
    },
    {
     "name": "stdout",
     "output_type": "stream",
     "text": [
      "Epoch:455/1000.. Train Loss: 0.145.. Val Loss: 0.230.. Train mIoU:0.000.. Val mIoU: 0.000.. Train Acc:0.925.. Val Acc:0.871.. Time: 0.08m\n"
     ]
    },
    {
     "data": {
      "application/vnd.jupyter.widget-view+json": {
       "model_id": "c274521abffd42d880d502cd5e37ac17",
       "version_major": 2,
       "version_minor": 0
      },
      "text/plain": [
       "  0%|          | 0/8 [00:00<?, ?it/s]"
      ]
     },
     "metadata": {},
     "output_type": "display_data"
    },
    {
     "name": "stdout",
     "output_type": "stream",
     "text": [
      "Epoch:456/1000.. Train Loss: 0.170.. Val Loss: 0.239.. Train mIoU:0.000.. Val mIoU: 0.000.. Train Acc:0.923.. Val Acc:0.876.. Time: 0.07m\n"
     ]
    },
    {
     "data": {
      "application/vnd.jupyter.widget-view+json": {
       "model_id": "ac654cf0b90c40f5a823bf9b02601b06",
       "version_major": 2,
       "version_minor": 0
      },
      "text/plain": [
       "  0%|          | 0/8 [00:00<?, ?it/s]"
      ]
     },
     "metadata": {},
     "output_type": "display_data"
    },
    {
     "name": "stdout",
     "output_type": "stream",
     "text": [
      "Epoch:457/1000.. Train Loss: 0.144.. Val Loss: 0.294.. Train mIoU:0.000.. Val mIoU: 0.000.. Train Acc:0.928.. Val Acc:0.835.. Time: 0.07m\n"
     ]
    },
    {
     "data": {
      "application/vnd.jupyter.widget-view+json": {
       "model_id": "6ea1a9bf8bc549c48e0f8a92b8978249",
       "version_major": 2,
       "version_minor": 0
      },
      "text/plain": [
       "  0%|          | 0/8 [00:00<?, ?it/s]"
      ]
     },
     "metadata": {},
     "output_type": "display_data"
    },
    {
     "name": "stdout",
     "output_type": "stream",
     "text": [
      "Epoch:458/1000.. Train Loss: 0.145.. Val Loss: 0.281.. Train mIoU:0.000.. Val mIoU: 0.000.. Train Acc:0.926.. Val Acc:0.872.. Time: 0.07m\n"
     ]
    },
    {
     "data": {
      "application/vnd.jupyter.widget-view+json": {
       "model_id": "1e50ed2ace9b44d69463416e34050f39",
       "version_major": 2,
       "version_minor": 0
      },
      "text/plain": [
       "  0%|          | 0/8 [00:00<?, ?it/s]"
      ]
     },
     "metadata": {},
     "output_type": "display_data"
    },
    {
     "name": "stdout",
     "output_type": "stream",
     "text": [
      "Epoch:459/1000.. Train Loss: 0.184.. Val Loss: 0.268.. Train mIoU:0.000.. Val mIoU: 0.000.. Train Acc:0.911.. Val Acc:0.870.. Time: 0.07m\n"
     ]
    },
    {
     "data": {
      "application/vnd.jupyter.widget-view+json": {
       "model_id": "7ffb0971d44c480e92bacbce8a0f6358",
       "version_major": 2,
       "version_minor": 0
      },
      "text/plain": [
       "  0%|          | 0/8 [00:00<?, ?it/s]"
      ]
     },
     "metadata": {},
     "output_type": "display_data"
    },
    {
     "name": "stdout",
     "output_type": "stream",
     "text": [
      "Epoch:460/1000.. Train Loss: 0.161.. Val Loss: 0.332.. Train mIoU:0.000.. Val mIoU: 0.000.. Train Acc:0.917.. Val Acc:0.827.. Time: 0.07m\n"
     ]
    },
    {
     "data": {
      "application/vnd.jupyter.widget-view+json": {
       "model_id": "0906c83008a647308b4d8e54594a0817",
       "version_major": 2,
       "version_minor": 0
      },
      "text/plain": [
       "  0%|          | 0/8 [00:00<?, ?it/s]"
      ]
     },
     "metadata": {},
     "output_type": "display_data"
    },
    {
     "name": "stdout",
     "output_type": "stream",
     "text": [
      "Epoch:461/1000.. Train Loss: 0.173.. Val Loss: 0.266.. Train mIoU:0.000.. Val mIoU: 0.000.. Train Acc:0.919.. Val Acc:0.868.. Time: 0.07m\n"
     ]
    },
    {
     "data": {
      "application/vnd.jupyter.widget-view+json": {
       "model_id": "496d6e0f013f48048739f775ca1b055d",
       "version_major": 2,
       "version_minor": 0
      },
      "text/plain": [
       "  0%|          | 0/8 [00:00<?, ?it/s]"
      ]
     },
     "metadata": {},
     "output_type": "display_data"
    },
    {
     "name": "stdout",
     "output_type": "stream",
     "text": [
      "Epoch:462/1000.. Train Loss: 0.148.. Val Loss: 0.264.. Train mIoU:0.000.. Val mIoU: 0.000.. Train Acc:0.923.. Val Acc:0.866.. Time: 0.07m\n"
     ]
    },
    {
     "data": {
      "application/vnd.jupyter.widget-view+json": {
       "model_id": "a000e2462bb44d2e994291fcdda6b337",
       "version_major": 2,
       "version_minor": 0
      },
      "text/plain": [
       "  0%|          | 0/8 [00:00<?, ?it/s]"
      ]
     },
     "metadata": {},
     "output_type": "display_data"
    },
    {
     "name": "stdout",
     "output_type": "stream",
     "text": [
      "Epoch:463/1000.. Train Loss: 0.147.. Val Loss: 0.254.. Train mIoU:0.000.. Val mIoU: 0.000.. Train Acc:0.925.. Val Acc:0.869.. Time: 0.07m\n"
     ]
    },
    {
     "data": {
      "application/vnd.jupyter.widget-view+json": {
       "model_id": "a98f09db04cd40589129ae978a201840",
       "version_major": 2,
       "version_minor": 0
      },
      "text/plain": [
       "  0%|          | 0/8 [00:00<?, ?it/s]"
      ]
     },
     "metadata": {},
     "output_type": "display_data"
    },
    {
     "name": "stdout",
     "output_type": "stream",
     "text": [
      "Epoch:464/1000.. Train Loss: 0.161.. Val Loss: 0.292.. Train mIoU:0.000.. Val mIoU: 0.000.. Train Acc:0.921.. Val Acc:0.866.. Time: 0.07m\n"
     ]
    },
    {
     "data": {
      "application/vnd.jupyter.widget-view+json": {
       "model_id": "c1dcace85b3247eea6e783dfa6bfbcf5",
       "version_major": 2,
       "version_minor": 0
      },
      "text/plain": [
       "  0%|          | 0/8 [00:00<?, ?it/s]"
      ]
     },
     "metadata": {},
     "output_type": "display_data"
    },
    {
     "name": "stdout",
     "output_type": "stream",
     "text": [
      "Epoch:465/1000.. Train Loss: 0.163.. Val Loss: 0.323.. Train mIoU:0.000.. Val mIoU: 0.000.. Train Acc:0.919.. Val Acc:0.824.. Time: 0.07m\n"
     ]
    },
    {
     "data": {
      "application/vnd.jupyter.widget-view+json": {
       "model_id": "04a9d3cebd3547cea4be58f0eba29c40",
       "version_major": 2,
       "version_minor": 0
      },
      "text/plain": [
       "  0%|          | 0/8 [00:00<?, ?it/s]"
      ]
     },
     "metadata": {},
     "output_type": "display_data"
    },
    {
     "name": "stdout",
     "output_type": "stream",
     "text": [
      "Epoch:466/1000.. Train Loss: 0.143.. Val Loss: 0.305.. Train mIoU:0.000.. Val mIoU: 0.000.. Train Acc:0.928.. Val Acc:0.826.. Time: 0.07m\n"
     ]
    },
    {
     "data": {
      "application/vnd.jupyter.widget-view+json": {
       "model_id": "6dbfa2c866694cbea8bd7ea5a2330fd6",
       "version_major": 2,
       "version_minor": 0
      },
      "text/plain": [
       "  0%|          | 0/8 [00:00<?, ?it/s]"
      ]
     },
     "metadata": {},
     "output_type": "display_data"
    },
    {
     "name": "stdout",
     "output_type": "stream",
     "text": [
      "Epoch:467/1000.. Train Loss: 0.151.. Val Loss: 0.397.. Train mIoU:0.000.. Val mIoU: 0.000.. Train Acc:0.924.. Val Acc:0.821.. Time: 0.08m\n"
     ]
    },
    {
     "data": {
      "application/vnd.jupyter.widget-view+json": {
       "model_id": "725cae36652f42fa8a4a707b60573b1b",
       "version_major": 2,
       "version_minor": 0
      },
      "text/plain": [
       "  0%|          | 0/8 [00:00<?, ?it/s]"
      ]
     },
     "metadata": {},
     "output_type": "display_data"
    },
    {
     "name": "stdout",
     "output_type": "stream",
     "text": [
      "Epoch:468/1000.. Train Loss: 0.148.. Val Loss: 0.241.. Train mIoU:0.000.. Val mIoU: 0.000.. Train Acc:0.924.. Val Acc:0.869.. Time: 0.07m\n"
     ]
    },
    {
     "data": {
      "application/vnd.jupyter.widget-view+json": {
       "model_id": "9f1dde1a9d6f4d888f5908156fb63ace",
       "version_major": 2,
       "version_minor": 0
      },
      "text/plain": [
       "  0%|          | 0/8 [00:00<?, ?it/s]"
      ]
     },
     "metadata": {},
     "output_type": "display_data"
    },
    {
     "name": "stdout",
     "output_type": "stream",
     "text": [
      "Epoch:469/1000.. Train Loss: 0.147.. Val Loss: 0.324.. Train mIoU:0.000.. Val mIoU: 0.000.. Train Acc:0.926.. Val Acc:0.832.. Time: 0.07m\n"
     ]
    },
    {
     "data": {
      "application/vnd.jupyter.widget-view+json": {
       "model_id": "89fc2edb5d9f46499a6787c012cbadec",
       "version_major": 2,
       "version_minor": 0
      },
      "text/plain": [
       "  0%|          | 0/8 [00:00<?, ?it/s]"
      ]
     },
     "metadata": {},
     "output_type": "display_data"
    },
    {
     "name": "stdout",
     "output_type": "stream",
     "text": [
      "Epoch:470/1000.. Train Loss: 0.143.. Val Loss: 0.251.. Train mIoU:0.000.. Val mIoU: 0.000.. Train Acc:0.927.. Val Acc:0.866.. Time: 0.07m\n"
     ]
    },
    {
     "data": {
      "application/vnd.jupyter.widget-view+json": {
       "model_id": "c15ead51938f48b78474cbab362d825c",
       "version_major": 2,
       "version_minor": 0
      },
      "text/plain": [
       "  0%|          | 0/8 [00:00<?, ?it/s]"
      ]
     },
     "metadata": {},
     "output_type": "display_data"
    },
    {
     "name": "stdout",
     "output_type": "stream",
     "text": [
      "Epoch:471/1000.. Train Loss: 0.157.. Val Loss: 0.239.. Train mIoU:0.000.. Val mIoU: 0.000.. Train Acc:0.923.. Val Acc:0.875.. Time: 0.07m\n"
     ]
    },
    {
     "data": {
      "application/vnd.jupyter.widget-view+json": {
       "model_id": "bb02daf5dd6349a6b8b30800b86e41e7",
       "version_major": 2,
       "version_minor": 0
      },
      "text/plain": [
       "  0%|          | 0/8 [00:00<?, ?it/s]"
      ]
     },
     "metadata": {},
     "output_type": "display_data"
    },
    {
     "name": "stdout",
     "output_type": "stream",
     "text": [
      "Epoch:472/1000.. Train Loss: 0.142.. Val Loss: 0.247.. Train mIoU:0.000.. Val mIoU: 0.000.. Train Acc:0.927.. Val Acc:0.873.. Time: 0.07m\n"
     ]
    },
    {
     "data": {
      "application/vnd.jupyter.widget-view+json": {
       "model_id": "543ec58d53d74881a21802b1842f4a33",
       "version_major": 2,
       "version_minor": 0
      },
      "text/plain": [
       "  0%|          | 0/8 [00:00<?, ?it/s]"
      ]
     },
     "metadata": {},
     "output_type": "display_data"
    },
    {
     "name": "stdout",
     "output_type": "stream",
     "text": [
      "Epoch:473/1000.. Train Loss: 0.144.. Val Loss: 0.277.. Train mIoU:0.000.. Val mIoU: 0.000.. Train Acc:0.926.. Val Acc:0.868.. Time: 0.07m\n"
     ]
    },
    {
     "data": {
      "application/vnd.jupyter.widget-view+json": {
       "model_id": "d511ae88b43e42d589127188366d2fed",
       "version_major": 2,
       "version_minor": 0
      },
      "text/plain": [
       "  0%|          | 0/8 [00:00<?, ?it/s]"
      ]
     },
     "metadata": {},
     "output_type": "display_data"
    },
    {
     "name": "stdout",
     "output_type": "stream",
     "text": [
      "Epoch:474/1000.. Train Loss: 0.163.. Val Loss: 0.285.. Train mIoU:0.000.. Val mIoU: 0.000.. Train Acc:0.926.. Val Acc:0.873.. Time: 0.07m\n"
     ]
    },
    {
     "data": {
      "application/vnd.jupyter.widget-view+json": {
       "model_id": "7da469eaa778483a8e7a89a41b9b7a4a",
       "version_major": 2,
       "version_minor": 0
      },
      "text/plain": [
       "  0%|          | 0/8 [00:00<?, ?it/s]"
      ]
     },
     "metadata": {},
     "output_type": "display_data"
    },
    {
     "name": "stdout",
     "output_type": "stream",
     "text": [
      "Epoch:475/1000.. Train Loss: 0.146.. Val Loss: 0.286.. Train mIoU:0.000.. Val mIoU: 0.000.. Train Acc:0.928.. Val Acc:0.870.. Time: 0.07m\n"
     ]
    },
    {
     "data": {
      "application/vnd.jupyter.widget-view+json": {
       "model_id": "2ea378d35a92453388fdcf7c4b4e31f5",
       "version_major": 2,
       "version_minor": 0
      },
      "text/plain": [
       "  0%|          | 0/8 [00:00<?, ?it/s]"
      ]
     },
     "metadata": {},
     "output_type": "display_data"
    },
    {
     "name": "stdout",
     "output_type": "stream",
     "text": [
      "Epoch:476/1000.. Train Loss: 0.158.. Val Loss: 0.251.. Train mIoU:0.000.. Val mIoU: 0.000.. Train Acc:0.925.. Val Acc:0.869.. Time: 0.07m\n"
     ]
    },
    {
     "data": {
      "application/vnd.jupyter.widget-view+json": {
       "model_id": "2fd291d343e6449e9c27ee374ce67d96",
       "version_major": 2,
       "version_minor": 0
      },
      "text/plain": [
       "  0%|          | 0/8 [00:00<?, ?it/s]"
      ]
     },
     "metadata": {},
     "output_type": "display_data"
    },
    {
     "name": "stdout",
     "output_type": "stream",
     "text": [
      "Epoch:477/1000.. Train Loss: 0.146.. Val Loss: 0.261.. Train mIoU:0.000.. Val mIoU: 0.000.. Train Acc:0.927.. Val Acc:0.869.. Time: 0.07m\n"
     ]
    },
    {
     "data": {
      "application/vnd.jupyter.widget-view+json": {
       "model_id": "21086d9370fd4b718fda9b56d4a03884",
       "version_major": 2,
       "version_minor": 0
      },
      "text/plain": [
       "  0%|          | 0/8 [00:00<?, ?it/s]"
      ]
     },
     "metadata": {},
     "output_type": "display_data"
    },
    {
     "name": "stdout",
     "output_type": "stream",
     "text": [
      "Epoch:478/1000.. Train Loss: 0.143.. Val Loss: 0.240.. Train mIoU:0.000.. Val mIoU: 0.000.. Train Acc:0.928.. Val Acc:0.869.. Time: 0.07m\n"
     ]
    },
    {
     "data": {
      "application/vnd.jupyter.widget-view+json": {
       "model_id": "f42035e9d299482e90e889273d435387",
       "version_major": 2,
       "version_minor": 0
      },
      "text/plain": [
       "  0%|          | 0/8 [00:00<?, ?it/s]"
      ]
     },
     "metadata": {},
     "output_type": "display_data"
    },
    {
     "name": "stdout",
     "output_type": "stream",
     "text": [
      "Epoch:479/1000.. Train Loss: 0.144.. Val Loss: 0.329.. Train mIoU:0.000.. Val mIoU: 0.000.. Train Acc:0.926.. Val Acc:0.831.. Time: 0.07m\n"
     ]
    },
    {
     "data": {
      "application/vnd.jupyter.widget-view+json": {
       "model_id": "e26272bb7068424b9ceeeba3c478c1d4",
       "version_major": 2,
       "version_minor": 0
      },
      "text/plain": [
       "  0%|          | 0/8 [00:00<?, ?it/s]"
      ]
     },
     "metadata": {},
     "output_type": "display_data"
    },
    {
     "name": "stdout",
     "output_type": "stream",
     "text": [
      "Epoch:480/1000.. Train Loss: 0.171.. Val Loss: 0.246.. Train mIoU:0.000.. Val mIoU: 0.000.. Train Acc:0.925.. Val Acc:0.868.. Time: 0.07m\n"
     ]
    },
    {
     "data": {
      "application/vnd.jupyter.widget-view+json": {
       "model_id": "401e450b5d1f4a959c6f469e42b17b05",
       "version_major": 2,
       "version_minor": 0
      },
      "text/plain": [
       "  0%|          | 0/8 [00:00<?, ?it/s]"
      ]
     },
     "metadata": {},
     "output_type": "display_data"
    },
    {
     "name": "stdout",
     "output_type": "stream",
     "text": [
      "Epoch:481/1000.. Train Loss: 0.145.. Val Loss: 0.235.. Train mIoU:0.000.. Val mIoU: 0.000.. Train Acc:0.927.. Val Acc:0.878.. Time: 0.07m\n"
     ]
    },
    {
     "data": {
      "application/vnd.jupyter.widget-view+json": {
       "model_id": "8dcd970bede24cf5aa64fd88c191a309",
       "version_major": 2,
       "version_minor": 0
      },
      "text/plain": [
       "  0%|          | 0/8 [00:00<?, ?it/s]"
      ]
     },
     "metadata": {},
     "output_type": "display_data"
    },
    {
     "name": "stdout",
     "output_type": "stream",
     "text": [
      "Epoch:482/1000.. Train Loss: 0.146.. Val Loss: 0.244.. Train mIoU:0.000.. Val mIoU: 0.000.. Train Acc:0.928.. Val Acc:0.867.. Time: 0.07m\n"
     ]
    },
    {
     "data": {
      "application/vnd.jupyter.widget-view+json": {
       "model_id": "d947ad66c807459794b5f07d3e95ddc5",
       "version_major": 2,
       "version_minor": 0
      },
      "text/plain": [
       "  0%|          | 0/8 [00:00<?, ?it/s]"
      ]
     },
     "metadata": {},
     "output_type": "display_data"
    },
    {
     "name": "stdout",
     "output_type": "stream",
     "text": [
      "Epoch:483/1000.. Train Loss: 0.149.. Val Loss: 0.249.. Train mIoU:0.000.. Val mIoU: 0.000.. Train Acc:0.926.. Val Acc:0.871.. Time: 0.07m\n"
     ]
    },
    {
     "data": {
      "application/vnd.jupyter.widget-view+json": {
       "model_id": "0e79b12b163a4359a84bb4c1906e653a",
       "version_major": 2,
       "version_minor": 0
      },
      "text/plain": [
       "  0%|          | 0/8 [00:00<?, ?it/s]"
      ]
     },
     "metadata": {},
     "output_type": "display_data"
    },
    {
     "name": "stdout",
     "output_type": "stream",
     "text": [
      "Epoch:484/1000.. Train Loss: 0.145.. Val Loss: 0.231.. Train mIoU:0.000.. Val mIoU: 0.000.. Train Acc:0.927.. Val Acc:0.876.. Time: 0.07m\n"
     ]
    },
    {
     "data": {
      "application/vnd.jupyter.widget-view+json": {
       "model_id": "1622adf4bbec4492b256f999c98f88d1",
       "version_major": 2,
       "version_minor": 0
      },
      "text/plain": [
       "  0%|          | 0/8 [00:00<?, ?it/s]"
      ]
     },
     "metadata": {},
     "output_type": "display_data"
    },
    {
     "name": "stdout",
     "output_type": "stream",
     "text": [
      "Epoch:485/1000.. Train Loss: 0.145.. Val Loss: 0.345.. Train mIoU:0.000.. Val mIoU: 0.000.. Train Acc:0.925.. Val Acc:0.837.. Time: 0.07m\n"
     ]
    },
    {
     "data": {
      "application/vnd.jupyter.widget-view+json": {
       "model_id": "538e3f670ae448a2b46d83b2910d1fae",
       "version_major": 2,
       "version_minor": 0
      },
      "text/plain": [
       "  0%|          | 0/8 [00:00<?, ?it/s]"
      ]
     },
     "metadata": {},
     "output_type": "display_data"
    },
    {
     "name": "stdout",
     "output_type": "stream",
     "text": [
      "Epoch:486/1000.. Train Loss: 0.147.. Val Loss: 0.248.. Train mIoU:0.000.. Val mIoU: 0.000.. Train Acc:0.926.. Val Acc:0.871.. Time: 0.07m\n"
     ]
    },
    {
     "data": {
      "application/vnd.jupyter.widget-view+json": {
       "model_id": "0ceecf70089940088b3ec8b34f2d6630",
       "version_major": 2,
       "version_minor": 0
      },
      "text/plain": [
       "  0%|          | 0/8 [00:00<?, ?it/s]"
      ]
     },
     "metadata": {},
     "output_type": "display_data"
    },
    {
     "name": "stdout",
     "output_type": "stream",
     "text": [
      "Epoch:487/1000.. Train Loss: 0.143.. Val Loss: 0.321.. Train mIoU:0.000.. Val mIoU: 0.000.. Train Acc:0.927.. Val Acc:0.820.. Time: 0.07m\n"
     ]
    },
    {
     "data": {
      "application/vnd.jupyter.widget-view+json": {
       "model_id": "d2666a30b6404e548ce987f7677f0bf6",
       "version_major": 2,
       "version_minor": 0
      },
      "text/plain": [
       "  0%|          | 0/8 [00:00<?, ?it/s]"
      ]
     },
     "metadata": {},
     "output_type": "display_data"
    },
    {
     "name": "stdout",
     "output_type": "stream",
     "text": [
      "Epoch:488/1000.. Train Loss: 0.145.. Val Loss: 0.240.. Train mIoU:0.000.. Val mIoU: 0.000.. Train Acc:0.925.. Val Acc:0.873.. Time: 0.07m\n"
     ]
    },
    {
     "data": {
      "application/vnd.jupyter.widget-view+json": {
       "model_id": "cba4a55f1ddb46f1aacd9833adb849dc",
       "version_major": 2,
       "version_minor": 0
      },
      "text/plain": [
       "  0%|          | 0/8 [00:00<?, ?it/s]"
      ]
     },
     "metadata": {},
     "output_type": "display_data"
    },
    {
     "name": "stdout",
     "output_type": "stream",
     "text": [
      "Epoch:489/1000.. Train Loss: 0.144.. Val Loss: 0.245.. Train mIoU:0.000.. Val mIoU: 0.000.. Train Acc:0.928.. Val Acc:0.865.. Time: 0.07m\n"
     ]
    },
    {
     "data": {
      "application/vnd.jupyter.widget-view+json": {
       "model_id": "d8bc432522ed4dabbfaffbedb064f501",
       "version_major": 2,
       "version_minor": 0
      },
      "text/plain": [
       "  0%|          | 0/8 [00:00<?, ?it/s]"
      ]
     },
     "metadata": {},
     "output_type": "display_data"
    },
    {
     "name": "stdout",
     "output_type": "stream",
     "text": [
      "Epoch:490/1000.. Train Loss: 0.145.. Val Loss: 0.319.. Train mIoU:0.000.. Val mIoU: 0.000.. Train Acc:0.927.. Val Acc:0.841.. Time: 0.08m\n"
     ]
    },
    {
     "data": {
      "application/vnd.jupyter.widget-view+json": {
       "model_id": "7bee710a66aa434e8d5e2dbde3170b20",
       "version_major": 2,
       "version_minor": 0
      },
      "text/plain": [
       "  0%|          | 0/8 [00:00<?, ?it/s]"
      ]
     },
     "metadata": {},
     "output_type": "display_data"
    },
    {
     "name": "stdout",
     "output_type": "stream",
     "text": [
      "Epoch:491/1000.. Train Loss: 0.143.. Val Loss: 0.236.. Train mIoU:0.000.. Val mIoU: 0.000.. Train Acc:0.927.. Val Acc:0.867.. Time: 0.07m\n"
     ]
    },
    {
     "data": {
      "application/vnd.jupyter.widget-view+json": {
       "model_id": "5dcec6d67d8a42efa33ac140337e97ca",
       "version_major": 2,
       "version_minor": 0
      },
      "text/plain": [
       "  0%|          | 0/8 [00:00<?, ?it/s]"
      ]
     },
     "metadata": {},
     "output_type": "display_data"
    },
    {
     "name": "stdout",
     "output_type": "stream",
     "text": [
      "Epoch:492/1000.. Train Loss: 0.144.. Val Loss: 0.341.. Train mIoU:0.000.. Val mIoU: 0.000.. Train Acc:0.927.. Val Acc:0.825.. Time: 0.07m\n"
     ]
    },
    {
     "data": {
      "application/vnd.jupyter.widget-view+json": {
       "model_id": "2b2f197641d340f48324984644889c4f",
       "version_major": 2,
       "version_minor": 0
      },
      "text/plain": [
       "  0%|          | 0/8 [00:00<?, ?it/s]"
      ]
     },
     "metadata": {},
     "output_type": "display_data"
    },
    {
     "name": "stdout",
     "output_type": "stream",
     "text": [
      "Epoch:493/1000.. Train Loss: 0.143.. Val Loss: 0.287.. Train mIoU:0.000.. Val mIoU: 0.000.. Train Acc:0.927.. Val Acc:0.852.. Time: 0.07m\n"
     ]
    },
    {
     "data": {
      "application/vnd.jupyter.widget-view+json": {
       "model_id": "79efd5401a964ce0aff4949288badb84",
       "version_major": 2,
       "version_minor": 0
      },
      "text/plain": [
       "  0%|          | 0/8 [00:00<?, ?it/s]"
      ]
     },
     "metadata": {},
     "output_type": "display_data"
    },
    {
     "name": "stdout",
     "output_type": "stream",
     "text": [
      "Epoch:494/1000.. Train Loss: 0.143.. Val Loss: 0.237.. Train mIoU:0.000.. Val mIoU: 0.000.. Train Acc:0.927.. Val Acc:0.873.. Time: 0.07m\n"
     ]
    },
    {
     "data": {
      "application/vnd.jupyter.widget-view+json": {
       "model_id": "dda4e7c54f6d4c30b0a1a658e0cdcddb",
       "version_major": 2,
       "version_minor": 0
      },
      "text/plain": [
       "  0%|          | 0/8 [00:00<?, ?it/s]"
      ]
     },
     "metadata": {},
     "output_type": "display_data"
    },
    {
     "name": "stdout",
     "output_type": "stream",
     "text": [
      "Epoch:495/1000.. Train Loss: 0.144.. Val Loss: 0.239.. Train mIoU:0.000.. Val mIoU: 0.000.. Train Acc:0.927.. Val Acc:0.867.. Time: 0.07m\n"
     ]
    },
    {
     "data": {
      "application/vnd.jupyter.widget-view+json": {
       "model_id": "a0892fc0fa604d7480ee06792dd87156",
       "version_major": 2,
       "version_minor": 0
      },
      "text/plain": [
       "  0%|          | 0/8 [00:00<?, ?it/s]"
      ]
     },
     "metadata": {},
     "output_type": "display_data"
    },
    {
     "name": "stdout",
     "output_type": "stream",
     "text": [
      "Epoch:496/1000.. Train Loss: 0.144.. Val Loss: 0.327.. Train mIoU:0.000.. Val mIoU: 0.000.. Train Acc:0.927.. Val Acc:0.803.. Time: 0.07m\n"
     ]
    },
    {
     "data": {
      "application/vnd.jupyter.widget-view+json": {
       "model_id": "52a644fe3d0e412c888f74fe53b9e07b",
       "version_major": 2,
       "version_minor": 0
      },
      "text/plain": [
       "  0%|          | 0/8 [00:00<?, ?it/s]"
      ]
     },
     "metadata": {},
     "output_type": "display_data"
    },
    {
     "name": "stdout",
     "output_type": "stream",
     "text": [
      "Epoch:497/1000.. Train Loss: 0.142.. Val Loss: 0.312.. Train mIoU:0.000.. Val mIoU: 0.000.. Train Acc:0.928.. Val Acc:0.835.. Time: 0.07m\n"
     ]
    },
    {
     "data": {
      "application/vnd.jupyter.widget-view+json": {
       "model_id": "e7ec1dd0db96458b9e4977beccc27a74",
       "version_major": 2,
       "version_minor": 0
      },
      "text/plain": [
       "  0%|          | 0/8 [00:00<?, ?it/s]"
      ]
     },
     "metadata": {},
     "output_type": "display_data"
    },
    {
     "name": "stdout",
     "output_type": "stream",
     "text": [
      "Epoch:498/1000.. Train Loss: 0.141.. Val Loss: 0.303.. Train mIoU:0.000.. Val mIoU: 0.000.. Train Acc:0.929.. Val Acc:0.829.. Time: 0.07m\n"
     ]
    },
    {
     "data": {
      "application/vnd.jupyter.widget-view+json": {
       "model_id": "9963c15361024251b01cd4ea7ee30dc8",
       "version_major": 2,
       "version_minor": 0
      },
      "text/plain": [
       "  0%|          | 0/8 [00:00<?, ?it/s]"
      ]
     },
     "metadata": {},
     "output_type": "display_data"
    },
    {
     "name": "stdout",
     "output_type": "stream",
     "text": [
      "Epoch:499/1000.. Train Loss: 0.142.. Val Loss: 0.318.. Train mIoU:0.000.. Val mIoU: 0.000.. Train Acc:0.927.. Val Acc:0.827.. Time: 0.07m\n"
     ]
    },
    {
     "data": {
      "application/vnd.jupyter.widget-view+json": {
       "model_id": "7f416103cc044dd18ee1285cea937ea5",
       "version_major": 2,
       "version_minor": 0
      },
      "text/plain": [
       "  0%|          | 0/8 [00:00<?, ?it/s]"
      ]
     },
     "metadata": {},
     "output_type": "display_data"
    },
    {
     "name": "stdout",
     "output_type": "stream",
     "text": [
      "Epoch:500/1000.. Train Loss: 0.271.. Val Loss: 0.337.. Train mIoU:0.000.. Val mIoU: 0.000.. Train Acc:0.855.. Val Acc:0.833.. Time: 0.07m\n"
     ]
    },
    {
     "data": {
      "application/vnd.jupyter.widget-view+json": {
       "model_id": "c299fc7546c244618d2b3f1e30522106",
       "version_major": 2,
       "version_minor": 0
      },
      "text/plain": [
       "  0%|          | 0/8 [00:00<?, ?it/s]"
      ]
     },
     "metadata": {},
     "output_type": "display_data"
    },
    {
     "name": "stdout",
     "output_type": "stream",
     "text": [
      "Epoch:501/1000.. Train Loss: 0.199.. Val Loss: 0.241.. Train mIoU:0.000.. Val mIoU: 0.000.. Train Acc:0.895.. Val Acc:0.868.. Time: 0.07m\n"
     ]
    },
    {
     "data": {
      "application/vnd.jupyter.widget-view+json": {
       "model_id": "ad1eea14718d451c8d9f4162d02875a5",
       "version_major": 2,
       "version_minor": 0
      },
      "text/plain": [
       "  0%|          | 0/8 [00:00<?, ?it/s]"
      ]
     },
     "metadata": {},
     "output_type": "display_data"
    },
    {
     "name": "stdout",
     "output_type": "stream",
     "text": [
      "Epoch:502/1000.. Train Loss: 0.174.. Val Loss: 0.255.. Train mIoU:0.000.. Val mIoU: 0.000.. Train Acc:0.914.. Val Acc:0.873.. Time: 0.07m\n"
     ]
    },
    {
     "data": {
      "application/vnd.jupyter.widget-view+json": {
       "model_id": "a290bff0105b48818b81f06881cc04fe",
       "version_major": 2,
       "version_minor": 0
      },
      "text/plain": [
       "  0%|          | 0/8 [00:00<?, ?it/s]"
      ]
     },
     "metadata": {},
     "output_type": "display_data"
    },
    {
     "name": "stdout",
     "output_type": "stream",
     "text": [
      "Epoch:503/1000.. Train Loss: 0.159.. Val Loss: 0.246.. Train mIoU:0.000.. Val mIoU: 0.000.. Train Acc:0.917.. Val Acc:0.872.. Time: 0.07m\n"
     ]
    },
    {
     "data": {
      "application/vnd.jupyter.widget-view+json": {
       "model_id": "50ccb4616c2d4d28bf44d67be51fe4f5",
       "version_major": 2,
       "version_minor": 0
      },
      "text/plain": [
       "  0%|          | 0/8 [00:00<?, ?it/s]"
      ]
     },
     "metadata": {},
     "output_type": "display_data"
    },
    {
     "name": "stdout",
     "output_type": "stream",
     "text": [
      "Epoch:504/1000.. Train Loss: 0.152.. Val Loss: 0.331.. Train mIoU:0.000.. Val mIoU: 0.000.. Train Acc:0.925.. Val Acc:0.839.. Time: 0.07m\n"
     ]
    },
    {
     "data": {
      "application/vnd.jupyter.widget-view+json": {
       "model_id": "23e7cdb8505a4fdfb1d4aac2c1243b12",
       "version_major": 2,
       "version_minor": 0
      },
      "text/plain": [
       "  0%|          | 0/8 [00:00<?, ?it/s]"
      ]
     },
     "metadata": {},
     "output_type": "display_data"
    },
    {
     "name": "stdout",
     "output_type": "stream",
     "text": [
      "Epoch:505/1000.. Train Loss: 0.157.. Val Loss: 0.346.. Train mIoU:0.000.. Val mIoU: 0.000.. Train Acc:0.920.. Val Acc:0.823.. Time: 0.07m\n"
     ]
    },
    {
     "data": {
      "application/vnd.jupyter.widget-view+json": {
       "model_id": "e1097ade978e493680327237cdcf148c",
       "version_major": 2,
       "version_minor": 0
      },
      "text/plain": [
       "  0%|          | 0/8 [00:00<?, ?it/s]"
      ]
     },
     "metadata": {},
     "output_type": "display_data"
    },
    {
     "name": "stdout",
     "output_type": "stream",
     "text": [
      "Epoch:506/1000.. Train Loss: 0.153.. Val Loss: 0.249.. Train mIoU:0.000.. Val mIoU: 0.000.. Train Acc:0.923.. Val Acc:0.873.. Time: 0.07m\n"
     ]
    },
    {
     "data": {
      "application/vnd.jupyter.widget-view+json": {
       "model_id": "b0350a60589e4d2eac37f5e10a7541c9",
       "version_major": 2,
       "version_minor": 0
      },
      "text/plain": [
       "  0%|          | 0/8 [00:00<?, ?it/s]"
      ]
     },
     "metadata": {},
     "output_type": "display_data"
    },
    {
     "name": "stdout",
     "output_type": "stream",
     "text": [
      "Epoch:507/1000.. Train Loss: 0.154.. Val Loss: 0.344.. Train mIoU:0.000.. Val mIoU: 0.000.. Train Acc:0.921.. Val Acc:0.810.. Time: 0.07m\n"
     ]
    },
    {
     "data": {
      "application/vnd.jupyter.widget-view+json": {
       "model_id": "dbf0b05df8964dfeabdc326d5942c7f3",
       "version_major": 2,
       "version_minor": 0
      },
      "text/plain": [
       "  0%|          | 0/8 [00:00<?, ?it/s]"
      ]
     },
     "metadata": {},
     "output_type": "display_data"
    },
    {
     "name": "stdout",
     "output_type": "stream",
     "text": [
      "Epoch:508/1000.. Train Loss: 0.153.. Val Loss: 0.287.. Train mIoU:0.000.. Val mIoU: 0.000.. Train Acc:0.924.. Val Acc:0.867.. Time: 0.07m\n"
     ]
    },
    {
     "data": {
      "application/vnd.jupyter.widget-view+json": {
       "model_id": "4db7c92bbcaf4a40a491e0e233fff804",
       "version_major": 2,
       "version_minor": 0
      },
      "text/plain": [
       "  0%|          | 0/8 [00:00<?, ?it/s]"
      ]
     },
     "metadata": {},
     "output_type": "display_data"
    },
    {
     "name": "stdout",
     "output_type": "stream",
     "text": [
      "Epoch:509/1000.. Train Loss: 0.148.. Val Loss: 0.269.. Train mIoU:0.000.. Val mIoU: 0.000.. Train Acc:0.926.. Val Acc:0.868.. Time: 0.07m\n"
     ]
    },
    {
     "data": {
      "application/vnd.jupyter.widget-view+json": {
       "model_id": "f3b1c54d4f2546239f46a607b4ff8303",
       "version_major": 2,
       "version_minor": 0
      },
      "text/plain": [
       "  0%|          | 0/8 [00:00<?, ?it/s]"
      ]
     },
     "metadata": {},
     "output_type": "display_data"
    },
    {
     "name": "stdout",
     "output_type": "stream",
     "text": [
      "Epoch:510/1000.. Train Loss: 0.144.. Val Loss: 0.270.. Train mIoU:0.000.. Val mIoU: 0.000.. Train Acc:0.926.. Val Acc:0.872.. Time: 0.07m\n"
     ]
    },
    {
     "data": {
      "application/vnd.jupyter.widget-view+json": {
       "model_id": "f5c523f9718e4cc6bfd1eb7d267bbf31",
       "version_major": 2,
       "version_minor": 0
      },
      "text/plain": [
       "  0%|          | 0/8 [00:00<?, ?it/s]"
      ]
     },
     "metadata": {},
     "output_type": "display_data"
    },
    {
     "name": "stdout",
     "output_type": "stream",
     "text": [
      "Epoch:511/1000.. Train Loss: 0.155.. Val Loss: 0.271.. Train mIoU:0.000.. Val mIoU: 0.000.. Train Acc:0.925.. Val Acc:0.868.. Time: 0.07m\n"
     ]
    },
    {
     "data": {
      "application/vnd.jupyter.widget-view+json": {
       "model_id": "5b8f97b78c4d4557b0fda9cb0f1ccb65",
       "version_major": 2,
       "version_minor": 0
      },
      "text/plain": [
       "  0%|          | 0/8 [00:00<?, ?it/s]"
      ]
     },
     "metadata": {},
     "output_type": "display_data"
    },
    {
     "name": "stdout",
     "output_type": "stream",
     "text": [
      "Epoch:512/1000.. Train Loss: 0.145.. Val Loss: 0.256.. Train mIoU:0.000.. Val mIoU: 0.000.. Train Acc:0.925.. Val Acc:0.873.. Time: 0.07m\n"
     ]
    },
    {
     "data": {
      "application/vnd.jupyter.widget-view+json": {
       "model_id": "2eaef4e974bf4b959484398624801e2b",
       "version_major": 2,
       "version_minor": 0
      },
      "text/plain": [
       "  0%|          | 0/8 [00:00<?, ?it/s]"
      ]
     },
     "metadata": {},
     "output_type": "display_data"
    },
    {
     "name": "stdout",
     "output_type": "stream",
     "text": [
      "Epoch:513/1000.. Train Loss: 0.144.. Val Loss: 0.258.. Train mIoU:0.000.. Val mIoU: 0.000.. Train Acc:0.923.. Val Acc:0.866.. Time: 0.07m\n"
     ]
    },
    {
     "data": {
      "application/vnd.jupyter.widget-view+json": {
       "model_id": "ea69d7958cfd4f4fb6ee1312c5d5a97b",
       "version_major": 2,
       "version_minor": 0
      },
      "text/plain": [
       "  0%|          | 0/8 [00:00<?, ?it/s]"
      ]
     },
     "metadata": {},
     "output_type": "display_data"
    },
    {
     "name": "stdout",
     "output_type": "stream",
     "text": [
      "Epoch:514/1000.. Train Loss: 0.144.. Val Loss: 0.290.. Train mIoU:0.000.. Val mIoU: 0.000.. Train Acc:0.927.. Val Acc:0.849.. Time: 0.07m\n"
     ]
    },
    {
     "data": {
      "application/vnd.jupyter.widget-view+json": {
       "model_id": "e0be3e39c9654ecc94f18ab040465392",
       "version_major": 2,
       "version_minor": 0
      },
      "text/plain": [
       "  0%|          | 0/8 [00:00<?, ?it/s]"
      ]
     },
     "metadata": {},
     "output_type": "display_data"
    },
    {
     "name": "stdout",
     "output_type": "stream",
     "text": [
      "Epoch:515/1000.. Train Loss: 0.149.. Val Loss: 0.318.. Train mIoU:0.000.. Val mIoU: 0.000.. Train Acc:0.926.. Val Acc:0.835.. Time: 0.07m\n"
     ]
    },
    {
     "data": {
      "application/vnd.jupyter.widget-view+json": {
       "model_id": "c791b4dd26274f28b6ea18c81a92bb67",
       "version_major": 2,
       "version_minor": 0
      },
      "text/plain": [
       "  0%|          | 0/8 [00:00<?, ?it/s]"
      ]
     },
     "metadata": {},
     "output_type": "display_data"
    },
    {
     "name": "stdout",
     "output_type": "stream",
     "text": [
      "Epoch:516/1000.. Train Loss: 0.145.. Val Loss: 0.244.. Train mIoU:0.000.. Val mIoU: 0.000.. Train Acc:0.926.. Val Acc:0.872.. Time: 0.07m\n"
     ]
    },
    {
     "data": {
      "application/vnd.jupyter.widget-view+json": {
       "model_id": "dbb4388b5c28463d9d18febea8415272",
       "version_major": 2,
       "version_minor": 0
      },
      "text/plain": [
       "  0%|          | 0/8 [00:00<?, ?it/s]"
      ]
     },
     "metadata": {},
     "output_type": "display_data"
    },
    {
     "name": "stdout",
     "output_type": "stream",
     "text": [
      "Epoch:517/1000.. Train Loss: 0.142.. Val Loss: 0.253.. Train mIoU:0.000.. Val mIoU: 0.000.. Train Acc:0.927.. Val Acc:0.871.. Time: 0.07m\n"
     ]
    },
    {
     "data": {
      "application/vnd.jupyter.widget-view+json": {
       "model_id": "e6e30635e4ae423181445b9008e40b44",
       "version_major": 2,
       "version_minor": 0
      },
      "text/plain": [
       "  0%|          | 0/8 [00:00<?, ?it/s]"
      ]
     },
     "metadata": {},
     "output_type": "display_data"
    },
    {
     "name": "stdout",
     "output_type": "stream",
     "text": [
      "Epoch:518/1000.. Train Loss: 0.166.. Val Loss: 0.265.. Train mIoU:0.000.. Val mIoU: 0.000.. Train Acc:0.926.. Val Acc:0.873.. Time: 0.07m\n"
     ]
    },
    {
     "data": {
      "application/vnd.jupyter.widget-view+json": {
       "model_id": "4da2b53146c941aea98648980b5af7f9",
       "version_major": 2,
       "version_minor": 0
      },
      "text/plain": [
       "  0%|          | 0/8 [00:00<?, ?it/s]"
      ]
     },
     "metadata": {},
     "output_type": "display_data"
    },
    {
     "name": "stdout",
     "output_type": "stream",
     "text": [
      "Epoch:519/1000.. Train Loss: 0.148.. Val Loss: 0.264.. Train mIoU:0.000.. Val mIoU: 0.000.. Train Acc:0.927.. Val Acc:0.875.. Time: 0.07m\n"
     ]
    },
    {
     "data": {
      "application/vnd.jupyter.widget-view+json": {
       "model_id": "f7ffb14a1732409e88dd328f14a1077b",
       "version_major": 2,
       "version_minor": 0
      },
      "text/plain": [
       "  0%|          | 0/8 [00:00<?, ?it/s]"
      ]
     },
     "metadata": {},
     "output_type": "display_data"
    },
    {
     "name": "stdout",
     "output_type": "stream",
     "text": [
      "Epoch:520/1000.. Train Loss: 0.149.. Val Loss: 0.324.. Train mIoU:0.000.. Val mIoU: 0.000.. Train Acc:0.924.. Val Acc:0.829.. Time: 0.07m\n"
     ]
    },
    {
     "data": {
      "application/vnd.jupyter.widget-view+json": {
       "model_id": "746b4bb8b4be41eba796a0c9f57e28a4",
       "version_major": 2,
       "version_minor": 0
      },
      "text/plain": [
       "  0%|          | 0/8 [00:00<?, ?it/s]"
      ]
     },
     "metadata": {},
     "output_type": "display_data"
    },
    {
     "name": "stdout",
     "output_type": "stream",
     "text": [
      "Epoch:521/1000.. Train Loss: 0.184.. Val Loss: 0.326.. Train mIoU:0.000.. Val mIoU: 0.000.. Train Acc:0.907.. Val Acc:0.812.. Time: 0.07m\n"
     ]
    },
    {
     "data": {
      "application/vnd.jupyter.widget-view+json": {
       "model_id": "36c0f89b67d342f694a903a9e70f11ec",
       "version_major": 2,
       "version_minor": 0
      },
      "text/plain": [
       "  0%|          | 0/8 [00:00<?, ?it/s]"
      ]
     },
     "metadata": {},
     "output_type": "display_data"
    },
    {
     "name": "stdout",
     "output_type": "stream",
     "text": [
      "Epoch:522/1000.. Train Loss: 0.153.. Val Loss: 0.307.. Train mIoU:0.000.. Val mIoU: 0.000.. Train Acc:0.921.. Val Acc:0.834.. Time: 0.07m\n"
     ]
    },
    {
     "data": {
      "application/vnd.jupyter.widget-view+json": {
       "model_id": "e46f36b5ffa34dfab3e1aa94d5ab4b8f",
       "version_major": 2,
       "version_minor": 0
      },
      "text/plain": [
       "  0%|          | 0/8 [00:00<?, ?it/s]"
      ]
     },
     "metadata": {},
     "output_type": "display_data"
    },
    {
     "name": "stdout",
     "output_type": "stream",
     "text": [
      "Epoch:523/1000.. Train Loss: 0.143.. Val Loss: 0.269.. Train mIoU:0.000.. Val mIoU: 0.000.. Train Acc:0.926.. Val Acc:0.858.. Time: 0.07m\n"
     ]
    },
    {
     "data": {
      "application/vnd.jupyter.widget-view+json": {
       "model_id": "fcadb71cb8864a2a859f7a11af0961f2",
       "version_major": 2,
       "version_minor": 0
      },
      "text/plain": [
       "  0%|          | 0/8 [00:00<?, ?it/s]"
      ]
     },
     "metadata": {},
     "output_type": "display_data"
    },
    {
     "name": "stdout",
     "output_type": "stream",
     "text": [
      "Epoch:524/1000.. Train Loss: 0.145.. Val Loss: 0.395.. Train mIoU:0.000.. Val mIoU: 0.000.. Train Acc:0.926.. Val Acc:0.865.. Time: 0.08m\n"
     ]
    },
    {
     "data": {
      "application/vnd.jupyter.widget-view+json": {
       "model_id": "2d6903ab85134655b193958cc31418ea",
       "version_major": 2,
       "version_minor": 0
      },
      "text/plain": [
       "  0%|          | 0/8 [00:00<?, ?it/s]"
      ]
     },
     "metadata": {},
     "output_type": "display_data"
    },
    {
     "name": "stdout",
     "output_type": "stream",
     "text": [
      "Epoch:525/1000.. Train Loss: 0.154.. Val Loss: 0.262.. Train mIoU:0.000.. Val mIoU: 0.000.. Train Acc:0.927.. Val Acc:0.868.. Time: 0.07m\n"
     ]
    },
    {
     "data": {
      "application/vnd.jupyter.widget-view+json": {
       "model_id": "26513c2a78db4683a88a39c2dfa04079",
       "version_major": 2,
       "version_minor": 0
      },
      "text/plain": [
       "  0%|          | 0/8 [00:00<?, ?it/s]"
      ]
     },
     "metadata": {},
     "output_type": "display_data"
    },
    {
     "name": "stdout",
     "output_type": "stream",
     "text": [
      "Epoch:526/1000.. Train Loss: 0.143.. Val Loss: 0.336.. Train mIoU:0.000.. Val mIoU: 0.000.. Train Acc:0.928.. Val Acc:0.866.. Time: 0.07m\n"
     ]
    },
    {
     "data": {
      "application/vnd.jupyter.widget-view+json": {
       "model_id": "6abe838135864c21accd0e9244b4b1b3",
       "version_major": 2,
       "version_minor": 0
      },
      "text/plain": [
       "  0%|          | 0/8 [00:00<?, ?it/s]"
      ]
     },
     "metadata": {},
     "output_type": "display_data"
    },
    {
     "name": "stdout",
     "output_type": "stream",
     "text": [
      "Epoch:527/1000.. Train Loss: 0.142.. Val Loss: 0.246.. Train mIoU:0.000.. Val mIoU: 0.000.. Train Acc:0.928.. Val Acc:0.868.. Time: 0.07m\n"
     ]
    },
    {
     "data": {
      "application/vnd.jupyter.widget-view+json": {
       "model_id": "6dd5f523cd2b4868832a303beb881aed",
       "version_major": 2,
       "version_minor": 0
      },
      "text/plain": [
       "  0%|          | 0/8 [00:00<?, ?it/s]"
      ]
     },
     "metadata": {},
     "output_type": "display_data"
    },
    {
     "name": "stdout",
     "output_type": "stream",
     "text": [
      "Epoch:528/1000.. Train Loss: 0.141.. Val Loss: 0.349.. Train mIoU:0.000.. Val mIoU: 0.000.. Train Acc:0.929.. Val Acc:0.825.. Time: 0.07m\n"
     ]
    },
    {
     "data": {
      "application/vnd.jupyter.widget-view+json": {
       "model_id": "5e1ad7a23aea44619e6ee8be04df278e",
       "version_major": 2,
       "version_minor": 0
      },
      "text/plain": [
       "  0%|          | 0/8 [00:00<?, ?it/s]"
      ]
     },
     "metadata": {},
     "output_type": "display_data"
    },
    {
     "name": "stdout",
     "output_type": "stream",
     "text": [
      "Epoch:529/1000.. Train Loss: 0.154.. Val Loss: 0.255.. Train mIoU:0.000.. Val mIoU: 0.000.. Train Acc:0.925.. Val Acc:0.866.. Time: 0.08m\n"
     ]
    },
    {
     "data": {
      "application/vnd.jupyter.widget-view+json": {
       "model_id": "54f25111b4ac4162940d32a041802679",
       "version_major": 2,
       "version_minor": 0
      },
      "text/plain": [
       "  0%|          | 0/8 [00:00<?, ?it/s]"
      ]
     },
     "metadata": {},
     "output_type": "display_data"
    },
    {
     "name": "stdout",
     "output_type": "stream",
     "text": [
      "Epoch:530/1000.. Train Loss: 0.150.. Val Loss: 0.306.. Train mIoU:0.000.. Val mIoU: 0.000.. Train Acc:0.928.. Val Acc:0.830.. Time: 0.07m\n"
     ]
    },
    {
     "data": {
      "application/vnd.jupyter.widget-view+json": {
       "model_id": "50e900a70bb7496b9d288f346e8c9b97",
       "version_major": 2,
       "version_minor": 0
      },
      "text/plain": [
       "  0%|          | 0/8 [00:00<?, ?it/s]"
      ]
     },
     "metadata": {},
     "output_type": "display_data"
    },
    {
     "name": "stdout",
     "output_type": "stream",
     "text": [
      "Epoch:531/1000.. Train Loss: 0.142.. Val Loss: 0.245.. Train mIoU:0.000.. Val mIoU: 0.000.. Train Acc:0.929.. Val Acc:0.870.. Time: 0.07m\n"
     ]
    },
    {
     "data": {
      "application/vnd.jupyter.widget-view+json": {
       "model_id": "b8e9807c59c445209631aa7e57b80d1c",
       "version_major": 2,
       "version_minor": 0
      },
      "text/plain": [
       "  0%|          | 0/8 [00:00<?, ?it/s]"
      ]
     },
     "metadata": {},
     "output_type": "display_data"
    },
    {
     "name": "stdout",
     "output_type": "stream",
     "text": [
      "Epoch:532/1000.. Train Loss: 0.142.. Val Loss: 0.239.. Train mIoU:0.000.. Val mIoU: 0.000.. Train Acc:0.927.. Val Acc:0.873.. Time: 0.07m\n"
     ]
    },
    {
     "data": {
      "application/vnd.jupyter.widget-view+json": {
       "model_id": "41aa8e93314f4bf487b7765b5fbab258",
       "version_major": 2,
       "version_minor": 0
      },
      "text/plain": [
       "  0%|          | 0/8 [00:00<?, ?it/s]"
      ]
     },
     "metadata": {},
     "output_type": "display_data"
    },
    {
     "name": "stdout",
     "output_type": "stream",
     "text": [
      "Epoch:533/1000.. Train Loss: 0.140.. Val Loss: 0.323.. Train mIoU:0.000.. Val mIoU: 0.000.. Train Acc:0.929.. Val Acc:0.815.. Time: 0.07m\n"
     ]
    },
    {
     "data": {
      "application/vnd.jupyter.widget-view+json": {
       "model_id": "865a557c57634673854dc3719a0a7c67",
       "version_major": 2,
       "version_minor": 0
      },
      "text/plain": [
       "  0%|          | 0/8 [00:00<?, ?it/s]"
      ]
     },
     "metadata": {},
     "output_type": "display_data"
    },
    {
     "name": "stdout",
     "output_type": "stream",
     "text": [
      "Epoch:534/1000.. Train Loss: 0.143.. Val Loss: 0.237.. Train mIoU:0.000.. Val mIoU: 0.000.. Train Acc:0.928.. Val Acc:0.868.. Time: 0.07m\n"
     ]
    },
    {
     "data": {
      "application/vnd.jupyter.widget-view+json": {
       "model_id": "f39c33126b99484da8a1eab0f9ed9322",
       "version_major": 2,
       "version_minor": 0
      },
      "text/plain": [
       "  0%|          | 0/8 [00:00<?, ?it/s]"
      ]
     },
     "metadata": {},
     "output_type": "display_data"
    },
    {
     "name": "stdout",
     "output_type": "stream",
     "text": [
      "Epoch:535/1000.. Train Loss: 0.141.. Val Loss: 0.385.. Train mIoU:0.000.. Val mIoU: 0.000.. Train Acc:0.929.. Val Acc:0.813.. Time: 0.07m\n"
     ]
    },
    {
     "data": {
      "application/vnd.jupyter.widget-view+json": {
       "model_id": "ee5533f0a24e47728d4ada39bc7e8f0b",
       "version_major": 2,
       "version_minor": 0
      },
      "text/plain": [
       "  0%|          | 0/8 [00:00<?, ?it/s]"
      ]
     },
     "metadata": {},
     "output_type": "display_data"
    },
    {
     "name": "stdout",
     "output_type": "stream",
     "text": [
      "Epoch:536/1000.. Train Loss: 0.138.. Val Loss: 0.248.. Train mIoU:0.000.. Val mIoU: 0.000.. Train Acc:0.931.. Val Acc:0.871.. Time: 0.07m\n"
     ]
    },
    {
     "data": {
      "application/vnd.jupyter.widget-view+json": {
       "model_id": "776ef4d76ab044829269473572dd7f9a",
       "version_major": 2,
       "version_minor": 0
      },
      "text/plain": [
       "  0%|          | 0/8 [00:00<?, ?it/s]"
      ]
     },
     "metadata": {},
     "output_type": "display_data"
    },
    {
     "name": "stdout",
     "output_type": "stream",
     "text": [
      "Epoch:537/1000.. Train Loss: 0.143.. Val Loss: 0.240.. Train mIoU:0.000.. Val mIoU: 0.000.. Train Acc:0.928.. Val Acc:0.872.. Time: 0.07m\n"
     ]
    },
    {
     "data": {
      "application/vnd.jupyter.widget-view+json": {
       "model_id": "05a3099cbe654a6fa9f5b8169af60785",
       "version_major": 2,
       "version_minor": 0
      },
      "text/plain": [
       "  0%|          | 0/8 [00:00<?, ?it/s]"
      ]
     },
     "metadata": {},
     "output_type": "display_data"
    },
    {
     "name": "stdout",
     "output_type": "stream",
     "text": [
      "Epoch:538/1000.. Train Loss: 0.148.. Val Loss: 0.490.. Train mIoU:0.000.. Val mIoU: 0.000.. Train Acc:0.928.. Val Acc:0.738.. Time: 0.07m\n"
     ]
    },
    {
     "data": {
      "application/vnd.jupyter.widget-view+json": {
       "model_id": "dad4ea9a761c40a3859a9ce8697f84be",
       "version_major": 2,
       "version_minor": 0
      },
      "text/plain": [
       "  0%|          | 0/8 [00:00<?, ?it/s]"
      ]
     },
     "metadata": {},
     "output_type": "display_data"
    },
    {
     "name": "stdout",
     "output_type": "stream",
     "text": [
      "Epoch:539/1000.. Train Loss: 0.142.. Val Loss: 0.257.. Train mIoU:0.000.. Val mIoU: 0.000.. Train Acc:0.928.. Val Acc:0.871.. Time: 0.07m\n"
     ]
    },
    {
     "data": {
      "application/vnd.jupyter.widget-view+json": {
       "model_id": "7f461f0e993348039c9251483519b985",
       "version_major": 2,
       "version_minor": 0
      },
      "text/plain": [
       "  0%|          | 0/8 [00:00<?, ?it/s]"
      ]
     },
     "metadata": {},
     "output_type": "display_data"
    },
    {
     "name": "stdout",
     "output_type": "stream",
     "text": [
      "Epoch:540/1000.. Train Loss: 0.143.. Val Loss: 0.254.. Train mIoU:0.000.. Val mIoU: 0.000.. Train Acc:0.927.. Val Acc:0.869.. Time: 0.07m\n"
     ]
    },
    {
     "data": {
      "application/vnd.jupyter.widget-view+json": {
       "model_id": "6d547f50998b4ee98bf1097880abd0c4",
       "version_major": 2,
       "version_minor": 0
      },
      "text/plain": [
       "  0%|          | 0/8 [00:00<?, ?it/s]"
      ]
     },
     "metadata": {},
     "output_type": "display_data"
    },
    {
     "name": "stdout",
     "output_type": "stream",
     "text": [
      "Epoch:541/1000.. Train Loss: 0.140.. Val Loss: 0.328.. Train mIoU:0.000.. Val mIoU: 0.000.. Train Acc:0.930.. Val Acc:0.827.. Time: 0.07m\n"
     ]
    },
    {
     "data": {
      "application/vnd.jupyter.widget-view+json": {
       "model_id": "f9d1182e5c854b44ba46236954286274",
       "version_major": 2,
       "version_minor": 0
      },
      "text/plain": [
       "  0%|          | 0/8 [00:00<?, ?it/s]"
      ]
     },
     "metadata": {},
     "output_type": "display_data"
    },
    {
     "name": "stdout",
     "output_type": "stream",
     "text": [
      "Epoch:542/1000.. Train Loss: 0.144.. Val Loss: 0.265.. Train mIoU:0.000.. Val mIoU: 0.000.. Train Acc:0.928.. Val Acc:0.870.. Time: 0.07m\n"
     ]
    },
    {
     "data": {
      "application/vnd.jupyter.widget-view+json": {
       "model_id": "bddf5f6b570f4fa68390711517508e19",
       "version_major": 2,
       "version_minor": 0
      },
      "text/plain": [
       "  0%|          | 0/8 [00:00<?, ?it/s]"
      ]
     },
     "metadata": {},
     "output_type": "display_data"
    },
    {
     "name": "stdout",
     "output_type": "stream",
     "text": [
      "Epoch:543/1000.. Train Loss: 0.143.. Val Loss: 0.351.. Train mIoU:0.000.. Val mIoU: 0.000.. Train Acc:0.928.. Val Acc:0.814.. Time: 0.07m\n"
     ]
    },
    {
     "data": {
      "application/vnd.jupyter.widget-view+json": {
       "model_id": "f0937d66dc2e4dfa8c1d2a99f8444ac9",
       "version_major": 2,
       "version_minor": 0
      },
      "text/plain": [
       "  0%|          | 0/8 [00:00<?, ?it/s]"
      ]
     },
     "metadata": {},
     "output_type": "display_data"
    },
    {
     "name": "stdout",
     "output_type": "stream",
     "text": [
      "Epoch:544/1000.. Train Loss: 0.167.. Val Loss: 0.433.. Train mIoU:0.000.. Val mIoU: 0.000.. Train Acc:0.926.. Val Acc:0.762.. Time: 0.07m\n"
     ]
    },
    {
     "data": {
      "application/vnd.jupyter.widget-view+json": {
       "model_id": "6b016198d4a24386a7d72a0307ae9cbc",
       "version_major": 2,
       "version_minor": 0
      },
      "text/plain": [
       "  0%|          | 0/8 [00:00<?, ?it/s]"
      ]
     },
     "metadata": {},
     "output_type": "display_data"
    },
    {
     "name": "stdout",
     "output_type": "stream",
     "text": [
      "Epoch:545/1000.. Train Loss: 0.150.. Val Loss: 0.337.. Train mIoU:0.000.. Val mIoU: 0.000.. Train Acc:0.925.. Val Acc:0.859.. Time: 0.07m\n"
     ]
    },
    {
     "data": {
      "application/vnd.jupyter.widget-view+json": {
       "model_id": "3cdf44a3733e4ab8b5c7f2ebaa2da17c",
       "version_major": 2,
       "version_minor": 0
      },
      "text/plain": [
       "  0%|          | 0/8 [00:00<?, ?it/s]"
      ]
     },
     "metadata": {},
     "output_type": "display_data"
    },
    {
     "name": "stdout",
     "output_type": "stream",
     "text": [
      "Epoch:546/1000.. Train Loss: 0.206.. Val Loss: 0.243.. Train mIoU:0.000.. Val mIoU: 0.000.. Train Acc:0.923.. Val Acc:0.869.. Time: 0.07m\n"
     ]
    },
    {
     "data": {
      "application/vnd.jupyter.widget-view+json": {
       "model_id": "153f055841204197993caa793e4e5ef8",
       "version_major": 2,
       "version_minor": 0
      },
      "text/plain": [
       "  0%|          | 0/8 [00:00<?, ?it/s]"
      ]
     },
     "metadata": {},
     "output_type": "display_data"
    },
    {
     "name": "stdout",
     "output_type": "stream",
     "text": [
      "Epoch:547/1000.. Train Loss: 0.145.. Val Loss: 0.317.. Train mIoU:0.000.. Val mIoU: 0.000.. Train Acc:0.928.. Val Acc:0.813.. Time: 0.08m\n"
     ]
    },
    {
     "data": {
      "application/vnd.jupyter.widget-view+json": {
       "model_id": "d02bf2e260ed4f7baf7e960b370863a4",
       "version_major": 2,
       "version_minor": 0
      },
      "text/plain": [
       "  0%|          | 0/8 [00:00<?, ?it/s]"
      ]
     },
     "metadata": {},
     "output_type": "display_data"
    },
    {
     "name": "stdout",
     "output_type": "stream",
     "text": [
      "Epoch:548/1000.. Train Loss: 0.152.. Val Loss: 0.290.. Train mIoU:0.000.. Val mIoU: 0.000.. Train Acc:0.925.. Val Acc:0.843.. Time: 0.07m\n"
     ]
    },
    {
     "data": {
      "application/vnd.jupyter.widget-view+json": {
       "model_id": "3cfce2dd310540748ff49b844bea9a9b",
       "version_major": 2,
       "version_minor": 0
      },
      "text/plain": [
       "  0%|          | 0/8 [00:00<?, ?it/s]"
      ]
     },
     "metadata": {},
     "output_type": "display_data"
    },
    {
     "name": "stdout",
     "output_type": "stream",
     "text": [
      "Epoch:549/1000.. Train Loss: 0.146.. Val Loss: 0.267.. Train mIoU:0.000.. Val mIoU: 0.000.. Train Acc:0.923.. Val Acc:0.873.. Time: 0.07m\n"
     ]
    },
    {
     "data": {
      "application/vnd.jupyter.widget-view+json": {
       "model_id": "dc39b84c195f4e769ab07336f6374b52",
       "version_major": 2,
       "version_minor": 0
      },
      "text/plain": [
       "  0%|          | 0/8 [00:00<?, ?it/s]"
      ]
     },
     "metadata": {},
     "output_type": "display_data"
    },
    {
     "name": "stdout",
     "output_type": "stream",
     "text": [
      "Epoch:550/1000.. Train Loss: 0.150.. Val Loss: 0.303.. Train mIoU:0.000.. Val mIoU: 0.000.. Train Acc:0.923.. Val Acc:0.825.. Time: 0.07m\n"
     ]
    },
    {
     "data": {
      "application/vnd.jupyter.widget-view+json": {
       "model_id": "218d2c65e49a4090ae59afafdfdb0dea",
       "version_major": 2,
       "version_minor": 0
      },
      "text/plain": [
       "  0%|          | 0/8 [00:00<?, ?it/s]"
      ]
     },
     "metadata": {},
     "output_type": "display_data"
    },
    {
     "name": "stdout",
     "output_type": "stream",
     "text": [
      "Epoch:551/1000.. Train Loss: 0.163.. Val Loss: 0.222.. Train mIoU:0.000.. Val mIoU: 0.000.. Train Acc:0.924.. Val Acc:0.874.. Time: 0.07m\n"
     ]
    },
    {
     "data": {
      "application/vnd.jupyter.widget-view+json": {
       "model_id": "106e8c2c3bdf48aba90cd929cb7bec71",
       "version_major": 2,
       "version_minor": 0
      },
      "text/plain": [
       "  0%|          | 0/8 [00:00<?, ?it/s]"
      ]
     },
     "metadata": {},
     "output_type": "display_data"
    },
    {
     "name": "stdout",
     "output_type": "stream",
     "text": [
      "Epoch:552/1000.. Train Loss: 0.159.. Val Loss: 0.252.. Train mIoU:0.000.. Val mIoU: 0.000.. Train Acc:0.922.. Val Acc:0.874.. Time: 0.07m\n"
     ]
    },
    {
     "data": {
      "application/vnd.jupyter.widget-view+json": {
       "model_id": "31ef73fecb3d42f49fa3e2f8d3891f97",
       "version_major": 2,
       "version_minor": 0
      },
      "text/plain": [
       "  0%|          | 0/8 [00:00<?, ?it/s]"
      ]
     },
     "metadata": {},
     "output_type": "display_data"
    },
    {
     "name": "stdout",
     "output_type": "stream",
     "text": [
      "Epoch:553/1000.. Train Loss: 0.146.. Val Loss: 0.230.. Train mIoU:0.000.. Val mIoU: 0.000.. Train Acc:0.927.. Val Acc:0.874.. Time: 0.07m\n"
     ]
    },
    {
     "data": {
      "application/vnd.jupyter.widget-view+json": {
       "model_id": "5b8eeb6a1b604551b021a4085971c494",
       "version_major": 2,
       "version_minor": 0
      },
      "text/plain": [
       "  0%|          | 0/8 [00:00<?, ?it/s]"
      ]
     },
     "metadata": {},
     "output_type": "display_data"
    },
    {
     "name": "stdout",
     "output_type": "stream",
     "text": [
      "Epoch:554/1000.. Train Loss: 0.146.. Val Loss: 0.260.. Train mIoU:0.000.. Val mIoU: 0.000.. Train Acc:0.924.. Val Acc:0.871.. Time: 0.07m\n"
     ]
    },
    {
     "data": {
      "application/vnd.jupyter.widget-view+json": {
       "model_id": "eb68621874754d0da17ae477ef97bb1b",
       "version_major": 2,
       "version_minor": 0
      },
      "text/plain": [
       "  0%|          | 0/8 [00:00<?, ?it/s]"
      ]
     },
     "metadata": {},
     "output_type": "display_data"
    },
    {
     "name": "stdout",
     "output_type": "stream",
     "text": [
      "Epoch:555/1000.. Train Loss: 0.143.. Val Loss: 0.303.. Train mIoU:0.000.. Val mIoU: 0.000.. Train Acc:0.927.. Val Acc:0.869.. Time: 0.07m\n"
     ]
    },
    {
     "data": {
      "application/vnd.jupyter.widget-view+json": {
       "model_id": "23f9887b786b4511b2a1e57fa5450937",
       "version_major": 2,
       "version_minor": 0
      },
      "text/plain": [
       "  0%|          | 0/8 [00:00<?, ?it/s]"
      ]
     },
     "metadata": {},
     "output_type": "display_data"
    },
    {
     "name": "stdout",
     "output_type": "stream",
     "text": [
      "Epoch:556/1000.. Train Loss: 0.155.. Val Loss: 0.301.. Train mIoU:0.000.. Val mIoU: 0.000.. Train Acc:0.927.. Val Acc:0.841.. Time: 0.07m\n"
     ]
    },
    {
     "data": {
      "application/vnd.jupyter.widget-view+json": {
       "model_id": "ed9077d9cb074af3873c43ecb1a9f0bb",
       "version_major": 2,
       "version_minor": 0
      },
      "text/plain": [
       "  0%|          | 0/8 [00:00<?, ?it/s]"
      ]
     },
     "metadata": {},
     "output_type": "display_data"
    },
    {
     "name": "stdout",
     "output_type": "stream",
     "text": [
      "Epoch:557/1000.. Train Loss: 0.145.. Val Loss: 0.239.. Train mIoU:0.000.. Val mIoU: 0.000.. Train Acc:0.925.. Val Acc:0.872.. Time: 0.07m\n"
     ]
    },
    {
     "data": {
      "application/vnd.jupyter.widget-view+json": {
       "model_id": "ace2f7ef96694574aec04bc1a055a20d",
       "version_major": 2,
       "version_minor": 0
      },
      "text/plain": [
       "  0%|          | 0/8 [00:00<?, ?it/s]"
      ]
     },
     "metadata": {},
     "output_type": "display_data"
    },
    {
     "name": "stdout",
     "output_type": "stream",
     "text": [
      "Epoch:558/1000.. Train Loss: 0.143.. Val Loss: 0.269.. Train mIoU:0.000.. Val mIoU: 0.000.. Train Acc:0.926.. Val Acc:0.872.. Time: 0.07m\n"
     ]
    },
    {
     "data": {
      "application/vnd.jupyter.widget-view+json": {
       "model_id": "98ccb0110e5d4e77b2e5c4ddd84b9335",
       "version_major": 2,
       "version_minor": 0
      },
      "text/plain": [
       "  0%|          | 0/8 [00:00<?, ?it/s]"
      ]
     },
     "metadata": {},
     "output_type": "display_data"
    },
    {
     "name": "stdout",
     "output_type": "stream",
     "text": [
      "Epoch:559/1000.. Train Loss: 0.140.. Val Loss: 0.344.. Train mIoU:0.000.. Val mIoU: 0.000.. Train Acc:0.929.. Val Acc:0.822.. Time: 0.08m\n"
     ]
    },
    {
     "data": {
      "application/vnd.jupyter.widget-view+json": {
       "model_id": "014f1ca4ca7141efb01a06d706efa506",
       "version_major": 2,
       "version_minor": 0
      },
      "text/plain": [
       "  0%|          | 0/8 [00:00<?, ?it/s]"
      ]
     },
     "metadata": {},
     "output_type": "display_data"
    },
    {
     "name": "stdout",
     "output_type": "stream",
     "text": [
      "Epoch:560/1000.. Train Loss: 0.141.. Val Loss: 0.316.. Train mIoU:0.000.. Val mIoU: 0.000.. Train Acc:0.928.. Val Acc:0.833.. Time: 0.07m\n"
     ]
    },
    {
     "data": {
      "application/vnd.jupyter.widget-view+json": {
       "model_id": "13a56c0050de460ea5526c030340eca1",
       "version_major": 2,
       "version_minor": 0
      },
      "text/plain": [
       "  0%|          | 0/8 [00:00<?, ?it/s]"
      ]
     },
     "metadata": {},
     "output_type": "display_data"
    },
    {
     "name": "stdout",
     "output_type": "stream",
     "text": [
      "Epoch:561/1000.. Train Loss: 0.144.. Val Loss: 0.297.. Train mIoU:0.000.. Val mIoU: 0.000.. Train Acc:0.926.. Val Acc:0.857.. Time: 0.07m\n"
     ]
    },
    {
     "data": {
      "application/vnd.jupyter.widget-view+json": {
       "model_id": "c4f6d10644cc4cfe977995bb6da72744",
       "version_major": 2,
       "version_minor": 0
      },
      "text/plain": [
       "  0%|          | 0/8 [00:00<?, ?it/s]"
      ]
     },
     "metadata": {},
     "output_type": "display_data"
    },
    {
     "name": "stdout",
     "output_type": "stream",
     "text": [
      "Epoch:562/1000.. Train Loss: 0.140.. Val Loss: 0.256.. Train mIoU:0.000.. Val mIoU: 0.000.. Train Acc:0.928.. Val Acc:0.872.. Time: 0.07m\n"
     ]
    },
    {
     "data": {
      "application/vnd.jupyter.widget-view+json": {
       "model_id": "c2268727570b4154ba0279b60d4f62d1",
       "version_major": 2,
       "version_minor": 0
      },
      "text/plain": [
       "  0%|          | 0/8 [00:00<?, ?it/s]"
      ]
     },
     "metadata": {},
     "output_type": "display_data"
    },
    {
     "name": "stdout",
     "output_type": "stream",
     "text": [
      "Epoch:563/1000.. Train Loss: 0.140.. Val Loss: 0.334.. Train mIoU:0.000.. Val mIoU: 0.000.. Train Acc:0.928.. Val Acc:0.827.. Time: 0.07m\n"
     ]
    },
    {
     "data": {
      "application/vnd.jupyter.widget-view+json": {
       "model_id": "415f53cffd694896a2293682f91d0acd",
       "version_major": 2,
       "version_minor": 0
      },
      "text/plain": [
       "  0%|          | 0/8 [00:00<?, ?it/s]"
      ]
     },
     "metadata": {},
     "output_type": "display_data"
    },
    {
     "name": "stdout",
     "output_type": "stream",
     "text": [
      "Epoch:564/1000.. Train Loss: 0.140.. Val Loss: 0.317.. Train mIoU:0.000.. Val mIoU: 0.000.. Train Acc:0.929.. Val Acc:0.827.. Time: 0.07m\n"
     ]
    },
    {
     "data": {
      "application/vnd.jupyter.widget-view+json": {
       "model_id": "4fc70d7d51c84e84b6e071a0e57c3d4c",
       "version_major": 2,
       "version_minor": 0
      },
      "text/plain": [
       "  0%|          | 0/8 [00:00<?, ?it/s]"
      ]
     },
     "metadata": {},
     "output_type": "display_data"
    },
    {
     "name": "stdout",
     "output_type": "stream",
     "text": [
      "Epoch:565/1000.. Train Loss: 0.138.. Val Loss: 0.322.. Train mIoU:0.000.. Val mIoU: 0.000.. Train Acc:0.929.. Val Acc:0.868.. Time: 0.07m\n"
     ]
    },
    {
     "data": {
      "application/vnd.jupyter.widget-view+json": {
       "model_id": "3cdd4bf182c54d7a90412af03d4be7b9",
       "version_major": 2,
       "version_minor": 0
      },
      "text/plain": [
       "  0%|          | 0/8 [00:00<?, ?it/s]"
      ]
     },
     "metadata": {},
     "output_type": "display_data"
    },
    {
     "name": "stdout",
     "output_type": "stream",
     "text": [
      "Epoch:566/1000.. Train Loss: 0.140.. Val Loss: 0.311.. Train mIoU:0.000.. Val mIoU: 0.000.. Train Acc:0.930.. Val Acc:0.830.. Time: 0.07m\n"
     ]
    },
    {
     "data": {
      "application/vnd.jupyter.widget-view+json": {
       "model_id": "23d5898ff7eb44c28713a6d050463557",
       "version_major": 2,
       "version_minor": 0
      },
      "text/plain": [
       "  0%|          | 0/8 [00:00<?, ?it/s]"
      ]
     },
     "metadata": {},
     "output_type": "display_data"
    },
    {
     "name": "stdout",
     "output_type": "stream",
     "text": [
      "Epoch:567/1000.. Train Loss: 0.138.. Val Loss: 0.324.. Train mIoU:0.000.. Val mIoU: 0.000.. Train Acc:0.930.. Val Acc:0.849.. Time: 0.07m\n"
     ]
    },
    {
     "data": {
      "application/vnd.jupyter.widget-view+json": {
       "model_id": "4069278aaa234392b2527003fb502e80",
       "version_major": 2,
       "version_minor": 0
      },
      "text/plain": [
       "  0%|          | 0/8 [00:00<?, ?it/s]"
      ]
     },
     "metadata": {},
     "output_type": "display_data"
    },
    {
     "name": "stdout",
     "output_type": "stream",
     "text": [
      "Epoch:568/1000.. Train Loss: 0.138.. Val Loss: 0.270.. Train mIoU:0.000.. Val mIoU: 0.000.. Train Acc:0.932.. Val Acc:0.865.. Time: 0.07m\n"
     ]
    },
    {
     "data": {
      "application/vnd.jupyter.widget-view+json": {
       "model_id": "a3243b5a98b949d88a0d62f6cea27e6f",
       "version_major": 2,
       "version_minor": 0
      },
      "text/plain": [
       "  0%|          | 0/8 [00:00<?, ?it/s]"
      ]
     },
     "metadata": {},
     "output_type": "display_data"
    },
    {
     "name": "stdout",
     "output_type": "stream",
     "text": [
      "Epoch:569/1000.. Train Loss: 0.141.. Val Loss: 0.335.. Train mIoU:0.000.. Val mIoU: 0.000.. Train Acc:0.928.. Val Acc:0.835.. Time: 0.07m\n"
     ]
    },
    {
     "data": {
      "application/vnd.jupyter.widget-view+json": {
       "model_id": "97e37dbc3b5847e490fb280dc5a13695",
       "version_major": 2,
       "version_minor": 0
      },
      "text/plain": [
       "  0%|          | 0/8 [00:00<?, ?it/s]"
      ]
     },
     "metadata": {},
     "output_type": "display_data"
    },
    {
     "name": "stdout",
     "output_type": "stream",
     "text": [
      "Epoch:570/1000.. Train Loss: 0.138.. Val Loss: 0.253.. Train mIoU:0.000.. Val mIoU: 0.000.. Train Acc:0.930.. Val Acc:0.870.. Time: 0.08m\n"
     ]
    },
    {
     "data": {
      "application/vnd.jupyter.widget-view+json": {
       "model_id": "603a7057fb7e427c9945c5e64ce5c92c",
       "version_major": 2,
       "version_minor": 0
      },
      "text/plain": [
       "  0%|          | 0/8 [00:00<?, ?it/s]"
      ]
     },
     "metadata": {},
     "output_type": "display_data"
    },
    {
     "name": "stdout",
     "output_type": "stream",
     "text": [
      "Epoch:571/1000.. Train Loss: 0.140.. Val Loss: 0.244.. Train mIoU:0.000.. Val mIoU: 0.000.. Train Acc:0.931.. Val Acc:0.873.. Time: 0.07m\n"
     ]
    },
    {
     "data": {
      "application/vnd.jupyter.widget-view+json": {
       "model_id": "827ab76703f34a69a98409840d358ae7",
       "version_major": 2,
       "version_minor": 0
      },
      "text/plain": [
       "  0%|          | 0/8 [00:00<?, ?it/s]"
      ]
     },
     "metadata": {},
     "output_type": "display_data"
    },
    {
     "name": "stdout",
     "output_type": "stream",
     "text": [
      "Epoch:572/1000.. Train Loss: 0.139.. Val Loss: 0.344.. Train mIoU:0.000.. Val mIoU: 0.000.. Train Acc:0.931.. Val Acc:0.829.. Time: 0.07m\n"
     ]
    },
    {
     "data": {
      "application/vnd.jupyter.widget-view+json": {
       "model_id": "129df246010d401892dacce5778074d3",
       "version_major": 2,
       "version_minor": 0
      },
      "text/plain": [
       "  0%|          | 0/8 [00:00<?, ?it/s]"
      ]
     },
     "metadata": {},
     "output_type": "display_data"
    },
    {
     "name": "stdout",
     "output_type": "stream",
     "text": [
      "Epoch:573/1000.. Train Loss: 0.138.. Val Loss: 0.258.. Train mIoU:0.000.. Val mIoU: 0.000.. Train Acc:0.930.. Val Acc:0.868.. Time: 0.07m\n"
     ]
    },
    {
     "data": {
      "application/vnd.jupyter.widget-view+json": {
       "model_id": "f96db42651da4a65b6cb2765331deee5",
       "version_major": 2,
       "version_minor": 0
      },
      "text/plain": [
       "  0%|          | 0/8 [00:00<?, ?it/s]"
      ]
     },
     "metadata": {},
     "output_type": "display_data"
    },
    {
     "name": "stdout",
     "output_type": "stream",
     "text": [
      "Epoch:574/1000.. Train Loss: 0.141.. Val Loss: 0.303.. Train mIoU:0.000.. Val mIoU: 0.000.. Train Acc:0.928.. Val Acc:0.845.. Time: 0.07m\n"
     ]
    },
    {
     "data": {
      "application/vnd.jupyter.widget-view+json": {
       "model_id": "042dbe8a98fd4ee1977bbe4994d0b4a6",
       "version_major": 2,
       "version_minor": 0
      },
      "text/plain": [
       "  0%|          | 0/8 [00:00<?, ?it/s]"
      ]
     },
     "metadata": {},
     "output_type": "display_data"
    },
    {
     "name": "stdout",
     "output_type": "stream",
     "text": [
      "Epoch:575/1000.. Train Loss: 0.137.. Val Loss: 0.239.. Train mIoU:0.000.. Val mIoU: 0.000.. Train Acc:0.930.. Val Acc:0.874.. Time: 0.07m\n"
     ]
    },
    {
     "data": {
      "application/vnd.jupyter.widget-view+json": {
       "model_id": "103ab2f0f3124c3cb5b7168a3420c6ff",
       "version_major": 2,
       "version_minor": 0
      },
      "text/plain": [
       "  0%|          | 0/8 [00:00<?, ?it/s]"
      ]
     },
     "metadata": {},
     "output_type": "display_data"
    },
    {
     "name": "stdout",
     "output_type": "stream",
     "text": [
      "Epoch:576/1000.. Train Loss: 0.140.. Val Loss: 0.316.. Train mIoU:0.000.. Val mIoU: 0.000.. Train Acc:0.929.. Val Acc:0.832.. Time: 0.07m\n"
     ]
    },
    {
     "data": {
      "application/vnd.jupyter.widget-view+json": {
       "model_id": "f06721b5648c4a7f9bc5fd61a5b7e159",
       "version_major": 2,
       "version_minor": 0
      },
      "text/plain": [
       "  0%|          | 0/8 [00:00<?, ?it/s]"
      ]
     },
     "metadata": {},
     "output_type": "display_data"
    },
    {
     "name": "stdout",
     "output_type": "stream",
     "text": [
      "Epoch:577/1000.. Train Loss: 0.139.. Val Loss: 0.397.. Train mIoU:0.000.. Val mIoU: 0.000.. Train Acc:0.929.. Val Acc:0.842.. Time: 0.07m\n"
     ]
    },
    {
     "data": {
      "application/vnd.jupyter.widget-view+json": {
       "model_id": "b3e0b83e2ae641a9b4ca1674835c5a20",
       "version_major": 2,
       "version_minor": 0
      },
      "text/plain": [
       "  0%|          | 0/8 [00:00<?, ?it/s]"
      ]
     },
     "metadata": {},
     "output_type": "display_data"
    },
    {
     "name": "stdout",
     "output_type": "stream",
     "text": [
      "Epoch:578/1000.. Train Loss: 0.138.. Val Loss: 0.323.. Train mIoU:0.000.. Val mIoU: 0.000.. Train Acc:0.930.. Val Acc:0.866.. Time: 0.07m\n"
     ]
    },
    {
     "data": {
      "application/vnd.jupyter.widget-view+json": {
       "model_id": "573c487bb602494c99b86449836b331a",
       "version_major": 2,
       "version_minor": 0
      },
      "text/plain": [
       "  0%|          | 0/8 [00:00<?, ?it/s]"
      ]
     },
     "metadata": {},
     "output_type": "display_data"
    },
    {
     "name": "stdout",
     "output_type": "stream",
     "text": [
      "Epoch:579/1000.. Train Loss: 0.155.. Val Loss: 0.340.. Train mIoU:0.000.. Val mIoU: 0.000.. Train Acc:0.924.. Val Acc:0.842.. Time: 0.07m\n"
     ]
    },
    {
     "data": {
      "application/vnd.jupyter.widget-view+json": {
       "model_id": "3b2d1136596f49df8326dd0b4051e18b",
       "version_major": 2,
       "version_minor": 0
      },
      "text/plain": [
       "  0%|          | 0/8 [00:00<?, ?it/s]"
      ]
     },
     "metadata": {},
     "output_type": "display_data"
    },
    {
     "name": "stdout",
     "output_type": "stream",
     "text": [
      "Epoch:580/1000.. Train Loss: 0.172.. Val Loss: 0.301.. Train mIoU:0.000.. Val mIoU: 0.000.. Train Acc:0.922.. Val Acc:0.837.. Time: 0.07m\n"
     ]
    },
    {
     "data": {
      "application/vnd.jupyter.widget-view+json": {
       "model_id": "501ee02850494297ab3b4b3445217378",
       "version_major": 2,
       "version_minor": 0
      },
      "text/plain": [
       "  0%|          | 0/8 [00:00<?, ?it/s]"
      ]
     },
     "metadata": {},
     "output_type": "display_data"
    },
    {
     "name": "stdout",
     "output_type": "stream",
     "text": [
      "Epoch:581/1000.. Train Loss: 0.145.. Val Loss: 0.290.. Train mIoU:0.000.. Val mIoU: 0.000.. Train Acc:0.928.. Val Acc:0.856.. Time: 0.08m\n"
     ]
    },
    {
     "data": {
      "application/vnd.jupyter.widget-view+json": {
       "model_id": "b15bcb68f7704eda95c865df85ce9bb3",
       "version_major": 2,
       "version_minor": 0
      },
      "text/plain": [
       "  0%|          | 0/8 [00:00<?, ?it/s]"
      ]
     },
     "metadata": {},
     "output_type": "display_data"
    },
    {
     "name": "stdout",
     "output_type": "stream",
     "text": [
      "Epoch:582/1000.. Train Loss: 0.152.. Val Loss: 0.285.. Train mIoU:0.000.. Val mIoU: 0.000.. Train Acc:0.925.. Val Acc:0.864.. Time: 0.07m\n"
     ]
    },
    {
     "data": {
      "application/vnd.jupyter.widget-view+json": {
       "model_id": "023f1606d1214754a5ab9a12c6b0da9c",
       "version_major": 2,
       "version_minor": 0
      },
      "text/plain": [
       "  0%|          | 0/8 [00:00<?, ?it/s]"
      ]
     },
     "metadata": {},
     "output_type": "display_data"
    },
    {
     "name": "stdout",
     "output_type": "stream",
     "text": [
      "Epoch:583/1000.. Train Loss: 0.142.. Val Loss: 0.309.. Train mIoU:0.000.. Val mIoU: 0.000.. Train Acc:0.927.. Val Acc:0.837.. Time: 0.07m\n"
     ]
    },
    {
     "data": {
      "application/vnd.jupyter.widget-view+json": {
       "model_id": "5b05803d401d465c9ebcfd1f857d6067",
       "version_major": 2,
       "version_minor": 0
      },
      "text/plain": [
       "  0%|          | 0/8 [00:00<?, ?it/s]"
      ]
     },
     "metadata": {},
     "output_type": "display_data"
    },
    {
     "name": "stdout",
     "output_type": "stream",
     "text": [
      "Epoch:584/1000.. Train Loss: 0.137.. Val Loss: 0.323.. Train mIoU:0.000.. Val mIoU: 0.000.. Train Acc:0.931.. Val Acc:0.812.. Time: 0.07m\n"
     ]
    },
    {
     "data": {
      "application/vnd.jupyter.widget-view+json": {
       "model_id": "ffcd5b39dde8466fb0580295a91c3d92",
       "version_major": 2,
       "version_minor": 0
      },
      "text/plain": [
       "  0%|          | 0/8 [00:00<?, ?it/s]"
      ]
     },
     "metadata": {},
     "output_type": "display_data"
    },
    {
     "name": "stdout",
     "output_type": "stream",
     "text": [
      "Epoch:585/1000.. Train Loss: 0.138.. Val Loss: 0.323.. Train mIoU:0.000.. Val mIoU: 0.000.. Train Acc:0.930.. Val Acc:0.816.. Time: 0.07m\n"
     ]
    },
    {
     "data": {
      "application/vnd.jupyter.widget-view+json": {
       "model_id": "3ec636ec6f544d4bbc5855baeba3013a",
       "version_major": 2,
       "version_minor": 0
      },
      "text/plain": [
       "  0%|          | 0/8 [00:00<?, ?it/s]"
      ]
     },
     "metadata": {},
     "output_type": "display_data"
    },
    {
     "name": "stdout",
     "output_type": "stream",
     "text": [
      "Epoch:586/1000.. Train Loss: 0.141.. Val Loss: 0.321.. Train mIoU:0.000.. Val mIoU: 0.000.. Train Acc:0.930.. Val Acc:0.825.. Time: 0.07m\n"
     ]
    },
    {
     "data": {
      "application/vnd.jupyter.widget-view+json": {
       "model_id": "06d4f2aaaeb54627b18f674d351120aa",
       "version_major": 2,
       "version_minor": 0
      },
      "text/plain": [
       "  0%|          | 0/8 [00:00<?, ?it/s]"
      ]
     },
     "metadata": {},
     "output_type": "display_data"
    },
    {
     "name": "stdout",
     "output_type": "stream",
     "text": [
      "Epoch:587/1000.. Train Loss: 0.142.. Val Loss: 0.260.. Train mIoU:0.000.. Val mIoU: 0.000.. Train Acc:0.929.. Val Acc:0.869.. Time: 0.07m\n"
     ]
    },
    {
     "data": {
      "application/vnd.jupyter.widget-view+json": {
       "model_id": "452d3f5a60274f8888a360ed654a4e3f",
       "version_major": 2,
       "version_minor": 0
      },
      "text/plain": [
       "  0%|          | 0/8 [00:00<?, ?it/s]"
      ]
     },
     "metadata": {},
     "output_type": "display_data"
    },
    {
     "name": "stdout",
     "output_type": "stream",
     "text": [
      "Epoch:588/1000.. Train Loss: 0.142.. Val Loss: 0.316.. Train mIoU:0.000.. Val mIoU: 0.000.. Train Acc:0.928.. Val Acc:0.821.. Time: 0.07m\n"
     ]
    },
    {
     "data": {
      "application/vnd.jupyter.widget-view+json": {
       "model_id": "8a1c91ff94464b8f9fc3216f037a0a0f",
       "version_major": 2,
       "version_minor": 0
      },
      "text/plain": [
       "  0%|          | 0/8 [00:00<?, ?it/s]"
      ]
     },
     "metadata": {},
     "output_type": "display_data"
    },
    {
     "name": "stdout",
     "output_type": "stream",
     "text": [
      "Epoch:589/1000.. Train Loss: 0.141.. Val Loss: 0.323.. Train mIoU:0.000.. Val mIoU: 0.000.. Train Acc:0.929.. Val Acc:0.825.. Time: 0.07m\n"
     ]
    },
    {
     "data": {
      "application/vnd.jupyter.widget-view+json": {
       "model_id": "bf74a79faf9a42ada9a71b64d7cbdc9b",
       "version_major": 2,
       "version_minor": 0
      },
      "text/plain": [
       "  0%|          | 0/8 [00:00<?, ?it/s]"
      ]
     },
     "metadata": {},
     "output_type": "display_data"
    },
    {
     "name": "stdout",
     "output_type": "stream",
     "text": [
      "Epoch:590/1000.. Train Loss: 0.142.. Val Loss: 0.291.. Train mIoU:0.000.. Val mIoU: 0.000.. Train Acc:0.931.. Val Acc:0.840.. Time: 0.07m\n"
     ]
    },
    {
     "data": {
      "application/vnd.jupyter.widget-view+json": {
       "model_id": "b828eae85df94be98d72059c81892ee1",
       "version_major": 2,
       "version_minor": 0
      },
      "text/plain": [
       "  0%|          | 0/8 [00:00<?, ?it/s]"
      ]
     },
     "metadata": {},
     "output_type": "display_data"
    },
    {
     "name": "stdout",
     "output_type": "stream",
     "text": [
      "Epoch:591/1000.. Train Loss: 0.139.. Val Loss: 0.347.. Train mIoU:0.000.. Val mIoU: 0.000.. Train Acc:0.930.. Val Acc:0.813.. Time: 0.07m\n"
     ]
    },
    {
     "data": {
      "application/vnd.jupyter.widget-view+json": {
       "model_id": "88fcb08dc9d748b89b7a7e02089b3d14",
       "version_major": 2,
       "version_minor": 0
      },
      "text/plain": [
       "  0%|          | 0/8 [00:00<?, ?it/s]"
      ]
     },
     "metadata": {},
     "output_type": "display_data"
    },
    {
     "name": "stdout",
     "output_type": "stream",
     "text": [
      "Epoch:592/1000.. Train Loss: 0.137.. Val Loss: 0.313.. Train mIoU:0.000.. Val mIoU: 0.000.. Train Acc:0.932.. Val Acc:0.834.. Time: 0.07m\n"
     ]
    },
    {
     "data": {
      "application/vnd.jupyter.widget-view+json": {
       "model_id": "5f933484fe1346d19aa15c389806514a",
       "version_major": 2,
       "version_minor": 0
      },
      "text/plain": [
       "  0%|          | 0/8 [00:00<?, ?it/s]"
      ]
     },
     "metadata": {},
     "output_type": "display_data"
    },
    {
     "name": "stdout",
     "output_type": "stream",
     "text": [
      "Epoch:593/1000.. Train Loss: 0.151.. Val Loss: 0.355.. Train mIoU:0.000.. Val mIoU: 0.000.. Train Acc:0.928.. Val Acc:0.807.. Time: 0.07m\n"
     ]
    },
    {
     "data": {
      "application/vnd.jupyter.widget-view+json": {
       "model_id": "03896b3d1f7e4f6ea8aacea6640890aa",
       "version_major": 2,
       "version_minor": 0
      },
      "text/plain": [
       "  0%|          | 0/8 [00:00<?, ?it/s]"
      ]
     },
     "metadata": {},
     "output_type": "display_data"
    },
    {
     "name": "stdout",
     "output_type": "stream",
     "text": [
      "Epoch:594/1000.. Train Loss: 0.141.. Val Loss: 0.333.. Train mIoU:0.000.. Val mIoU: 0.000.. Train Acc:0.929.. Val Acc:0.863.. Time: 0.07m\n"
     ]
    },
    {
     "data": {
      "application/vnd.jupyter.widget-view+json": {
       "model_id": "0c0be133d267491b9b687adaa8219a7c",
       "version_major": 2,
       "version_minor": 0
      },
      "text/plain": [
       "  0%|          | 0/8 [00:00<?, ?it/s]"
      ]
     },
     "metadata": {},
     "output_type": "display_data"
    },
    {
     "name": "stdout",
     "output_type": "stream",
     "text": [
      "Epoch:595/1000.. Train Loss: 0.140.. Val Loss: 0.318.. Train mIoU:0.000.. Val mIoU: 0.000.. Train Acc:0.930.. Val Acc:0.869.. Time: 0.07m\n"
     ]
    },
    {
     "data": {
      "application/vnd.jupyter.widget-view+json": {
       "model_id": "9422fbd2a48a47109a08739b548ae5e7",
       "version_major": 2,
       "version_minor": 0
      },
      "text/plain": [
       "  0%|          | 0/8 [00:00<?, ?it/s]"
      ]
     },
     "metadata": {},
     "output_type": "display_data"
    },
    {
     "name": "stdout",
     "output_type": "stream",
     "text": [
      "Epoch:596/1000.. Train Loss: 0.157.. Val Loss: 0.296.. Train mIoU:0.000.. Val mIoU: 0.000.. Train Acc:0.924.. Val Acc:0.856.. Time: 0.07m\n"
     ]
    },
    {
     "data": {
      "application/vnd.jupyter.widget-view+json": {
       "model_id": "efdeeb985a274a3ea0b8345e4cc5a483",
       "version_major": 2,
       "version_minor": 0
      },
      "text/plain": [
       "  0%|          | 0/8 [00:00<?, ?it/s]"
      ]
     },
     "metadata": {},
     "output_type": "display_data"
    },
    {
     "name": "stdout",
     "output_type": "stream",
     "text": [
      "Epoch:597/1000.. Train Loss: 0.193.. Val Loss: 0.362.. Train mIoU:0.000.. Val mIoU: 0.000.. Train Acc:0.911.. Val Acc:0.820.. Time: 0.07m\n"
     ]
    },
    {
     "data": {
      "application/vnd.jupyter.widget-view+json": {
       "model_id": "5ec7c1b848764b2593a5b7bcf2f98096",
       "version_major": 2,
       "version_minor": 0
      },
      "text/plain": [
       "  0%|          | 0/8 [00:00<?, ?it/s]"
      ]
     },
     "metadata": {},
     "output_type": "display_data"
    },
    {
     "name": "stdout",
     "output_type": "stream",
     "text": [
      "Epoch:598/1000.. Train Loss: 0.180.. Val Loss: 0.314.. Train mIoU:0.000.. Val mIoU: 0.000.. Train Acc:0.917.. Val Acc:0.823.. Time: 0.07m\n"
     ]
    },
    {
     "data": {
      "application/vnd.jupyter.widget-view+json": {
       "model_id": "45d70df650b24ba0aa975872f5d50ea0",
       "version_major": 2,
       "version_minor": 0
      },
      "text/plain": [
       "  0%|          | 0/8 [00:00<?, ?it/s]"
      ]
     },
     "metadata": {},
     "output_type": "display_data"
    },
    {
     "name": "stdout",
     "output_type": "stream",
     "text": [
      "Epoch:599/1000.. Train Loss: 0.155.. Val Loss: 0.244.. Train mIoU:0.000.. Val mIoU: 0.000.. Train Acc:0.922.. Val Acc:0.863.. Time: 0.07m\n"
     ]
    },
    {
     "data": {
      "application/vnd.jupyter.widget-view+json": {
       "model_id": "9510f1d1ae9b4bb4948d279d7f30fac3",
       "version_major": 2,
       "version_minor": 0
      },
      "text/plain": [
       "  0%|          | 0/8 [00:00<?, ?it/s]"
      ]
     },
     "metadata": {},
     "output_type": "display_data"
    },
    {
     "name": "stdout",
     "output_type": "stream",
     "text": [
      "Epoch:600/1000.. Train Loss: 0.152.. Val Loss: 0.235.. Train mIoU:0.000.. Val mIoU: 0.000.. Train Acc:0.921.. Val Acc:0.870.. Time: 0.07m\n"
     ]
    },
    {
     "data": {
      "application/vnd.jupyter.widget-view+json": {
       "model_id": "9366eba202794b24a4c39abcd18a70a1",
       "version_major": 2,
       "version_minor": 0
      },
      "text/plain": [
       "  0%|          | 0/8 [00:00<?, ?it/s]"
      ]
     },
     "metadata": {},
     "output_type": "display_data"
    },
    {
     "name": "stdout",
     "output_type": "stream",
     "text": [
      "Epoch:601/1000.. Train Loss: 0.148.. Val Loss: 0.302.. Train mIoU:0.000.. Val mIoU: 0.000.. Train Acc:0.923.. Val Acc:0.834.. Time: 0.07m\n"
     ]
    },
    {
     "data": {
      "application/vnd.jupyter.widget-view+json": {
       "model_id": "7ca5f398090c4008896dbc9b89af4430",
       "version_major": 2,
       "version_minor": 0
      },
      "text/plain": [
       "  0%|          | 0/8 [00:00<?, ?it/s]"
      ]
     },
     "metadata": {},
     "output_type": "display_data"
    },
    {
     "name": "stdout",
     "output_type": "stream",
     "text": [
      "Epoch:602/1000.. Train Loss: 0.141.. Val Loss: 0.330.. Train mIoU:0.000.. Val mIoU: 0.000.. Train Acc:0.928.. Val Acc:0.824.. Time: 0.07m\n"
     ]
    },
    {
     "data": {
      "application/vnd.jupyter.widget-view+json": {
       "model_id": "08fde80a2ba84066a997b4c817f5954c",
       "version_major": 2,
       "version_minor": 0
      },
      "text/plain": [
       "  0%|          | 0/8 [00:00<?, ?it/s]"
      ]
     },
     "metadata": {},
     "output_type": "display_data"
    },
    {
     "name": "stdout",
     "output_type": "stream",
     "text": [
      "Epoch:603/1000.. Train Loss: 0.142.. Val Loss: 0.360.. Train mIoU:0.000.. Val mIoU: 0.000.. Train Acc:0.926.. Val Acc:0.856.. Time: 0.07m\n"
     ]
    },
    {
     "data": {
      "application/vnd.jupyter.widget-view+json": {
       "model_id": "840c022a9a474781bfa03fd7888e097b",
       "version_major": 2,
       "version_minor": 0
      },
      "text/plain": [
       "  0%|          | 0/8 [00:00<?, ?it/s]"
      ]
     },
     "metadata": {},
     "output_type": "display_data"
    },
    {
     "name": "stdout",
     "output_type": "stream",
     "text": [
      "Epoch:604/1000.. Train Loss: 0.141.. Val Loss: 0.373.. Train mIoU:0.000.. Val mIoU: 0.000.. Train Acc:0.927.. Val Acc:0.821.. Time: 0.08m\n"
     ]
    },
    {
     "data": {
      "application/vnd.jupyter.widget-view+json": {
       "model_id": "1a0b19b6ba7248bd82dd8246aacec31a",
       "version_major": 2,
       "version_minor": 0
      },
      "text/plain": [
       "  0%|          | 0/8 [00:00<?, ?it/s]"
      ]
     },
     "metadata": {},
     "output_type": "display_data"
    },
    {
     "name": "stdout",
     "output_type": "stream",
     "text": [
      "Epoch:605/1000.. Train Loss: 0.141.. Val Loss: 0.326.. Train mIoU:0.000.. Val mIoU: 0.000.. Train Acc:0.928.. Val Acc:0.818.. Time: 0.07m\n"
     ]
    },
    {
     "data": {
      "application/vnd.jupyter.widget-view+json": {
       "model_id": "f1b6bd24ff924debaa521065e247de7d",
       "version_major": 2,
       "version_minor": 0
      },
      "text/plain": [
       "  0%|          | 0/8 [00:00<?, ?it/s]"
      ]
     },
     "metadata": {},
     "output_type": "display_data"
    },
    {
     "name": "stdout",
     "output_type": "stream",
     "text": [
      "Epoch:606/1000.. Train Loss: 0.142.. Val Loss: 0.257.. Train mIoU:0.000.. Val mIoU: 0.000.. Train Acc:0.927.. Val Acc:0.857.. Time: 0.07m\n"
     ]
    },
    {
     "data": {
      "application/vnd.jupyter.widget-view+json": {
       "model_id": "a0039628a5ef4789ac8fef04b5505fbf",
       "version_major": 2,
       "version_minor": 0
      },
      "text/plain": [
       "  0%|          | 0/8 [00:00<?, ?it/s]"
      ]
     },
     "metadata": {},
     "output_type": "display_data"
    },
    {
     "name": "stdout",
     "output_type": "stream",
     "text": [
      "Epoch:607/1000.. Train Loss: 0.139.. Val Loss: 0.262.. Train mIoU:0.000.. Val mIoU: 0.000.. Train Acc:0.929.. Val Acc:0.866.. Time: 0.07m\n"
     ]
    },
    {
     "data": {
      "application/vnd.jupyter.widget-view+json": {
       "model_id": "4df0503960564143b6f7d06f0668b2ce",
       "version_major": 2,
       "version_minor": 0
      },
      "text/plain": [
       "  0%|          | 0/8 [00:00<?, ?it/s]"
      ]
     },
     "metadata": {},
     "output_type": "display_data"
    },
    {
     "name": "stdout",
     "output_type": "stream",
     "text": [
      "Epoch:608/1000.. Train Loss: 0.140.. Val Loss: 0.262.. Train mIoU:0.000.. Val mIoU: 0.000.. Train Acc:0.929.. Val Acc:0.869.. Time: 0.07m\n"
     ]
    },
    {
     "data": {
      "application/vnd.jupyter.widget-view+json": {
       "model_id": "501118b453784e67afe938de224cfc9e",
       "version_major": 2,
       "version_minor": 0
      },
      "text/plain": [
       "  0%|          | 0/8 [00:00<?, ?it/s]"
      ]
     },
     "metadata": {},
     "output_type": "display_data"
    },
    {
     "name": "stdout",
     "output_type": "stream",
     "text": [
      "Epoch:609/1000.. Train Loss: 0.135.. Val Loss: 0.292.. Train mIoU:0.000.. Val mIoU: 0.000.. Train Acc:0.931.. Val Acc:0.848.. Time: 0.07m\n"
     ]
    },
    {
     "data": {
      "application/vnd.jupyter.widget-view+json": {
       "model_id": "0b2f491783c84c38bffa04de31c502ef",
       "version_major": 2,
       "version_minor": 0
      },
      "text/plain": [
       "  0%|          | 0/8 [00:00<?, ?it/s]"
      ]
     },
     "metadata": {},
     "output_type": "display_data"
    },
    {
     "name": "stdout",
     "output_type": "stream",
     "text": [
      "Epoch:610/1000.. Train Loss: 0.140.. Val Loss: 0.321.. Train mIoU:0.000.. Val mIoU: 0.000.. Train Acc:0.930.. Val Acc:0.826.. Time: 0.08m\n"
     ]
    },
    {
     "data": {
      "application/vnd.jupyter.widget-view+json": {
       "model_id": "b8b076c24a9144e98b46c3e3d1cf6edf",
       "version_major": 2,
       "version_minor": 0
      },
      "text/plain": [
       "  0%|          | 0/8 [00:00<?, ?it/s]"
      ]
     },
     "metadata": {},
     "output_type": "display_data"
    },
    {
     "name": "stdout",
     "output_type": "stream",
     "text": [
      "Epoch:611/1000.. Train Loss: 0.141.. Val Loss: 0.261.. Train mIoU:0.000.. Val mIoU: 0.000.. Train Acc:0.928.. Val Acc:0.866.. Time: 0.07m\n"
     ]
    },
    {
     "data": {
      "application/vnd.jupyter.widget-view+json": {
       "model_id": "ff6803952be2476994978edd37ebe28b",
       "version_major": 2,
       "version_minor": 0
      },
      "text/plain": [
       "  0%|          | 0/8 [00:00<?, ?it/s]"
      ]
     },
     "metadata": {},
     "output_type": "display_data"
    },
    {
     "name": "stdout",
     "output_type": "stream",
     "text": [
      "Epoch:612/1000.. Train Loss: 0.138.. Val Loss: 0.316.. Train mIoU:0.000.. Val mIoU: 0.000.. Train Acc:0.930.. Val Acc:0.837.. Time: 0.07m\n"
     ]
    },
    {
     "data": {
      "application/vnd.jupyter.widget-view+json": {
       "model_id": "7dd7768ae7554f03b82a3a5bbcfd6c2f",
       "version_major": 2,
       "version_minor": 0
      },
      "text/plain": [
       "  0%|          | 0/8 [00:00<?, ?it/s]"
      ]
     },
     "metadata": {},
     "output_type": "display_data"
    },
    {
     "name": "stdout",
     "output_type": "stream",
     "text": [
      "Epoch:613/1000.. Train Loss: 0.140.. Val Loss: 0.341.. Train mIoU:0.000.. Val mIoU: 0.000.. Train Acc:0.929.. Val Acc:0.827.. Time: 0.07m\n"
     ]
    },
    {
     "data": {
      "application/vnd.jupyter.widget-view+json": {
       "model_id": "f0ee025310cc4648992d6a6b97c1e796",
       "version_major": 2,
       "version_minor": 0
      },
      "text/plain": [
       "  0%|          | 0/8 [00:00<?, ?it/s]"
      ]
     },
     "metadata": {},
     "output_type": "display_data"
    },
    {
     "name": "stdout",
     "output_type": "stream",
     "text": [
      "Epoch:614/1000.. Train Loss: 0.138.. Val Loss: 0.306.. Train mIoU:0.000.. Val mIoU: 0.000.. Train Acc:0.930.. Val Acc:0.849.. Time: 0.07m\n"
     ]
    },
    {
     "data": {
      "application/vnd.jupyter.widget-view+json": {
       "model_id": "606fd9c8258542bbb45d8818a3e2364b",
       "version_major": 2,
       "version_minor": 0
      },
      "text/plain": [
       "  0%|          | 0/8 [00:00<?, ?it/s]"
      ]
     },
     "metadata": {},
     "output_type": "display_data"
    },
    {
     "name": "stdout",
     "output_type": "stream",
     "text": [
      "Epoch:615/1000.. Train Loss: 0.137.. Val Loss: 0.285.. Train mIoU:0.000.. Val mIoU: 0.000.. Train Acc:0.932.. Val Acc:0.867.. Time: 0.07m\n"
     ]
    },
    {
     "data": {
      "application/vnd.jupyter.widget-view+json": {
       "model_id": "490cc622dc69419dbc6230ffc0799203",
       "version_major": 2,
       "version_minor": 0
      },
      "text/plain": [
       "  0%|          | 0/8 [00:00<?, ?it/s]"
      ]
     },
     "metadata": {},
     "output_type": "display_data"
    },
    {
     "name": "stdout",
     "output_type": "stream",
     "text": [
      "Epoch:616/1000.. Train Loss: 0.137.. Val Loss: 0.252.. Train mIoU:0.000.. Val mIoU: 0.000.. Train Acc:0.931.. Val Acc:0.875.. Time: 0.07m\n"
     ]
    },
    {
     "data": {
      "application/vnd.jupyter.widget-view+json": {
       "model_id": "ae95445834c44b9f82c2959af2dfc88b",
       "version_major": 2,
       "version_minor": 0
      },
      "text/plain": [
       "  0%|          | 0/8 [00:00<?, ?it/s]"
      ]
     },
     "metadata": {},
     "output_type": "display_data"
    },
    {
     "name": "stdout",
     "output_type": "stream",
     "text": [
      "Epoch:617/1000.. Train Loss: 0.141.. Val Loss: 0.270.. Train mIoU:0.000.. Val mIoU: 0.000.. Train Acc:0.929.. Val Acc:0.870.. Time: 0.07m\n"
     ]
    },
    {
     "data": {
      "application/vnd.jupyter.widget-view+json": {
       "model_id": "043564c75720445f970cd129fb291812",
       "version_major": 2,
       "version_minor": 0
      },
      "text/plain": [
       "  0%|          | 0/8 [00:00<?, ?it/s]"
      ]
     },
     "metadata": {},
     "output_type": "display_data"
    },
    {
     "name": "stdout",
     "output_type": "stream",
     "text": [
      "Epoch:618/1000.. Train Loss: 0.132.. Val Loss: 0.256.. Train mIoU:0.000.. Val mIoU: 0.000.. Train Acc:0.933.. Val Acc:0.866.. Time: 0.07m\n"
     ]
    },
    {
     "data": {
      "application/vnd.jupyter.widget-view+json": {
       "model_id": "a146255db93e4c50920b1cc9f3d8c01c",
       "version_major": 2,
       "version_minor": 0
      },
      "text/plain": [
       "  0%|          | 0/8 [00:00<?, ?it/s]"
      ]
     },
     "metadata": {},
     "output_type": "display_data"
    },
    {
     "name": "stdout",
     "output_type": "stream",
     "text": [
      "Epoch:619/1000.. Train Loss: 0.141.. Val Loss: 0.313.. Train mIoU:0.000.. Val mIoU: 0.000.. Train Acc:0.929.. Val Acc:0.834.. Time: 0.07m\n"
     ]
    },
    {
     "data": {
      "application/vnd.jupyter.widget-view+json": {
       "model_id": "61e972a8f09b4f0ca974ea4371c485f0",
       "version_major": 2,
       "version_minor": 0
      },
      "text/plain": [
       "  0%|          | 0/8 [00:00<?, ?it/s]"
      ]
     },
     "metadata": {},
     "output_type": "display_data"
    },
    {
     "name": "stdout",
     "output_type": "stream",
     "text": [
      "Epoch:620/1000.. Train Loss: 0.138.. Val Loss: 0.353.. Train mIoU:0.000.. Val mIoU: 0.000.. Train Acc:0.929.. Val Acc:0.816.. Time: 0.07m\n"
     ]
    },
    {
     "data": {
      "application/vnd.jupyter.widget-view+json": {
       "model_id": "fe488508f0224c71a6d72d7911940b91",
       "version_major": 2,
       "version_minor": 0
      },
      "text/plain": [
       "  0%|          | 0/8 [00:00<?, ?it/s]"
      ]
     },
     "metadata": {},
     "output_type": "display_data"
    },
    {
     "name": "stdout",
     "output_type": "stream",
     "text": [
      "Epoch:621/1000.. Train Loss: 0.138.. Val Loss: 0.313.. Train mIoU:0.000.. Val mIoU: 0.000.. Train Acc:0.931.. Val Acc:0.832.. Time: 0.07m\n"
     ]
    },
    {
     "data": {
      "application/vnd.jupyter.widget-view+json": {
       "model_id": "e3a9296d4b634e4aac29fff1e38c55e2",
       "version_major": 2,
       "version_minor": 0
      },
      "text/plain": [
       "  0%|          | 0/8 [00:00<?, ?it/s]"
      ]
     },
     "metadata": {},
     "output_type": "display_data"
    },
    {
     "name": "stdout",
     "output_type": "stream",
     "text": [
      "Epoch:622/1000.. Train Loss: 0.135.. Val Loss: 0.243.. Train mIoU:0.000.. Val mIoU: 0.000.. Train Acc:0.933.. Val Acc:0.877.. Time: 0.07m\n"
     ]
    },
    {
     "data": {
      "application/vnd.jupyter.widget-view+json": {
       "model_id": "dd2cb6107afe40be92304476a8d36689",
       "version_major": 2,
       "version_minor": 0
      },
      "text/plain": [
       "  0%|          | 0/8 [00:00<?, ?it/s]"
      ]
     },
     "metadata": {},
     "output_type": "display_data"
    },
    {
     "name": "stdout",
     "output_type": "stream",
     "text": [
      "Epoch:623/1000.. Train Loss: 0.138.. Val Loss: 0.281.. Train mIoU:0.000.. Val mIoU: 0.000.. Train Acc:0.931.. Val Acc:0.872.. Time: 0.07m\n"
     ]
    },
    {
     "data": {
      "application/vnd.jupyter.widget-view+json": {
       "model_id": "0595ea275d524b6aade19fdbc4235b01",
       "version_major": 2,
       "version_minor": 0
      },
      "text/plain": [
       "  0%|          | 0/8 [00:00<?, ?it/s]"
      ]
     },
     "metadata": {},
     "output_type": "display_data"
    },
    {
     "name": "stdout",
     "output_type": "stream",
     "text": [
      "Epoch:624/1000.. Train Loss: 0.139.. Val Loss: 0.290.. Train mIoU:0.000.. Val mIoU: 0.000.. Train Acc:0.930.. Val Acc:0.854.. Time: 0.07m\n"
     ]
    },
    {
     "data": {
      "application/vnd.jupyter.widget-view+json": {
       "model_id": "0b4c69fd22794e15962e42639733bec7",
       "version_major": 2,
       "version_minor": 0
      },
      "text/plain": [
       "  0%|          | 0/8 [00:00<?, ?it/s]"
      ]
     },
     "metadata": {},
     "output_type": "display_data"
    },
    {
     "name": "stdout",
     "output_type": "stream",
     "text": [
      "Epoch:625/1000.. Train Loss: 0.135.. Val Loss: 0.242.. Train mIoU:0.000.. Val mIoU: 0.000.. Train Acc:0.931.. Val Acc:0.880.. Time: 0.07m\n"
     ]
    },
    {
     "data": {
      "application/vnd.jupyter.widget-view+json": {
       "model_id": "99804a044f64428b8919fddb473dd40d",
       "version_major": 2,
       "version_minor": 0
      },
      "text/plain": [
       "  0%|          | 0/8 [00:00<?, ?it/s]"
      ]
     },
     "metadata": {},
     "output_type": "display_data"
    },
    {
     "name": "stdout",
     "output_type": "stream",
     "text": [
      "Epoch:626/1000.. Train Loss: 0.138.. Val Loss: 0.308.. Train mIoU:0.000.. Val mIoU: 0.000.. Train Acc:0.930.. Val Acc:0.847.. Time: 0.07m\n"
     ]
    },
    {
     "data": {
      "application/vnd.jupyter.widget-view+json": {
       "model_id": "4c1c3dba186e47269c663538fb731cfb",
       "version_major": 2,
       "version_minor": 0
      },
      "text/plain": [
       "  0%|          | 0/8 [00:00<?, ?it/s]"
      ]
     },
     "metadata": {},
     "output_type": "display_data"
    },
    {
     "name": "stdout",
     "output_type": "stream",
     "text": [
      "Epoch:627/1000.. Train Loss: 0.136.. Val Loss: 0.323.. Train mIoU:0.000.. Val mIoU: 0.000.. Train Acc:0.932.. Val Acc:0.819.. Time: 0.07m\n"
     ]
    },
    {
     "data": {
      "application/vnd.jupyter.widget-view+json": {
       "model_id": "fc6e72f9bec54990a20d530c6f83ccf8",
       "version_major": 2,
       "version_minor": 0
      },
      "text/plain": [
       "  0%|          | 0/8 [00:00<?, ?it/s]"
      ]
     },
     "metadata": {},
     "output_type": "display_data"
    },
    {
     "name": "stdout",
     "output_type": "stream",
     "text": [
      "Epoch:628/1000.. Train Loss: 0.137.. Val Loss: 0.252.. Train mIoU:0.000.. Val mIoU: 0.000.. Train Acc:0.930.. Val Acc:0.872.. Time: 0.07m\n"
     ]
    },
    {
     "data": {
      "application/vnd.jupyter.widget-view+json": {
       "model_id": "ad3d3a782f6e4a29bd0b88d76d61000b",
       "version_major": 2,
       "version_minor": 0
      },
      "text/plain": [
       "  0%|          | 0/8 [00:00<?, ?it/s]"
      ]
     },
     "metadata": {},
     "output_type": "display_data"
    },
    {
     "name": "stdout",
     "output_type": "stream",
     "text": [
      "Epoch:629/1000.. Train Loss: 0.136.. Val Loss: 0.250.. Train mIoU:0.000.. Val mIoU: 0.000.. Train Acc:0.931.. Val Acc:0.872.. Time: 0.07m\n"
     ]
    },
    {
     "data": {
      "application/vnd.jupyter.widget-view+json": {
       "model_id": "5826ef3caebf47a5a40095f1e7dc7592",
       "version_major": 2,
       "version_minor": 0
      },
      "text/plain": [
       "  0%|          | 0/8 [00:00<?, ?it/s]"
      ]
     },
     "metadata": {},
     "output_type": "display_data"
    },
    {
     "name": "stdout",
     "output_type": "stream",
     "text": [
      "Epoch:630/1000.. Train Loss: 0.136.. Val Loss: 0.278.. Train mIoU:0.000.. Val mIoU: 0.000.. Train Acc:0.931.. Val Acc:0.874.. Time: 0.07m\n"
     ]
    },
    {
     "data": {
      "application/vnd.jupyter.widget-view+json": {
       "model_id": "373283a594f6401e9a42f21a3ce5956e",
       "version_major": 2,
       "version_minor": 0
      },
      "text/plain": [
       "  0%|          | 0/8 [00:00<?, ?it/s]"
      ]
     },
     "metadata": {},
     "output_type": "display_data"
    },
    {
     "name": "stdout",
     "output_type": "stream",
     "text": [
      "Epoch:631/1000.. Train Loss: 0.134.. Val Loss: 0.247.. Train mIoU:0.000.. Val mIoU: 0.000.. Train Acc:0.933.. Val Acc:0.874.. Time: 0.07m\n"
     ]
    },
    {
     "data": {
      "application/vnd.jupyter.widget-view+json": {
       "model_id": "d3f85c2bb582494caa2436f480ffbcaa",
       "version_major": 2,
       "version_minor": 0
      },
      "text/plain": [
       "  0%|          | 0/8 [00:00<?, ?it/s]"
      ]
     },
     "metadata": {},
     "output_type": "display_data"
    },
    {
     "name": "stdout",
     "output_type": "stream",
     "text": [
      "Epoch:632/1000.. Train Loss: 0.135.. Val Loss: 0.260.. Train mIoU:0.000.. Val mIoU: 0.000.. Train Acc:0.933.. Val Acc:0.871.. Time: 0.07m\n"
     ]
    },
    {
     "data": {
      "application/vnd.jupyter.widget-view+json": {
       "model_id": "320c9e2f83d241cc8a0295fad45d8698",
       "version_major": 2,
       "version_minor": 0
      },
      "text/plain": [
       "  0%|          | 0/8 [00:00<?, ?it/s]"
      ]
     },
     "metadata": {},
     "output_type": "display_data"
    },
    {
     "name": "stdout",
     "output_type": "stream",
     "text": [
      "Epoch:633/1000.. Train Loss: 0.142.. Val Loss: 0.271.. Train mIoU:0.000.. Val mIoU: 0.000.. Train Acc:0.928.. Val Acc:0.874.. Time: 0.07m\n"
     ]
    },
    {
     "data": {
      "application/vnd.jupyter.widget-view+json": {
       "model_id": "7f67c8c3050441ecac0ba1386d84ca36",
       "version_major": 2,
       "version_minor": 0
      },
      "text/plain": [
       "  0%|          | 0/8 [00:00<?, ?it/s]"
      ]
     },
     "metadata": {},
     "output_type": "display_data"
    },
    {
     "name": "stdout",
     "output_type": "stream",
     "text": [
      "Epoch:634/1000.. Train Loss: 0.140.. Val Loss: 0.287.. Train mIoU:0.000.. Val mIoU: 0.000.. Train Acc:0.929.. Val Acc:0.872.. Time: 0.07m\n"
     ]
    },
    {
     "data": {
      "application/vnd.jupyter.widget-view+json": {
       "model_id": "e9d4525e9dc24bf79ab9ba22858da47d",
       "version_major": 2,
       "version_minor": 0
      },
      "text/plain": [
       "  0%|          | 0/8 [00:00<?, ?it/s]"
      ]
     },
     "metadata": {},
     "output_type": "display_data"
    },
    {
     "name": "stdout",
     "output_type": "stream",
     "text": [
      "Epoch:635/1000.. Train Loss: 0.136.. Val Loss: 0.331.. Train mIoU:0.000.. Val mIoU: 0.000.. Train Acc:0.932.. Val Acc:0.823.. Time: 0.07m\n"
     ]
    },
    {
     "data": {
      "application/vnd.jupyter.widget-view+json": {
       "model_id": "735b5997d1eb4fdf9df571f2e8489fb0",
       "version_major": 2,
       "version_minor": 0
      },
      "text/plain": [
       "  0%|          | 0/8 [00:00<?, ?it/s]"
      ]
     },
     "metadata": {},
     "output_type": "display_data"
    },
    {
     "name": "stdout",
     "output_type": "stream",
     "text": [
      "Epoch:636/1000.. Train Loss: 0.137.. Val Loss: 0.304.. Train mIoU:0.000.. Val mIoU: 0.000.. Train Acc:0.930.. Val Acc:0.855.. Time: 0.07m\n"
     ]
    },
    {
     "data": {
      "application/vnd.jupyter.widget-view+json": {
       "model_id": "7393bf5f06df495198bbc39f9b99106f",
       "version_major": 2,
       "version_minor": 0
      },
      "text/plain": [
       "  0%|          | 0/8 [00:00<?, ?it/s]"
      ]
     },
     "metadata": {},
     "output_type": "display_data"
    },
    {
     "name": "stdout",
     "output_type": "stream",
     "text": [
      "Epoch:637/1000.. Train Loss: 0.139.. Val Loss: 0.269.. Train mIoU:0.000.. Val mIoU: 0.000.. Train Acc:0.930.. Val Acc:0.864.. Time: 0.07m\n"
     ]
    },
    {
     "data": {
      "application/vnd.jupyter.widget-view+json": {
       "model_id": "d00ba6b1fccb42a380d941feb90fbc57",
       "version_major": 2,
       "version_minor": 0
      },
      "text/plain": [
       "  0%|          | 0/8 [00:00<?, ?it/s]"
      ]
     },
     "metadata": {},
     "output_type": "display_data"
    },
    {
     "name": "stdout",
     "output_type": "stream",
     "text": [
      "Epoch:638/1000.. Train Loss: 0.144.. Val Loss: 0.354.. Train mIoU:0.000.. Val mIoU: 0.000.. Train Acc:0.926.. Val Acc:0.815.. Time: 0.07m\n"
     ]
    },
    {
     "data": {
      "application/vnd.jupyter.widget-view+json": {
       "model_id": "4a9007bf45184d22bb41730cdc0d5a01",
       "version_major": 2,
       "version_minor": 0
      },
      "text/plain": [
       "  0%|          | 0/8 [00:00<?, ?it/s]"
      ]
     },
     "metadata": {},
     "output_type": "display_data"
    },
    {
     "name": "stdout",
     "output_type": "stream",
     "text": [
      "Epoch:639/1000.. Train Loss: 0.163.. Val Loss: 0.293.. Train mIoU:0.000.. Val mIoU: 0.000.. Train Acc:0.923.. Val Acc:0.864.. Time: 0.07m\n"
     ]
    },
    {
     "data": {
      "application/vnd.jupyter.widget-view+json": {
       "model_id": "e73b9de6394a481282d0c1724a5e974a",
       "version_major": 2,
       "version_minor": 0
      },
      "text/plain": [
       "  0%|          | 0/8 [00:00<?, ?it/s]"
      ]
     },
     "metadata": {},
     "output_type": "display_data"
    },
    {
     "name": "stdout",
     "output_type": "stream",
     "text": [
      "Epoch:640/1000.. Train Loss: 0.144.. Val Loss: 0.257.. Train mIoU:0.000.. Val mIoU: 0.000.. Train Acc:0.927.. Val Acc:0.872.. Time: 0.07m\n"
     ]
    },
    {
     "data": {
      "application/vnd.jupyter.widget-view+json": {
       "model_id": "69047ebe97c04ab89b4e4dc46fb1c45a",
       "version_major": 2,
       "version_minor": 0
      },
      "text/plain": [
       "  0%|          | 0/8 [00:00<?, ?it/s]"
      ]
     },
     "metadata": {},
     "output_type": "display_data"
    },
    {
     "name": "stdout",
     "output_type": "stream",
     "text": [
      "Epoch:641/1000.. Train Loss: 0.147.. Val Loss: 0.274.. Train mIoU:0.000.. Val mIoU: 0.000.. Train Acc:0.928.. Val Acc:0.871.. Time: 0.07m\n"
     ]
    },
    {
     "data": {
      "application/vnd.jupyter.widget-view+json": {
       "model_id": "959248d56d814c9bbe6a9548b6942db7",
       "version_major": 2,
       "version_minor": 0
      },
      "text/plain": [
       "  0%|          | 0/8 [00:00<?, ?it/s]"
      ]
     },
     "metadata": {},
     "output_type": "display_data"
    },
    {
     "name": "stdout",
     "output_type": "stream",
     "text": [
      "Epoch:642/1000.. Train Loss: 0.143.. Val Loss: 0.309.. Train mIoU:0.000.. Val mIoU: 0.000.. Train Acc:0.929.. Val Acc:0.830.. Time: 0.07m\n"
     ]
    },
    {
     "data": {
      "application/vnd.jupyter.widget-view+json": {
       "model_id": "bbfcd6ebe9b048458fd59522d5832919",
       "version_major": 2,
       "version_minor": 0
      },
      "text/plain": [
       "  0%|          | 0/8 [00:00<?, ?it/s]"
      ]
     },
     "metadata": {},
     "output_type": "display_data"
    },
    {
     "name": "stdout",
     "output_type": "stream",
     "text": [
      "Epoch:643/1000.. Train Loss: 0.138.. Val Loss: 0.333.. Train mIoU:0.000.. Val mIoU: 0.000.. Train Acc:0.929.. Val Acc:0.868.. Time: 0.07m\n"
     ]
    },
    {
     "data": {
      "application/vnd.jupyter.widget-view+json": {
       "model_id": "5d3f1321434c46408ed071cab606ede8",
       "version_major": 2,
       "version_minor": 0
      },
      "text/plain": [
       "  0%|          | 0/8 [00:00<?, ?it/s]"
      ]
     },
     "metadata": {},
     "output_type": "display_data"
    },
    {
     "name": "stdout",
     "output_type": "stream",
     "text": [
      "Epoch:644/1000.. Train Loss: 0.138.. Val Loss: 0.319.. Train mIoU:0.000.. Val mIoU: 0.000.. Train Acc:0.930.. Val Acc:0.836.. Time: 0.07m\n"
     ]
    },
    {
     "data": {
      "application/vnd.jupyter.widget-view+json": {
       "model_id": "de5c9fde0852442e994011ed451999ad",
       "version_major": 2,
       "version_minor": 0
      },
      "text/plain": [
       "  0%|          | 0/8 [00:00<?, ?it/s]"
      ]
     },
     "metadata": {},
     "output_type": "display_data"
    },
    {
     "name": "stdout",
     "output_type": "stream",
     "text": [
      "Epoch:645/1000.. Train Loss: 0.140.. Val Loss: 0.259.. Train mIoU:0.000.. Val mIoU: 0.000.. Train Acc:0.930.. Val Acc:0.870.. Time: 0.07m\n"
     ]
    },
    {
     "data": {
      "application/vnd.jupyter.widget-view+json": {
       "model_id": "a8772aa5f27a4b93b78db589443c435e",
       "version_major": 2,
       "version_minor": 0
      },
      "text/plain": [
       "  0%|          | 0/8 [00:00<?, ?it/s]"
      ]
     },
     "metadata": {},
     "output_type": "display_data"
    },
    {
     "name": "stdout",
     "output_type": "stream",
     "text": [
      "Epoch:646/1000.. Train Loss: 0.137.. Val Loss: 0.250.. Train mIoU:0.000.. Val mIoU: 0.000.. Train Acc:0.932.. Val Acc:0.870.. Time: 0.07m\n"
     ]
    },
    {
     "data": {
      "application/vnd.jupyter.widget-view+json": {
       "model_id": "203d0c54c8e3483b9c86a05b723febde",
       "version_major": 2,
       "version_minor": 0
      },
      "text/plain": [
       "  0%|          | 0/8 [00:00<?, ?it/s]"
      ]
     },
     "metadata": {},
     "output_type": "display_data"
    },
    {
     "name": "stdout",
     "output_type": "stream",
     "text": [
      "Epoch:647/1000.. Train Loss: 0.134.. Val Loss: 0.243.. Train mIoU:0.000.. Val mIoU: 0.000.. Train Acc:0.934.. Val Acc:0.873.. Time: 0.07m\n"
     ]
    },
    {
     "data": {
      "application/vnd.jupyter.widget-view+json": {
       "model_id": "e511fa790ee147c0965866fa550bf916",
       "version_major": 2,
       "version_minor": 0
      },
      "text/plain": [
       "  0%|          | 0/8 [00:00<?, ?it/s]"
      ]
     },
     "metadata": {},
     "output_type": "display_data"
    },
    {
     "name": "stdout",
     "output_type": "stream",
     "text": [
      "Epoch:648/1000.. Train Loss: 0.135.. Val Loss: 0.310.. Train mIoU:0.000.. Val mIoU: 0.000.. Train Acc:0.932.. Val Acc:0.841.. Time: 0.07m\n"
     ]
    },
    {
     "data": {
      "application/vnd.jupyter.widget-view+json": {
       "model_id": "b2d34915e48647a59b5417bd8f2aec6c",
       "version_major": 2,
       "version_minor": 0
      },
      "text/plain": [
       "  0%|          | 0/8 [00:00<?, ?it/s]"
      ]
     },
     "metadata": {},
     "output_type": "display_data"
    },
    {
     "name": "stdout",
     "output_type": "stream",
     "text": [
      "Epoch:649/1000.. Train Loss: 0.136.. Val Loss: 0.251.. Train mIoU:0.000.. Val mIoU: 0.000.. Train Acc:0.930.. Val Acc:0.868.. Time: 0.07m\n"
     ]
    },
    {
     "data": {
      "application/vnd.jupyter.widget-view+json": {
       "model_id": "90517d2a104e4f198c5ce5616b99fe08",
       "version_major": 2,
       "version_minor": 0
      },
      "text/plain": [
       "  0%|          | 0/8 [00:00<?, ?it/s]"
      ]
     },
     "metadata": {},
     "output_type": "display_data"
    },
    {
     "name": "stdout",
     "output_type": "stream",
     "text": [
      "Epoch:650/1000.. Train Loss: 0.134.. Val Loss: 0.237.. Train mIoU:0.000.. Val mIoU: 0.000.. Train Acc:0.933.. Val Acc:0.881.. Time: 0.08m\n"
     ]
    },
    {
     "data": {
      "application/vnd.jupyter.widget-view+json": {
       "model_id": "0723583719db46dcb325d98d552d1b5d",
       "version_major": 2,
       "version_minor": 0
      },
      "text/plain": [
       "  0%|          | 0/8 [00:00<?, ?it/s]"
      ]
     },
     "metadata": {},
     "output_type": "display_data"
    },
    {
     "name": "stdout",
     "output_type": "stream",
     "text": [
      "Epoch:651/1000.. Train Loss: 0.137.. Val Loss: 0.323.. Train mIoU:0.000.. Val mIoU: 0.000.. Train Acc:0.931.. Val Acc:0.834.. Time: 0.07m\n"
     ]
    },
    {
     "data": {
      "application/vnd.jupyter.widget-view+json": {
       "model_id": "78cb7792b73f460e9a3dd8034ac4a3f8",
       "version_major": 2,
       "version_minor": 0
      },
      "text/plain": [
       "  0%|          | 0/8 [00:00<?, ?it/s]"
      ]
     },
     "metadata": {},
     "output_type": "display_data"
    },
    {
     "name": "stdout",
     "output_type": "stream",
     "text": [
      "Epoch:652/1000.. Train Loss: 0.136.. Val Loss: 0.259.. Train mIoU:0.000.. Val mIoU: 0.000.. Train Acc:0.930.. Val Acc:0.869.. Time: 0.07m\n"
     ]
    },
    {
     "data": {
      "application/vnd.jupyter.widget-view+json": {
       "model_id": "5368bc56ff5a419294613fa4f5ee5149",
       "version_major": 2,
       "version_minor": 0
      },
      "text/plain": [
       "  0%|          | 0/8 [00:00<?, ?it/s]"
      ]
     },
     "metadata": {},
     "output_type": "display_data"
    },
    {
     "name": "stdout",
     "output_type": "stream",
     "text": [
      "Epoch:653/1000.. Train Loss: 0.137.. Val Loss: 0.307.. Train mIoU:0.000.. Val mIoU: 0.000.. Train Acc:0.930.. Val Acc:0.838.. Time: 0.07m\n"
     ]
    },
    {
     "data": {
      "application/vnd.jupyter.widget-view+json": {
       "model_id": "151de708f2b1442d9cca3c319ccda833",
       "version_major": 2,
       "version_minor": 0
      },
      "text/plain": [
       "  0%|          | 0/8 [00:00<?, ?it/s]"
      ]
     },
     "metadata": {},
     "output_type": "display_data"
    },
    {
     "name": "stdout",
     "output_type": "stream",
     "text": [
      "Epoch:654/1000.. Train Loss: 0.134.. Val Loss: 0.308.. Train mIoU:0.000.. Val mIoU: 0.000.. Train Acc:0.932.. Val Acc:0.852.. Time: 0.07m\n"
     ]
    },
    {
     "data": {
      "application/vnd.jupyter.widget-view+json": {
       "model_id": "c673a5664ccc41aeb0dd572ecd64ab86",
       "version_major": 2,
       "version_minor": 0
      },
      "text/plain": [
       "  0%|          | 0/8 [00:00<?, ?it/s]"
      ]
     },
     "metadata": {},
     "output_type": "display_data"
    },
    {
     "name": "stdout",
     "output_type": "stream",
     "text": [
      "Epoch:655/1000.. Train Loss: 0.143.. Val Loss: 0.295.. Train mIoU:0.000.. Val mIoU: 0.000.. Train Acc:0.930.. Val Acc:0.861.. Time: 0.07m\n"
     ]
    },
    {
     "data": {
      "application/vnd.jupyter.widget-view+json": {
       "model_id": "adc2fd63833b453687e648f796ca2621",
       "version_major": 2,
       "version_minor": 0
      },
      "text/plain": [
       "  0%|          | 0/8 [00:00<?, ?it/s]"
      ]
     },
     "metadata": {},
     "output_type": "display_data"
    },
    {
     "name": "stdout",
     "output_type": "stream",
     "text": [
      "Epoch:656/1000.. Train Loss: 0.137.. Val Loss: 0.270.. Train mIoU:0.000.. Val mIoU: 0.000.. Train Acc:0.931.. Val Acc:0.869.. Time: 0.07m\n"
     ]
    },
    {
     "data": {
      "application/vnd.jupyter.widget-view+json": {
       "model_id": "c8119941f6b14bf4a3c97507999346df",
       "version_major": 2,
       "version_minor": 0
      },
      "text/plain": [
       "  0%|          | 0/8 [00:00<?, ?it/s]"
      ]
     },
     "metadata": {},
     "output_type": "display_data"
    },
    {
     "name": "stdout",
     "output_type": "stream",
     "text": [
      "Epoch:657/1000.. Train Loss: 0.135.. Val Loss: 0.339.. Train mIoU:0.000.. Val mIoU: 0.000.. Train Acc:0.932.. Val Acc:0.837.. Time: 0.07m\n"
     ]
    },
    {
     "data": {
      "application/vnd.jupyter.widget-view+json": {
       "model_id": "4aa033ff93eb46b68766fa820a60b132",
       "version_major": 2,
       "version_minor": 0
      },
      "text/plain": [
       "  0%|          | 0/8 [00:00<?, ?it/s]"
      ]
     },
     "metadata": {},
     "output_type": "display_data"
    },
    {
     "name": "stdout",
     "output_type": "stream",
     "text": [
      "Epoch:658/1000.. Train Loss: 0.137.. Val Loss: 0.252.. Train mIoU:0.000.. Val mIoU: 0.000.. Train Acc:0.930.. Val Acc:0.876.. Time: 0.07m\n"
     ]
    },
    {
     "data": {
      "application/vnd.jupyter.widget-view+json": {
       "model_id": "7510ecc9e8fe430cbbc10e0bba120a11",
       "version_major": 2,
       "version_minor": 0
      },
      "text/plain": [
       "  0%|          | 0/8 [00:00<?, ?it/s]"
      ]
     },
     "metadata": {},
     "output_type": "display_data"
    },
    {
     "name": "stdout",
     "output_type": "stream",
     "text": [
      "Epoch:659/1000.. Train Loss: 0.131.. Val Loss: 0.266.. Train mIoU:0.000.. Val mIoU: 0.000.. Train Acc:0.934.. Val Acc:0.872.. Time: 0.07m\n"
     ]
    },
    {
     "data": {
      "application/vnd.jupyter.widget-view+json": {
       "model_id": "d67da38f0e6946469fb88b2cec32a6c1",
       "version_major": 2,
       "version_minor": 0
      },
      "text/plain": [
       "  0%|          | 0/8 [00:00<?, ?it/s]"
      ]
     },
     "metadata": {},
     "output_type": "display_data"
    },
    {
     "name": "stdout",
     "output_type": "stream",
     "text": [
      "Epoch:660/1000.. Train Loss: 0.135.. Val Loss: 0.251.. Train mIoU:0.000.. Val mIoU: 0.000.. Train Acc:0.933.. Val Acc:0.876.. Time: 0.07m\n"
     ]
    },
    {
     "data": {
      "application/vnd.jupyter.widget-view+json": {
       "model_id": "ca6375d628034f28afb4ea8e611f5322",
       "version_major": 2,
       "version_minor": 0
      },
      "text/plain": [
       "  0%|          | 0/8 [00:00<?, ?it/s]"
      ]
     },
     "metadata": {},
     "output_type": "display_data"
    },
    {
     "name": "stdout",
     "output_type": "stream",
     "text": [
      "Epoch:661/1000.. Train Loss: 0.134.. Val Loss: 0.460.. Train mIoU:0.000.. Val mIoU: 0.000.. Train Acc:0.932.. Val Acc:0.826.. Time: 0.07m\n"
     ]
    },
    {
     "data": {
      "application/vnd.jupyter.widget-view+json": {
       "model_id": "c338d6429a7c49f88c00f70c952f4ab2",
       "version_major": 2,
       "version_minor": 0
      },
      "text/plain": [
       "  0%|          | 0/8 [00:00<?, ?it/s]"
      ]
     },
     "metadata": {},
     "output_type": "display_data"
    },
    {
     "name": "stdout",
     "output_type": "stream",
     "text": [
      "Epoch:662/1000.. Train Loss: 0.150.. Val Loss: 0.295.. Train mIoU:0.000.. Val mIoU: 0.000.. Train Acc:0.928.. Val Acc:0.870.. Time: 0.08m\n"
     ]
    },
    {
     "data": {
      "application/vnd.jupyter.widget-view+json": {
       "model_id": "ad7aed9da5d34dbb8aebc3a8197f130e",
       "version_major": 2,
       "version_minor": 0
      },
      "text/plain": [
       "  0%|          | 0/8 [00:00<?, ?it/s]"
      ]
     },
     "metadata": {},
     "output_type": "display_data"
    },
    {
     "name": "stdout",
     "output_type": "stream",
     "text": [
      "Epoch:663/1000.. Train Loss: 0.154.. Val Loss: 0.248.. Train mIoU:0.000.. Val mIoU: 0.000.. Train Acc:0.925.. Val Acc:0.877.. Time: 0.07m\n"
     ]
    },
    {
     "data": {
      "application/vnd.jupyter.widget-view+json": {
       "model_id": "f341458fdeed46de90198e50f635786e",
       "version_major": 2,
       "version_minor": 0
      },
      "text/plain": [
       "  0%|          | 0/8 [00:00<?, ?it/s]"
      ]
     },
     "metadata": {},
     "output_type": "display_data"
    },
    {
     "name": "stdout",
     "output_type": "stream",
     "text": [
      "Epoch:664/1000.. Train Loss: 0.139.. Val Loss: 0.249.. Train mIoU:0.000.. Val mIoU: 0.000.. Train Acc:0.930.. Val Acc:0.872.. Time: 0.07m\n"
     ]
    },
    {
     "data": {
      "application/vnd.jupyter.widget-view+json": {
       "model_id": "42f1b0d3cd484cb2925bb2bdc9f539fa",
       "version_major": 2,
       "version_minor": 0
      },
      "text/plain": [
       "  0%|          | 0/8 [00:00<?, ?it/s]"
      ]
     },
     "metadata": {},
     "output_type": "display_data"
    },
    {
     "name": "stdout",
     "output_type": "stream",
     "text": [
      "Epoch:665/1000.. Train Loss: 0.138.. Val Loss: 0.274.. Train mIoU:0.000.. Val mIoU: 0.000.. Train Acc:0.929.. Val Acc:0.869.. Time: 0.07m\n"
     ]
    },
    {
     "data": {
      "application/vnd.jupyter.widget-view+json": {
       "model_id": "152fd19aff794c52a014056122214793",
       "version_major": 2,
       "version_minor": 0
      },
      "text/plain": [
       "  0%|          | 0/8 [00:00<?, ?it/s]"
      ]
     },
     "metadata": {},
     "output_type": "display_data"
    },
    {
     "name": "stdout",
     "output_type": "stream",
     "text": [
      "Epoch:666/1000.. Train Loss: 0.135.. Val Loss: 0.338.. Train mIoU:0.000.. Val mIoU: 0.000.. Train Acc:0.932.. Val Acc:0.824.. Time: 0.07m\n"
     ]
    },
    {
     "data": {
      "application/vnd.jupyter.widget-view+json": {
       "model_id": "59ae096bc6f2440ab17e6eb0625e114f",
       "version_major": 2,
       "version_minor": 0
      },
      "text/plain": [
       "  0%|          | 0/8 [00:00<?, ?it/s]"
      ]
     },
     "metadata": {},
     "output_type": "display_data"
    },
    {
     "name": "stdout",
     "output_type": "stream",
     "text": [
      "Epoch:667/1000.. Train Loss: 0.131.. Val Loss: 0.335.. Train mIoU:0.000.. Val mIoU: 0.000.. Train Acc:0.934.. Val Acc:0.828.. Time: 0.07m\n"
     ]
    },
    {
     "data": {
      "application/vnd.jupyter.widget-view+json": {
       "model_id": "55652b08c50d46cebed6e4383c891f10",
       "version_major": 2,
       "version_minor": 0
      },
      "text/plain": [
       "  0%|          | 0/8 [00:00<?, ?it/s]"
      ]
     },
     "metadata": {},
     "output_type": "display_data"
    },
    {
     "name": "stdout",
     "output_type": "stream",
     "text": [
      "Epoch:668/1000.. Train Loss: 0.135.. Val Loss: 0.334.. Train mIoU:0.000.. Val mIoU: 0.000.. Train Acc:0.930.. Val Acc:0.817.. Time: 0.07m\n"
     ]
    },
    {
     "data": {
      "application/vnd.jupyter.widget-view+json": {
       "model_id": "1232cd01ccea47cda4489eabfbc8b7fb",
       "version_major": 2,
       "version_minor": 0
      },
      "text/plain": [
       "  0%|          | 0/8 [00:00<?, ?it/s]"
      ]
     },
     "metadata": {},
     "output_type": "display_data"
    },
    {
     "name": "stdout",
     "output_type": "stream",
     "text": [
      "Epoch:669/1000.. Train Loss: 0.135.. Val Loss: 0.266.. Train mIoU:0.000.. Val mIoU: 0.000.. Train Acc:0.932.. Val Acc:0.868.. Time: 0.07m\n"
     ]
    },
    {
     "data": {
      "application/vnd.jupyter.widget-view+json": {
       "model_id": "ea1b7e57949249148d0146ad5c663c3c",
       "version_major": 2,
       "version_minor": 0
      },
      "text/plain": [
       "  0%|          | 0/8 [00:00<?, ?it/s]"
      ]
     },
     "metadata": {},
     "output_type": "display_data"
    },
    {
     "name": "stdout",
     "output_type": "stream",
     "text": [
      "Epoch:670/1000.. Train Loss: 0.134.. Val Loss: 0.318.. Train mIoU:0.000.. Val mIoU: 0.000.. Train Acc:0.932.. Val Acc:0.836.. Time: 0.07m\n"
     ]
    },
    {
     "data": {
      "application/vnd.jupyter.widget-view+json": {
       "model_id": "0f5e2248db8e4eddb4383c9916965cda",
       "version_major": 2,
       "version_minor": 0
      },
      "text/plain": [
       "  0%|          | 0/8 [00:00<?, ?it/s]"
      ]
     },
     "metadata": {},
     "output_type": "display_data"
    },
    {
     "name": "stdout",
     "output_type": "stream",
     "text": [
      "Epoch:671/1000.. Train Loss: 0.134.. Val Loss: 0.313.. Train mIoU:0.000.. Val mIoU: 0.000.. Train Acc:0.932.. Val Acc:0.829.. Time: 0.07m\n"
     ]
    },
    {
     "data": {
      "application/vnd.jupyter.widget-view+json": {
       "model_id": "46d01fd123344924911b0730b673203a",
       "version_major": 2,
       "version_minor": 0
      },
      "text/plain": [
       "  0%|          | 0/8 [00:00<?, ?it/s]"
      ]
     },
     "metadata": {},
     "output_type": "display_data"
    },
    {
     "name": "stdout",
     "output_type": "stream",
     "text": [
      "Epoch:672/1000.. Train Loss: 0.141.. Val Loss: 0.442.. Train mIoU:0.000.. Val mIoU: 0.000.. Train Acc:0.931.. Val Acc:0.830.. Time: 0.07m\n"
     ]
    },
    {
     "data": {
      "application/vnd.jupyter.widget-view+json": {
       "model_id": "1603dc6b2c6047bf8713d77ae2e3685e",
       "version_major": 2,
       "version_minor": 0
      },
      "text/plain": [
       "  0%|          | 0/8 [00:00<?, ?it/s]"
      ]
     },
     "metadata": {},
     "output_type": "display_data"
    },
    {
     "name": "stdout",
     "output_type": "stream",
     "text": [
      "Epoch:673/1000.. Train Loss: 0.137.. Val Loss: 0.536.. Train mIoU:0.000.. Val mIoU: 0.000.. Train Acc:0.930.. Val Acc:0.828.. Time: 0.08m\n"
     ]
    },
    {
     "data": {
      "application/vnd.jupyter.widget-view+json": {
       "model_id": "655760bfd725439db62b36378d111cec",
       "version_major": 2,
       "version_minor": 0
      },
      "text/plain": [
       "  0%|          | 0/8 [00:00<?, ?it/s]"
      ]
     },
     "metadata": {},
     "output_type": "display_data"
    },
    {
     "name": "stdout",
     "output_type": "stream",
     "text": [
      "Epoch:674/1000.. Train Loss: 0.135.. Val Loss: 0.257.. Train mIoU:0.000.. Val mIoU: 0.000.. Train Acc:0.932.. Val Acc:0.870.. Time: 0.07m\n"
     ]
    },
    {
     "data": {
      "application/vnd.jupyter.widget-view+json": {
       "model_id": "fb23b23d59104c049938c4bfae14fd7d",
       "version_major": 2,
       "version_minor": 0
      },
      "text/plain": [
       "  0%|          | 0/8 [00:00<?, ?it/s]"
      ]
     },
     "metadata": {},
     "output_type": "display_data"
    },
    {
     "name": "stdout",
     "output_type": "stream",
     "text": [
      "Epoch:675/1000.. Train Loss: 0.131.. Val Loss: 0.260.. Train mIoU:0.000.. Val mIoU: 0.000.. Train Acc:0.934.. Val Acc:0.871.. Time: 0.07m\n"
     ]
    },
    {
     "data": {
      "application/vnd.jupyter.widget-view+json": {
       "model_id": "b53036c2eecd4e4589134264f04c0835",
       "version_major": 2,
       "version_minor": 0
      },
      "text/plain": [
       "  0%|          | 0/8 [00:00<?, ?it/s]"
      ]
     },
     "metadata": {},
     "output_type": "display_data"
    },
    {
     "name": "stdout",
     "output_type": "stream",
     "text": [
      "Epoch:676/1000.. Train Loss: 0.138.. Val Loss: 0.277.. Train mIoU:0.000.. Val mIoU: 0.000.. Train Acc:0.932.. Val Acc:0.862.. Time: 0.07m\n"
     ]
    },
    {
     "data": {
      "application/vnd.jupyter.widget-view+json": {
       "model_id": "b3214dc5c5c94f3999c2db6501e14a42",
       "version_major": 2,
       "version_minor": 0
      },
      "text/plain": [
       "  0%|          | 0/8 [00:00<?, ?it/s]"
      ]
     },
     "metadata": {},
     "output_type": "display_data"
    },
    {
     "name": "stdout",
     "output_type": "stream",
     "text": [
      "Epoch:677/1000.. Train Loss: 0.132.. Val Loss: 0.274.. Train mIoU:0.000.. Val mIoU: 0.000.. Train Acc:0.935.. Val Acc:0.867.. Time: 0.07m\n"
     ]
    },
    {
     "data": {
      "application/vnd.jupyter.widget-view+json": {
       "model_id": "72ab852d5c3c40a49d5b3e09c6792958",
       "version_major": 2,
       "version_minor": 0
      },
      "text/plain": [
       "  0%|          | 0/8 [00:00<?, ?it/s]"
      ]
     },
     "metadata": {},
     "output_type": "display_data"
    },
    {
     "name": "stdout",
     "output_type": "stream",
     "text": [
      "Epoch:678/1000.. Train Loss: 0.133.. Val Loss: 0.332.. Train mIoU:0.000.. Val mIoU: 0.000.. Train Acc:0.933.. Val Acc:0.865.. Time: 0.07m\n"
     ]
    },
    {
     "data": {
      "application/vnd.jupyter.widget-view+json": {
       "model_id": "3fa983ce7a9d4d458fad7c40364a4a60",
       "version_major": 2,
       "version_minor": 0
      },
      "text/plain": [
       "  0%|          | 0/8 [00:00<?, ?it/s]"
      ]
     },
     "metadata": {},
     "output_type": "display_data"
    },
    {
     "name": "stdout",
     "output_type": "stream",
     "text": [
      "Epoch:679/1000.. Train Loss: 0.134.. Val Loss: 0.361.. Train mIoU:0.000.. Val mIoU: 0.000.. Train Acc:0.933.. Val Acc:0.820.. Time: 0.07m\n"
     ]
    },
    {
     "data": {
      "application/vnd.jupyter.widget-view+json": {
       "model_id": "b3722df2308f45609b520ef81e0ed423",
       "version_major": 2,
       "version_minor": 0
      },
      "text/plain": [
       "  0%|          | 0/8 [00:00<?, ?it/s]"
      ]
     },
     "metadata": {},
     "output_type": "display_data"
    },
    {
     "name": "stdout",
     "output_type": "stream",
     "text": [
      "Epoch:680/1000.. Train Loss: 0.135.. Val Loss: 0.270.. Train mIoU:0.000.. Val mIoU: 0.000.. Train Acc:0.932.. Val Acc:0.867.. Time: 0.07m\n"
     ]
    },
    {
     "data": {
      "application/vnd.jupyter.widget-view+json": {
       "model_id": "dcd760664f5a473592d8fbd54098d406",
       "version_major": 2,
       "version_minor": 0
      },
      "text/plain": [
       "  0%|          | 0/8 [00:00<?, ?it/s]"
      ]
     },
     "metadata": {},
     "output_type": "display_data"
    },
    {
     "name": "stdout",
     "output_type": "stream",
     "text": [
      "Epoch:681/1000.. Train Loss: 0.135.. Val Loss: 0.325.. Train mIoU:0.000.. Val mIoU: 0.000.. Train Acc:0.931.. Val Acc:0.822.. Time: 0.07m\n"
     ]
    },
    {
     "data": {
      "application/vnd.jupyter.widget-view+json": {
       "model_id": "6c18d7c13b1c46b995221bd685e07f42",
       "version_major": 2,
       "version_minor": 0
      },
      "text/plain": [
       "  0%|          | 0/8 [00:00<?, ?it/s]"
      ]
     },
     "metadata": {},
     "output_type": "display_data"
    },
    {
     "name": "stdout",
     "output_type": "stream",
     "text": [
      "Epoch:682/1000.. Train Loss: 0.140.. Val Loss: 0.277.. Train mIoU:0.000.. Val mIoU: 0.000.. Train Acc:0.931.. Val Acc:0.869.. Time: 0.07m\n"
     ]
    },
    {
     "data": {
      "application/vnd.jupyter.widget-view+json": {
       "model_id": "9bd1f3fd4b7342d2ae40e61ca90f1494",
       "version_major": 2,
       "version_minor": 0
      },
      "text/plain": [
       "  0%|          | 0/8 [00:00<?, ?it/s]"
      ]
     },
     "metadata": {},
     "output_type": "display_data"
    },
    {
     "name": "stdout",
     "output_type": "stream",
     "text": [
      "Epoch:683/1000.. Train Loss: 0.135.. Val Loss: 0.258.. Train mIoU:0.000.. Val mIoU: 0.000.. Train Acc:0.934.. Val Acc:0.873.. Time: 0.07m\n"
     ]
    },
    {
     "data": {
      "application/vnd.jupyter.widget-view+json": {
       "model_id": "0f07c88558c7422da6a047b553141c23",
       "version_major": 2,
       "version_minor": 0
      },
      "text/plain": [
       "  0%|          | 0/8 [00:00<?, ?it/s]"
      ]
     },
     "metadata": {},
     "output_type": "display_data"
    },
    {
     "name": "stdout",
     "output_type": "stream",
     "text": [
      "Epoch:684/1000.. Train Loss: 0.135.. Val Loss: 0.339.. Train mIoU:0.000.. Val mIoU: 0.000.. Train Acc:0.931.. Val Acc:0.826.. Time: 0.08m\n"
     ]
    },
    {
     "data": {
      "application/vnd.jupyter.widget-view+json": {
       "model_id": "cef99911236f4157b5180dabd38d9bc2",
       "version_major": 2,
       "version_minor": 0
      },
      "text/plain": [
       "  0%|          | 0/8 [00:00<?, ?it/s]"
      ]
     },
     "metadata": {},
     "output_type": "display_data"
    },
    {
     "name": "stdout",
     "output_type": "stream",
     "text": [
      "Epoch:685/1000.. Train Loss: 0.133.. Val Loss: 0.262.. Train mIoU:0.000.. Val mIoU: 0.000.. Train Acc:0.932.. Val Acc:0.873.. Time: 0.07m\n"
     ]
    },
    {
     "data": {
      "application/vnd.jupyter.widget-view+json": {
       "model_id": "02671cfb24554c6b81458dc9dde7516a",
       "version_major": 2,
       "version_minor": 0
      },
      "text/plain": [
       "  0%|          | 0/8 [00:00<?, ?it/s]"
      ]
     },
     "metadata": {},
     "output_type": "display_data"
    },
    {
     "name": "stdout",
     "output_type": "stream",
     "text": [
      "Epoch:686/1000.. Train Loss: 0.131.. Val Loss: 0.332.. Train mIoU:0.000.. Val mIoU: 0.000.. Train Acc:0.934.. Val Acc:0.836.. Time: 0.07m\n"
     ]
    },
    {
     "data": {
      "application/vnd.jupyter.widget-view+json": {
       "model_id": "16403154d177405f876c2af78d75d9bc",
       "version_major": 2,
       "version_minor": 0
      },
      "text/plain": [
       "  0%|          | 0/8 [00:00<?, ?it/s]"
      ]
     },
     "metadata": {},
     "output_type": "display_data"
    },
    {
     "name": "stdout",
     "output_type": "stream",
     "text": [
      "Epoch:687/1000.. Train Loss: 0.137.. Val Loss: 0.275.. Train mIoU:0.000.. Val mIoU: 0.000.. Train Acc:0.929.. Val Acc:0.868.. Time: 0.07m\n"
     ]
    },
    {
     "data": {
      "application/vnd.jupyter.widget-view+json": {
       "model_id": "59a3c9d9cc1f4074b8e914fdcbf9c737",
       "version_major": 2,
       "version_minor": 0
      },
      "text/plain": [
       "  0%|          | 0/8 [00:00<?, ?it/s]"
      ]
     },
     "metadata": {},
     "output_type": "display_data"
    },
    {
     "name": "stdout",
     "output_type": "stream",
     "text": [
      "Epoch:688/1000.. Train Loss: 0.132.. Val Loss: 0.266.. Train mIoU:0.000.. Val mIoU: 0.000.. Train Acc:0.934.. Val Acc:0.875.. Time: 0.07m\n"
     ]
    },
    {
     "data": {
      "application/vnd.jupyter.widget-view+json": {
       "model_id": "9ede871dc8f5417bab7755baa1f7e0e6",
       "version_major": 2,
       "version_minor": 0
      },
      "text/plain": [
       "  0%|          | 0/8 [00:00<?, ?it/s]"
      ]
     },
     "metadata": {},
     "output_type": "display_data"
    },
    {
     "name": "stdout",
     "output_type": "stream",
     "text": [
      "Epoch:689/1000.. Train Loss: 0.132.. Val Loss: 0.327.. Train mIoU:0.000.. Val mIoU: 0.000.. Train Acc:0.932.. Val Acc:0.832.. Time: 0.07m\n"
     ]
    },
    {
     "data": {
      "application/vnd.jupyter.widget-view+json": {
       "model_id": "497e13aaeaa7403987990f26dd91f67c",
       "version_major": 2,
       "version_minor": 0
      },
      "text/plain": [
       "  0%|          | 0/8 [00:00<?, ?it/s]"
      ]
     },
     "metadata": {},
     "output_type": "display_data"
    },
    {
     "name": "stdout",
     "output_type": "stream",
     "text": [
      "Epoch:690/1000.. Train Loss: 0.134.. Val Loss: 0.306.. Train mIoU:0.000.. Val mIoU: 0.000.. Train Acc:0.932.. Val Acc:0.851.. Time: 0.07m\n"
     ]
    },
    {
     "data": {
      "application/vnd.jupyter.widget-view+json": {
       "model_id": "7e51148a1faa4dd1ac4bbe1d67d054b3",
       "version_major": 2,
       "version_minor": 0
      },
      "text/plain": [
       "  0%|          | 0/8 [00:00<?, ?it/s]"
      ]
     },
     "metadata": {},
     "output_type": "display_data"
    },
    {
     "name": "stdout",
     "output_type": "stream",
     "text": [
      "Epoch:691/1000.. Train Loss: 0.134.. Val Loss: 0.345.. Train mIoU:0.000.. Val mIoU: 0.000.. Train Acc:0.933.. Val Acc:0.834.. Time: 0.07m\n"
     ]
    },
    {
     "data": {
      "application/vnd.jupyter.widget-view+json": {
       "model_id": "f35d24a94001416ea959c15e5f5104f4",
       "version_major": 2,
       "version_minor": 0
      },
      "text/plain": [
       "  0%|          | 0/8 [00:00<?, ?it/s]"
      ]
     },
     "metadata": {},
     "output_type": "display_data"
    },
    {
     "name": "stdout",
     "output_type": "stream",
     "text": [
      "Epoch:692/1000.. Train Loss: 0.135.. Val Loss: 0.263.. Train mIoU:0.000.. Val mIoU: 0.000.. Train Acc:0.931.. Val Acc:0.869.. Time: 0.07m\n"
     ]
    },
    {
     "data": {
      "application/vnd.jupyter.widget-view+json": {
       "model_id": "da6bb10e951746c6bdd098125571624e",
       "version_major": 2,
       "version_minor": 0
      },
      "text/plain": [
       "  0%|          | 0/8 [00:00<?, ?it/s]"
      ]
     },
     "metadata": {},
     "output_type": "display_data"
    },
    {
     "name": "stdout",
     "output_type": "stream",
     "text": [
      "Epoch:693/1000.. Train Loss: 0.131.. Val Loss: 0.319.. Train mIoU:0.000.. Val mIoU: 0.000.. Train Acc:0.934.. Val Acc:0.853.. Time: 0.07m\n"
     ]
    },
    {
     "data": {
      "application/vnd.jupyter.widget-view+json": {
       "model_id": "e1721f36b14b4047b60fb7909d4f0151",
       "version_major": 2,
       "version_minor": 0
      },
      "text/plain": [
       "  0%|          | 0/8 [00:00<?, ?it/s]"
      ]
     },
     "metadata": {},
     "output_type": "display_data"
    },
    {
     "name": "stdout",
     "output_type": "stream",
     "text": [
      "Epoch:694/1000.. Train Loss: 0.136.. Val Loss: 0.274.. Train mIoU:0.000.. Val mIoU: 0.000.. Train Acc:0.931.. Val Acc:0.868.. Time: 0.07m\n"
     ]
    },
    {
     "data": {
      "application/vnd.jupyter.widget-view+json": {
       "model_id": "b24070f71fa2485e88c8cc65144cdeeb",
       "version_major": 2,
       "version_minor": 0
      },
      "text/plain": [
       "  0%|          | 0/8 [00:00<?, ?it/s]"
      ]
     },
     "metadata": {},
     "output_type": "display_data"
    },
    {
     "name": "stdout",
     "output_type": "stream",
     "text": [
      "Epoch:695/1000.. Train Loss: 0.131.. Val Loss: 0.314.. Train mIoU:0.000.. Val mIoU: 0.000.. Train Acc:0.935.. Val Acc:0.855.. Time: 0.07m\n"
     ]
    },
    {
     "data": {
      "application/vnd.jupyter.widget-view+json": {
       "model_id": "ccdcd76c195e43d084b8e09e331c504c",
       "version_major": 2,
       "version_minor": 0
      },
      "text/plain": [
       "  0%|          | 0/8 [00:00<?, ?it/s]"
      ]
     },
     "metadata": {},
     "output_type": "display_data"
    },
    {
     "name": "stdout",
     "output_type": "stream",
     "text": [
      "Epoch:696/1000.. Train Loss: 0.133.. Val Loss: 0.356.. Train mIoU:0.000.. Val mIoU: 0.000.. Train Acc:0.934.. Val Acc:0.813.. Time: 0.08m\n"
     ]
    },
    {
     "data": {
      "application/vnd.jupyter.widget-view+json": {
       "model_id": "a9785904c6704af0a420d0c00f6ecd31",
       "version_major": 2,
       "version_minor": 0
      },
      "text/plain": [
       "  0%|          | 0/8 [00:00<?, ?it/s]"
      ]
     },
     "metadata": {},
     "output_type": "display_data"
    },
    {
     "name": "stdout",
     "output_type": "stream",
     "text": [
      "Epoch:697/1000.. Train Loss: 0.131.. Val Loss: 0.413.. Train mIoU:0.000.. Val mIoU: 0.000.. Train Acc:0.934.. Val Acc:0.866.. Time: 0.07m\n"
     ]
    },
    {
     "data": {
      "application/vnd.jupyter.widget-view+json": {
       "model_id": "2a49ee2a113145ce96e304ab6f532fcf",
       "version_major": 2,
       "version_minor": 0
      },
      "text/plain": [
       "  0%|          | 0/8 [00:00<?, ?it/s]"
      ]
     },
     "metadata": {},
     "output_type": "display_data"
    },
    {
     "name": "stdout",
     "output_type": "stream",
     "text": [
      "Epoch:698/1000.. Train Loss: 0.133.. Val Loss: 0.286.. Train mIoU:0.000.. Val mIoU: 0.000.. Train Acc:0.933.. Val Acc:0.875.. Time: 0.07m\n"
     ]
    },
    {
     "data": {
      "application/vnd.jupyter.widget-view+json": {
       "model_id": "1b37088863b74f72849339509f1ad72a",
       "version_major": 2,
       "version_minor": 0
      },
      "text/plain": [
       "  0%|          | 0/8 [00:00<?, ?it/s]"
      ]
     },
     "metadata": {},
     "output_type": "display_data"
    },
    {
     "name": "stdout",
     "output_type": "stream",
     "text": [
      "Epoch:699/1000.. Train Loss: 0.129.. Val Loss: 0.361.. Train mIoU:0.000.. Val mIoU: 0.000.. Train Acc:0.936.. Val Acc:0.817.. Time: 0.07m\n"
     ]
    },
    {
     "data": {
      "application/vnd.jupyter.widget-view+json": {
       "model_id": "315d516d058e4af4b9e4c8eddc0420b6",
       "version_major": 2,
       "version_minor": 0
      },
      "text/plain": [
       "  0%|          | 0/8 [00:00<?, ?it/s]"
      ]
     },
     "metadata": {},
     "output_type": "display_data"
    },
    {
     "name": "stdout",
     "output_type": "stream",
     "text": [
      "Epoch:700/1000.. Train Loss: 0.129.. Val Loss: 0.349.. Train mIoU:0.000.. Val mIoU: 0.000.. Train Acc:0.935.. Val Acc:0.822.. Time: 0.07m\n"
     ]
    },
    {
     "data": {
      "application/vnd.jupyter.widget-view+json": {
       "model_id": "3269c0235b7d4ab6a8fa49cbf6773e47",
       "version_major": 2,
       "version_minor": 0
      },
      "text/plain": [
       "  0%|          | 0/8 [00:00<?, ?it/s]"
      ]
     },
     "metadata": {},
     "output_type": "display_data"
    },
    {
     "name": "stdout",
     "output_type": "stream",
     "text": [
      "Epoch:701/1000.. Train Loss: 0.133.. Val Loss: 0.274.. Train mIoU:0.000.. Val mIoU: 0.000.. Train Acc:0.934.. Val Acc:0.872.. Time: 0.07m\n"
     ]
    },
    {
     "data": {
      "application/vnd.jupyter.widget-view+json": {
       "model_id": "f8eb5d7396654b03855aa99404f741f8",
       "version_major": 2,
       "version_minor": 0
      },
      "text/plain": [
       "  0%|          | 0/8 [00:00<?, ?it/s]"
      ]
     },
     "metadata": {},
     "output_type": "display_data"
    },
    {
     "name": "stdout",
     "output_type": "stream",
     "text": [
      "Epoch:702/1000.. Train Loss: 0.132.. Val Loss: 0.355.. Train mIoU:0.000.. Val mIoU: 0.000.. Train Acc:0.933.. Val Acc:0.822.. Time: 0.07m\n"
     ]
    },
    {
     "data": {
      "application/vnd.jupyter.widget-view+json": {
       "model_id": "5f670a4896c14b99bebce3fe220eb236",
       "version_major": 2,
       "version_minor": 0
      },
      "text/plain": [
       "  0%|          | 0/8 [00:00<?, ?it/s]"
      ]
     },
     "metadata": {},
     "output_type": "display_data"
    },
    {
     "name": "stdout",
     "output_type": "stream",
     "text": [
      "Epoch:703/1000.. Train Loss: 0.132.. Val Loss: 0.343.. Train mIoU:0.000.. Val mIoU: 0.000.. Train Acc:0.934.. Val Acc:0.843.. Time: 0.07m\n"
     ]
    },
    {
     "data": {
      "application/vnd.jupyter.widget-view+json": {
       "model_id": "c446d6df9e024392b795601cb7d17c01",
       "version_major": 2,
       "version_minor": 0
      },
      "text/plain": [
       "  0%|          | 0/8 [00:00<?, ?it/s]"
      ]
     },
     "metadata": {},
     "output_type": "display_data"
    },
    {
     "name": "stdout",
     "output_type": "stream",
     "text": [
      "Epoch:704/1000.. Train Loss: 0.134.. Val Loss: 0.293.. Train mIoU:0.000.. Val mIoU: 0.000.. Train Acc:0.932.. Val Acc:0.865.. Time: 0.07m\n"
     ]
    },
    {
     "data": {
      "application/vnd.jupyter.widget-view+json": {
       "model_id": "4daa8914ba97489eb909b03a721d84a1",
       "version_major": 2,
       "version_minor": 0
      },
      "text/plain": [
       "  0%|          | 0/8 [00:00<?, ?it/s]"
      ]
     },
     "metadata": {},
     "output_type": "display_data"
    },
    {
     "name": "stdout",
     "output_type": "stream",
     "text": [
      "Epoch:705/1000.. Train Loss: 0.129.. Val Loss: 0.265.. Train mIoU:0.000.. Val mIoU: 0.000.. Train Acc:0.936.. Val Acc:0.872.. Time: 0.07m\n"
     ]
    },
    {
     "data": {
      "application/vnd.jupyter.widget-view+json": {
       "model_id": "4483a3e2d44d4c5bb33aeb4a638ced11",
       "version_major": 2,
       "version_minor": 0
      },
      "text/plain": [
       "  0%|          | 0/8 [00:00<?, ?it/s]"
      ]
     },
     "metadata": {},
     "output_type": "display_data"
    },
    {
     "name": "stdout",
     "output_type": "stream",
     "text": [
      "Epoch:706/1000.. Train Loss: 0.134.. Val Loss: 0.288.. Train mIoU:0.000.. Val mIoU: 0.000.. Train Acc:0.933.. Val Acc:0.867.. Time: 0.07m\n"
     ]
    },
    {
     "data": {
      "application/vnd.jupyter.widget-view+json": {
       "model_id": "0f09a9ebc9844af2bd00d7a8904e0595",
       "version_major": 2,
       "version_minor": 0
      },
      "text/plain": [
       "  0%|          | 0/8 [00:00<?, ?it/s]"
      ]
     },
     "metadata": {},
     "output_type": "display_data"
    },
    {
     "name": "stdout",
     "output_type": "stream",
     "text": [
      "Epoch:707/1000.. Train Loss: 0.132.. Val Loss: 0.260.. Train mIoU:0.000.. Val mIoU: 0.000.. Train Acc:0.934.. Val Acc:0.869.. Time: 0.08m\n"
     ]
    },
    {
     "data": {
      "application/vnd.jupyter.widget-view+json": {
       "model_id": "a1f0c6ecd0ed41918d8a332d2b95ecd2",
       "version_major": 2,
       "version_minor": 0
      },
      "text/plain": [
       "  0%|          | 0/8 [00:00<?, ?it/s]"
      ]
     },
     "metadata": {},
     "output_type": "display_data"
    },
    {
     "name": "stdout",
     "output_type": "stream",
     "text": [
      "Epoch:708/1000.. Train Loss: 0.138.. Val Loss: 0.292.. Train mIoU:0.000.. Val mIoU: 0.000.. Train Acc:0.934.. Val Acc:0.865.. Time: 0.07m\n"
     ]
    },
    {
     "data": {
      "application/vnd.jupyter.widget-view+json": {
       "model_id": "afed4f288b4e47f2bb58461a0ca1beac",
       "version_major": 2,
       "version_minor": 0
      },
      "text/plain": [
       "  0%|          | 0/8 [00:00<?, ?it/s]"
      ]
     },
     "metadata": {},
     "output_type": "display_data"
    },
    {
     "name": "stdout",
     "output_type": "stream",
     "text": [
      "Epoch:709/1000.. Train Loss: 0.130.. Val Loss: 0.266.. Train mIoU:0.000.. Val mIoU: 0.000.. Train Acc:0.934.. Val Acc:0.874.. Time: 0.07m\n"
     ]
    },
    {
     "data": {
      "application/vnd.jupyter.widget-view+json": {
       "model_id": "98a28962d96d452fa09c6cb8cca035fc",
       "version_major": 2,
       "version_minor": 0
      },
      "text/plain": [
       "  0%|          | 0/8 [00:00<?, ?it/s]"
      ]
     },
     "metadata": {},
     "output_type": "display_data"
    },
    {
     "name": "stdout",
     "output_type": "stream",
     "text": [
      "Epoch:710/1000.. Train Loss: 0.130.. Val Loss: 0.271.. Train mIoU:0.000.. Val mIoU: 0.000.. Train Acc:0.936.. Val Acc:0.874.. Time: 0.07m\n"
     ]
    },
    {
     "data": {
      "application/vnd.jupyter.widget-view+json": {
       "model_id": "f200b714a06340c5b52479a5c20ab77a",
       "version_major": 2,
       "version_minor": 0
      },
      "text/plain": [
       "  0%|          | 0/8 [00:00<?, ?it/s]"
      ]
     },
     "metadata": {},
     "output_type": "display_data"
    },
    {
     "name": "stdout",
     "output_type": "stream",
     "text": [
      "Epoch:711/1000.. Train Loss: 0.133.. Val Loss: 0.316.. Train mIoU:0.000.. Val mIoU: 0.000.. Train Acc:0.934.. Val Acc:0.857.. Time: 0.07m\n"
     ]
    },
    {
     "data": {
      "application/vnd.jupyter.widget-view+json": {
       "model_id": "2ddfe834be1c46a886eff8e085af042b",
       "version_major": 2,
       "version_minor": 0
      },
      "text/plain": [
       "  0%|          | 0/8 [00:00<?, ?it/s]"
      ]
     },
     "metadata": {},
     "output_type": "display_data"
    },
    {
     "name": "stdout",
     "output_type": "stream",
     "text": [
      "Epoch:712/1000.. Train Loss: 0.132.. Val Loss: 0.259.. Train mIoU:0.000.. Val mIoU: 0.000.. Train Acc:0.932.. Val Acc:0.870.. Time: 0.07m\n"
     ]
    },
    {
     "data": {
      "application/vnd.jupyter.widget-view+json": {
       "model_id": "21e3d1d8298b4882b83dcd54cf48bb84",
       "version_major": 2,
       "version_minor": 0
      },
      "text/plain": [
       "  0%|          | 0/8 [00:00<?, ?it/s]"
      ]
     },
     "metadata": {},
     "output_type": "display_data"
    },
    {
     "name": "stdout",
     "output_type": "stream",
     "text": [
      "Epoch:713/1000.. Train Loss: 0.129.. Val Loss: 0.265.. Train mIoU:0.000.. Val mIoU: 0.000.. Train Acc:0.936.. Val Acc:0.874.. Time: 0.07m\n"
     ]
    },
    {
     "data": {
      "application/vnd.jupyter.widget-view+json": {
       "model_id": "50db3bd5f46a4d1a87e62755661a3cd2",
       "version_major": 2,
       "version_minor": 0
      },
      "text/plain": [
       "  0%|          | 0/8 [00:00<?, ?it/s]"
      ]
     },
     "metadata": {},
     "output_type": "display_data"
    },
    {
     "name": "stdout",
     "output_type": "stream",
     "text": [
      "Epoch:714/1000.. Train Loss: 0.158.. Val Loss: 0.397.. Train mIoU:0.000.. Val mIoU: 0.000.. Train Acc:0.922.. Val Acc:0.801.. Time: 0.07m\n"
     ]
    },
    {
     "data": {
      "application/vnd.jupyter.widget-view+json": {
       "model_id": "2905c8c7911d4ec0b71f432df88704fe",
       "version_major": 2,
       "version_minor": 0
      },
      "text/plain": [
       "  0%|          | 0/8 [00:00<?, ?it/s]"
      ]
     },
     "metadata": {},
     "output_type": "display_data"
    },
    {
     "name": "stdout",
     "output_type": "stream",
     "text": [
      "Epoch:715/1000.. Train Loss: 0.148.. Val Loss: 0.375.. Train mIoU:0.000.. Val mIoU: 0.000.. Train Acc:0.926.. Val Acc:0.826.. Time: 0.07m\n"
     ]
    },
    {
     "data": {
      "application/vnd.jupyter.widget-view+json": {
       "model_id": "63f47b7be84846a292ec0acbb4bb5ccb",
       "version_major": 2,
       "version_minor": 0
      },
      "text/plain": [
       "  0%|          | 0/8 [00:00<?, ?it/s]"
      ]
     },
     "metadata": {},
     "output_type": "display_data"
    },
    {
     "name": "stdout",
     "output_type": "stream",
     "text": [
      "Epoch:716/1000.. Train Loss: 0.132.. Val Loss: 0.320.. Train mIoU:0.000.. Val mIoU: 0.000.. Train Acc:0.933.. Val Acc:0.833.. Time: 0.07m\n"
     ]
    },
    {
     "data": {
      "application/vnd.jupyter.widget-view+json": {
       "model_id": "3a2a3817c6ae4016aadd8acfb0d8ae5e",
       "version_major": 2,
       "version_minor": 0
      },
      "text/plain": [
       "  0%|          | 0/8 [00:00<?, ?it/s]"
      ]
     },
     "metadata": {},
     "output_type": "display_data"
    },
    {
     "name": "stdout",
     "output_type": "stream",
     "text": [
      "Epoch:717/1000.. Train Loss: 0.132.. Val Loss: 0.358.. Train mIoU:0.000.. Val mIoU: 0.000.. Train Acc:0.934.. Val Acc:0.869.. Time: 0.07m\n"
     ]
    },
    {
     "data": {
      "application/vnd.jupyter.widget-view+json": {
       "model_id": "d1f9aaf009d647a398797301edeabf5b",
       "version_major": 2,
       "version_minor": 0
      },
      "text/plain": [
       "  0%|          | 0/8 [00:00<?, ?it/s]"
      ]
     },
     "metadata": {},
     "output_type": "display_data"
    },
    {
     "name": "stdout",
     "output_type": "stream",
     "text": [
      "Epoch:718/1000.. Train Loss: 0.133.. Val Loss: 0.269.. Train mIoU:0.000.. Val mIoU: 0.000.. Train Acc:0.933.. Val Acc:0.871.. Time: 0.07m\n"
     ]
    },
    {
     "data": {
      "application/vnd.jupyter.widget-view+json": {
       "model_id": "a97bd8951bc84b619f98be7244e24578",
       "version_major": 2,
       "version_minor": 0
      },
      "text/plain": [
       "  0%|          | 0/8 [00:00<?, ?it/s]"
      ]
     },
     "metadata": {},
     "output_type": "display_data"
    },
    {
     "name": "stdout",
     "output_type": "stream",
     "text": [
      "Epoch:719/1000.. Train Loss: 0.130.. Val Loss: 0.325.. Train mIoU:0.000.. Val mIoU: 0.000.. Train Acc:0.935.. Val Acc:0.840.. Time: 0.07m\n"
     ]
    },
    {
     "data": {
      "application/vnd.jupyter.widget-view+json": {
       "model_id": "44c974e9683f485f9f51008801a12c7a",
       "version_major": 2,
       "version_minor": 0
      },
      "text/plain": [
       "  0%|          | 0/8 [00:00<?, ?it/s]"
      ]
     },
     "metadata": {},
     "output_type": "display_data"
    },
    {
     "name": "stdout",
     "output_type": "stream",
     "text": [
      "Epoch:720/1000.. Train Loss: 0.135.. Val Loss: 0.272.. Train mIoU:0.000.. Val mIoU: 0.000.. Train Acc:0.935.. Val Acc:0.869.. Time: 0.07m\n"
     ]
    },
    {
     "data": {
      "application/vnd.jupyter.widget-view+json": {
       "model_id": "a8483a17883c40b29584118de63c806e",
       "version_major": 2,
       "version_minor": 0
      },
      "text/plain": [
       "  0%|          | 0/8 [00:00<?, ?it/s]"
      ]
     },
     "metadata": {},
     "output_type": "display_data"
    },
    {
     "name": "stdout",
     "output_type": "stream",
     "text": [
      "Epoch:721/1000.. Train Loss: 0.134.. Val Loss: 0.361.. Train mIoU:0.000.. Val mIoU: 0.000.. Train Acc:0.933.. Val Acc:0.823.. Time: 0.07m\n"
     ]
    },
    {
     "data": {
      "application/vnd.jupyter.widget-view+json": {
       "model_id": "7c41494118c14cbea08c5beb7b2b9622",
       "version_major": 2,
       "version_minor": 0
      },
      "text/plain": [
       "  0%|          | 0/8 [00:00<?, ?it/s]"
      ]
     },
     "metadata": {},
     "output_type": "display_data"
    },
    {
     "name": "stdout",
     "output_type": "stream",
     "text": [
      "Epoch:722/1000.. Train Loss: 0.133.. Val Loss: 0.266.. Train mIoU:0.000.. Val mIoU: 0.000.. Train Acc:0.935.. Val Acc:0.868.. Time: 0.07m\n"
     ]
    },
    {
     "data": {
      "application/vnd.jupyter.widget-view+json": {
       "model_id": "f9086b3e9c3f4cd097df395aaef5e92e",
       "version_major": 2,
       "version_minor": 0
      },
      "text/plain": [
       "  0%|          | 0/8 [00:00<?, ?it/s]"
      ]
     },
     "metadata": {},
     "output_type": "display_data"
    },
    {
     "name": "stdout",
     "output_type": "stream",
     "text": [
      "Epoch:723/1000.. Train Loss: 0.129.. Val Loss: 0.275.. Train mIoU:0.000.. Val mIoU: 0.000.. Train Acc:0.936.. Val Acc:0.867.. Time: 0.07m\n"
     ]
    },
    {
     "data": {
      "application/vnd.jupyter.widget-view+json": {
       "model_id": "dddd10f696634c0085fa60146b2e794b",
       "version_major": 2,
       "version_minor": 0
      },
      "text/plain": [
       "  0%|          | 0/8 [00:00<?, ?it/s]"
      ]
     },
     "metadata": {},
     "output_type": "display_data"
    },
    {
     "name": "stdout",
     "output_type": "stream",
     "text": [
      "Epoch:724/1000.. Train Loss: 0.128.. Val Loss: 0.261.. Train mIoU:0.000.. Val mIoU: 0.000.. Train Acc:0.937.. Val Acc:0.874.. Time: 0.07m\n"
     ]
    },
    {
     "data": {
      "application/vnd.jupyter.widget-view+json": {
       "model_id": "3d1d4c7a3c354c37aa17b99cb831bb25",
       "version_major": 2,
       "version_minor": 0
      },
      "text/plain": [
       "  0%|          | 0/8 [00:00<?, ?it/s]"
      ]
     },
     "metadata": {},
     "output_type": "display_data"
    },
    {
     "name": "stdout",
     "output_type": "stream",
     "text": [
      "Epoch:725/1000.. Train Loss: 0.131.. Val Loss: 0.374.. Train mIoU:0.000.. Val mIoU: 0.000.. Train Acc:0.935.. Val Acc:0.819.. Time: 0.07m\n"
     ]
    },
    {
     "data": {
      "application/vnd.jupyter.widget-view+json": {
       "model_id": "5923632167614cfd87dc27b7c5da4af7",
       "version_major": 2,
       "version_minor": 0
      },
      "text/plain": [
       "  0%|          | 0/8 [00:00<?, ?it/s]"
      ]
     },
     "metadata": {},
     "output_type": "display_data"
    },
    {
     "name": "stdout",
     "output_type": "stream",
     "text": [
      "Epoch:726/1000.. Train Loss: 0.143.. Val Loss: 0.273.. Train mIoU:0.000.. Val mIoU: 0.000.. Train Acc:0.935.. Val Acc:0.869.. Time: 0.07m\n"
     ]
    },
    {
     "data": {
      "application/vnd.jupyter.widget-view+json": {
       "model_id": "fe53967b212e45b5965e224ad58407a8",
       "version_major": 2,
       "version_minor": 0
      },
      "text/plain": [
       "  0%|          | 0/8 [00:00<?, ?it/s]"
      ]
     },
     "metadata": {},
     "output_type": "display_data"
    },
    {
     "name": "stdout",
     "output_type": "stream",
     "text": [
      "Epoch:727/1000.. Train Loss: 0.133.. Val Loss: 0.340.. Train mIoU:0.000.. Val mIoU: 0.000.. Train Acc:0.933.. Val Acc:0.842.. Time: 0.07m\n"
     ]
    },
    {
     "data": {
      "application/vnd.jupyter.widget-view+json": {
       "model_id": "968dceb486f54045ae2268beb64ff8d8",
       "version_major": 2,
       "version_minor": 0
      },
      "text/plain": [
       "  0%|          | 0/8 [00:00<?, ?it/s]"
      ]
     },
     "metadata": {},
     "output_type": "display_data"
    },
    {
     "name": "stdout",
     "output_type": "stream",
     "text": [
      "Epoch:728/1000.. Train Loss: 0.133.. Val Loss: 0.266.. Train mIoU:0.000.. Val mIoU: 0.000.. Train Acc:0.933.. Val Acc:0.867.. Time: 0.07m\n"
     ]
    },
    {
     "data": {
      "application/vnd.jupyter.widget-view+json": {
       "model_id": "e47b02f0c1074574bb3329d5f56ea8f0",
       "version_major": 2,
       "version_minor": 0
      },
      "text/plain": [
       "  0%|          | 0/8 [00:00<?, ?it/s]"
      ]
     },
     "metadata": {},
     "output_type": "display_data"
    },
    {
     "name": "stdout",
     "output_type": "stream",
     "text": [
      "Epoch:729/1000.. Train Loss: 0.131.. Val Loss: 0.365.. Train mIoU:0.000.. Val mIoU: 0.000.. Train Acc:0.935.. Val Acc:0.835.. Time: 0.07m\n"
     ]
    },
    {
     "data": {
      "application/vnd.jupyter.widget-view+json": {
       "model_id": "da93029589194561a543ae671d2e66e1",
       "version_major": 2,
       "version_minor": 0
      },
      "text/plain": [
       "  0%|          | 0/8 [00:00<?, ?it/s]"
      ]
     },
     "metadata": {},
     "output_type": "display_data"
    },
    {
     "name": "stdout",
     "output_type": "stream",
     "text": [
      "Epoch:730/1000.. Train Loss: 0.130.. Val Loss: 0.353.. Train mIoU:0.000.. Val mIoU: 0.000.. Train Acc:0.935.. Val Acc:0.840.. Time: 0.07m\n"
     ]
    },
    {
     "data": {
      "application/vnd.jupyter.widget-view+json": {
       "model_id": "944d0cd025924f1983d5f60eb25cb783",
       "version_major": 2,
       "version_minor": 0
      },
      "text/plain": [
       "  0%|          | 0/8 [00:00<?, ?it/s]"
      ]
     },
     "metadata": {},
     "output_type": "display_data"
    },
    {
     "name": "stdout",
     "output_type": "stream",
     "text": [
      "Epoch:731/1000.. Train Loss: 0.130.. Val Loss: 0.280.. Train mIoU:0.000.. Val mIoU: 0.000.. Train Acc:0.934.. Val Acc:0.878.. Time: 0.07m\n"
     ]
    },
    {
     "data": {
      "application/vnd.jupyter.widget-view+json": {
       "model_id": "d14e1dcbe9ad4976a0dd3ee3a790312d",
       "version_major": 2,
       "version_minor": 0
      },
      "text/plain": [
       "  0%|          | 0/8 [00:00<?, ?it/s]"
      ]
     },
     "metadata": {},
     "output_type": "display_data"
    },
    {
     "name": "stdout",
     "output_type": "stream",
     "text": [
      "Epoch:732/1000.. Train Loss: 0.130.. Val Loss: 0.347.. Train mIoU:0.000.. Val mIoU: 0.000.. Train Acc:0.935.. Val Acc:0.823.. Time: 0.07m\n"
     ]
    },
    {
     "data": {
      "application/vnd.jupyter.widget-view+json": {
       "model_id": "ea5507507de340f69849a49d15e1ec3f",
       "version_major": 2,
       "version_minor": 0
      },
      "text/plain": [
       "  0%|          | 0/8 [00:00<?, ?it/s]"
      ]
     },
     "metadata": {},
     "output_type": "display_data"
    },
    {
     "name": "stdout",
     "output_type": "stream",
     "text": [
      "Epoch:733/1000.. Train Loss: 0.133.. Val Loss: 0.374.. Train mIoU:0.000.. Val mIoU: 0.000.. Train Acc:0.934.. Val Acc:0.873.. Time: 0.07m\n"
     ]
    },
    {
     "data": {
      "application/vnd.jupyter.widget-view+json": {
       "model_id": "c7b4394dd1bd4601a5b1aac9863b3fa5",
       "version_major": 2,
       "version_minor": 0
      },
      "text/plain": [
       "  0%|          | 0/8 [00:00<?, ?it/s]"
      ]
     },
     "metadata": {},
     "output_type": "display_data"
    },
    {
     "name": "stdout",
     "output_type": "stream",
     "text": [
      "Epoch:734/1000.. Train Loss: 0.130.. Val Loss: 0.283.. Train mIoU:0.000.. Val mIoU: 0.000.. Train Acc:0.936.. Val Acc:0.865.. Time: 0.07m\n"
     ]
    },
    {
     "data": {
      "application/vnd.jupyter.widget-view+json": {
       "model_id": "40d2aa0b66d742b495c57320f78e87db",
       "version_major": 2,
       "version_minor": 0
      },
      "text/plain": [
       "  0%|          | 0/8 [00:00<?, ?it/s]"
      ]
     },
     "metadata": {},
     "output_type": "display_data"
    },
    {
     "name": "stdout",
     "output_type": "stream",
     "text": [
      "Epoch:735/1000.. Train Loss: 0.134.. Val Loss: 0.312.. Train mIoU:0.000.. Val mIoU: 0.000.. Train Acc:0.933.. Val Acc:0.870.. Time: 0.07m\n"
     ]
    },
    {
     "data": {
      "application/vnd.jupyter.widget-view+json": {
       "model_id": "caeb06c6f79948f5a9f168a4ec348872",
       "version_major": 2,
       "version_minor": 0
      },
      "text/plain": [
       "  0%|          | 0/8 [00:00<?, ?it/s]"
      ]
     },
     "metadata": {},
     "output_type": "display_data"
    },
    {
     "name": "stdout",
     "output_type": "stream",
     "text": [
      "Epoch:736/1000.. Train Loss: 0.128.. Val Loss: 0.346.. Train mIoU:0.000.. Val mIoU: 0.000.. Train Acc:0.936.. Val Acc:0.826.. Time: 0.07m\n"
     ]
    },
    {
     "data": {
      "application/vnd.jupyter.widget-view+json": {
       "model_id": "bf38fb2e8c094171ab4866f7b7888b8c",
       "version_major": 2,
       "version_minor": 0
      },
      "text/plain": [
       "  0%|          | 0/8 [00:00<?, ?it/s]"
      ]
     },
     "metadata": {},
     "output_type": "display_data"
    },
    {
     "name": "stdout",
     "output_type": "stream",
     "text": [
      "Epoch:737/1000.. Train Loss: 0.133.. Val Loss: 0.275.. Train mIoU:0.000.. Val mIoU: 0.000.. Train Acc:0.935.. Val Acc:0.873.. Time: 0.07m\n"
     ]
    },
    {
     "data": {
      "application/vnd.jupyter.widget-view+json": {
       "model_id": "340667e339b3422a8ef9e90fc165b84d",
       "version_major": 2,
       "version_minor": 0
      },
      "text/plain": [
       "  0%|          | 0/8 [00:00<?, ?it/s]"
      ]
     },
     "metadata": {},
     "output_type": "display_data"
    },
    {
     "name": "stdout",
     "output_type": "stream",
     "text": [
      "Epoch:738/1000.. Train Loss: 0.141.. Val Loss: 0.290.. Train mIoU:0.000.. Val mIoU: 0.000.. Train Acc:0.934.. Val Acc:0.861.. Time: 0.07m\n"
     ]
    },
    {
     "data": {
      "application/vnd.jupyter.widget-view+json": {
       "model_id": "33c0aed83821409aa18a88f7a1169420",
       "version_major": 2,
       "version_minor": 0
      },
      "text/plain": [
       "  0%|          | 0/8 [00:00<?, ?it/s]"
      ]
     },
     "metadata": {},
     "output_type": "display_data"
    },
    {
     "name": "stdout",
     "output_type": "stream",
     "text": [
      "Epoch:739/1000.. Train Loss: 0.131.. Val Loss: 0.278.. Train mIoU:0.000.. Val mIoU: 0.000.. Train Acc:0.935.. Val Acc:0.864.. Time: 0.07m\n"
     ]
    },
    {
     "data": {
      "application/vnd.jupyter.widget-view+json": {
       "model_id": "f920afef2fd9486491c29fc8875f4806",
       "version_major": 2,
       "version_minor": 0
      },
      "text/plain": [
       "  0%|          | 0/8 [00:00<?, ?it/s]"
      ]
     },
     "metadata": {},
     "output_type": "display_data"
    },
    {
     "name": "stdout",
     "output_type": "stream",
     "text": [
      "Epoch:740/1000.. Train Loss: 0.131.. Val Loss: 0.285.. Train mIoU:0.000.. Val mIoU: 0.000.. Train Acc:0.934.. Val Acc:0.862.. Time: 0.07m\n"
     ]
    },
    {
     "data": {
      "application/vnd.jupyter.widget-view+json": {
       "model_id": "d6d553f37189442fb95c31b308e7c18a",
       "version_major": 2,
       "version_minor": 0
      },
      "text/plain": [
       "  0%|          | 0/8 [00:00<?, ?it/s]"
      ]
     },
     "metadata": {},
     "output_type": "display_data"
    },
    {
     "name": "stdout",
     "output_type": "stream",
     "text": [
      "Epoch:741/1000.. Train Loss: 0.131.. Val Loss: 0.280.. Train mIoU:0.000.. Val mIoU: 0.000.. Train Acc:0.935.. Val Acc:0.869.. Time: 0.08m\n"
     ]
    },
    {
     "data": {
      "application/vnd.jupyter.widget-view+json": {
       "model_id": "da5b2fbe31eb44408a14a522a114a935",
       "version_major": 2,
       "version_minor": 0
      },
      "text/plain": [
       "  0%|          | 0/8 [00:00<?, ?it/s]"
      ]
     },
     "metadata": {},
     "output_type": "display_data"
    },
    {
     "name": "stdout",
     "output_type": "stream",
     "text": [
      "Epoch:742/1000.. Train Loss: 0.130.. Val Loss: 0.293.. Train mIoU:0.000.. Val mIoU: 0.000.. Train Acc:0.934.. Val Acc:0.867.. Time: 0.07m\n"
     ]
    },
    {
     "data": {
      "application/vnd.jupyter.widget-view+json": {
       "model_id": "3bfd58c2a0e442669cec93a3853d7261",
       "version_major": 2,
       "version_minor": 0
      },
      "text/plain": [
       "  0%|          | 0/8 [00:00<?, ?it/s]"
      ]
     },
     "metadata": {},
     "output_type": "display_data"
    },
    {
     "name": "stdout",
     "output_type": "stream",
     "text": [
      "Epoch:743/1000.. Train Loss: 0.132.. Val Loss: 0.272.. Train mIoU:0.000.. Val mIoU: 0.000.. Train Acc:0.935.. Val Acc:0.870.. Time: 0.07m\n"
     ]
    },
    {
     "data": {
      "application/vnd.jupyter.widget-view+json": {
       "model_id": "69dcd509af0c4382a1c3f9024d626c27",
       "version_major": 2,
       "version_minor": 0
      },
      "text/plain": [
       "  0%|          | 0/8 [00:00<?, ?it/s]"
      ]
     },
     "metadata": {},
     "output_type": "display_data"
    },
    {
     "name": "stdout",
     "output_type": "stream",
     "text": [
      "Epoch:744/1000.. Train Loss: 0.133.. Val Loss: 0.268.. Train mIoU:0.000.. Val mIoU: 0.000.. Train Acc:0.935.. Val Acc:0.872.. Time: 0.07m\n"
     ]
    },
    {
     "data": {
      "application/vnd.jupyter.widget-view+json": {
       "model_id": "1f4a2af8ac8a4a2ea5d3d496cceb1e9f",
       "version_major": 2,
       "version_minor": 0
      },
      "text/plain": [
       "  0%|          | 0/8 [00:00<?, ?it/s]"
      ]
     },
     "metadata": {},
     "output_type": "display_data"
    },
    {
     "name": "stdout",
     "output_type": "stream",
     "text": [
      "Epoch:745/1000.. Train Loss: 0.129.. Val Loss: 0.274.. Train mIoU:0.000.. Val mIoU: 0.000.. Train Acc:0.936.. Val Acc:0.869.. Time: 0.07m\n"
     ]
    },
    {
     "data": {
      "application/vnd.jupyter.widget-view+json": {
       "model_id": "6f01af8a885646bcb91585805c67f537",
       "version_major": 2,
       "version_minor": 0
      },
      "text/plain": [
       "  0%|          | 0/8 [00:00<?, ?it/s]"
      ]
     },
     "metadata": {},
     "output_type": "display_data"
    },
    {
     "name": "stdout",
     "output_type": "stream",
     "text": [
      "Epoch:746/1000.. Train Loss: 0.128.. Val Loss: 0.370.. Train mIoU:0.000.. Val mIoU: 0.000.. Train Acc:0.936.. Val Acc:0.825.. Time: 0.07m\n"
     ]
    },
    {
     "data": {
      "application/vnd.jupyter.widget-view+json": {
       "model_id": "4f49afb51c0d4ba4ab9cc823c59b7f84",
       "version_major": 2,
       "version_minor": 0
      },
      "text/plain": [
       "  0%|          | 0/8 [00:00<?, ?it/s]"
      ]
     },
     "metadata": {},
     "output_type": "display_data"
    },
    {
     "name": "stdout",
     "output_type": "stream",
     "text": [
      "Epoch:747/1000.. Train Loss: 0.128.. Val Loss: 0.272.. Train mIoU:0.000.. Val mIoU: 0.000.. Train Acc:0.937.. Val Acc:0.869.. Time: 0.07m\n"
     ]
    },
    {
     "data": {
      "application/vnd.jupyter.widget-view+json": {
       "model_id": "71ae6004684e49a4a26681c6137084e1",
       "version_major": 2,
       "version_minor": 0
      },
      "text/plain": [
       "  0%|          | 0/8 [00:00<?, ?it/s]"
      ]
     },
     "metadata": {},
     "output_type": "display_data"
    },
    {
     "name": "stdout",
     "output_type": "stream",
     "text": [
      "Epoch:748/1000.. Train Loss: 0.128.. Val Loss: 0.354.. Train mIoU:0.000.. Val mIoU: 0.000.. Train Acc:0.936.. Val Acc:0.867.. Time: 0.07m\n"
     ]
    },
    {
     "data": {
      "application/vnd.jupyter.widget-view+json": {
       "model_id": "e094ff295bf74450b713a7ca1e6990ba",
       "version_major": 2,
       "version_minor": 0
      },
      "text/plain": [
       "  0%|          | 0/8 [00:00<?, ?it/s]"
      ]
     },
     "metadata": {},
     "output_type": "display_data"
    },
    {
     "name": "stdout",
     "output_type": "stream",
     "text": [
      "Epoch:749/1000.. Train Loss: 0.128.. Val Loss: 0.366.. Train mIoU:0.000.. Val mIoU: 0.000.. Train Acc:0.936.. Val Acc:0.831.. Time: 0.07m\n"
     ]
    },
    {
     "data": {
      "application/vnd.jupyter.widget-view+json": {
       "model_id": "a813d89bd6064af69563952fd5251a4a",
       "version_major": 2,
       "version_minor": 0
      },
      "text/plain": [
       "  0%|          | 0/8 [00:00<?, ?it/s]"
      ]
     },
     "metadata": {},
     "output_type": "display_data"
    },
    {
     "name": "stdout",
     "output_type": "stream",
     "text": [
      "Epoch:750/1000.. Train Loss: 0.129.. Val Loss: 0.328.. Train mIoU:0.000.. Val mIoU: 0.000.. Train Acc:0.935.. Val Acc:0.851.. Time: 0.07m\n"
     ]
    },
    {
     "data": {
      "application/vnd.jupyter.widget-view+json": {
       "model_id": "3304687b353f44bbbd08c8a26d3b871b",
       "version_major": 2,
       "version_minor": 0
      },
      "text/plain": [
       "  0%|          | 0/8 [00:00<?, ?it/s]"
      ]
     },
     "metadata": {},
     "output_type": "display_data"
    },
    {
     "name": "stdout",
     "output_type": "stream",
     "text": [
      "Epoch:751/1000.. Train Loss: 0.129.. Val Loss: 0.319.. Train mIoU:0.000.. Val mIoU: 0.000.. Train Acc:0.936.. Val Acc:0.854.. Time: 0.07m\n"
     ]
    },
    {
     "data": {
      "application/vnd.jupyter.widget-view+json": {
       "model_id": "1fbc3878f73b4dd78f54a3f6d759894d",
       "version_major": 2,
       "version_minor": 0
      },
      "text/plain": [
       "  0%|          | 0/8 [00:00<?, ?it/s]"
      ]
     },
     "metadata": {},
     "output_type": "display_data"
    },
    {
     "name": "stdout",
     "output_type": "stream",
     "text": [
      "Epoch:752/1000.. Train Loss: 0.127.. Val Loss: 0.281.. Train mIoU:0.000.. Val mIoU: 0.000.. Train Acc:0.937.. Val Acc:0.866.. Time: 0.07m\n"
     ]
    },
    {
     "data": {
      "application/vnd.jupyter.widget-view+json": {
       "model_id": "73a3b693143742659bcd4e31af7fe29e",
       "version_major": 2,
       "version_minor": 0
      },
      "text/plain": [
       "  0%|          | 0/8 [00:00<?, ?it/s]"
      ]
     },
     "metadata": {},
     "output_type": "display_data"
    },
    {
     "name": "stdout",
     "output_type": "stream",
     "text": [
      "Epoch:753/1000.. Train Loss: 0.126.. Val Loss: 0.341.. Train mIoU:0.000.. Val mIoU: 0.000.. Train Acc:0.938.. Val Acc:0.823.. Time: 0.08m\n"
     ]
    },
    {
     "data": {
      "application/vnd.jupyter.widget-view+json": {
       "model_id": "3b5efd5e43a241ed995ac39f953241aa",
       "version_major": 2,
       "version_minor": 0
      },
      "text/plain": [
       "  0%|          | 0/8 [00:00<?, ?it/s]"
      ]
     },
     "metadata": {},
     "output_type": "display_data"
    },
    {
     "name": "stdout",
     "output_type": "stream",
     "text": [
      "Epoch:754/1000.. Train Loss: 0.183.. Val Loss: 0.270.. Train mIoU:0.000.. Val mIoU: 0.000.. Train Acc:0.933.. Val Acc:0.868.. Time: 0.07m\n"
     ]
    },
    {
     "data": {
      "application/vnd.jupyter.widget-view+json": {
       "model_id": "d5cf455b787c4dfb8346811b8d9b8995",
       "version_major": 2,
       "version_minor": 0
      },
      "text/plain": [
       "  0%|          | 0/8 [00:00<?, ?it/s]"
      ]
     },
     "metadata": {},
     "output_type": "display_data"
    },
    {
     "name": "stdout",
     "output_type": "stream",
     "text": [
      "Epoch:755/1000.. Train Loss: 0.131.. Val Loss: 0.313.. Train mIoU:0.000.. Val mIoU: 0.000.. Train Acc:0.934.. Val Acc:0.835.. Time: 0.08m\n"
     ]
    },
    {
     "data": {
      "application/vnd.jupyter.widget-view+json": {
       "model_id": "bf956b93b247408a86d7d3640b54e549",
       "version_major": 2,
       "version_minor": 0
      },
      "text/plain": [
       "  0%|          | 0/8 [00:00<?, ?it/s]"
      ]
     },
     "metadata": {},
     "output_type": "display_data"
    },
    {
     "name": "stdout",
     "output_type": "stream",
     "text": [
      "Epoch:756/1000.. Train Loss: 0.129.. Val Loss: 0.339.. Train mIoU:0.000.. Val mIoU: 0.000.. Train Acc:0.937.. Val Acc:0.837.. Time: 0.07m\n"
     ]
    },
    {
     "data": {
      "application/vnd.jupyter.widget-view+json": {
       "model_id": "e25213dc3c624350babd05c5609ff5af",
       "version_major": 2,
       "version_minor": 0
      },
      "text/plain": [
       "  0%|          | 0/8 [00:00<?, ?it/s]"
      ]
     },
     "metadata": {},
     "output_type": "display_data"
    },
    {
     "name": "stdout",
     "output_type": "stream",
     "text": [
      "Epoch:757/1000.. Train Loss: 0.127.. Val Loss: 0.266.. Train mIoU:0.000.. Val mIoU: 0.000.. Train Acc:0.937.. Val Acc:0.871.. Time: 0.07m\n"
     ]
    },
    {
     "data": {
      "application/vnd.jupyter.widget-view+json": {
       "model_id": "126cfb53878649cf8243e9d4a62cbbf7",
       "version_major": 2,
       "version_minor": 0
      },
      "text/plain": [
       "  0%|          | 0/8 [00:00<?, ?it/s]"
      ]
     },
     "metadata": {},
     "output_type": "display_data"
    },
    {
     "name": "stdout",
     "output_type": "stream",
     "text": [
      "Epoch:758/1000.. Train Loss: 0.128.. Val Loss: 0.261.. Train mIoU:0.000.. Val mIoU: 0.000.. Train Acc:0.936.. Val Acc:0.873.. Time: 0.07m\n"
     ]
    },
    {
     "data": {
      "application/vnd.jupyter.widget-view+json": {
       "model_id": "c8a1cb4b5df7488d97501100fe518e3a",
       "version_major": 2,
       "version_minor": 0
      },
      "text/plain": [
       "  0%|          | 0/8 [00:00<?, ?it/s]"
      ]
     },
     "metadata": {},
     "output_type": "display_data"
    },
    {
     "name": "stdout",
     "output_type": "stream",
     "text": [
      "Epoch:759/1000.. Train Loss: 0.130.. Val Loss: 0.291.. Train mIoU:0.000.. Val mIoU: 0.000.. Train Acc:0.934.. Val Acc:0.869.. Time: 0.07m\n"
     ]
    },
    {
     "data": {
      "application/vnd.jupyter.widget-view+json": {
       "model_id": "3cf21ba0f7db4c23839d4ace8b935864",
       "version_major": 2,
       "version_minor": 0
      },
      "text/plain": [
       "  0%|          | 0/8 [00:00<?, ?it/s]"
      ]
     },
     "metadata": {},
     "output_type": "display_data"
    },
    {
     "name": "stdout",
     "output_type": "stream",
     "text": [
      "Epoch:760/1000.. Train Loss: 0.131.. Val Loss: 0.357.. Train mIoU:0.000.. Val mIoU: 0.000.. Train Acc:0.934.. Val Acc:0.872.. Time: 0.07m\n"
     ]
    },
    {
     "data": {
      "application/vnd.jupyter.widget-view+json": {
       "model_id": "e7f56d0d3a894694a8923c7b05ecb515",
       "version_major": 2,
       "version_minor": 0
      },
      "text/plain": [
       "  0%|          | 0/8 [00:00<?, ?it/s]"
      ]
     },
     "metadata": {},
     "output_type": "display_data"
    },
    {
     "name": "stdout",
     "output_type": "stream",
     "text": [
      "Epoch:761/1000.. Train Loss: 0.129.. Val Loss: 0.322.. Train mIoU:0.000.. Val mIoU: 0.000.. Train Acc:0.936.. Val Acc:0.837.. Time: 0.07m\n"
     ]
    },
    {
     "data": {
      "application/vnd.jupyter.widget-view+json": {
       "model_id": "53aa792d77da47698983c1808a79a03a",
       "version_major": 2,
       "version_minor": 0
      },
      "text/plain": [
       "  0%|          | 0/8 [00:00<?, ?it/s]"
      ]
     },
     "metadata": {},
     "output_type": "display_data"
    },
    {
     "name": "stdout",
     "output_type": "stream",
     "text": [
      "Epoch:762/1000.. Train Loss: 0.126.. Val Loss: 0.389.. Train mIoU:0.000.. Val mIoU: 0.000.. Train Acc:0.937.. Val Acc:0.821.. Time: 0.07m\n"
     ]
    },
    {
     "data": {
      "application/vnd.jupyter.widget-view+json": {
       "model_id": "9df5cfbd901841439b9020b29d1a983e",
       "version_major": 2,
       "version_minor": 0
      },
      "text/plain": [
       "  0%|          | 0/8 [00:00<?, ?it/s]"
      ]
     },
     "metadata": {},
     "output_type": "display_data"
    },
    {
     "name": "stdout",
     "output_type": "stream",
     "text": [
      "Epoch:763/1000.. Train Loss: 0.129.. Val Loss: 0.279.. Train mIoU:0.000.. Val mIoU: 0.000.. Train Acc:0.935.. Val Acc:0.861.. Time: 0.07m\n"
     ]
    },
    {
     "data": {
      "application/vnd.jupyter.widget-view+json": {
       "model_id": "3b60250d8f2a4121954462abe3c1d9f3",
       "version_major": 2,
       "version_minor": 0
      },
      "text/plain": [
       "  0%|          | 0/8 [00:00<?, ?it/s]"
      ]
     },
     "metadata": {},
     "output_type": "display_data"
    },
    {
     "name": "stdout",
     "output_type": "stream",
     "text": [
      "Epoch:764/1000.. Train Loss: 0.125.. Val Loss: 0.277.. Train mIoU:0.000.. Val mIoU: 0.000.. Train Acc:0.938.. Val Acc:0.870.. Time: 0.07m\n"
     ]
    },
    {
     "data": {
      "application/vnd.jupyter.widget-view+json": {
       "model_id": "af47724dcb0f49d6a08bcf747a2f9b72",
       "version_major": 2,
       "version_minor": 0
      },
      "text/plain": [
       "  0%|          | 0/8 [00:00<?, ?it/s]"
      ]
     },
     "metadata": {},
     "output_type": "display_data"
    },
    {
     "name": "stdout",
     "output_type": "stream",
     "text": [
      "Epoch:765/1000.. Train Loss: 0.127.. Val Loss: 0.264.. Train mIoU:0.000.. Val mIoU: 0.000.. Train Acc:0.936.. Val Acc:0.872.. Time: 0.07m\n"
     ]
    },
    {
     "data": {
      "application/vnd.jupyter.widget-view+json": {
       "model_id": "80bf2b981c5c430eb1d480de1eeaad55",
       "version_major": 2,
       "version_minor": 0
      },
      "text/plain": [
       "  0%|          | 0/8 [00:00<?, ?it/s]"
      ]
     },
     "metadata": {},
     "output_type": "display_data"
    },
    {
     "name": "stdout",
     "output_type": "stream",
     "text": [
      "Epoch:766/1000.. Train Loss: 0.130.. Val Loss: 0.261.. Train mIoU:0.000.. Val mIoU: 0.000.. Train Acc:0.935.. Val Acc:0.875.. Time: 0.07m\n"
     ]
    },
    {
     "data": {
      "application/vnd.jupyter.widget-view+json": {
       "model_id": "3c51b54b9c6448428ad1ee90895ae86f",
       "version_major": 2,
       "version_minor": 0
      },
      "text/plain": [
       "  0%|          | 0/8 [00:00<?, ?it/s]"
      ]
     },
     "metadata": {},
     "output_type": "display_data"
    },
    {
     "name": "stdout",
     "output_type": "stream",
     "text": [
      "Epoch:767/1000.. Train Loss: 0.132.. Val Loss: 0.270.. Train mIoU:0.000.. Val mIoU: 0.000.. Train Acc:0.936.. Val Acc:0.869.. Time: 0.07m\n"
     ]
    },
    {
     "data": {
      "application/vnd.jupyter.widget-view+json": {
       "model_id": "dabaa66ea6a6419490c1ba3498894f03",
       "version_major": 2,
       "version_minor": 0
      },
      "text/plain": [
       "  0%|          | 0/8 [00:00<?, ?it/s]"
      ]
     },
     "metadata": {},
     "output_type": "display_data"
    },
    {
     "name": "stdout",
     "output_type": "stream",
     "text": [
      "Epoch:768/1000.. Train Loss: 0.128.. Val Loss: 0.363.. Train mIoU:0.000.. Val mIoU: 0.000.. Train Acc:0.937.. Val Acc:0.815.. Time: 0.07m\n"
     ]
    },
    {
     "data": {
      "application/vnd.jupyter.widget-view+json": {
       "model_id": "c48205a997684bf7bab07d5a41e7d5e5",
       "version_major": 2,
       "version_minor": 0
      },
      "text/plain": [
       "  0%|          | 0/8 [00:00<?, ?it/s]"
      ]
     },
     "metadata": {},
     "output_type": "display_data"
    },
    {
     "name": "stdout",
     "output_type": "stream",
     "text": [
      "Epoch:769/1000.. Train Loss: 0.127.. Val Loss: 0.273.. Train mIoU:0.000.. Val mIoU: 0.000.. Train Acc:0.938.. Val Acc:0.871.. Time: 0.07m\n"
     ]
    },
    {
     "data": {
      "application/vnd.jupyter.widget-view+json": {
       "model_id": "a20f153cf97640fd811d521605ee4e43",
       "version_major": 2,
       "version_minor": 0
      },
      "text/plain": [
       "  0%|          | 0/8 [00:00<?, ?it/s]"
      ]
     },
     "metadata": {},
     "output_type": "display_data"
    },
    {
     "name": "stdout",
     "output_type": "stream",
     "text": [
      "Epoch:770/1000.. Train Loss: 0.128.. Val Loss: 0.278.. Train mIoU:0.000.. Val mIoU: 0.000.. Train Acc:0.937.. Val Acc:0.870.. Time: 0.07m\n"
     ]
    },
    {
     "data": {
      "application/vnd.jupyter.widget-view+json": {
       "model_id": "e355df3422f546c581100cca6aaa7a6b",
       "version_major": 2,
       "version_minor": 0
      },
      "text/plain": [
       "  0%|          | 0/8 [00:00<?, ?it/s]"
      ]
     },
     "metadata": {},
     "output_type": "display_data"
    },
    {
     "name": "stdout",
     "output_type": "stream",
     "text": [
      "Epoch:771/1000.. Train Loss: 0.130.. Val Loss: 0.330.. Train mIoU:0.000.. Val mIoU: 0.000.. Train Acc:0.934.. Val Acc:0.829.. Time: 0.07m\n"
     ]
    },
    {
     "data": {
      "application/vnd.jupyter.widget-view+json": {
       "model_id": "8cb57082bd7f4a71919bb79a90905ea9",
       "version_major": 2,
       "version_minor": 0
      },
      "text/plain": [
       "  0%|          | 0/8 [00:00<?, ?it/s]"
      ]
     },
     "metadata": {},
     "output_type": "display_data"
    },
    {
     "name": "stdout",
     "output_type": "stream",
     "text": [
      "Epoch:772/1000.. Train Loss: 0.128.. Val Loss: 0.284.. Train mIoU:0.000.. Val mIoU: 0.000.. Train Acc:0.936.. Val Acc:0.870.. Time: 0.07m\n"
     ]
    },
    {
     "data": {
      "application/vnd.jupyter.widget-view+json": {
       "model_id": "21415d3589b2426d959ce903590320c4",
       "version_major": 2,
       "version_minor": 0
      },
      "text/plain": [
       "  0%|          | 0/8 [00:00<?, ?it/s]"
      ]
     },
     "metadata": {},
     "output_type": "display_data"
    },
    {
     "name": "stdout",
     "output_type": "stream",
     "text": [
      "Epoch:773/1000.. Train Loss: 0.125.. Val Loss: 0.270.. Train mIoU:0.000.. Val mIoU: 0.000.. Train Acc:0.939.. Val Acc:0.868.. Time: 0.07m\n"
     ]
    },
    {
     "data": {
      "application/vnd.jupyter.widget-view+json": {
       "model_id": "efa0ef4e38294ca49caa196a3cc94207",
       "version_major": 2,
       "version_minor": 0
      },
      "text/plain": [
       "  0%|          | 0/8 [00:00<?, ?it/s]"
      ]
     },
     "metadata": {},
     "output_type": "display_data"
    },
    {
     "name": "stdout",
     "output_type": "stream",
     "text": [
      "Epoch:774/1000.. Train Loss: 0.126.. Val Loss: 0.371.. Train mIoU:0.000.. Val mIoU: 0.000.. Train Acc:0.937.. Val Acc:0.848.. Time: 0.07m\n"
     ]
    },
    {
     "data": {
      "application/vnd.jupyter.widget-view+json": {
       "model_id": "61228d60861a447cad245d82d6d8cebb",
       "version_major": 2,
       "version_minor": 0
      },
      "text/plain": [
       "  0%|          | 0/8 [00:00<?, ?it/s]"
      ]
     },
     "metadata": {},
     "output_type": "display_data"
    },
    {
     "name": "stdout",
     "output_type": "stream",
     "text": [
      "Epoch:775/1000.. Train Loss: 0.129.. Val Loss: 0.269.. Train mIoU:0.000.. Val mIoU: 0.000.. Train Acc:0.937.. Val Acc:0.873.. Time: 0.07m\n"
     ]
    },
    {
     "data": {
      "application/vnd.jupyter.widget-view+json": {
       "model_id": "67167ff214984c1a996b50f119bb196c",
       "version_major": 2,
       "version_minor": 0
      },
      "text/plain": [
       "  0%|          | 0/8 [00:00<?, ?it/s]"
      ]
     },
     "metadata": {},
     "output_type": "display_data"
    },
    {
     "name": "stdout",
     "output_type": "stream",
     "text": [
      "Epoch:776/1000.. Train Loss: 0.127.. Val Loss: 0.274.. Train mIoU:0.000.. Val mIoU: 0.000.. Train Acc:0.938.. Val Acc:0.872.. Time: 0.08m\n"
     ]
    },
    {
     "data": {
      "application/vnd.jupyter.widget-view+json": {
       "model_id": "e7f3b8a0a51548b0b6606fb227b3643b",
       "version_major": 2,
       "version_minor": 0
      },
      "text/plain": [
       "  0%|          | 0/8 [00:00<?, ?it/s]"
      ]
     },
     "metadata": {},
     "output_type": "display_data"
    },
    {
     "name": "stdout",
     "output_type": "stream",
     "text": [
      "Epoch:777/1000.. Train Loss: 0.125.. Val Loss: 0.267.. Train mIoU:0.000.. Val mIoU: 0.000.. Train Acc:0.938.. Val Acc:0.869.. Time: 0.07m\n"
     ]
    },
    {
     "data": {
      "application/vnd.jupyter.widget-view+json": {
       "model_id": "a730ff946a434c40a89927c94eb51e3e",
       "version_major": 2,
       "version_minor": 0
      },
      "text/plain": [
       "  0%|          | 0/8 [00:00<?, ?it/s]"
      ]
     },
     "metadata": {},
     "output_type": "display_data"
    },
    {
     "name": "stdout",
     "output_type": "stream",
     "text": [
      "Epoch:778/1000.. Train Loss: 0.128.. Val Loss: 0.338.. Train mIoU:0.000.. Val mIoU: 0.000.. Train Acc:0.936.. Val Acc:0.829.. Time: 0.07m\n"
     ]
    },
    {
     "data": {
      "application/vnd.jupyter.widget-view+json": {
       "model_id": "a3a1c0eb65164f639c2ea81300ce7095",
       "version_major": 2,
       "version_minor": 0
      },
      "text/plain": [
       "  0%|          | 0/8 [00:00<?, ?it/s]"
      ]
     },
     "metadata": {},
     "output_type": "display_data"
    },
    {
     "name": "stdout",
     "output_type": "stream",
     "text": [
      "Epoch:779/1000.. Train Loss: 0.131.. Val Loss: 0.310.. Train mIoU:0.000.. Val mIoU: 0.000.. Train Acc:0.935.. Val Acc:0.858.. Time: 0.07m\n"
     ]
    },
    {
     "data": {
      "application/vnd.jupyter.widget-view+json": {
       "model_id": "147cab8060254557927109f9755ab112",
       "version_major": 2,
       "version_minor": 0
      },
      "text/plain": [
       "  0%|          | 0/8 [00:00<?, ?it/s]"
      ]
     },
     "metadata": {},
     "output_type": "display_data"
    },
    {
     "name": "stdout",
     "output_type": "stream",
     "text": [
      "Epoch:780/1000.. Train Loss: 0.125.. Val Loss: 0.300.. Train mIoU:0.000.. Val mIoU: 0.000.. Train Acc:0.938.. Val Acc:0.868.. Time: 0.07m\n"
     ]
    },
    {
     "data": {
      "application/vnd.jupyter.widget-view+json": {
       "model_id": "af9e4613675743b284a8d2e4493590cb",
       "version_major": 2,
       "version_minor": 0
      },
      "text/plain": [
       "  0%|          | 0/8 [00:00<?, ?it/s]"
      ]
     },
     "metadata": {},
     "output_type": "display_data"
    },
    {
     "name": "stdout",
     "output_type": "stream",
     "text": [
      "Epoch:781/1000.. Train Loss: 0.127.. Val Loss: 0.288.. Train mIoU:0.000.. Val mIoU: 0.000.. Train Acc:0.937.. Val Acc:0.862.. Time: 0.07m\n"
     ]
    },
    {
     "data": {
      "application/vnd.jupyter.widget-view+json": {
       "model_id": "1df54ea574204f29b656a8038dd3fe9e",
       "version_major": 2,
       "version_minor": 0
      },
      "text/plain": [
       "  0%|          | 0/8 [00:00<?, ?it/s]"
      ]
     },
     "metadata": {},
     "output_type": "display_data"
    },
    {
     "name": "stdout",
     "output_type": "stream",
     "text": [
      "Epoch:782/1000.. Train Loss: 0.126.. Val Loss: 0.269.. Train mIoU:0.000.. Val mIoU: 0.000.. Train Acc:0.937.. Val Acc:0.872.. Time: 0.07m\n"
     ]
    },
    {
     "data": {
      "application/vnd.jupyter.widget-view+json": {
       "model_id": "6dcd7c6963b645169e24bd42e33a821d",
       "version_major": 2,
       "version_minor": 0
      },
      "text/plain": [
       "  0%|          | 0/8 [00:00<?, ?it/s]"
      ]
     },
     "metadata": {},
     "output_type": "display_data"
    },
    {
     "name": "stdout",
     "output_type": "stream",
     "text": [
      "Epoch:783/1000.. Train Loss: 0.123.. Val Loss: 0.266.. Train mIoU:0.000.. Val mIoU: 0.000.. Train Acc:0.939.. Val Acc:0.875.. Time: 0.07m\n"
     ]
    },
    {
     "data": {
      "application/vnd.jupyter.widget-view+json": {
       "model_id": "efc27d53e25f49c5acd8ee3c9614f720",
       "version_major": 2,
       "version_minor": 0
      },
      "text/plain": [
       "  0%|          | 0/8 [00:00<?, ?it/s]"
      ]
     },
     "metadata": {},
     "output_type": "display_data"
    },
    {
     "name": "stdout",
     "output_type": "stream",
     "text": [
      "Epoch:784/1000.. Train Loss: 0.126.. Val Loss: 0.269.. Train mIoU:0.000.. Val mIoU: 0.000.. Train Acc:0.938.. Val Acc:0.871.. Time: 0.07m\n"
     ]
    },
    {
     "data": {
      "application/vnd.jupyter.widget-view+json": {
       "model_id": "9bfd56b002b34100be71d8c5c6d1aa62",
       "version_major": 2,
       "version_minor": 0
      },
      "text/plain": [
       "  0%|          | 0/8 [00:00<?, ?it/s]"
      ]
     },
     "metadata": {},
     "output_type": "display_data"
    },
    {
     "name": "stdout",
     "output_type": "stream",
     "text": [
      "Epoch:785/1000.. Train Loss: 0.129.. Val Loss: 0.383.. Train mIoU:0.000.. Val mIoU: 0.000.. Train Acc:0.935.. Val Acc:0.815.. Time: 0.07m\n"
     ]
    },
    {
     "data": {
      "application/vnd.jupyter.widget-view+json": {
       "model_id": "bfd4f1fb76ef4f71937b4a5c8c439af5",
       "version_major": 2,
       "version_minor": 0
      },
      "text/plain": [
       "  0%|          | 0/8 [00:00<?, ?it/s]"
      ]
     },
     "metadata": {},
     "output_type": "display_data"
    },
    {
     "name": "stdout",
     "output_type": "stream",
     "text": [
      "Epoch:786/1000.. Train Loss: 0.126.. Val Loss: 0.366.. Train mIoU:0.000.. Val mIoU: 0.000.. Train Acc:0.938.. Val Acc:0.832.. Time: 0.07m\n"
     ]
    },
    {
     "data": {
      "application/vnd.jupyter.widget-view+json": {
       "model_id": "1b102aaee3de442f99110062019d1e7d",
       "version_major": 2,
       "version_minor": 0
      },
      "text/plain": [
       "  0%|          | 0/8 [00:00<?, ?it/s]"
      ]
     },
     "metadata": {},
     "output_type": "display_data"
    },
    {
     "name": "stdout",
     "output_type": "stream",
     "text": [
      "Epoch:787/1000.. Train Loss: 0.128.. Val Loss: 0.269.. Train mIoU:0.000.. Val mIoU: 0.000.. Train Acc:0.938.. Val Acc:0.869.. Time: 0.08m\n"
     ]
    },
    {
     "data": {
      "application/vnd.jupyter.widget-view+json": {
       "model_id": "a219222aa49e4aeca4068868e38b004a",
       "version_major": 2,
       "version_minor": 0
      },
      "text/plain": [
       "  0%|          | 0/8 [00:00<?, ?it/s]"
      ]
     },
     "metadata": {},
     "output_type": "display_data"
    },
    {
     "name": "stdout",
     "output_type": "stream",
     "text": [
      "Epoch:788/1000.. Train Loss: 0.127.. Val Loss: 0.271.. Train mIoU:0.000.. Val mIoU: 0.000.. Train Acc:0.936.. Val Acc:0.867.. Time: 0.07m\n"
     ]
    },
    {
     "data": {
      "application/vnd.jupyter.widget-view+json": {
       "model_id": "550d463bd81943fea4f77ec23e8feafc",
       "version_major": 2,
       "version_minor": 0
      },
      "text/plain": [
       "  0%|          | 0/8 [00:00<?, ?it/s]"
      ]
     },
     "metadata": {},
     "output_type": "display_data"
    },
    {
     "name": "stdout",
     "output_type": "stream",
     "text": [
      "Epoch:789/1000.. Train Loss: 0.129.. Val Loss: 0.343.. Train mIoU:0.000.. Val mIoU: 0.000.. Train Acc:0.935.. Val Acc:0.826.. Time: 0.07m\n"
     ]
    },
    {
     "data": {
      "application/vnd.jupyter.widget-view+json": {
       "model_id": "2e9d67ff43ac4b58a7e3acbd8832d9ff",
       "version_major": 2,
       "version_minor": 0
      },
      "text/plain": [
       "  0%|          | 0/8 [00:00<?, ?it/s]"
      ]
     },
     "metadata": {},
     "output_type": "display_data"
    },
    {
     "name": "stdout",
     "output_type": "stream",
     "text": [
      "Epoch:790/1000.. Train Loss: 0.124.. Val Loss: 0.386.. Train mIoU:0.000.. Val mIoU: 0.000.. Train Acc:0.938.. Val Acc:0.815.. Time: 0.07m\n"
     ]
    },
    {
     "data": {
      "application/vnd.jupyter.widget-view+json": {
       "model_id": "a5f7889a9e8541098dd62db387ea5898",
       "version_major": 2,
       "version_minor": 0
      },
      "text/plain": [
       "  0%|          | 0/8 [00:00<?, ?it/s]"
      ]
     },
     "metadata": {},
     "output_type": "display_data"
    },
    {
     "name": "stdout",
     "output_type": "stream",
     "text": [
      "Epoch:791/1000.. Train Loss: 0.127.. Val Loss: 0.354.. Train mIoU:0.000.. Val mIoU: 0.000.. Train Acc:0.937.. Val Acc:0.832.. Time: 0.08m\n"
     ]
    },
    {
     "data": {
      "application/vnd.jupyter.widget-view+json": {
       "model_id": "b882314ca1bc4ed9857a6174b408e998",
       "version_major": 2,
       "version_minor": 0
      },
      "text/plain": [
       "  0%|          | 0/8 [00:00<?, ?it/s]"
      ]
     },
     "metadata": {},
     "output_type": "display_data"
    },
    {
     "name": "stdout",
     "output_type": "stream",
     "text": [
      "Epoch:792/1000.. Train Loss: 0.126.. Val Loss: 0.288.. Train mIoU:0.000.. Val mIoU: 0.000.. Train Acc:0.938.. Val Acc:0.862.. Time: 0.07m\n"
     ]
    },
    {
     "data": {
      "application/vnd.jupyter.widget-view+json": {
       "model_id": "294c44a31cf64854ba11cb2d519b205a",
       "version_major": 2,
       "version_minor": 0
      },
      "text/plain": [
       "  0%|          | 0/8 [00:00<?, ?it/s]"
      ]
     },
     "metadata": {},
     "output_type": "display_data"
    },
    {
     "name": "stdout",
     "output_type": "stream",
     "text": [
      "Epoch:793/1000.. Train Loss: 0.125.. Val Loss: 0.371.. Train mIoU:0.000.. Val mIoU: 0.000.. Train Acc:0.938.. Val Acc:0.816.. Time: 0.07m\n"
     ]
    },
    {
     "data": {
      "application/vnd.jupyter.widget-view+json": {
       "model_id": "6f12cebd22b7487a80fdbe74a1f9d25d",
       "version_major": 2,
       "version_minor": 0
      },
      "text/plain": [
       "  0%|          | 0/8 [00:00<?, ?it/s]"
      ]
     },
     "metadata": {},
     "output_type": "display_data"
    },
    {
     "name": "stdout",
     "output_type": "stream",
     "text": [
      "Epoch:794/1000.. Train Loss: 0.130.. Val Loss: 0.309.. Train mIoU:0.000.. Val mIoU: 0.000.. Train Acc:0.935.. Val Acc:0.853.. Time: 0.07m\n"
     ]
    },
    {
     "data": {
      "application/vnd.jupyter.widget-view+json": {
       "model_id": "80ccdbcde91b416990d88e481ce1edd2",
       "version_major": 2,
       "version_minor": 0
      },
      "text/plain": [
       "  0%|          | 0/8 [00:00<?, ?it/s]"
      ]
     },
     "metadata": {},
     "output_type": "display_data"
    },
    {
     "name": "stdout",
     "output_type": "stream",
     "text": [
      "Epoch:795/1000.. Train Loss: 0.143.. Val Loss: 0.346.. Train mIoU:0.000.. Val mIoU: 0.000.. Train Acc:0.936.. Val Acc:0.837.. Time: 0.07m\n"
     ]
    },
    {
     "data": {
      "application/vnd.jupyter.widget-view+json": {
       "model_id": "0cfc6d43f66b4a0585b3ca3d26f8f945",
       "version_major": 2,
       "version_minor": 0
      },
      "text/plain": [
       "  0%|          | 0/8 [00:00<?, ?it/s]"
      ]
     },
     "metadata": {},
     "output_type": "display_data"
    },
    {
     "name": "stdout",
     "output_type": "stream",
     "text": [
      "Epoch:796/1000.. Train Loss: 0.123.. Val Loss: 0.289.. Train mIoU:0.000.. Val mIoU: 0.000.. Train Acc:0.939.. Val Acc:0.868.. Time: 0.07m\n"
     ]
    },
    {
     "data": {
      "application/vnd.jupyter.widget-view+json": {
       "model_id": "9025ba0549154ac7b22f86645eeb5753",
       "version_major": 2,
       "version_minor": 0
      },
      "text/plain": [
       "  0%|          | 0/8 [00:00<?, ?it/s]"
      ]
     },
     "metadata": {},
     "output_type": "display_data"
    },
    {
     "name": "stdout",
     "output_type": "stream",
     "text": [
      "Epoch:797/1000.. Train Loss: 0.127.. Val Loss: 0.278.. Train mIoU:0.000.. Val mIoU: 0.000.. Train Acc:0.937.. Val Acc:0.870.. Time: 0.07m\n"
     ]
    },
    {
     "data": {
      "application/vnd.jupyter.widget-view+json": {
       "model_id": "1fdf8c9c376240d6a84965f26ffb361c",
       "version_major": 2,
       "version_minor": 0
      },
      "text/plain": [
       "  0%|          | 0/8 [00:00<?, ?it/s]"
      ]
     },
     "metadata": {},
     "output_type": "display_data"
    },
    {
     "name": "stdout",
     "output_type": "stream",
     "text": [
      "Epoch:798/1000.. Train Loss: 0.128.. Val Loss: 0.284.. Train mIoU:0.000.. Val mIoU: 0.000.. Train Acc:0.935.. Val Acc:0.870.. Time: 0.08m\n"
     ]
    },
    {
     "data": {
      "application/vnd.jupyter.widget-view+json": {
       "model_id": "c4b5a12118dc48f9859210792d8b4bcc",
       "version_major": 2,
       "version_minor": 0
      },
      "text/plain": [
       "  0%|          | 0/8 [00:00<?, ?it/s]"
      ]
     },
     "metadata": {},
     "output_type": "display_data"
    },
    {
     "name": "stdout",
     "output_type": "stream",
     "text": [
      "Epoch:799/1000.. Train Loss: 0.128.. Val Loss: 0.282.. Train mIoU:0.000.. Val mIoU: 0.000.. Train Acc:0.936.. Val Acc:0.868.. Time: 0.07m\n"
     ]
    },
    {
     "data": {
      "application/vnd.jupyter.widget-view+json": {
       "model_id": "a386f0b46e414c86ab147f55f8c4f15a",
       "version_major": 2,
       "version_minor": 0
      },
      "text/plain": [
       "  0%|          | 0/8 [00:00<?, ?it/s]"
      ]
     },
     "metadata": {},
     "output_type": "display_data"
    },
    {
     "name": "stdout",
     "output_type": "stream",
     "text": [
      "Epoch:800/1000.. Train Loss: 0.129.. Val Loss: 0.396.. Train mIoU:0.000.. Val mIoU: 0.000.. Train Acc:0.936.. Val Acc:0.855.. Time: 0.07m\n"
     ]
    },
    {
     "data": {
      "application/vnd.jupyter.widget-view+json": {
       "model_id": "9ec03433cd784353a308d97acffbdce0",
       "version_major": 2,
       "version_minor": 0
      },
      "text/plain": [
       "  0%|          | 0/8 [00:00<?, ?it/s]"
      ]
     },
     "metadata": {},
     "output_type": "display_data"
    },
    {
     "name": "stdout",
     "output_type": "stream",
     "text": [
      "Epoch:801/1000.. Train Loss: 0.125.. Val Loss: 0.276.. Train mIoU:0.000.. Val mIoU: 0.000.. Train Acc:0.939.. Val Acc:0.867.. Time: 0.07m\n"
     ]
    },
    {
     "data": {
      "application/vnd.jupyter.widget-view+json": {
       "model_id": "3bd69f12d19443759741533b79a0262f",
       "version_major": 2,
       "version_minor": 0
      },
      "text/plain": [
       "  0%|          | 0/8 [00:00<?, ?it/s]"
      ]
     },
     "metadata": {},
     "output_type": "display_data"
    },
    {
     "name": "stdout",
     "output_type": "stream",
     "text": [
      "Epoch:802/1000.. Train Loss: 0.128.. Val Loss: 0.325.. Train mIoU:0.000.. Val mIoU: 0.000.. Train Acc:0.937.. Val Acc:0.841.. Time: 0.07m\n"
     ]
    },
    {
     "data": {
      "application/vnd.jupyter.widget-view+json": {
       "model_id": "5515ada01ef449968ca47f6aca76347c",
       "version_major": 2,
       "version_minor": 0
      },
      "text/plain": [
       "  0%|          | 0/8 [00:00<?, ?it/s]"
      ]
     },
     "metadata": {},
     "output_type": "display_data"
    },
    {
     "name": "stdout",
     "output_type": "stream",
     "text": [
      "Epoch:803/1000.. Train Loss: 0.125.. Val Loss: 0.346.. Train mIoU:0.000.. Val mIoU: 0.000.. Train Acc:0.939.. Val Acc:0.822.. Time: 0.07m\n"
     ]
    },
    {
     "data": {
      "application/vnd.jupyter.widget-view+json": {
       "model_id": "71411891616b42b2aaeeaaf528200fd9",
       "version_major": 2,
       "version_minor": 0
      },
      "text/plain": [
       "  0%|          | 0/8 [00:00<?, ?it/s]"
      ]
     },
     "metadata": {},
     "output_type": "display_data"
    },
    {
     "name": "stdout",
     "output_type": "stream",
     "text": [
      "Epoch:804/1000.. Train Loss: 0.127.. Val Loss: 0.275.. Train mIoU:0.000.. Val mIoU: 0.000.. Train Acc:0.938.. Val Acc:0.876.. Time: 0.07m\n"
     ]
    },
    {
     "data": {
      "application/vnd.jupyter.widget-view+json": {
       "model_id": "ac7ede2a00bd4b6c95711752db1991f6",
       "version_major": 2,
       "version_minor": 0
      },
      "text/plain": [
       "  0%|          | 0/8 [00:00<?, ?it/s]"
      ]
     },
     "metadata": {},
     "output_type": "display_data"
    },
    {
     "name": "stdout",
     "output_type": "stream",
     "text": [
      "Epoch:805/1000.. Train Loss: 0.124.. Val Loss: 0.281.. Train mIoU:0.000.. Val mIoU: 0.000.. Train Acc:0.939.. Val Acc:0.869.. Time: 0.07m\n"
     ]
    },
    {
     "data": {
      "application/vnd.jupyter.widget-view+json": {
       "model_id": "2f42430360fe4bd0a7aa7f174ae171ff",
       "version_major": 2,
       "version_minor": 0
      },
      "text/plain": [
       "  0%|          | 0/8 [00:00<?, ?it/s]"
      ]
     },
     "metadata": {},
     "output_type": "display_data"
    },
    {
     "name": "stdout",
     "output_type": "stream",
     "text": [
      "Epoch:806/1000.. Train Loss: 0.124.. Val Loss: 0.292.. Train mIoU:0.000.. Val mIoU: 0.000.. Train Acc:0.938.. Val Acc:0.868.. Time: 0.07m\n"
     ]
    },
    {
     "data": {
      "application/vnd.jupyter.widget-view+json": {
       "model_id": "16f6d87f859849078a367f1590cdf583",
       "version_major": 2,
       "version_minor": 0
      },
      "text/plain": [
       "  0%|          | 0/8 [00:00<?, ?it/s]"
      ]
     },
     "metadata": {},
     "output_type": "display_data"
    },
    {
     "name": "stdout",
     "output_type": "stream",
     "text": [
      "Epoch:807/1000.. Train Loss: 0.130.. Val Loss: 0.283.. Train mIoU:0.000.. Val mIoU: 0.000.. Train Acc:0.936.. Val Acc:0.869.. Time: 0.08m\n"
     ]
    },
    {
     "data": {
      "application/vnd.jupyter.widget-view+json": {
       "model_id": "8e27d02d29c54647bf05d4c6fe5353c5",
       "version_major": 2,
       "version_minor": 0
      },
      "text/plain": [
       "  0%|          | 0/8 [00:00<?, ?it/s]"
      ]
     },
     "metadata": {},
     "output_type": "display_data"
    },
    {
     "name": "stdout",
     "output_type": "stream",
     "text": [
      "Epoch:808/1000.. Train Loss: 0.128.. Val Loss: 0.282.. Train mIoU:0.000.. Val mIoU: 0.000.. Train Acc:0.936.. Val Acc:0.863.. Time: 0.07m\n"
     ]
    },
    {
     "data": {
      "application/vnd.jupyter.widget-view+json": {
       "model_id": "91296d61137242a893edcbfad79d019c",
       "version_major": 2,
       "version_minor": 0
      },
      "text/plain": [
       "  0%|          | 0/8 [00:00<?, ?it/s]"
      ]
     },
     "metadata": {},
     "output_type": "display_data"
    },
    {
     "name": "stdout",
     "output_type": "stream",
     "text": [
      "Epoch:809/1000.. Train Loss: 0.128.. Val Loss: 0.278.. Train mIoU:0.000.. Val mIoU: 0.000.. Train Acc:0.937.. Val Acc:0.871.. Time: 0.08m\n"
     ]
    },
    {
     "data": {
      "application/vnd.jupyter.widget-view+json": {
       "model_id": "4a0956d37dbb4883851992ff5a12ec7e",
       "version_major": 2,
       "version_minor": 0
      },
      "text/plain": [
       "  0%|          | 0/8 [00:00<?, ?it/s]"
      ]
     },
     "metadata": {},
     "output_type": "display_data"
    },
    {
     "name": "stdout",
     "output_type": "stream",
     "text": [
      "Epoch:810/1000.. Train Loss: 0.125.. Val Loss: 0.297.. Train mIoU:0.000.. Val mIoU: 0.000.. Train Acc:0.939.. Val Acc:0.869.. Time: 0.08m\n"
     ]
    },
    {
     "data": {
      "application/vnd.jupyter.widget-view+json": {
       "model_id": "7b27112f640049dbb5c75511fc9bc8a0",
       "version_major": 2,
       "version_minor": 0
      },
      "text/plain": [
       "  0%|          | 0/8 [00:00<?, ?it/s]"
      ]
     },
     "metadata": {},
     "output_type": "display_data"
    },
    {
     "name": "stdout",
     "output_type": "stream",
     "text": [
      "Epoch:811/1000.. Train Loss: 0.127.. Val Loss: 0.324.. Train mIoU:0.000.. Val mIoU: 0.000.. Train Acc:0.938.. Val Acc:0.846.. Time: 0.07m\n"
     ]
    },
    {
     "data": {
      "application/vnd.jupyter.widget-view+json": {
       "model_id": "80f05c4259824f9a9c49827d4036c614",
       "version_major": 2,
       "version_minor": 0
      },
      "text/plain": [
       "  0%|          | 0/8 [00:00<?, ?it/s]"
      ]
     },
     "metadata": {},
     "output_type": "display_data"
    },
    {
     "name": "stdout",
     "output_type": "stream",
     "text": [
      "Epoch:812/1000.. Train Loss: 0.127.. Val Loss: 0.283.. Train mIoU:0.000.. Val mIoU: 0.000.. Train Acc:0.937.. Val Acc:0.865.. Time: 0.07m\n"
     ]
    },
    {
     "data": {
      "application/vnd.jupyter.widget-view+json": {
       "model_id": "bbdf92c8717640a9b9842a213593a14b",
       "version_major": 2,
       "version_minor": 0
      },
      "text/plain": [
       "  0%|          | 0/8 [00:00<?, ?it/s]"
      ]
     },
     "metadata": {},
     "output_type": "display_data"
    },
    {
     "name": "stdout",
     "output_type": "stream",
     "text": [
      "Epoch:813/1000.. Train Loss: 0.125.. Val Loss: 0.271.. Train mIoU:0.000.. Val mIoU: 0.000.. Train Acc:0.938.. Val Acc:0.872.. Time: 0.07m\n"
     ]
    },
    {
     "data": {
      "application/vnd.jupyter.widget-view+json": {
       "model_id": "4ba3927bd2324278ae1e1613aab16b14",
       "version_major": 2,
       "version_minor": 0
      },
      "text/plain": [
       "  0%|          | 0/8 [00:00<?, ?it/s]"
      ]
     },
     "metadata": {},
     "output_type": "display_data"
    },
    {
     "name": "stdout",
     "output_type": "stream",
     "text": [
      "Epoch:814/1000.. Train Loss: 0.127.. Val Loss: 0.305.. Train mIoU:0.000.. Val mIoU: 0.000.. Train Acc:0.937.. Val Acc:0.862.. Time: 0.07m\n"
     ]
    },
    {
     "data": {
      "application/vnd.jupyter.widget-view+json": {
       "model_id": "6b32ecbb33c44672bad38093b4042f25",
       "version_major": 2,
       "version_minor": 0
      },
      "text/plain": [
       "  0%|          | 0/8 [00:00<?, ?it/s]"
      ]
     },
     "metadata": {},
     "output_type": "display_data"
    },
    {
     "name": "stdout",
     "output_type": "stream",
     "text": [
      "Epoch:815/1000.. Train Loss: 0.125.. Val Loss: 0.317.. Train mIoU:0.000.. Val mIoU: 0.000.. Train Acc:0.937.. Val Acc:0.864.. Time: 0.07m\n"
     ]
    },
    {
     "data": {
      "application/vnd.jupyter.widget-view+json": {
       "model_id": "dab5698442454aa2a3018fede8aa75b7",
       "version_major": 2,
       "version_minor": 0
      },
      "text/plain": [
       "  0%|          | 0/8 [00:00<?, ?it/s]"
      ]
     },
     "metadata": {},
     "output_type": "display_data"
    },
    {
     "name": "stdout",
     "output_type": "stream",
     "text": [
      "Epoch:816/1000.. Train Loss: 0.127.. Val Loss: 0.275.. Train mIoU:0.000.. Val mIoU: 0.000.. Train Acc:0.936.. Val Acc:0.875.. Time: 0.07m\n"
     ]
    },
    {
     "data": {
      "application/vnd.jupyter.widget-view+json": {
       "model_id": "e90afb0654224448996cbd5ea9c3fa98",
       "version_major": 2,
       "version_minor": 0
      },
      "text/plain": [
       "  0%|          | 0/8 [00:00<?, ?it/s]"
      ]
     },
     "metadata": {},
     "output_type": "display_data"
    },
    {
     "name": "stdout",
     "output_type": "stream",
     "text": [
      "Epoch:817/1000.. Train Loss: 0.127.. Val Loss: 0.322.. Train mIoU:0.000.. Val mIoU: 0.000.. Train Acc:0.937.. Val Acc:0.860.. Time: 0.07m\n"
     ]
    },
    {
     "data": {
      "application/vnd.jupyter.widget-view+json": {
       "model_id": "9f4a3e61270d455ab7bbff15c11e7cbc",
       "version_major": 2,
       "version_minor": 0
      },
      "text/plain": [
       "  0%|          | 0/8 [00:00<?, ?it/s]"
      ]
     },
     "metadata": {},
     "output_type": "display_data"
    },
    {
     "name": "stdout",
     "output_type": "stream",
     "text": [
      "Epoch:818/1000.. Train Loss: 0.126.. Val Loss: 0.274.. Train mIoU:0.000.. Val mIoU: 0.000.. Train Acc:0.938.. Val Acc:0.869.. Time: 0.07m\n"
     ]
    },
    {
     "data": {
      "application/vnd.jupyter.widget-view+json": {
       "model_id": "f315d5f1bdfa44beb54abe1deb7e5e9c",
       "version_major": 2,
       "version_minor": 0
      },
      "text/plain": [
       "  0%|          | 0/8 [00:00<?, ?it/s]"
      ]
     },
     "metadata": {},
     "output_type": "display_data"
    },
    {
     "name": "stdout",
     "output_type": "stream",
     "text": [
      "Epoch:819/1000.. Train Loss: 0.123.. Val Loss: 0.284.. Train mIoU:0.000.. Val mIoU: 0.000.. Train Acc:0.939.. Val Acc:0.867.. Time: 0.07m\n"
     ]
    },
    {
     "data": {
      "application/vnd.jupyter.widget-view+json": {
       "model_id": "043c26f291cf424a84d417c6e215db9f",
       "version_major": 2,
       "version_minor": 0
      },
      "text/plain": [
       "  0%|          | 0/8 [00:00<?, ?it/s]"
      ]
     },
     "metadata": {},
     "output_type": "display_data"
    },
    {
     "name": "stdout",
     "output_type": "stream",
     "text": [
      "Epoch:820/1000.. Train Loss: 0.127.. Val Loss: 0.358.. Train mIoU:0.000.. Val mIoU: 0.000.. Train Acc:0.938.. Val Acc:0.815.. Time: 0.07m\n"
     ]
    },
    {
     "data": {
      "application/vnd.jupyter.widget-view+json": {
       "model_id": "a31762d57978431885520bf1097514b8",
       "version_major": 2,
       "version_minor": 0
      },
      "text/plain": [
       "  0%|          | 0/8 [00:00<?, ?it/s]"
      ]
     },
     "metadata": {},
     "output_type": "display_data"
    },
    {
     "name": "stdout",
     "output_type": "stream",
     "text": [
      "Epoch:821/1000.. Train Loss: 0.129.. Val Loss: 0.267.. Train mIoU:0.000.. Val mIoU: 0.000.. Train Acc:0.937.. Val Acc:0.876.. Time: 0.08m\n"
     ]
    },
    {
     "data": {
      "application/vnd.jupyter.widget-view+json": {
       "model_id": "fc83373f8b5d4b59b7cc9d0b88b0fc37",
       "version_major": 2,
       "version_minor": 0
      },
      "text/plain": [
       "  0%|          | 0/8 [00:00<?, ?it/s]"
      ]
     },
     "metadata": {},
     "output_type": "display_data"
    },
    {
     "name": "stdout",
     "output_type": "stream",
     "text": [
      "Epoch:822/1000.. Train Loss: 0.123.. Val Loss: 0.258.. Train mIoU:0.000.. Val mIoU: 0.000.. Train Acc:0.938.. Val Acc:0.876.. Time: 0.07m\n"
     ]
    },
    {
     "data": {
      "application/vnd.jupyter.widget-view+json": {
       "model_id": "21afa8d99e5946d69a29301e520a055d",
       "version_major": 2,
       "version_minor": 0
      },
      "text/plain": [
       "  0%|          | 0/8 [00:00<?, ?it/s]"
      ]
     },
     "metadata": {},
     "output_type": "display_data"
    },
    {
     "name": "stdout",
     "output_type": "stream",
     "text": [
      "Epoch:823/1000.. Train Loss: 0.124.. Val Loss: 0.266.. Train mIoU:0.000.. Val mIoU: 0.000.. Train Acc:0.938.. Val Acc:0.873.. Time: 0.07m\n"
     ]
    },
    {
     "data": {
      "application/vnd.jupyter.widget-view+json": {
       "model_id": "1c08421c1e39407b85b785f35b4de8be",
       "version_major": 2,
       "version_minor": 0
      },
      "text/plain": [
       "  0%|          | 0/8 [00:00<?, ?it/s]"
      ]
     },
     "metadata": {},
     "output_type": "display_data"
    },
    {
     "name": "stdout",
     "output_type": "stream",
     "text": [
      "Epoch:824/1000.. Train Loss: 0.123.. Val Loss: 0.269.. Train mIoU:0.000.. Val mIoU: 0.000.. Train Acc:0.941.. Val Acc:0.870.. Time: 0.07m\n"
     ]
    },
    {
     "data": {
      "application/vnd.jupyter.widget-view+json": {
       "model_id": "651d5cf8ed97462385046ec6309ad0c3",
       "version_major": 2,
       "version_minor": 0
      },
      "text/plain": [
       "  0%|          | 0/8 [00:00<?, ?it/s]"
      ]
     },
     "metadata": {},
     "output_type": "display_data"
    },
    {
     "name": "stdout",
     "output_type": "stream",
     "text": [
      "Epoch:825/1000.. Train Loss: 0.125.. Val Loss: 0.281.. Train mIoU:0.000.. Val mIoU: 0.000.. Train Acc:0.937.. Val Acc:0.869.. Time: 0.07m\n"
     ]
    },
    {
     "data": {
      "application/vnd.jupyter.widget-view+json": {
       "model_id": "16c7266cba66486aba60c5297e279fb5",
       "version_major": 2,
       "version_minor": 0
      },
      "text/plain": [
       "  0%|          | 0/8 [00:00<?, ?it/s]"
      ]
     },
     "metadata": {},
     "output_type": "display_data"
    },
    {
     "name": "stdout",
     "output_type": "stream",
     "text": [
      "Epoch:826/1000.. Train Loss: 0.125.. Val Loss: 0.285.. Train mIoU:0.000.. Val mIoU: 0.000.. Train Acc:0.938.. Val Acc:0.868.. Time: 0.07m\n"
     ]
    },
    {
     "data": {
      "application/vnd.jupyter.widget-view+json": {
       "model_id": "dccff996e4ab41378e7028afe6685f0c",
       "version_major": 2,
       "version_minor": 0
      },
      "text/plain": [
       "  0%|          | 0/8 [00:00<?, ?it/s]"
      ]
     },
     "metadata": {},
     "output_type": "display_data"
    },
    {
     "name": "stdout",
     "output_type": "stream",
     "text": [
      "Epoch:827/1000.. Train Loss: 0.129.. Val Loss: 0.334.. Train mIoU:0.000.. Val mIoU: 0.000.. Train Acc:0.937.. Val Acc:0.838.. Time: 0.07m\n"
     ]
    },
    {
     "data": {
      "application/vnd.jupyter.widget-view+json": {
       "model_id": "bfb1b6aa0862466c933446b17753a1ec",
       "version_major": 2,
       "version_minor": 0
      },
      "text/plain": [
       "  0%|          | 0/8 [00:00<?, ?it/s]"
      ]
     },
     "metadata": {},
     "output_type": "display_data"
    },
    {
     "name": "stdout",
     "output_type": "stream",
     "text": [
      "Epoch:828/1000.. Train Loss: 0.127.. Val Loss: 0.269.. Train mIoU:0.000.. Val mIoU: 0.000.. Train Acc:0.936.. Val Acc:0.868.. Time: 0.07m\n"
     ]
    },
    {
     "data": {
      "application/vnd.jupyter.widget-view+json": {
       "model_id": "52179b4f50324f268e66af84b0d8adf7",
       "version_major": 2,
       "version_minor": 0
      },
      "text/plain": [
       "  0%|          | 0/8 [00:00<?, ?it/s]"
      ]
     },
     "metadata": {},
     "output_type": "display_data"
    },
    {
     "name": "stdout",
     "output_type": "stream",
     "text": [
      "Epoch:829/1000.. Train Loss: 0.124.. Val Loss: 0.361.. Train mIoU:0.000.. Val mIoU: 0.000.. Train Acc:0.938.. Val Acc:0.819.. Time: 0.07m\n"
     ]
    },
    {
     "data": {
      "application/vnd.jupyter.widget-view+json": {
       "model_id": "69cd71ae0653497f93926fe470692ebd",
       "version_major": 2,
       "version_minor": 0
      },
      "text/plain": [
       "  0%|          | 0/8 [00:00<?, ?it/s]"
      ]
     },
     "metadata": {},
     "output_type": "display_data"
    },
    {
     "name": "stdout",
     "output_type": "stream",
     "text": [
      "Epoch:830/1000.. Train Loss: 0.124.. Val Loss: 0.269.. Train mIoU:0.000.. Val mIoU: 0.000.. Train Acc:0.940.. Val Acc:0.870.. Time: 0.07m\n"
     ]
    },
    {
     "data": {
      "application/vnd.jupyter.widget-view+json": {
       "model_id": "bc5db360bd2e45b2a9b5db18c11f6b41",
       "version_major": 2,
       "version_minor": 0
      },
      "text/plain": [
       "  0%|          | 0/8 [00:00<?, ?it/s]"
      ]
     },
     "metadata": {},
     "output_type": "display_data"
    },
    {
     "name": "stdout",
     "output_type": "stream",
     "text": [
      "Epoch:831/1000.. Train Loss: 0.126.. Val Loss: 0.265.. Train mIoU:0.000.. Val mIoU: 0.000.. Train Acc:0.939.. Val Acc:0.870.. Time: 0.07m\n"
     ]
    },
    {
     "data": {
      "application/vnd.jupyter.widget-view+json": {
       "model_id": "0c20f6df857445659335e421c54a7ce9",
       "version_major": 2,
       "version_minor": 0
      },
      "text/plain": [
       "  0%|          | 0/8 [00:00<?, ?it/s]"
      ]
     },
     "metadata": {},
     "output_type": "display_data"
    },
    {
     "name": "stdout",
     "output_type": "stream",
     "text": [
      "Epoch:832/1000.. Train Loss: 0.127.. Val Loss: 0.377.. Train mIoU:0.000.. Val mIoU: 0.000.. Train Acc:0.936.. Val Acc:0.816.. Time: 0.08m\n"
     ]
    },
    {
     "data": {
      "application/vnd.jupyter.widget-view+json": {
       "model_id": "8c4f7010cc6c49d7b00f92c8a8dcc56b",
       "version_major": 2,
       "version_minor": 0
      },
      "text/plain": [
       "  0%|          | 0/8 [00:00<?, ?it/s]"
      ]
     },
     "metadata": {},
     "output_type": "display_data"
    },
    {
     "name": "stdout",
     "output_type": "stream",
     "text": [
      "Epoch:833/1000.. Train Loss: 0.124.. Val Loss: 0.299.. Train mIoU:0.000.. Val mIoU: 0.000.. Train Acc:0.940.. Val Acc:0.868.. Time: 0.08m\n"
     ]
    },
    {
     "data": {
      "application/vnd.jupyter.widget-view+json": {
       "model_id": "a51a052896904032aed4ac0c8ac25e86",
       "version_major": 2,
       "version_minor": 0
      },
      "text/plain": [
       "  0%|          | 0/8 [00:00<?, ?it/s]"
      ]
     },
     "metadata": {},
     "output_type": "display_data"
    },
    {
     "name": "stdout",
     "output_type": "stream",
     "text": [
      "Epoch:834/1000.. Train Loss: 0.125.. Val Loss: 0.274.. Train mIoU:0.000.. Val mIoU: 0.000.. Train Acc:0.939.. Val Acc:0.863.. Time: 0.07m\n"
     ]
    },
    {
     "data": {
      "application/vnd.jupyter.widget-view+json": {
       "model_id": "51c18722ecb7471abe36f84c111354f4",
       "version_major": 2,
       "version_minor": 0
      },
      "text/plain": [
       "  0%|          | 0/8 [00:00<?, ?it/s]"
      ]
     },
     "metadata": {},
     "output_type": "display_data"
    },
    {
     "name": "stdout",
     "output_type": "stream",
     "text": [
      "Epoch:835/1000.. Train Loss: 0.125.. Val Loss: 0.343.. Train mIoU:0.000.. Val mIoU: 0.000.. Train Acc:0.937.. Val Acc:0.828.. Time: 0.07m\n"
     ]
    },
    {
     "data": {
      "application/vnd.jupyter.widget-view+json": {
       "model_id": "421b8d99b94b4c93bbd0fcdf3908ecc0",
       "version_major": 2,
       "version_minor": 0
      },
      "text/plain": [
       "  0%|          | 0/8 [00:00<?, ?it/s]"
      ]
     },
     "metadata": {},
     "output_type": "display_data"
    },
    {
     "name": "stdout",
     "output_type": "stream",
     "text": [
      "Epoch:836/1000.. Train Loss: 0.134.. Val Loss: 0.313.. Train mIoU:0.000.. Val mIoU: 0.000.. Train Acc:0.937.. Val Acc:0.853.. Time: 0.07m\n"
     ]
    },
    {
     "data": {
      "application/vnd.jupyter.widget-view+json": {
       "model_id": "ff734136113c460481a0a11b8905f3ad",
       "version_major": 2,
       "version_minor": 0
      },
      "text/plain": [
       "  0%|          | 0/8 [00:00<?, ?it/s]"
      ]
     },
     "metadata": {},
     "output_type": "display_data"
    },
    {
     "name": "stdout",
     "output_type": "stream",
     "text": [
      "Epoch:837/1000.. Train Loss: 0.125.. Val Loss: 0.373.. Train mIoU:0.000.. Val mIoU: 0.000.. Train Acc:0.939.. Val Acc:0.824.. Time: 0.07m\n"
     ]
    },
    {
     "data": {
      "application/vnd.jupyter.widget-view+json": {
       "model_id": "18725c3613ef4cc9ac778b645adf7387",
       "version_major": 2,
       "version_minor": 0
      },
      "text/plain": [
       "  0%|          | 0/8 [00:00<?, ?it/s]"
      ]
     },
     "metadata": {},
     "output_type": "display_data"
    },
    {
     "name": "stdout",
     "output_type": "stream",
     "text": [
      "Epoch:838/1000.. Train Loss: 0.125.. Val Loss: 0.312.. Train mIoU:0.000.. Val mIoU: 0.000.. Train Acc:0.938.. Val Acc:0.849.. Time: 0.07m\n"
     ]
    },
    {
     "data": {
      "application/vnd.jupyter.widget-view+json": {
       "model_id": "2eefc9d553c944948e2cc4689bc7b71e",
       "version_major": 2,
       "version_minor": 0
      },
      "text/plain": [
       "  0%|          | 0/8 [00:00<?, ?it/s]"
      ]
     },
     "metadata": {},
     "output_type": "display_data"
    },
    {
     "name": "stdout",
     "output_type": "stream",
     "text": [
      "Epoch:839/1000.. Train Loss: 0.125.. Val Loss: 0.351.. Train mIoU:0.000.. Val mIoU: 0.000.. Train Acc:0.938.. Val Acc:0.828.. Time: 0.07m\n"
     ]
    },
    {
     "data": {
      "application/vnd.jupyter.widget-view+json": {
       "model_id": "414c96590c5e4ef9a2e1867dd2241a41",
       "version_major": 2,
       "version_minor": 0
      },
      "text/plain": [
       "  0%|          | 0/8 [00:00<?, ?it/s]"
      ]
     },
     "metadata": {},
     "output_type": "display_data"
    },
    {
     "name": "stdout",
     "output_type": "stream",
     "text": [
      "Epoch:840/1000.. Train Loss: 0.135.. Val Loss: 0.386.. Train mIoU:0.000.. Val mIoU: 0.000.. Train Acc:0.934.. Val Acc:0.822.. Time: 0.07m\n"
     ]
    },
    {
     "data": {
      "application/vnd.jupyter.widget-view+json": {
       "model_id": "afd34797e7f240c490a5081162682b8a",
       "version_major": 2,
       "version_minor": 0
      },
      "text/plain": [
       "  0%|          | 0/8 [00:00<?, ?it/s]"
      ]
     },
     "metadata": {},
     "output_type": "display_data"
    },
    {
     "name": "stdout",
     "output_type": "stream",
     "text": [
      "Epoch:841/1000.. Train Loss: 0.126.. Val Loss: 0.362.. Train mIoU:0.000.. Val mIoU: 0.000.. Train Acc:0.937.. Val Acc:0.840.. Time: 0.07m\n"
     ]
    },
    {
     "data": {
      "application/vnd.jupyter.widget-view+json": {
       "model_id": "3cee1626695e4a8293b28beae9cc5c60",
       "version_major": 2,
       "version_minor": 0
      },
      "text/plain": [
       "  0%|          | 0/8 [00:00<?, ?it/s]"
      ]
     },
     "metadata": {},
     "output_type": "display_data"
    },
    {
     "name": "stdout",
     "output_type": "stream",
     "text": [
      "Epoch:842/1000.. Train Loss: 0.127.. Val Loss: 0.316.. Train mIoU:0.000.. Val mIoU: 0.000.. Train Acc:0.937.. Val Acc:0.849.. Time: 0.07m\n"
     ]
    },
    {
     "data": {
      "application/vnd.jupyter.widget-view+json": {
       "model_id": "fecc9c9eefcb49c08c53cac81d1c1bf3",
       "version_major": 2,
       "version_minor": 0
      },
      "text/plain": [
       "  0%|          | 0/8 [00:00<?, ?it/s]"
      ]
     },
     "metadata": {},
     "output_type": "display_data"
    },
    {
     "name": "stdout",
     "output_type": "stream",
     "text": [
      "Epoch:843/1000.. Train Loss: 0.123.. Val Loss: 0.290.. Train mIoU:0.000.. Val mIoU: 0.000.. Train Acc:0.940.. Val Acc:0.859.. Time: 0.07m\n"
     ]
    },
    {
     "data": {
      "application/vnd.jupyter.widget-view+json": {
       "model_id": "5c0481781e7f43ba8ded2c9a91047224",
       "version_major": 2,
       "version_minor": 0
      },
      "text/plain": [
       "  0%|          | 0/8 [00:00<?, ?it/s]"
      ]
     },
     "metadata": {},
     "output_type": "display_data"
    },
    {
     "name": "stdout",
     "output_type": "stream",
     "text": [
      "Epoch:844/1000.. Train Loss: 0.123.. Val Loss: 0.316.. Train mIoU:0.000.. Val mIoU: 0.000.. Train Acc:0.940.. Val Acc:0.854.. Time: 0.07m\n"
     ]
    },
    {
     "data": {
      "application/vnd.jupyter.widget-view+json": {
       "model_id": "521cdcf81b764cec941ec358e464155e",
       "version_major": 2,
       "version_minor": 0
      },
      "text/plain": [
       "  0%|          | 0/8 [00:00<?, ?it/s]"
      ]
     },
     "metadata": {},
     "output_type": "display_data"
    },
    {
     "name": "stdout",
     "output_type": "stream",
     "text": [
      "Epoch:845/1000.. Train Loss: 0.124.. Val Loss: 0.284.. Train mIoU:0.000.. Val mIoU: 0.000.. Train Acc:0.940.. Val Acc:0.872.. Time: 0.07m\n"
     ]
    },
    {
     "data": {
      "application/vnd.jupyter.widget-view+json": {
       "model_id": "a2bfeea7024548b681350aaa786ebee4",
       "version_major": 2,
       "version_minor": 0
      },
      "text/plain": [
       "  0%|          | 0/8 [00:00<?, ?it/s]"
      ]
     },
     "metadata": {},
     "output_type": "display_data"
    },
    {
     "name": "stdout",
     "output_type": "stream",
     "text": [
      "Epoch:846/1000.. Train Loss: 0.124.. Val Loss: 0.295.. Train mIoU:0.000.. Val mIoU: 0.000.. Train Acc:0.938.. Val Acc:0.862.. Time: 0.07m\n"
     ]
    },
    {
     "data": {
      "application/vnd.jupyter.widget-view+json": {
       "model_id": "3266fce83c924cc584312c02ab3e4107",
       "version_major": 2,
       "version_minor": 0
      },
      "text/plain": [
       "  0%|          | 0/8 [00:00<?, ?it/s]"
      ]
     },
     "metadata": {},
     "output_type": "display_data"
    },
    {
     "name": "stdout",
     "output_type": "stream",
     "text": [
      "Epoch:847/1000.. Train Loss: 0.125.. Val Loss: 0.382.. Train mIoU:0.000.. Val mIoU: 0.000.. Train Acc:0.938.. Val Acc:0.809.. Time: 0.07m\n"
     ]
    },
    {
     "data": {
      "application/vnd.jupyter.widget-view+json": {
       "model_id": "6b94b8bcf92e49259d0408922d0cfd73",
       "version_major": 2,
       "version_minor": 0
      },
      "text/plain": [
       "  0%|          | 0/8 [00:00<?, ?it/s]"
      ]
     },
     "metadata": {},
     "output_type": "display_data"
    },
    {
     "name": "stdout",
     "output_type": "stream",
     "text": [
      "Epoch:848/1000.. Train Loss: 0.125.. Val Loss: 0.364.. Train mIoU:0.000.. Val mIoU: 0.000.. Train Acc:0.939.. Val Acc:0.827.. Time: 0.07m\n"
     ]
    },
    {
     "data": {
      "application/vnd.jupyter.widget-view+json": {
       "model_id": "8b48eb9a543d4c409bc3163ba5fb43b7",
       "version_major": 2,
       "version_minor": 0
      },
      "text/plain": [
       "  0%|          | 0/8 [00:00<?, ?it/s]"
      ]
     },
     "metadata": {},
     "output_type": "display_data"
    },
    {
     "name": "stdout",
     "output_type": "stream",
     "text": [
      "Epoch:849/1000.. Train Loss: 0.123.. Val Loss: 0.350.. Train mIoU:0.000.. Val mIoU: 0.000.. Train Acc:0.940.. Val Acc:0.835.. Time: 0.07m\n"
     ]
    },
    {
     "data": {
      "application/vnd.jupyter.widget-view+json": {
       "model_id": "c48bdb7f7b9c49c59de7f127fcab6842",
       "version_major": 2,
       "version_minor": 0
      },
      "text/plain": [
       "  0%|          | 0/8 [00:00<?, ?it/s]"
      ]
     },
     "metadata": {},
     "output_type": "display_data"
    },
    {
     "name": "stdout",
     "output_type": "stream",
     "text": [
      "Epoch:850/1000.. Train Loss: 0.123.. Val Loss: 0.291.. Train mIoU:0.000.. Val mIoU: 0.000.. Train Acc:0.939.. Val Acc:0.868.. Time: 0.07m\n"
     ]
    },
    {
     "data": {
      "application/vnd.jupyter.widget-view+json": {
       "model_id": "358b7ce286074c3290fb56effd2a1e41",
       "version_major": 2,
       "version_minor": 0
      },
      "text/plain": [
       "  0%|          | 0/8 [00:00<?, ?it/s]"
      ]
     },
     "metadata": {},
     "output_type": "display_data"
    },
    {
     "name": "stdout",
     "output_type": "stream",
     "text": [
      "Epoch:851/1000.. Train Loss: 0.123.. Val Loss: 0.276.. Train mIoU:0.000.. Val mIoU: 0.000.. Train Acc:0.939.. Val Acc:0.869.. Time: 0.07m\n"
     ]
    },
    {
     "data": {
      "application/vnd.jupyter.widget-view+json": {
       "model_id": "6ec027f235734d148105dd36bb7b59a0",
       "version_major": 2,
       "version_minor": 0
      },
      "text/plain": [
       "  0%|          | 0/8 [00:00<?, ?it/s]"
      ]
     },
     "metadata": {},
     "output_type": "display_data"
    },
    {
     "name": "stdout",
     "output_type": "stream",
     "text": [
      "Epoch:852/1000.. Train Loss: 0.125.. Val Loss: 0.324.. Train mIoU:0.000.. Val mIoU: 0.000.. Train Acc:0.937.. Val Acc:0.854.. Time: 0.07m\n"
     ]
    },
    {
     "data": {
      "application/vnd.jupyter.widget-view+json": {
       "model_id": "e19c72c6094a49c8b8d807b14823b303",
       "version_major": 2,
       "version_minor": 0
      },
      "text/plain": [
       "  0%|          | 0/8 [00:00<?, ?it/s]"
      ]
     },
     "metadata": {},
     "output_type": "display_data"
    },
    {
     "name": "stdout",
     "output_type": "stream",
     "text": [
      "Epoch:853/1000.. Train Loss: 0.123.. Val Loss: 0.364.. Train mIoU:0.000.. Val mIoU: 0.000.. Train Acc:0.939.. Val Acc:0.829.. Time: 0.07m\n"
     ]
    },
    {
     "data": {
      "application/vnd.jupyter.widget-view+json": {
       "model_id": "c8bb7ecab3d14bfa86fdb056206317c2",
       "version_major": 2,
       "version_minor": 0
      },
      "text/plain": [
       "  0%|          | 0/8 [00:00<?, ?it/s]"
      ]
     },
     "metadata": {},
     "output_type": "display_data"
    },
    {
     "name": "stdout",
     "output_type": "stream",
     "text": [
      "Epoch:854/1000.. Train Loss: 0.123.. Val Loss: 0.312.. Train mIoU:0.000.. Val mIoU: 0.000.. Train Acc:0.940.. Val Acc:0.859.. Time: 0.07m\n"
     ]
    },
    {
     "data": {
      "application/vnd.jupyter.widget-view+json": {
       "model_id": "b156dd6157104186aed0993abfb8378e",
       "version_major": 2,
       "version_minor": 0
      },
      "text/plain": [
       "  0%|          | 0/8 [00:00<?, ?it/s]"
      ]
     },
     "metadata": {},
     "output_type": "display_data"
    },
    {
     "name": "stdout",
     "output_type": "stream",
     "text": [
      "Epoch:855/1000.. Train Loss: 0.123.. Val Loss: 0.279.. Train mIoU:0.000.. Val mIoU: 0.000.. Train Acc:0.939.. Val Acc:0.868.. Time: 0.08m\n"
     ]
    },
    {
     "data": {
      "application/vnd.jupyter.widget-view+json": {
       "model_id": "0918468bfda842bf81c9abb3ba6b1473",
       "version_major": 2,
       "version_minor": 0
      },
      "text/plain": [
       "  0%|          | 0/8 [00:00<?, ?it/s]"
      ]
     },
     "metadata": {},
     "output_type": "display_data"
    },
    {
     "name": "stdout",
     "output_type": "stream",
     "text": [
      "Epoch:856/1000.. Train Loss: 0.122.. Val Loss: 0.299.. Train mIoU:0.000.. Val mIoU: 0.000.. Train Acc:0.940.. Val Acc:0.863.. Time: 0.07m\n"
     ]
    },
    {
     "data": {
      "application/vnd.jupyter.widget-view+json": {
       "model_id": "c24b90ebc5bf43de8174d4de904a4ce7",
       "version_major": 2,
       "version_minor": 0
      },
      "text/plain": [
       "  0%|          | 0/8 [00:00<?, ?it/s]"
      ]
     },
     "metadata": {},
     "output_type": "display_data"
    },
    {
     "name": "stdout",
     "output_type": "stream",
     "text": [
      "Epoch:857/1000.. Train Loss: 0.124.. Val Loss: 0.286.. Train mIoU:0.000.. Val mIoU: 0.000.. Train Acc:0.940.. Val Acc:0.865.. Time: 0.07m\n"
     ]
    },
    {
     "data": {
      "application/vnd.jupyter.widget-view+json": {
       "model_id": "9802f9aa506f47829bcb1dda52890c8b",
       "version_major": 2,
       "version_minor": 0
      },
      "text/plain": [
       "  0%|          | 0/8 [00:00<?, ?it/s]"
      ]
     },
     "metadata": {},
     "output_type": "display_data"
    },
    {
     "name": "stdout",
     "output_type": "stream",
     "text": [
      "Epoch:858/1000.. Train Loss: 0.124.. Val Loss: 0.282.. Train mIoU:0.000.. Val mIoU: 0.000.. Train Acc:0.938.. Val Acc:0.866.. Time: 0.07m\n"
     ]
    },
    {
     "data": {
      "application/vnd.jupyter.widget-view+json": {
       "model_id": "4f08783421ba449abe087322edd91c42",
       "version_major": 2,
       "version_minor": 0
      },
      "text/plain": [
       "  0%|          | 0/8 [00:00<?, ?it/s]"
      ]
     },
     "metadata": {},
     "output_type": "display_data"
    },
    {
     "name": "stdout",
     "output_type": "stream",
     "text": [
      "Epoch:859/1000.. Train Loss: 0.123.. Val Loss: 0.346.. Train mIoU:0.000.. Val mIoU: 0.000.. Train Acc:0.938.. Val Acc:0.839.. Time: 0.07m\n"
     ]
    },
    {
     "data": {
      "application/vnd.jupyter.widget-view+json": {
       "model_id": "13eb068d1fc14d11952a0ac9892a8522",
       "version_major": 2,
       "version_minor": 0
      },
      "text/plain": [
       "  0%|          | 0/8 [00:00<?, ?it/s]"
      ]
     },
     "metadata": {},
     "output_type": "display_data"
    },
    {
     "name": "stdout",
     "output_type": "stream",
     "text": [
      "Epoch:860/1000.. Train Loss: 0.122.. Val Loss: 0.349.. Train mIoU:0.000.. Val mIoU: 0.000.. Train Acc:0.939.. Val Acc:0.831.. Time: 0.07m\n"
     ]
    },
    {
     "data": {
      "application/vnd.jupyter.widget-view+json": {
       "model_id": "fa8f074b18554a7fbd9a131f6e82c107",
       "version_major": 2,
       "version_minor": 0
      },
      "text/plain": [
       "  0%|          | 0/8 [00:00<?, ?it/s]"
      ]
     },
     "metadata": {},
     "output_type": "display_data"
    },
    {
     "name": "stdout",
     "output_type": "stream",
     "text": [
      "Epoch:861/1000.. Train Loss: 0.123.. Val Loss: 0.381.. Train mIoU:0.000.. Val mIoU: 0.000.. Train Acc:0.940.. Val Acc:0.822.. Time: 0.07m\n"
     ]
    },
    {
     "data": {
      "application/vnd.jupyter.widget-view+json": {
       "model_id": "954c07fba4ff4bfbbe4520aa51a0f7e2",
       "version_major": 2,
       "version_minor": 0
      },
      "text/plain": [
       "  0%|          | 0/8 [00:00<?, ?it/s]"
      ]
     },
     "metadata": {},
     "output_type": "display_data"
    },
    {
     "name": "stdout",
     "output_type": "stream",
     "text": [
      "Epoch:862/1000.. Train Loss: 0.120.. Val Loss: 0.282.. Train mIoU:0.000.. Val mIoU: 0.000.. Train Acc:0.941.. Val Acc:0.867.. Time: 0.07m\n"
     ]
    },
    {
     "data": {
      "application/vnd.jupyter.widget-view+json": {
       "model_id": "95b45cc2be364db5a06e5ac4709cad48",
       "version_major": 2,
       "version_minor": 0
      },
      "text/plain": [
       "  0%|          | 0/8 [00:00<?, ?it/s]"
      ]
     },
     "metadata": {},
     "output_type": "display_data"
    },
    {
     "name": "stdout",
     "output_type": "stream",
     "text": [
      "Epoch:863/1000.. Train Loss: 0.125.. Val Loss: 0.358.. Train mIoU:0.000.. Val mIoU: 0.000.. Train Acc:0.938.. Val Acc:0.858.. Time: 0.07m\n"
     ]
    },
    {
     "data": {
      "application/vnd.jupyter.widget-view+json": {
       "model_id": "23437e32e5dd4deb9c670758c22b665d",
       "version_major": 2,
       "version_minor": 0
      },
      "text/plain": [
       "  0%|          | 0/8 [00:00<?, ?it/s]"
      ]
     },
     "metadata": {},
     "output_type": "display_data"
    },
    {
     "name": "stdout",
     "output_type": "stream",
     "text": [
      "Epoch:864/1000.. Train Loss: 0.124.. Val Loss: 0.285.. Train mIoU:0.000.. Val mIoU: 0.000.. Train Acc:0.939.. Val Acc:0.864.. Time: 0.07m\n"
     ]
    },
    {
     "data": {
      "application/vnd.jupyter.widget-view+json": {
       "model_id": "e2b9984c8b014cea9c423340da457c38",
       "version_major": 2,
       "version_minor": 0
      },
      "text/plain": [
       "  0%|          | 0/8 [00:00<?, ?it/s]"
      ]
     },
     "metadata": {},
     "output_type": "display_data"
    },
    {
     "name": "stdout",
     "output_type": "stream",
     "text": [
      "Epoch:865/1000.. Train Loss: 0.123.. Val Loss: 0.338.. Train mIoU:0.000.. Val mIoU: 0.000.. Train Acc:0.939.. Val Acc:0.849.. Time: 0.07m\n"
     ]
    },
    {
     "data": {
      "application/vnd.jupyter.widget-view+json": {
       "model_id": "7f9dc1bd9d234ece90bb7c0f2f52a0bd",
       "version_major": 2,
       "version_minor": 0
      },
      "text/plain": [
       "  0%|          | 0/8 [00:00<?, ?it/s]"
      ]
     },
     "metadata": {},
     "output_type": "display_data"
    },
    {
     "name": "stdout",
     "output_type": "stream",
     "text": [
      "Epoch:866/1000.. Train Loss: 0.122.. Val Loss: 0.292.. Train mIoU:0.000.. Val mIoU: 0.000.. Train Acc:0.942.. Val Acc:0.865.. Time: 0.07m\n"
     ]
    },
    {
     "data": {
      "application/vnd.jupyter.widget-view+json": {
       "model_id": "6a0af9ae8e264939940e8aeb2c9cb010",
       "version_major": 2,
       "version_minor": 0
      },
      "text/plain": [
       "  0%|          | 0/8 [00:00<?, ?it/s]"
      ]
     },
     "metadata": {},
     "output_type": "display_data"
    },
    {
     "name": "stdout",
     "output_type": "stream",
     "text": [
      "Epoch:867/1000.. Train Loss: 0.122.. Val Loss: 0.354.. Train mIoU:0.000.. Val mIoU: 0.000.. Train Acc:0.940.. Val Acc:0.837.. Time: 0.07m\n"
     ]
    },
    {
     "data": {
      "application/vnd.jupyter.widget-view+json": {
       "model_id": "922d675add9e42e4acb25b9c19ecf831",
       "version_major": 2,
       "version_minor": 0
      },
      "text/plain": [
       "  0%|          | 0/8 [00:00<?, ?it/s]"
      ]
     },
     "metadata": {},
     "output_type": "display_data"
    },
    {
     "name": "stdout",
     "output_type": "stream",
     "text": [
      "Epoch:868/1000.. Train Loss: 0.123.. Val Loss: 0.350.. Train mIoU:0.000.. Val mIoU: 0.000.. Train Acc:0.939.. Val Acc:0.856.. Time: 0.07m\n"
     ]
    },
    {
     "data": {
      "application/vnd.jupyter.widget-view+json": {
       "model_id": "7a76d7d5c01a41ff87e4a281e5039efe",
       "version_major": 2,
       "version_minor": 0
      },
      "text/plain": [
       "  0%|          | 0/8 [00:00<?, ?it/s]"
      ]
     },
     "metadata": {},
     "output_type": "display_data"
    },
    {
     "name": "stdout",
     "output_type": "stream",
     "text": [
      "Epoch:869/1000.. Train Loss: 0.124.. Val Loss: 0.351.. Train mIoU:0.000.. Val mIoU: 0.000.. Train Acc:0.938.. Val Acc:0.824.. Time: 0.07m\n"
     ]
    },
    {
     "data": {
      "application/vnd.jupyter.widget-view+json": {
       "model_id": "14425d550522488fa7fe4f290e1efad6",
       "version_major": 2,
       "version_minor": 0
      },
      "text/plain": [
       "  0%|          | 0/8 [00:00<?, ?it/s]"
      ]
     },
     "metadata": {},
     "output_type": "display_data"
    },
    {
     "name": "stdout",
     "output_type": "stream",
     "text": [
      "Epoch:870/1000.. Train Loss: 0.123.. Val Loss: 0.285.. Train mIoU:0.000.. Val mIoU: 0.000.. Train Acc:0.939.. Val Acc:0.871.. Time: 0.07m\n"
     ]
    },
    {
     "data": {
      "application/vnd.jupyter.widget-view+json": {
       "model_id": "323703beceb44673a5361dd50edbcf0e",
       "version_major": 2,
       "version_minor": 0
      },
      "text/plain": [
       "  0%|          | 0/8 [00:00<?, ?it/s]"
      ]
     },
     "metadata": {},
     "output_type": "display_data"
    },
    {
     "name": "stdout",
     "output_type": "stream",
     "text": [
      "Epoch:871/1000.. Train Loss: 0.122.. Val Loss: 0.289.. Train mIoU:0.000.. Val mIoU: 0.000.. Train Acc:0.941.. Val Acc:0.866.. Time: 0.07m\n"
     ]
    },
    {
     "data": {
      "application/vnd.jupyter.widget-view+json": {
       "model_id": "144ac61127e042869c38d4125e5c4f59",
       "version_major": 2,
       "version_minor": 0
      },
      "text/plain": [
       "  0%|          | 0/8 [00:00<?, ?it/s]"
      ]
     },
     "metadata": {},
     "output_type": "display_data"
    },
    {
     "name": "stdout",
     "output_type": "stream",
     "text": [
      "Epoch:872/1000.. Train Loss: 0.124.. Val Loss: 0.353.. Train mIoU:0.000.. Val mIoU: 0.000.. Train Acc:0.939.. Val Acc:0.824.. Time: 0.07m\n"
     ]
    },
    {
     "data": {
      "application/vnd.jupyter.widget-view+json": {
       "model_id": "fde768090af44459986bf689377b4bf1",
       "version_major": 2,
       "version_minor": 0
      },
      "text/plain": [
       "  0%|          | 0/8 [00:00<?, ?it/s]"
      ]
     },
     "metadata": {},
     "output_type": "display_data"
    },
    {
     "name": "stdout",
     "output_type": "stream",
     "text": [
      "Epoch:873/1000.. Train Loss: 0.125.. Val Loss: 0.334.. Train mIoU:0.000.. Val mIoU: 0.000.. Train Acc:0.938.. Val Acc:0.835.. Time: 0.07m\n"
     ]
    },
    {
     "data": {
      "application/vnd.jupyter.widget-view+json": {
       "model_id": "b7656112aa37468fb4e398b69a6da340",
       "version_major": 2,
       "version_minor": 0
      },
      "text/plain": [
       "  0%|          | 0/8 [00:00<?, ?it/s]"
      ]
     },
     "metadata": {},
     "output_type": "display_data"
    },
    {
     "name": "stdout",
     "output_type": "stream",
     "text": [
      "Epoch:874/1000.. Train Loss: 0.121.. Val Loss: 0.342.. Train mIoU:0.000.. Val mIoU: 0.000.. Train Acc:0.940.. Val Acc:0.829.. Time: 0.07m\n"
     ]
    },
    {
     "data": {
      "application/vnd.jupyter.widget-view+json": {
       "model_id": "4b5633e0dbd74aad9002bceadd930f0a",
       "version_major": 2,
       "version_minor": 0
      },
      "text/plain": [
       "  0%|          | 0/8 [00:00<?, ?it/s]"
      ]
     },
     "metadata": {},
     "output_type": "display_data"
    },
    {
     "name": "stdout",
     "output_type": "stream",
     "text": [
      "Epoch:875/1000.. Train Loss: 0.123.. Val Loss: 0.281.. Train mIoU:0.000.. Val mIoU: 0.000.. Train Acc:0.940.. Val Acc:0.868.. Time: 0.08m\n"
     ]
    },
    {
     "data": {
      "application/vnd.jupyter.widget-view+json": {
       "model_id": "0e9a90431ade4138a2c0c70afb4edaed",
       "version_major": 2,
       "version_minor": 0
      },
      "text/plain": [
       "  0%|          | 0/8 [00:00<?, ?it/s]"
      ]
     },
     "metadata": {},
     "output_type": "display_data"
    },
    {
     "name": "stdout",
     "output_type": "stream",
     "text": [
      "Epoch:876/1000.. Train Loss: 0.123.. Val Loss: 0.359.. Train mIoU:0.000.. Val mIoU: 0.000.. Train Acc:0.940.. Val Acc:0.822.. Time: 0.07m\n"
     ]
    },
    {
     "data": {
      "application/vnd.jupyter.widget-view+json": {
       "model_id": "ded13f76ef9e423ab4c108bdb4e22b5a",
       "version_major": 2,
       "version_minor": 0
      },
      "text/plain": [
       "  0%|          | 0/8 [00:00<?, ?it/s]"
      ]
     },
     "metadata": {},
     "output_type": "display_data"
    },
    {
     "name": "stdout",
     "output_type": "stream",
     "text": [
      "Epoch:877/1000.. Train Loss: 0.122.. Val Loss: 0.391.. Train mIoU:0.000.. Val mIoU: 0.000.. Train Acc:0.940.. Val Acc:0.791.. Time: 0.07m\n"
     ]
    },
    {
     "data": {
      "application/vnd.jupyter.widget-view+json": {
       "model_id": "d4b1680311964fba813c1e00c34f2869",
       "version_major": 2,
       "version_minor": 0
      },
      "text/plain": [
       "  0%|          | 0/8 [00:00<?, ?it/s]"
      ]
     },
     "metadata": {},
     "output_type": "display_data"
    },
    {
     "name": "stdout",
     "output_type": "stream",
     "text": [
      "Epoch:878/1000.. Train Loss: 0.125.. Val Loss: 0.290.. Train mIoU:0.000.. Val mIoU: 0.000.. Train Acc:0.939.. Val Acc:0.863.. Time: 0.07m\n"
     ]
    },
    {
     "data": {
      "application/vnd.jupyter.widget-view+json": {
       "model_id": "c26a73ac99834127a2e7b5857d03212e",
       "version_major": 2,
       "version_minor": 0
      },
      "text/plain": [
       "  0%|          | 0/8 [00:00<?, ?it/s]"
      ]
     },
     "metadata": {},
     "output_type": "display_data"
    },
    {
     "name": "stdout",
     "output_type": "stream",
     "text": [
      "Epoch:879/1000.. Train Loss: 0.127.. Val Loss: 0.278.. Train mIoU:0.000.. Val mIoU: 0.000.. Train Acc:0.937.. Val Acc:0.873.. Time: 0.07m\n"
     ]
    },
    {
     "data": {
      "application/vnd.jupyter.widget-view+json": {
       "model_id": "d8fbcd33720e45a1980996a54fd8fc6c",
       "version_major": 2,
       "version_minor": 0
      },
      "text/plain": [
       "  0%|          | 0/8 [00:00<?, ?it/s]"
      ]
     },
     "metadata": {},
     "output_type": "display_data"
    },
    {
     "name": "stdout",
     "output_type": "stream",
     "text": [
      "Epoch:880/1000.. Train Loss: 0.120.. Val Loss: 0.294.. Train mIoU:0.000.. Val mIoU: 0.000.. Train Acc:0.941.. Val Acc:0.869.. Time: 0.07m\n"
     ]
    },
    {
     "data": {
      "application/vnd.jupyter.widget-view+json": {
       "model_id": "e5d8719ce9024c5fb4b26219f7328812",
       "version_major": 2,
       "version_minor": 0
      },
      "text/plain": [
       "  0%|          | 0/8 [00:00<?, ?it/s]"
      ]
     },
     "metadata": {},
     "output_type": "display_data"
    },
    {
     "name": "stdout",
     "output_type": "stream",
     "text": [
      "Epoch:881/1000.. Train Loss: 0.121.. Val Loss: 0.293.. Train mIoU:0.000.. Val mIoU: 0.000.. Train Acc:0.940.. Val Acc:0.868.. Time: 0.07m\n"
     ]
    },
    {
     "data": {
      "application/vnd.jupyter.widget-view+json": {
       "model_id": "25220f2126444485aca231017e6e0436",
       "version_major": 2,
       "version_minor": 0
      },
      "text/plain": [
       "  0%|          | 0/8 [00:00<?, ?it/s]"
      ]
     },
     "metadata": {},
     "output_type": "display_data"
    },
    {
     "name": "stdout",
     "output_type": "stream",
     "text": [
      "Epoch:882/1000.. Train Loss: 0.133.. Val Loss: 0.346.. Train mIoU:0.000.. Val mIoU: 0.000.. Train Acc:0.938.. Val Acc:0.839.. Time: 0.07m\n"
     ]
    },
    {
     "data": {
      "application/vnd.jupyter.widget-view+json": {
       "model_id": "3b4a7bc3efb74120843b89296e528876",
       "version_major": 2,
       "version_minor": 0
      },
      "text/plain": [
       "  0%|          | 0/8 [00:00<?, ?it/s]"
      ]
     },
     "metadata": {},
     "output_type": "display_data"
    },
    {
     "name": "stdout",
     "output_type": "stream",
     "text": [
      "Epoch:883/1000.. Train Loss: 0.125.. Val Loss: 0.284.. Train mIoU:0.000.. Val mIoU: 0.000.. Train Acc:0.940.. Val Acc:0.865.. Time: 0.07m\n"
     ]
    },
    {
     "data": {
      "application/vnd.jupyter.widget-view+json": {
       "model_id": "86eafa1cba2f4d9dbd4aaf66c0ee6e19",
       "version_major": 2,
       "version_minor": 0
      },
      "text/plain": [
       "  0%|          | 0/8 [00:00<?, ?it/s]"
      ]
     },
     "metadata": {},
     "output_type": "display_data"
    },
    {
     "name": "stdout",
     "output_type": "stream",
     "text": [
      "Epoch:884/1000.. Train Loss: 0.125.. Val Loss: 0.290.. Train mIoU:0.000.. Val mIoU: 0.000.. Train Acc:0.938.. Val Acc:0.873.. Time: 0.07m\n"
     ]
    },
    {
     "data": {
      "application/vnd.jupyter.widget-view+json": {
       "model_id": "0a633613fc284e8881417d054cee10da",
       "version_major": 2,
       "version_minor": 0
      },
      "text/plain": [
       "  0%|          | 0/8 [00:00<?, ?it/s]"
      ]
     },
     "metadata": {},
     "output_type": "display_data"
    },
    {
     "name": "stdout",
     "output_type": "stream",
     "text": [
      "Epoch:885/1000.. Train Loss: 0.122.. Val Loss: 0.358.. Train mIoU:0.000.. Val mIoU: 0.000.. Train Acc:0.940.. Val Acc:0.834.. Time: 0.07m\n"
     ]
    },
    {
     "data": {
      "application/vnd.jupyter.widget-view+json": {
       "model_id": "5dd5fde9c3c140d9aba9cbde764e3135",
       "version_major": 2,
       "version_minor": 0
      },
      "text/plain": [
       "  0%|          | 0/8 [00:00<?, ?it/s]"
      ]
     },
     "metadata": {},
     "output_type": "display_data"
    },
    {
     "name": "stdout",
     "output_type": "stream",
     "text": [
      "Epoch:886/1000.. Train Loss: 0.122.. Val Loss: 0.391.. Train mIoU:0.000.. Val mIoU: 0.000.. Train Acc:0.939.. Val Acc:0.817.. Time: 0.07m\n"
     ]
    },
    {
     "data": {
      "application/vnd.jupyter.widget-view+json": {
       "model_id": "4f816bf1652a4d2fb0883a283ce3fbba",
       "version_major": 2,
       "version_minor": 0
      },
      "text/plain": [
       "  0%|          | 0/8 [00:00<?, ?it/s]"
      ]
     },
     "metadata": {},
     "output_type": "display_data"
    },
    {
     "name": "stdout",
     "output_type": "stream",
     "text": [
      "Epoch:887/1000.. Train Loss: 0.122.. Val Loss: 0.325.. Train mIoU:0.000.. Val mIoU: 0.000.. Train Acc:0.940.. Val Acc:0.848.. Time: 0.07m\n"
     ]
    },
    {
     "data": {
      "application/vnd.jupyter.widget-view+json": {
       "model_id": "8346a7da9de44049aa5f1d9a8d15e961",
       "version_major": 2,
       "version_minor": 0
      },
      "text/plain": [
       "  0%|          | 0/8 [00:00<?, ?it/s]"
      ]
     },
     "metadata": {},
     "output_type": "display_data"
    },
    {
     "name": "stdout",
     "output_type": "stream",
     "text": [
      "Epoch:888/1000.. Train Loss: 0.122.. Val Loss: 0.286.. Train mIoU:0.000.. Val mIoU: 0.000.. Train Acc:0.940.. Val Acc:0.862.. Time: 0.07m\n"
     ]
    },
    {
     "data": {
      "application/vnd.jupyter.widget-view+json": {
       "model_id": "2385b4623b1a445dbff52fcd61f1246e",
       "version_major": 2,
       "version_minor": 0
      },
      "text/plain": [
       "  0%|          | 0/8 [00:00<?, ?it/s]"
      ]
     },
     "metadata": {},
     "output_type": "display_data"
    },
    {
     "name": "stdout",
     "output_type": "stream",
     "text": [
      "Epoch:889/1000.. Train Loss: 0.125.. Val Loss: 0.359.. Train mIoU:0.000.. Val mIoU: 0.000.. Train Acc:0.939.. Val Acc:0.832.. Time: 0.08m\n"
     ]
    },
    {
     "data": {
      "application/vnd.jupyter.widget-view+json": {
       "model_id": "a29fef33c8f54c4bae993cf9d19c93a6",
       "version_major": 2,
       "version_minor": 0
      },
      "text/plain": [
       "  0%|          | 0/8 [00:00<?, ?it/s]"
      ]
     },
     "metadata": {},
     "output_type": "display_data"
    },
    {
     "name": "stdout",
     "output_type": "stream",
     "text": [
      "Epoch:890/1000.. Train Loss: 0.123.. Val Loss: 0.339.. Train mIoU:0.000.. Val mIoU: 0.000.. Train Acc:0.941.. Val Acc:0.847.. Time: 0.07m\n"
     ]
    },
    {
     "data": {
      "application/vnd.jupyter.widget-view+json": {
       "model_id": "de53927b75c84a57b096d876d11598c7",
       "version_major": 2,
       "version_minor": 0
      },
      "text/plain": [
       "  0%|          | 0/8 [00:00<?, ?it/s]"
      ]
     },
     "metadata": {},
     "output_type": "display_data"
    },
    {
     "name": "stdout",
     "output_type": "stream",
     "text": [
      "Epoch:891/1000.. Train Loss: 0.123.. Val Loss: 0.289.. Train mIoU:0.000.. Val mIoU: 0.000.. Train Acc:0.939.. Val Acc:0.864.. Time: 0.07m\n"
     ]
    },
    {
     "data": {
      "application/vnd.jupyter.widget-view+json": {
       "model_id": "629cf31c0cf3467686a0cd645542b684",
       "version_major": 2,
       "version_minor": 0
      },
      "text/plain": [
       "  0%|          | 0/8 [00:00<?, ?it/s]"
      ]
     },
     "metadata": {},
     "output_type": "display_data"
    },
    {
     "name": "stdout",
     "output_type": "stream",
     "text": [
      "Epoch:892/1000.. Train Loss: 0.122.. Val Loss: 0.322.. Train mIoU:0.000.. Val mIoU: 0.000.. Train Acc:0.941.. Val Acc:0.852.. Time: 0.07m\n"
     ]
    },
    {
     "data": {
      "application/vnd.jupyter.widget-view+json": {
       "model_id": "1fb4f57b6a454b60a9db01e8e583ff89",
       "version_major": 2,
       "version_minor": 0
      },
      "text/plain": [
       "  0%|          | 0/8 [00:00<?, ?it/s]"
      ]
     },
     "metadata": {},
     "output_type": "display_data"
    },
    {
     "name": "stdout",
     "output_type": "stream",
     "text": [
      "Epoch:893/1000.. Train Loss: 0.123.. Val Loss: 0.278.. Train mIoU:0.000.. Val mIoU: 0.000.. Train Acc:0.939.. Val Acc:0.872.. Time: 0.07m\n"
     ]
    },
    {
     "data": {
      "application/vnd.jupyter.widget-view+json": {
       "model_id": "c6311935227f4266b49dc0d31c2762f2",
       "version_major": 2,
       "version_minor": 0
      },
      "text/plain": [
       "  0%|          | 0/8 [00:00<?, ?it/s]"
      ]
     },
     "metadata": {},
     "output_type": "display_data"
    },
    {
     "name": "stdout",
     "output_type": "stream",
     "text": [
      "Epoch:894/1000.. Train Loss: 0.127.. Val Loss: 0.290.. Train mIoU:0.000.. Val mIoU: 0.000.. Train Acc:0.939.. Val Acc:0.861.. Time: 0.07m\n"
     ]
    },
    {
     "data": {
      "application/vnd.jupyter.widget-view+json": {
       "model_id": "6b49ad1d93a049d296fedeeac372e788",
       "version_major": 2,
       "version_minor": 0
      },
      "text/plain": [
       "  0%|          | 0/8 [00:00<?, ?it/s]"
      ]
     },
     "metadata": {},
     "output_type": "display_data"
    },
    {
     "name": "stdout",
     "output_type": "stream",
     "text": [
      "Epoch:895/1000.. Train Loss: 0.122.. Val Loss: 0.294.. Train mIoU:0.000.. Val mIoU: 0.000.. Train Acc:0.941.. Val Acc:0.861.. Time: 0.07m\n"
     ]
    },
    {
     "data": {
      "application/vnd.jupyter.widget-view+json": {
       "model_id": "0312ac0a782a49848ab93d377be4311c",
       "version_major": 2,
       "version_minor": 0
      },
      "text/plain": [
       "  0%|          | 0/8 [00:00<?, ?it/s]"
      ]
     },
     "metadata": {},
     "output_type": "display_data"
    },
    {
     "name": "stdout",
     "output_type": "stream",
     "text": [
      "Epoch:896/1000.. Train Loss: 0.120.. Val Loss: 0.304.. Train mIoU:0.000.. Val mIoU: 0.000.. Train Acc:0.941.. Val Acc:0.863.. Time: 0.07m\n"
     ]
    },
    {
     "data": {
      "application/vnd.jupyter.widget-view+json": {
       "model_id": "5eaa30e040c847c38387491b38047c24",
       "version_major": 2,
       "version_minor": 0
      },
      "text/plain": [
       "  0%|          | 0/8 [00:00<?, ?it/s]"
      ]
     },
     "metadata": {},
     "output_type": "display_data"
    },
    {
     "name": "stdout",
     "output_type": "stream",
     "text": [
      "Epoch:897/1000.. Train Loss: 0.120.. Val Loss: 0.395.. Train mIoU:0.000.. Val mIoU: 0.000.. Train Acc:0.941.. Val Acc:0.822.. Time: 0.07m\n"
     ]
    },
    {
     "data": {
      "application/vnd.jupyter.widget-view+json": {
       "model_id": "c2e29273cb324797a625cb655391e9a4",
       "version_major": 2,
       "version_minor": 0
      },
      "text/plain": [
       "  0%|          | 0/8 [00:00<?, ?it/s]"
      ]
     },
     "metadata": {},
     "output_type": "display_data"
    },
    {
     "name": "stdout",
     "output_type": "stream",
     "text": [
      "Epoch:898/1000.. Train Loss: 0.124.. Val Loss: 0.415.. Train mIoU:0.000.. Val mIoU: 0.000.. Train Acc:0.939.. Val Acc:0.819.. Time: 0.07m\n"
     ]
    },
    {
     "data": {
      "application/vnd.jupyter.widget-view+json": {
       "model_id": "89696369af93418693db5ce14665bbb3",
       "version_major": 2,
       "version_minor": 0
      },
      "text/plain": [
       "  0%|          | 0/8 [00:00<?, ?it/s]"
      ]
     },
     "metadata": {},
     "output_type": "display_data"
    },
    {
     "name": "stdout",
     "output_type": "stream",
     "text": [
      "Epoch:899/1000.. Train Loss: 0.122.. Val Loss: 0.360.. Train mIoU:0.000.. Val mIoU: 0.000.. Train Acc:0.940.. Val Acc:0.813.. Time: 0.07m\n"
     ]
    },
    {
     "data": {
      "application/vnd.jupyter.widget-view+json": {
       "model_id": "a47cd560d13c40c4a84d962f587b1924",
       "version_major": 2,
       "version_minor": 0
      },
      "text/plain": [
       "  0%|          | 0/8 [00:00<?, ?it/s]"
      ]
     },
     "metadata": {},
     "output_type": "display_data"
    },
    {
     "name": "stdout",
     "output_type": "stream",
     "text": [
      "Epoch:900/1000.. Train Loss: 0.123.. Val Loss: 0.389.. Train mIoU:0.000.. Val mIoU: 0.000.. Train Acc:0.941.. Val Acc:0.816.. Time: 0.07m\n"
     ]
    },
    {
     "data": {
      "application/vnd.jupyter.widget-view+json": {
       "model_id": "811917f555d1407e9bea2216df60b0b4",
       "version_major": 2,
       "version_minor": 0
      },
      "text/plain": [
       "  0%|          | 0/8 [00:00<?, ?it/s]"
      ]
     },
     "metadata": {},
     "output_type": "display_data"
    },
    {
     "name": "stdout",
     "output_type": "stream",
     "text": [
      "Epoch:901/1000.. Train Loss: 0.122.. Val Loss: 0.363.. Train mIoU:0.000.. Val mIoU: 0.000.. Train Acc:0.940.. Val Acc:0.829.. Time: 0.08m\n"
     ]
    },
    {
     "data": {
      "application/vnd.jupyter.widget-view+json": {
       "model_id": "7cab53235d504ab99a37d25aea9eacc4",
       "version_major": 2,
       "version_minor": 0
      },
      "text/plain": [
       "  0%|          | 0/8 [00:00<?, ?it/s]"
      ]
     },
     "metadata": {},
     "output_type": "display_data"
    },
    {
     "name": "stdout",
     "output_type": "stream",
     "text": [
      "Epoch:902/1000.. Train Loss: 0.125.. Val Loss: 0.297.. Train mIoU:0.000.. Val mIoU: 0.000.. Train Acc:0.939.. Val Acc:0.861.. Time: 0.07m\n"
     ]
    },
    {
     "data": {
      "application/vnd.jupyter.widget-view+json": {
       "model_id": "e68bbb8bf2674cedbc6ad39147497623",
       "version_major": 2,
       "version_minor": 0
      },
      "text/plain": [
       "  0%|          | 0/8 [00:00<?, ?it/s]"
      ]
     },
     "metadata": {},
     "output_type": "display_data"
    },
    {
     "name": "stdout",
     "output_type": "stream",
     "text": [
      "Epoch:903/1000.. Train Loss: 0.122.. Val Loss: 0.296.. Train mIoU:0.000.. Val mIoU: 0.000.. Train Acc:0.940.. Val Acc:0.859.. Time: 0.07m\n"
     ]
    },
    {
     "data": {
      "application/vnd.jupyter.widget-view+json": {
       "model_id": "f0dd3567951f4d778e1c10c2131fcfcc",
       "version_major": 2,
       "version_minor": 0
      },
      "text/plain": [
       "  0%|          | 0/8 [00:00<?, ?it/s]"
      ]
     },
     "metadata": {},
     "output_type": "display_data"
    },
    {
     "name": "stdout",
     "output_type": "stream",
     "text": [
      "Epoch:904/1000.. Train Loss: 0.123.. Val Loss: 0.271.. Train mIoU:0.000.. Val mIoU: 0.000.. Train Acc:0.939.. Val Acc:0.872.. Time: 0.07m\n"
     ]
    },
    {
     "data": {
      "application/vnd.jupyter.widget-view+json": {
       "model_id": "20385c12891949f1b78f7161e9709162",
       "version_major": 2,
       "version_minor": 0
      },
      "text/plain": [
       "  0%|          | 0/8 [00:00<?, ?it/s]"
      ]
     },
     "metadata": {},
     "output_type": "display_data"
    },
    {
     "name": "stdout",
     "output_type": "stream",
     "text": [
      "Epoch:905/1000.. Train Loss: 0.121.. Val Loss: 0.307.. Train mIoU:0.000.. Val mIoU: 0.000.. Train Acc:0.941.. Val Acc:0.857.. Time: 0.07m\n"
     ]
    },
    {
     "data": {
      "application/vnd.jupyter.widget-view+json": {
       "model_id": "df2109f1ee0c46d699fdafd4043eaa6c",
       "version_major": 2,
       "version_minor": 0
      },
      "text/plain": [
       "  0%|          | 0/8 [00:00<?, ?it/s]"
      ]
     },
     "metadata": {},
     "output_type": "display_data"
    },
    {
     "name": "stdout",
     "output_type": "stream",
     "text": [
      "Epoch:906/1000.. Train Loss: 0.122.. Val Loss: 0.372.. Train mIoU:0.000.. Val mIoU: 0.000.. Train Acc:0.940.. Val Acc:0.818.. Time: 0.07m\n"
     ]
    },
    {
     "data": {
      "application/vnd.jupyter.widget-view+json": {
       "model_id": "3df02500d18c44f7a2534fc70b0cdc90",
       "version_major": 2,
       "version_minor": 0
      },
      "text/plain": [
       "  0%|          | 0/8 [00:00<?, ?it/s]"
      ]
     },
     "metadata": {},
     "output_type": "display_data"
    },
    {
     "name": "stdout",
     "output_type": "stream",
     "text": [
      "Epoch:907/1000.. Train Loss: 0.123.. Val Loss: 0.285.. Train mIoU:0.000.. Val mIoU: 0.000.. Train Acc:0.939.. Val Acc:0.865.. Time: 0.07m\n"
     ]
    },
    {
     "data": {
      "application/vnd.jupyter.widget-view+json": {
       "model_id": "263139d14680451f92513bd36e8d8d93",
       "version_major": 2,
       "version_minor": 0
      },
      "text/plain": [
       "  0%|          | 0/8 [00:00<?, ?it/s]"
      ]
     },
     "metadata": {},
     "output_type": "display_data"
    },
    {
     "name": "stdout",
     "output_type": "stream",
     "text": [
      "Epoch:908/1000.. Train Loss: 0.120.. Val Loss: 0.304.. Train mIoU:0.000.. Val mIoU: 0.000.. Train Acc:0.940.. Val Acc:0.860.. Time: 0.07m\n"
     ]
    },
    {
     "data": {
      "application/vnd.jupyter.widget-view+json": {
       "model_id": "cc1ee6b438514d43a44807a4bc367846",
       "version_major": 2,
       "version_minor": 0
      },
      "text/plain": [
       "  0%|          | 0/8 [00:00<?, ?it/s]"
      ]
     },
     "metadata": {},
     "output_type": "display_data"
    },
    {
     "name": "stdout",
     "output_type": "stream",
     "text": [
      "Epoch:909/1000.. Train Loss: 0.124.. Val Loss: 0.281.. Train mIoU:0.000.. Val mIoU: 0.000.. Train Acc:0.940.. Val Acc:0.866.. Time: 0.07m\n"
     ]
    },
    {
     "data": {
      "application/vnd.jupyter.widget-view+json": {
       "model_id": "76795f332bd94b658b1cd5284dcc2e09",
       "version_major": 2,
       "version_minor": 0
      },
      "text/plain": [
       "  0%|          | 0/8 [00:00<?, ?it/s]"
      ]
     },
     "metadata": {},
     "output_type": "display_data"
    },
    {
     "name": "stdout",
     "output_type": "stream",
     "text": [
      "Epoch:910/1000.. Train Loss: 0.122.. Val Loss: 0.356.. Train mIoU:0.000.. Val mIoU: 0.000.. Train Acc:0.940.. Val Acc:0.822.. Time: 0.07m\n"
     ]
    },
    {
     "data": {
      "application/vnd.jupyter.widget-view+json": {
       "model_id": "62e08e8b4bd548639c8ac6a0cacce08f",
       "version_major": 2,
       "version_minor": 0
      },
      "text/plain": [
       "  0%|          | 0/8 [00:00<?, ?it/s]"
      ]
     },
     "metadata": {},
     "output_type": "display_data"
    },
    {
     "name": "stdout",
     "output_type": "stream",
     "text": [
      "Epoch:911/1000.. Train Loss: 0.121.. Val Loss: 0.285.. Train mIoU:0.000.. Val mIoU: 0.000.. Train Acc:0.941.. Val Acc:0.869.. Time: 0.07m\n"
     ]
    },
    {
     "data": {
      "application/vnd.jupyter.widget-view+json": {
       "model_id": "bd0c05611bd74047b398c447adbb14f4",
       "version_major": 2,
       "version_minor": 0
      },
      "text/plain": [
       "  0%|          | 0/8 [00:00<?, ?it/s]"
      ]
     },
     "metadata": {},
     "output_type": "display_data"
    },
    {
     "name": "stdout",
     "output_type": "stream",
     "text": [
      "Epoch:912/1000.. Train Loss: 0.123.. Val Loss: 0.297.. Train mIoU:0.000.. Val mIoU: 0.000.. Train Acc:0.940.. Val Acc:0.863.. Time: 0.08m\n"
     ]
    },
    {
     "data": {
      "application/vnd.jupyter.widget-view+json": {
       "model_id": "9b781c07a14e45eab1d529a1ad6c88d9",
       "version_major": 2,
       "version_minor": 0
      },
      "text/plain": [
       "  0%|          | 0/8 [00:00<?, ?it/s]"
      ]
     },
     "metadata": {},
     "output_type": "display_data"
    },
    {
     "name": "stdout",
     "output_type": "stream",
     "text": [
      "Epoch:913/1000.. Train Loss: 0.122.. Val Loss: 0.381.. Train mIoU:0.000.. Val mIoU: 0.000.. Train Acc:0.939.. Val Acc:0.807.. Time: 0.07m\n"
     ]
    },
    {
     "data": {
      "application/vnd.jupyter.widget-view+json": {
       "model_id": "cd78f8915af1430bbd3ee08a189b5db5",
       "version_major": 2,
       "version_minor": 0
      },
      "text/plain": [
       "  0%|          | 0/8 [00:00<?, ?it/s]"
      ]
     },
     "metadata": {},
     "output_type": "display_data"
    },
    {
     "name": "stdout",
     "output_type": "stream",
     "text": [
      "Epoch:914/1000.. Train Loss: 0.131.. Val Loss: 0.299.. Train mIoU:0.000.. Val mIoU: 0.000.. Train Acc:0.940.. Val Acc:0.859.. Time: 0.07m\n"
     ]
    },
    {
     "data": {
      "application/vnd.jupyter.widget-view+json": {
       "model_id": "b4a8b79f466642c0bcbbbe398966c39e",
       "version_major": 2,
       "version_minor": 0
      },
      "text/plain": [
       "  0%|          | 0/8 [00:00<?, ?it/s]"
      ]
     },
     "metadata": {},
     "output_type": "display_data"
    },
    {
     "name": "stdout",
     "output_type": "stream",
     "text": [
      "Epoch:915/1000.. Train Loss: 0.124.. Val Loss: 0.332.. Train mIoU:0.000.. Val mIoU: 0.000.. Train Acc:0.939.. Val Acc:0.845.. Time: 0.07m\n"
     ]
    },
    {
     "data": {
      "application/vnd.jupyter.widget-view+json": {
       "model_id": "9569747c79aa40d0917c308fb0f4569b",
       "version_major": 2,
       "version_minor": 0
      },
      "text/plain": [
       "  0%|          | 0/8 [00:00<?, ?it/s]"
      ]
     },
     "metadata": {},
     "output_type": "display_data"
    },
    {
     "name": "stdout",
     "output_type": "stream",
     "text": [
      "Epoch:916/1000.. Train Loss: 0.123.. Val Loss: 0.293.. Train mIoU:0.000.. Val mIoU: 0.000.. Train Acc:0.940.. Val Acc:0.863.. Time: 0.07m\n"
     ]
    },
    {
     "data": {
      "application/vnd.jupyter.widget-view+json": {
       "model_id": "ea6be4be06b24ff8ac499eb066ff06a3",
       "version_major": 2,
       "version_minor": 0
      },
      "text/plain": [
       "  0%|          | 0/8 [00:00<?, ?it/s]"
      ]
     },
     "metadata": {},
     "output_type": "display_data"
    },
    {
     "name": "stdout",
     "output_type": "stream",
     "text": [
      "Epoch:917/1000.. Train Loss: 0.123.. Val Loss: 0.290.. Train mIoU:0.000.. Val mIoU: 0.000.. Train Acc:0.939.. Val Acc:0.863.. Time: 0.07m\n"
     ]
    },
    {
     "data": {
      "application/vnd.jupyter.widget-view+json": {
       "model_id": "2a1182cd3693455bb32b32510a9b6f9b",
       "version_major": 2,
       "version_minor": 0
      },
      "text/plain": [
       "  0%|          | 0/8 [00:00<?, ?it/s]"
      ]
     },
     "metadata": {},
     "output_type": "display_data"
    },
    {
     "name": "stdout",
     "output_type": "stream",
     "text": [
      "Epoch:918/1000.. Train Loss: 0.122.. Val Loss: 0.299.. Train mIoU:0.000.. Val mIoU: 0.000.. Train Acc:0.941.. Val Acc:0.858.. Time: 0.07m\n"
     ]
    },
    {
     "data": {
      "application/vnd.jupyter.widget-view+json": {
       "model_id": "1723e355abcd419d8d6ef77413704805",
       "version_major": 2,
       "version_minor": 0
      },
      "text/plain": [
       "  0%|          | 0/8 [00:00<?, ?it/s]"
      ]
     },
     "metadata": {},
     "output_type": "display_data"
    },
    {
     "name": "stdout",
     "output_type": "stream",
     "text": [
      "Epoch:919/1000.. Train Loss: 0.123.. Val Loss: 0.406.. Train mIoU:0.000.. Val mIoU: 0.000.. Train Acc:0.939.. Val Acc:0.819.. Time: 0.07m\n"
     ]
    },
    {
     "data": {
      "application/vnd.jupyter.widget-view+json": {
       "model_id": "ee331ac57a3d4242bff178dd80dd5bf0",
       "version_major": 2,
       "version_minor": 0
      },
      "text/plain": [
       "  0%|          | 0/8 [00:00<?, ?it/s]"
      ]
     },
     "metadata": {},
     "output_type": "display_data"
    },
    {
     "name": "stdout",
     "output_type": "stream",
     "text": [
      "Epoch:920/1000.. Train Loss: 0.122.. Val Loss: 0.302.. Train mIoU:0.000.. Val mIoU: 0.000.. Train Acc:0.939.. Val Acc:0.857.. Time: 0.07m\n"
     ]
    },
    {
     "data": {
      "application/vnd.jupyter.widget-view+json": {
       "model_id": "ef8c7e6d0be04c8aa8d98650db49095a",
       "version_major": 2,
       "version_minor": 0
      },
      "text/plain": [
       "  0%|          | 0/8 [00:00<?, ?it/s]"
      ]
     },
     "metadata": {},
     "output_type": "display_data"
    },
    {
     "name": "stdout",
     "output_type": "stream",
     "text": [
      "Epoch:921/1000.. Train Loss: 0.122.. Val Loss: 0.363.. Train mIoU:0.000.. Val mIoU: 0.000.. Train Acc:0.941.. Val Acc:0.822.. Time: 0.07m\n"
     ]
    },
    {
     "data": {
      "application/vnd.jupyter.widget-view+json": {
       "model_id": "ea4c465bea1f4690816be8a11eefa8e3",
       "version_major": 2,
       "version_minor": 0
      },
      "text/plain": [
       "  0%|          | 0/8 [00:00<?, ?it/s]"
      ]
     },
     "metadata": {},
     "output_type": "display_data"
    },
    {
     "name": "stdout",
     "output_type": "stream",
     "text": [
      "Epoch:922/1000.. Train Loss: 0.121.. Val Loss: 0.357.. Train mIoU:0.000.. Val mIoU: 0.000.. Train Acc:0.943.. Val Acc:0.832.. Time: 0.07m\n"
     ]
    },
    {
     "data": {
      "application/vnd.jupyter.widget-view+json": {
       "model_id": "146a19a874024d8dbd96392b13f1dcbd",
       "version_major": 2,
       "version_minor": 0
      },
      "text/plain": [
       "  0%|          | 0/8 [00:00<?, ?it/s]"
      ]
     },
     "metadata": {},
     "output_type": "display_data"
    },
    {
     "name": "stdout",
     "output_type": "stream",
     "text": [
      "Epoch:923/1000.. Train Loss: 0.123.. Val Loss: 0.426.. Train mIoU:0.000.. Val mIoU: 0.000.. Train Acc:0.940.. Val Acc:0.816.. Time: 0.08m\n"
     ]
    },
    {
     "data": {
      "application/vnd.jupyter.widget-view+json": {
       "model_id": "c11662f434654527aafc140a0f61caba",
       "version_major": 2,
       "version_minor": 0
      },
      "text/plain": [
       "  0%|          | 0/8 [00:00<?, ?it/s]"
      ]
     },
     "metadata": {},
     "output_type": "display_data"
    },
    {
     "name": "stdout",
     "output_type": "stream",
     "text": [
      "Epoch:924/1000.. Train Loss: 0.120.. Val Loss: 0.290.. Train mIoU:0.000.. Val mIoU: 0.000.. Train Acc:0.941.. Val Acc:0.858.. Time: 0.08m\n"
     ]
    },
    {
     "data": {
      "application/vnd.jupyter.widget-view+json": {
       "model_id": "db787bcd9ba34df6821d6391b7984546",
       "version_major": 2,
       "version_minor": 0
      },
      "text/plain": [
       "  0%|          | 0/8 [00:00<?, ?it/s]"
      ]
     },
     "metadata": {},
     "output_type": "display_data"
    },
    {
     "name": "stdout",
     "output_type": "stream",
     "text": [
      "Epoch:925/1000.. Train Loss: 0.121.. Val Loss: 0.330.. Train mIoU:0.000.. Val mIoU: 0.000.. Train Acc:0.942.. Val Acc:0.845.. Time: 0.07m\n"
     ]
    },
    {
     "data": {
      "application/vnd.jupyter.widget-view+json": {
       "model_id": "fac6fe78fb3043abb0105d4806f0d5e1",
       "version_major": 2,
       "version_minor": 0
      },
      "text/plain": [
       "  0%|          | 0/8 [00:00<?, ?it/s]"
      ]
     },
     "metadata": {},
     "output_type": "display_data"
    },
    {
     "name": "stdout",
     "output_type": "stream",
     "text": [
      "Epoch:926/1000.. Train Loss: 0.123.. Val Loss: 0.410.. Train mIoU:0.000.. Val mIoU: 0.000.. Train Acc:0.939.. Val Acc:0.815.. Time: 0.07m\n"
     ]
    },
    {
     "data": {
      "application/vnd.jupyter.widget-view+json": {
       "model_id": "471061e581bd46e3ba02b9fba2daf457",
       "version_major": 2,
       "version_minor": 0
      },
      "text/plain": [
       "  0%|          | 0/8 [00:00<?, ?it/s]"
      ]
     },
     "metadata": {},
     "output_type": "display_data"
    },
    {
     "name": "stdout",
     "output_type": "stream",
     "text": [
      "Epoch:927/1000.. Train Loss: 0.122.. Val Loss: 0.355.. Train mIoU:0.000.. Val mIoU: 0.000.. Train Acc:0.942.. Val Acc:0.837.. Time: 0.07m\n"
     ]
    },
    {
     "data": {
      "application/vnd.jupyter.widget-view+json": {
       "model_id": "d3cd8845b22c4d209db7e71910f85fd2",
       "version_major": 2,
       "version_minor": 0
      },
      "text/plain": [
       "  0%|          | 0/8 [00:00<?, ?it/s]"
      ]
     },
     "metadata": {},
     "output_type": "display_data"
    },
    {
     "name": "stdout",
     "output_type": "stream",
     "text": [
      "Epoch:928/1000.. Train Loss: 0.121.. Val Loss: 0.407.. Train mIoU:0.000.. Val mIoU: 0.000.. Train Acc:0.940.. Val Acc:0.821.. Time: 0.07m\n"
     ]
    },
    {
     "data": {
      "application/vnd.jupyter.widget-view+json": {
       "model_id": "eb2f1d927e0146c29b21a867c7ff3f9f",
       "version_major": 2,
       "version_minor": 0
      },
      "text/plain": [
       "  0%|          | 0/8 [00:00<?, ?it/s]"
      ]
     },
     "metadata": {},
     "output_type": "display_data"
    },
    {
     "name": "stdout",
     "output_type": "stream",
     "text": [
      "Epoch:929/1000.. Train Loss: 0.122.. Val Loss: 0.294.. Train mIoU:0.000.. Val mIoU: 0.000.. Train Acc:0.941.. Val Acc:0.856.. Time: 0.07m\n"
     ]
    },
    {
     "data": {
      "application/vnd.jupyter.widget-view+json": {
       "model_id": "e33ad6e4d48c4fa58394f2b24d850068",
       "version_major": 2,
       "version_minor": 0
      },
      "text/plain": [
       "  0%|          | 0/8 [00:00<?, ?it/s]"
      ]
     },
     "metadata": {},
     "output_type": "display_data"
    },
    {
     "name": "stdout",
     "output_type": "stream",
     "text": [
      "Epoch:930/1000.. Train Loss: 0.123.. Val Loss: 0.292.. Train mIoU:0.000.. Val mIoU: 0.000.. Train Acc:0.940.. Val Acc:0.859.. Time: 0.07m\n"
     ]
    },
    {
     "data": {
      "application/vnd.jupyter.widget-view+json": {
       "model_id": "eaf6aba6a06b46ebbfd541914c5913c0",
       "version_major": 2,
       "version_minor": 0
      },
      "text/plain": [
       "  0%|          | 0/8 [00:00<?, ?it/s]"
      ]
     },
     "metadata": {},
     "output_type": "display_data"
    },
    {
     "name": "stdout",
     "output_type": "stream",
     "text": [
      "Epoch:931/1000.. Train Loss: 0.125.. Val Loss: 0.369.. Train mIoU:0.000.. Val mIoU: 0.000.. Train Acc:0.937.. Val Acc:0.820.. Time: 0.07m\n"
     ]
    },
    {
     "data": {
      "application/vnd.jupyter.widget-view+json": {
       "model_id": "131c43e57ddb4d95b77042e22267ecd6",
       "version_major": 2,
       "version_minor": 0
      },
      "text/plain": [
       "  0%|          | 0/8 [00:00<?, ?it/s]"
      ]
     },
     "metadata": {},
     "output_type": "display_data"
    },
    {
     "name": "stdout",
     "output_type": "stream",
     "text": [
      "Epoch:932/1000.. Train Loss: 0.125.. Val Loss: 0.360.. Train mIoU:0.000.. Val mIoU: 0.000.. Train Acc:0.938.. Val Acc:0.824.. Time: 0.07m\n"
     ]
    },
    {
     "data": {
      "application/vnd.jupyter.widget-view+json": {
       "model_id": "64977b2988e04f5e803ed8fec05d5783",
       "version_major": 2,
       "version_minor": 0
      },
      "text/plain": [
       "  0%|          | 0/8 [00:00<?, ?it/s]"
      ]
     },
     "metadata": {},
     "output_type": "display_data"
    },
    {
     "name": "stdout",
     "output_type": "stream",
     "text": [
      "Epoch:933/1000.. Train Loss: 0.120.. Val Loss: 0.323.. Train mIoU:0.000.. Val mIoU: 0.000.. Train Acc:0.941.. Val Acc:0.840.. Time: 0.07m\n"
     ]
    },
    {
     "data": {
      "application/vnd.jupyter.widget-view+json": {
       "model_id": "580209c986e04683a88de3f342442fcf",
       "version_major": 2,
       "version_minor": 0
      },
      "text/plain": [
       "  0%|          | 0/8 [00:00<?, ?it/s]"
      ]
     },
     "metadata": {},
     "output_type": "display_data"
    },
    {
     "name": "stdout",
     "output_type": "stream",
     "text": [
      "Epoch:934/1000.. Train Loss: 0.122.. Val Loss: 0.351.. Train mIoU:0.000.. Val mIoU: 0.000.. Train Acc:0.942.. Val Acc:0.832.. Time: 0.07m\n"
     ]
    },
    {
     "data": {
      "application/vnd.jupyter.widget-view+json": {
       "model_id": "d0b7190c64ef42cda7834a01bb4547d6",
       "version_major": 2,
       "version_minor": 0
      },
      "text/plain": [
       "  0%|          | 0/8 [00:00<?, ?it/s]"
      ]
     },
     "metadata": {},
     "output_type": "display_data"
    },
    {
     "name": "stdout",
     "output_type": "stream",
     "text": [
      "Epoch:935/1000.. Train Loss: 0.120.. Val Loss: 0.290.. Train mIoU:0.000.. Val mIoU: 0.000.. Train Acc:0.942.. Val Acc:0.860.. Time: 0.08m\n"
     ]
    },
    {
     "data": {
      "application/vnd.jupyter.widget-view+json": {
       "model_id": "57c3d700d248478e9763ed2bc10072cb",
       "version_major": 2,
       "version_minor": 0
      },
      "text/plain": [
       "  0%|          | 0/8 [00:00<?, ?it/s]"
      ]
     },
     "metadata": {},
     "output_type": "display_data"
    },
    {
     "name": "stdout",
     "output_type": "stream",
     "text": [
      "Epoch:936/1000.. Train Loss: 0.120.. Val Loss: 0.368.. Train mIoU:0.000.. Val mIoU: 0.000.. Train Acc:0.941.. Val Acc:0.823.. Time: 0.07m\n"
     ]
    },
    {
     "data": {
      "application/vnd.jupyter.widget-view+json": {
       "model_id": "5a9e01c033a74deab5ebdcba3b0383c0",
       "version_major": 2,
       "version_minor": 0
      },
      "text/plain": [
       "  0%|          | 0/8 [00:00<?, ?it/s]"
      ]
     },
     "metadata": {},
     "output_type": "display_data"
    },
    {
     "name": "stdout",
     "output_type": "stream",
     "text": [
      "Epoch:937/1000.. Train Loss: 0.120.. Val Loss: 0.289.. Train mIoU:0.000.. Val mIoU: 0.000.. Train Acc:0.940.. Val Acc:0.862.. Time: 0.07m\n"
     ]
    },
    {
     "data": {
      "application/vnd.jupyter.widget-view+json": {
       "model_id": "f20514194195493e8be4209b81dd4720",
       "version_major": 2,
       "version_minor": 0
      },
      "text/plain": [
       "  0%|          | 0/8 [00:00<?, ?it/s]"
      ]
     },
     "metadata": {},
     "output_type": "display_data"
    },
    {
     "name": "stdout",
     "output_type": "stream",
     "text": [
      "Epoch:938/1000.. Train Loss: 0.123.. Val Loss: 0.386.. Train mIoU:0.000.. Val mIoU: 0.000.. Train Acc:0.939.. Val Acc:0.808.. Time: 0.07m\n"
     ]
    },
    {
     "data": {
      "application/vnd.jupyter.widget-view+json": {
       "model_id": "a374bd4887b941ffabace715cff29c98",
       "version_major": 2,
       "version_minor": 0
      },
      "text/plain": [
       "  0%|          | 0/8 [00:00<?, ?it/s]"
      ]
     },
     "metadata": {},
     "output_type": "display_data"
    },
    {
     "name": "stdout",
     "output_type": "stream",
     "text": [
      "Epoch:939/1000.. Train Loss: 0.121.. Val Loss: 0.306.. Train mIoU:0.000.. Val mIoU: 0.000.. Train Acc:0.940.. Val Acc:0.854.. Time: 0.07m\n"
     ]
    },
    {
     "data": {
      "application/vnd.jupyter.widget-view+json": {
       "model_id": "d5bd43df818645c39c7fee493d7e16ba",
       "version_major": 2,
       "version_minor": 0
      },
      "text/plain": [
       "  0%|          | 0/8 [00:00<?, ?it/s]"
      ]
     },
     "metadata": {},
     "output_type": "display_data"
    },
    {
     "name": "stdout",
     "output_type": "stream",
     "text": [
      "Epoch:940/1000.. Train Loss: 0.120.. Val Loss: 0.355.. Train mIoU:0.000.. Val mIoU: 0.000.. Train Acc:0.941.. Val Acc:0.835.. Time: 0.07m\n"
     ]
    },
    {
     "data": {
      "application/vnd.jupyter.widget-view+json": {
       "model_id": "57950b42ac8c4a2e97a6470127b3edb1",
       "version_major": 2,
       "version_minor": 0
      },
      "text/plain": [
       "  0%|          | 0/8 [00:00<?, ?it/s]"
      ]
     },
     "metadata": {},
     "output_type": "display_data"
    },
    {
     "name": "stdout",
     "output_type": "stream",
     "text": [
      "Epoch:941/1000.. Train Loss: 0.119.. Val Loss: 0.384.. Train mIoU:0.000.. Val mIoU: 0.000.. Train Acc:0.940.. Val Acc:0.814.. Time: 0.07m\n"
     ]
    },
    {
     "data": {
      "application/vnd.jupyter.widget-view+json": {
       "model_id": "1144f45ed7134fe1a7b3dc6e78dff866",
       "version_major": 2,
       "version_minor": 0
      },
      "text/plain": [
       "  0%|          | 0/8 [00:00<?, ?it/s]"
      ]
     },
     "metadata": {},
     "output_type": "display_data"
    },
    {
     "name": "stdout",
     "output_type": "stream",
     "text": [
      "Epoch:942/1000.. Train Loss: 0.122.. Val Loss: 0.358.. Train mIoU:0.000.. Val mIoU: 0.000.. Train Acc:0.940.. Val Acc:0.827.. Time: 0.07m\n"
     ]
    },
    {
     "data": {
      "application/vnd.jupyter.widget-view+json": {
       "model_id": "fba219cf6a5f4bd9b0fe2cc0799f8e8a",
       "version_major": 2,
       "version_minor": 0
      },
      "text/plain": [
       "  0%|          | 0/8 [00:00<?, ?it/s]"
      ]
     },
     "metadata": {},
     "output_type": "display_data"
    },
    {
     "name": "stdout",
     "output_type": "stream",
     "text": [
      "Epoch:943/1000.. Train Loss: 0.120.. Val Loss: 0.295.. Train mIoU:0.000.. Val mIoU: 0.000.. Train Acc:0.942.. Val Acc:0.856.. Time: 0.07m\n"
     ]
    },
    {
     "data": {
      "application/vnd.jupyter.widget-view+json": {
       "model_id": "01c89aaf26aa446b944fcc01ef4bc054",
       "version_major": 2,
       "version_minor": 0
      },
      "text/plain": [
       "  0%|          | 0/8 [00:00<?, ?it/s]"
      ]
     },
     "metadata": {},
     "output_type": "display_data"
    },
    {
     "name": "stdout",
     "output_type": "stream",
     "text": [
      "Epoch:944/1000.. Train Loss: 0.124.. Val Loss: 0.290.. Train mIoU:0.000.. Val mIoU: 0.000.. Train Acc:0.938.. Val Acc:0.861.. Time: 0.07m\n"
     ]
    },
    {
     "data": {
      "application/vnd.jupyter.widget-view+json": {
       "model_id": "36e81244e6674db0818fc4545da392ed",
       "version_major": 2,
       "version_minor": 0
      },
      "text/plain": [
       "  0%|          | 0/8 [00:00<?, ?it/s]"
      ]
     },
     "metadata": {},
     "output_type": "display_data"
    },
    {
     "name": "stdout",
     "output_type": "stream",
     "text": [
      "Epoch:945/1000.. Train Loss: 0.124.. Val Loss: 0.295.. Train mIoU:0.000.. Val mIoU: 0.000.. Train Acc:0.938.. Val Acc:0.864.. Time: 0.07m\n"
     ]
    },
    {
     "data": {
      "application/vnd.jupyter.widget-view+json": {
       "model_id": "199d5e6f5dbc459e8585fa7e6edfde3e",
       "version_major": 2,
       "version_minor": 0
      },
      "text/plain": [
       "  0%|          | 0/8 [00:00<?, ?it/s]"
      ]
     },
     "metadata": {},
     "output_type": "display_data"
    },
    {
     "name": "stdout",
     "output_type": "stream",
     "text": [
      "Epoch:946/1000.. Train Loss: 0.120.. Val Loss: 0.328.. Train mIoU:0.000.. Val mIoU: 0.000.. Train Acc:0.941.. Val Acc:0.854.. Time: 0.08m\n"
     ]
    },
    {
     "data": {
      "application/vnd.jupyter.widget-view+json": {
       "model_id": "2f645e79aeda470d910c4994b5cd6d77",
       "version_major": 2,
       "version_minor": 0
      },
      "text/plain": [
       "  0%|          | 0/8 [00:00<?, ?it/s]"
      ]
     },
     "metadata": {},
     "output_type": "display_data"
    },
    {
     "name": "stdout",
     "output_type": "stream",
     "text": [
      "Epoch:947/1000.. Train Loss: 0.122.. Val Loss: 0.330.. Train mIoU:0.000.. Val mIoU: 0.000.. Train Acc:0.941.. Val Acc:0.848.. Time: 0.07m\n"
     ]
    },
    {
     "data": {
      "application/vnd.jupyter.widget-view+json": {
       "model_id": "db862a29fc074d66898e02ec705e781b",
       "version_major": 2,
       "version_minor": 0
      },
      "text/plain": [
       "  0%|          | 0/8 [00:00<?, ?it/s]"
      ]
     },
     "metadata": {},
     "output_type": "display_data"
    },
    {
     "name": "stdout",
     "output_type": "stream",
     "text": [
      "Epoch:948/1000.. Train Loss: 0.120.. Val Loss: 0.299.. Train mIoU:0.000.. Val mIoU: 0.000.. Train Acc:0.941.. Val Acc:0.866.. Time: 0.07m\n"
     ]
    },
    {
     "data": {
      "application/vnd.jupyter.widget-view+json": {
       "model_id": "7d9e992fa99e440d854c1a478cfb5510",
       "version_major": 2,
       "version_minor": 0
      },
      "text/plain": [
       "  0%|          | 0/8 [00:00<?, ?it/s]"
      ]
     },
     "metadata": {},
     "output_type": "display_data"
    },
    {
     "name": "stdout",
     "output_type": "stream",
     "text": [
      "Epoch:949/1000.. Train Loss: 0.123.. Val Loss: 0.302.. Train mIoU:0.000.. Val mIoU: 0.000.. Train Acc:0.941.. Val Acc:0.854.. Time: 0.07m\n"
     ]
    },
    {
     "data": {
      "application/vnd.jupyter.widget-view+json": {
       "model_id": "1375a7c818e9469cb66ec4a65d4e4f8c",
       "version_major": 2,
       "version_minor": 0
      },
      "text/plain": [
       "  0%|          | 0/8 [00:00<?, ?it/s]"
      ]
     },
     "metadata": {},
     "output_type": "display_data"
    },
    {
     "name": "stdout",
     "output_type": "stream",
     "text": [
      "Epoch:950/1000.. Train Loss: 0.124.. Val Loss: 0.334.. Train mIoU:0.000.. Val mIoU: 0.000.. Train Acc:0.938.. Val Acc:0.842.. Time: 0.07m\n"
     ]
    },
    {
     "data": {
      "application/vnd.jupyter.widget-view+json": {
       "model_id": "537dcc4090194bfda4810e1407bb31b0",
       "version_major": 2,
       "version_minor": 0
      },
      "text/plain": [
       "  0%|          | 0/8 [00:00<?, ?it/s]"
      ]
     },
     "metadata": {},
     "output_type": "display_data"
    },
    {
     "name": "stdout",
     "output_type": "stream",
     "text": [
      "Epoch:951/1000.. Train Loss: 0.125.. Val Loss: 0.384.. Train mIoU:0.000.. Val mIoU: 0.000.. Train Acc:0.939.. Val Acc:0.829.. Time: 0.07m\n"
     ]
    },
    {
     "data": {
      "application/vnd.jupyter.widget-view+json": {
       "model_id": "d9215b611971490db12d869d7e2ed5b1",
       "version_major": 2,
       "version_minor": 0
      },
      "text/plain": [
       "  0%|          | 0/8 [00:00<?, ?it/s]"
      ]
     },
     "metadata": {},
     "output_type": "display_data"
    },
    {
     "name": "stdout",
     "output_type": "stream",
     "text": [
      "Epoch:952/1000.. Train Loss: 0.123.. Val Loss: 0.280.. Train mIoU:0.000.. Val mIoU: 0.000.. Train Acc:0.939.. Val Acc:0.858.. Time: 0.07m\n"
     ]
    },
    {
     "data": {
      "application/vnd.jupyter.widget-view+json": {
       "model_id": "408b6fe61a0142b1b47c8291c848692a",
       "version_major": 2,
       "version_minor": 0
      },
      "text/plain": [
       "  0%|          | 0/8 [00:00<?, ?it/s]"
      ]
     },
     "metadata": {},
     "output_type": "display_data"
    },
    {
     "name": "stdout",
     "output_type": "stream",
     "text": [
      "Epoch:953/1000.. Train Loss: 0.121.. Val Loss: 0.293.. Train mIoU:0.000.. Val mIoU: 0.000.. Train Acc:0.940.. Val Acc:0.865.. Time: 0.07m\n"
     ]
    },
    {
     "data": {
      "application/vnd.jupyter.widget-view+json": {
       "model_id": "1d008f116fa64adea39a0c31a8221061",
       "version_major": 2,
       "version_minor": 0
      },
      "text/plain": [
       "  0%|          | 0/8 [00:00<?, ?it/s]"
      ]
     },
     "metadata": {},
     "output_type": "display_data"
    },
    {
     "name": "stdout",
     "output_type": "stream",
     "text": [
      "Epoch:954/1000.. Train Loss: 0.124.. Val Loss: 0.361.. Train mIoU:0.000.. Val mIoU: 0.000.. Train Acc:0.940.. Val Acc:0.835.. Time: 0.07m\n"
     ]
    },
    {
     "data": {
      "application/vnd.jupyter.widget-view+json": {
       "model_id": "e0b3fa9805c749aebf7511ce0c431adf",
       "version_major": 2,
       "version_minor": 0
      },
      "text/plain": [
       "  0%|          | 0/8 [00:00<?, ?it/s]"
      ]
     },
     "metadata": {},
     "output_type": "display_data"
    },
    {
     "name": "stdout",
     "output_type": "stream",
     "text": [
      "Epoch:955/1000.. Train Loss: 0.120.. Val Loss: 0.381.. Train mIoU:0.000.. Val mIoU: 0.000.. Train Acc:0.941.. Val Acc:0.814.. Time: 0.07m\n"
     ]
    },
    {
     "data": {
      "application/vnd.jupyter.widget-view+json": {
       "model_id": "5aa99594f76248ac88bb7cc5ecb493df",
       "version_major": 2,
       "version_minor": 0
      },
      "text/plain": [
       "  0%|          | 0/8 [00:00<?, ?it/s]"
      ]
     },
     "metadata": {},
     "output_type": "display_data"
    },
    {
     "name": "stdout",
     "output_type": "stream",
     "text": [
      "Epoch:956/1000.. Train Loss: 0.122.. Val Loss: 0.411.. Train mIoU:0.000.. Val mIoU: 0.000.. Train Acc:0.941.. Val Acc:0.820.. Time: 0.07m\n"
     ]
    },
    {
     "data": {
      "application/vnd.jupyter.widget-view+json": {
       "model_id": "577afe55deeb415fa2698cc0d2cf8e00",
       "version_major": 2,
       "version_minor": 0
      },
      "text/plain": [
       "  0%|          | 0/8 [00:00<?, ?it/s]"
      ]
     },
     "metadata": {},
     "output_type": "display_data"
    },
    {
     "name": "stdout",
     "output_type": "stream",
     "text": [
      "Epoch:957/1000.. Train Loss: 0.123.. Val Loss: 0.288.. Train mIoU:0.000.. Val mIoU: 0.000.. Train Acc:0.939.. Val Acc:0.860.. Time: 0.07m\n"
     ]
    },
    {
     "data": {
      "application/vnd.jupyter.widget-view+json": {
       "model_id": "17df2c53db214c4fb1fa7174c25ce1ce",
       "version_major": 2,
       "version_minor": 0
      },
      "text/plain": [
       "  0%|          | 0/8 [00:00<?, ?it/s]"
      ]
     },
     "metadata": {},
     "output_type": "display_data"
    },
    {
     "name": "stdout",
     "output_type": "stream",
     "text": [
      "Epoch:958/1000.. Train Loss: 0.125.. Val Loss: 0.368.. Train mIoU:0.000.. Val mIoU: 0.000.. Train Acc:0.939.. Val Acc:0.812.. Time: 0.07m\n"
     ]
    },
    {
     "data": {
      "application/vnd.jupyter.widget-view+json": {
       "model_id": "e116d8a2eecd4ad1ad2304a9b3337aeb",
       "version_major": 2,
       "version_minor": 0
      },
      "text/plain": [
       "  0%|          | 0/8 [00:00<?, ?it/s]"
      ]
     },
     "metadata": {},
     "output_type": "display_data"
    },
    {
     "name": "stdout",
     "output_type": "stream",
     "text": [
      "Epoch:959/1000.. Train Loss: 0.119.. Val Loss: 0.291.. Train mIoU:0.000.. Val mIoU: 0.000.. Train Acc:0.942.. Val Acc:0.859.. Time: 0.07m\n"
     ]
    },
    {
     "data": {
      "application/vnd.jupyter.widget-view+json": {
       "model_id": "4f494517152f4c1fb4687e439e33e692",
       "version_major": 2,
       "version_minor": 0
      },
      "text/plain": [
       "  0%|          | 0/8 [00:00<?, ?it/s]"
      ]
     },
     "metadata": {},
     "output_type": "display_data"
    },
    {
     "name": "stdout",
     "output_type": "stream",
     "text": [
      "Epoch:960/1000.. Train Loss: 0.122.. Val Loss: 0.291.. Train mIoU:0.000.. Val mIoU: 0.000.. Train Acc:0.939.. Val Acc:0.859.. Time: 0.08m\n"
     ]
    },
    {
     "data": {
      "application/vnd.jupyter.widget-view+json": {
       "model_id": "7425a9ac7e784521bf5bce5868d462ff",
       "version_major": 2,
       "version_minor": 0
      },
      "text/plain": [
       "  0%|          | 0/8 [00:00<?, ?it/s]"
      ]
     },
     "metadata": {},
     "output_type": "display_data"
    },
    {
     "name": "stdout",
     "output_type": "stream",
     "text": [
      "Epoch:961/1000.. Train Loss: 0.123.. Val Loss: 0.366.. Train mIoU:0.000.. Val mIoU: 0.000.. Train Acc:0.940.. Val Acc:0.821.. Time: 0.07m\n"
     ]
    },
    {
     "data": {
      "application/vnd.jupyter.widget-view+json": {
       "model_id": "c0bf28b0044647ef819c8b5d692c464e",
       "version_major": 2,
       "version_minor": 0
      },
      "text/plain": [
       "  0%|          | 0/8 [00:00<?, ?it/s]"
      ]
     },
     "metadata": {},
     "output_type": "display_data"
    },
    {
     "name": "stdout",
     "output_type": "stream",
     "text": [
      "Epoch:962/1000.. Train Loss: 0.120.. Val Loss: 0.347.. Train mIoU:0.000.. Val mIoU: 0.000.. Train Acc:0.942.. Val Acc:0.838.. Time: 0.07m\n"
     ]
    },
    {
     "data": {
      "application/vnd.jupyter.widget-view+json": {
       "model_id": "ab058b2f01214e8e9a1aba2d2ff55888",
       "version_major": 2,
       "version_minor": 0
      },
      "text/plain": [
       "  0%|          | 0/8 [00:00<?, ?it/s]"
      ]
     },
     "metadata": {},
     "output_type": "display_data"
    },
    {
     "name": "stdout",
     "output_type": "stream",
     "text": [
      "Epoch:963/1000.. Train Loss: 0.123.. Val Loss: 0.405.. Train mIoU:0.000.. Val mIoU: 0.000.. Train Acc:0.940.. Val Acc:0.816.. Time: 0.07m\n"
     ]
    },
    {
     "data": {
      "application/vnd.jupyter.widget-view+json": {
       "model_id": "fea8246a11d54cbf8b0d2e00c903e46d",
       "version_major": 2,
       "version_minor": 0
      },
      "text/plain": [
       "  0%|          | 0/8 [00:00<?, ?it/s]"
      ]
     },
     "metadata": {},
     "output_type": "display_data"
    },
    {
     "name": "stdout",
     "output_type": "stream",
     "text": [
      "Epoch:964/1000.. Train Loss: 0.118.. Val Loss: 0.297.. Train mIoU:0.000.. Val mIoU: 0.000.. Train Acc:0.942.. Val Acc:0.863.. Time: 0.07m\n"
     ]
    },
    {
     "data": {
      "application/vnd.jupyter.widget-view+json": {
       "model_id": "751992b0c795416a817fe8eec9839640",
       "version_major": 2,
       "version_minor": 0
      },
      "text/plain": [
       "  0%|          | 0/8 [00:00<?, ?it/s]"
      ]
     },
     "metadata": {},
     "output_type": "display_data"
    },
    {
     "name": "stdout",
     "output_type": "stream",
     "text": [
      "Epoch:965/1000.. Train Loss: 0.121.. Val Loss: 0.294.. Train mIoU:0.000.. Val mIoU: 0.000.. Train Acc:0.940.. Val Acc:0.853.. Time: 0.07m\n"
     ]
    },
    {
     "data": {
      "application/vnd.jupyter.widget-view+json": {
       "model_id": "c3f2176941dc440bbcc13d43287f6d2f",
       "version_major": 2,
       "version_minor": 0
      },
      "text/plain": [
       "  0%|          | 0/8 [00:00<?, ?it/s]"
      ]
     },
     "metadata": {},
     "output_type": "display_data"
    },
    {
     "name": "stdout",
     "output_type": "stream",
     "text": [
      "Epoch:966/1000.. Train Loss: 0.122.. Val Loss: 0.296.. Train mIoU:0.000.. Val mIoU: 0.000.. Train Acc:0.940.. Val Acc:0.869.. Time: 0.07m\n"
     ]
    },
    {
     "data": {
      "application/vnd.jupyter.widget-view+json": {
       "model_id": "4863a120f39848baa6249a00b37a3bce",
       "version_major": 2,
       "version_minor": 0
      },
      "text/plain": [
       "  0%|          | 0/8 [00:00<?, ?it/s]"
      ]
     },
     "metadata": {},
     "output_type": "display_data"
    },
    {
     "name": "stdout",
     "output_type": "stream",
     "text": [
      "Epoch:967/1000.. Train Loss: 0.120.. Val Loss: 0.377.. Train mIoU:0.000.. Val mIoU: 0.000.. Train Acc:0.942.. Val Acc:0.813.. Time: 0.07m\n"
     ]
    },
    {
     "data": {
      "application/vnd.jupyter.widget-view+json": {
       "model_id": "ac76823a416c485d8829776fb0568e78",
       "version_major": 2,
       "version_minor": 0
      },
      "text/plain": [
       "  0%|          | 0/8 [00:00<?, ?it/s]"
      ]
     },
     "metadata": {},
     "output_type": "display_data"
    },
    {
     "name": "stdout",
     "output_type": "stream",
     "text": [
      "Epoch:968/1000.. Train Loss: 0.122.. Val Loss: 0.373.. Train mIoU:0.000.. Val mIoU: 0.000.. Train Acc:0.942.. Val Acc:0.813.. Time: 0.07m\n"
     ]
    },
    {
     "data": {
      "application/vnd.jupyter.widget-view+json": {
       "model_id": "2974583db28b4cabbbd0c8bff0634197",
       "version_major": 2,
       "version_minor": 0
      },
      "text/plain": [
       "  0%|          | 0/8 [00:00<?, ?it/s]"
      ]
     },
     "metadata": {},
     "output_type": "display_data"
    },
    {
     "name": "stdout",
     "output_type": "stream",
     "text": [
      "Epoch:969/1000.. Train Loss: 0.119.. Val Loss: 0.294.. Train mIoU:0.000.. Val mIoU: 0.000.. Train Acc:0.943.. Val Acc:0.860.. Time: 0.08m\n"
     ]
    },
    {
     "data": {
      "application/vnd.jupyter.widget-view+json": {
       "model_id": "6da70926bd6644a2b196c21e808f7393",
       "version_major": 2,
       "version_minor": 0
      },
      "text/plain": [
       "  0%|          | 0/8 [00:00<?, ?it/s]"
      ]
     },
     "metadata": {},
     "output_type": "display_data"
    },
    {
     "name": "stdout",
     "output_type": "stream",
     "text": [
      "Epoch:970/1000.. Train Loss: 0.119.. Val Loss: 0.328.. Train mIoU:0.000.. Val mIoU: 0.000.. Train Acc:0.941.. Val Acc:0.845.. Time: 0.07m\n"
     ]
    },
    {
     "data": {
      "application/vnd.jupyter.widget-view+json": {
       "model_id": "d08b4b156dbf4e628c5a9f4199b799c2",
       "version_major": 2,
       "version_minor": 0
      },
      "text/plain": [
       "  0%|          | 0/8 [00:00<?, ?it/s]"
      ]
     },
     "metadata": {},
     "output_type": "display_data"
    },
    {
     "name": "stdout",
     "output_type": "stream",
     "text": [
      "Epoch:971/1000.. Train Loss: 0.121.. Val Loss: 0.341.. Train mIoU:0.000.. Val mIoU: 0.000.. Train Acc:0.941.. Val Acc:0.848.. Time: 0.07m\n"
     ]
    },
    {
     "data": {
      "application/vnd.jupyter.widget-view+json": {
       "model_id": "c7b3323ca1404a85adc6f96db29c930b",
       "version_major": 2,
       "version_minor": 0
      },
      "text/plain": [
       "  0%|          | 0/8 [00:00<?, ?it/s]"
      ]
     },
     "metadata": {},
     "output_type": "display_data"
    },
    {
     "name": "stdout",
     "output_type": "stream",
     "text": [
      "Epoch:972/1000.. Train Loss: 0.124.. Val Loss: 0.301.. Train mIoU:0.000.. Val mIoU: 0.000.. Train Acc:0.939.. Val Acc:0.857.. Time: 0.07m\n"
     ]
    },
    {
     "data": {
      "application/vnd.jupyter.widget-view+json": {
       "model_id": "f76fcb16a23044649efc705edef4b679",
       "version_major": 2,
       "version_minor": 0
      },
      "text/plain": [
       "  0%|          | 0/8 [00:00<?, ?it/s]"
      ]
     },
     "metadata": {},
     "output_type": "display_data"
    },
    {
     "name": "stdout",
     "output_type": "stream",
     "text": [
      "Epoch:973/1000.. Train Loss: 0.120.. Val Loss: 0.314.. Train mIoU:0.000.. Val mIoU: 0.000.. Train Acc:0.941.. Val Acc:0.864.. Time: 0.07m\n"
     ]
    },
    {
     "data": {
      "application/vnd.jupyter.widget-view+json": {
       "model_id": "60e759d687c24f239c3e1179025b56f3",
       "version_major": 2,
       "version_minor": 0
      },
      "text/plain": [
       "  0%|          | 0/8 [00:00<?, ?it/s]"
      ]
     },
     "metadata": {},
     "output_type": "display_data"
    },
    {
     "name": "stdout",
     "output_type": "stream",
     "text": [
      "Epoch:974/1000.. Train Loss: 0.121.. Val Loss: 0.334.. Train mIoU:0.000.. Val mIoU: 0.000.. Train Acc:0.941.. Val Acc:0.857.. Time: 0.07m\n"
     ]
    },
    {
     "data": {
      "application/vnd.jupyter.widget-view+json": {
       "model_id": "c2f45d39d9e2467c93e5c0300db78392",
       "version_major": 2,
       "version_minor": 0
      },
      "text/plain": [
       "  0%|          | 0/8 [00:00<?, ?it/s]"
      ]
     },
     "metadata": {},
     "output_type": "display_data"
    },
    {
     "name": "stdout",
     "output_type": "stream",
     "text": [
      "Epoch:975/1000.. Train Loss: 0.119.. Val Loss: 0.381.. Train mIoU:0.000.. Val mIoU: 0.000.. Train Acc:0.942.. Val Acc:0.808.. Time: 0.07m\n"
     ]
    },
    {
     "data": {
      "application/vnd.jupyter.widget-view+json": {
       "model_id": "01029990d7e8447a9c178c6fe309b2a0",
       "version_major": 2,
       "version_minor": 0
      },
      "text/plain": [
       "  0%|          | 0/8 [00:00<?, ?it/s]"
      ]
     },
     "metadata": {},
     "output_type": "display_data"
    },
    {
     "name": "stdout",
     "output_type": "stream",
     "text": [
      "Epoch:976/1000.. Train Loss: 0.120.. Val Loss: 0.294.. Train mIoU:0.000.. Val mIoU: 0.000.. Train Acc:0.940.. Val Acc:0.857.. Time: 0.07m\n"
     ]
    },
    {
     "data": {
      "application/vnd.jupyter.widget-view+json": {
       "model_id": "0f879810ae26479094f1b2d599d2bf8d",
       "version_major": 2,
       "version_minor": 0
      },
      "text/plain": [
       "  0%|          | 0/8 [00:00<?, ?it/s]"
      ]
     },
     "metadata": {},
     "output_type": "display_data"
    },
    {
     "name": "stdout",
     "output_type": "stream",
     "text": [
      "Epoch:977/1000.. Train Loss: 0.121.. Val Loss: 0.288.. Train mIoU:0.000.. Val mIoU: 0.000.. Train Acc:0.941.. Val Acc:0.866.. Time: 0.07m\n"
     ]
    },
    {
     "data": {
      "application/vnd.jupyter.widget-view+json": {
       "model_id": "8e746f70dd8f4304a147a8fbab496ec9",
       "version_major": 2,
       "version_minor": 0
      },
      "text/plain": [
       "  0%|          | 0/8 [00:00<?, ?it/s]"
      ]
     },
     "metadata": {},
     "output_type": "display_data"
    },
    {
     "name": "stdout",
     "output_type": "stream",
     "text": [
      "Epoch:978/1000.. Train Loss: 0.121.. Val Loss: 0.340.. Train mIoU:0.000.. Val mIoU: 0.000.. Train Acc:0.942.. Val Acc:0.837.. Time: 0.07m\n"
     ]
    },
    {
     "data": {
      "application/vnd.jupyter.widget-view+json": {
       "model_id": "3ecde7e24b444f24afa75dac892bcda1",
       "version_major": 2,
       "version_minor": 0
      },
      "text/plain": [
       "  0%|          | 0/8 [00:00<?, ?it/s]"
      ]
     },
     "metadata": {},
     "output_type": "display_data"
    },
    {
     "name": "stdout",
     "output_type": "stream",
     "text": [
      "Epoch:979/1000.. Train Loss: 0.120.. Val Loss: 0.428.. Train mIoU:0.000.. Val mIoU: 0.000.. Train Acc:0.940.. Val Acc:0.821.. Time: 0.07m\n"
     ]
    },
    {
     "data": {
      "application/vnd.jupyter.widget-view+json": {
       "model_id": "24c5b4fb83f1464aa9fe1c79b4ba6897",
       "version_major": 2,
       "version_minor": 0
      },
      "text/plain": [
       "  0%|          | 0/8 [00:00<?, ?it/s]"
      ]
     },
     "metadata": {},
     "output_type": "display_data"
    },
    {
     "name": "stdout",
     "output_type": "stream",
     "text": [
      "Epoch:980/1000.. Train Loss: 0.119.. Val Loss: 0.305.. Train mIoU:0.000.. Val mIoU: 0.000.. Train Acc:0.942.. Val Acc:0.858.. Time: 0.07m\n"
     ]
    },
    {
     "data": {
      "application/vnd.jupyter.widget-view+json": {
       "model_id": "0151c25cd44f4218a2926401dca93451",
       "version_major": 2,
       "version_minor": 0
      },
      "text/plain": [
       "  0%|          | 0/8 [00:00<?, ?it/s]"
      ]
     },
     "metadata": {},
     "output_type": "display_data"
    },
    {
     "name": "stdout",
     "output_type": "stream",
     "text": [
      "Epoch:981/1000.. Train Loss: 0.122.. Val Loss: 0.295.. Train mIoU:0.000.. Val mIoU: 0.000.. Train Acc:0.940.. Val Acc:0.861.. Time: 0.08m\n"
     ]
    },
    {
     "data": {
      "application/vnd.jupyter.widget-view+json": {
       "model_id": "24b1d42ac6d74ca885713390ffe4d3a4",
       "version_major": 2,
       "version_minor": 0
      },
      "text/plain": [
       "  0%|          | 0/8 [00:00<?, ?it/s]"
      ]
     },
     "metadata": {},
     "output_type": "display_data"
    },
    {
     "name": "stdout",
     "output_type": "stream",
     "text": [
      "Epoch:982/1000.. Train Loss: 0.120.. Val Loss: 0.370.. Train mIoU:0.000.. Val mIoU: 0.000.. Train Acc:0.942.. Val Acc:0.810.. Time: 0.08m\n"
     ]
    },
    {
     "data": {
      "application/vnd.jupyter.widget-view+json": {
       "model_id": "58d4b35624084caf8013b40a52466a4b",
       "version_major": 2,
       "version_minor": 0
      },
      "text/plain": [
       "  0%|          | 0/8 [00:00<?, ?it/s]"
      ]
     },
     "metadata": {},
     "output_type": "display_data"
    },
    {
     "name": "stdout",
     "output_type": "stream",
     "text": [
      "Epoch:983/1000.. Train Loss: 0.121.. Val Loss: 0.289.. Train mIoU:0.000.. Val mIoU: 0.000.. Train Acc:0.940.. Val Acc:0.863.. Time: 0.07m\n"
     ]
    },
    {
     "data": {
      "application/vnd.jupyter.widget-view+json": {
       "model_id": "bb10b9cd4605467a8d9284c7c46115d2",
       "version_major": 2,
       "version_minor": 0
      },
      "text/plain": [
       "  0%|          | 0/8 [00:00<?, ?it/s]"
      ]
     },
     "metadata": {},
     "output_type": "display_data"
    },
    {
     "name": "stdout",
     "output_type": "stream",
     "text": [
      "Epoch:984/1000.. Train Loss: 0.120.. Val Loss: 0.295.. Train mIoU:0.000.. Val mIoU: 0.000.. Train Acc:0.942.. Val Acc:0.857.. Time: 0.07m\n"
     ]
    },
    {
     "data": {
      "application/vnd.jupyter.widget-view+json": {
       "model_id": "238a1a9ea9be4ae19e7ff9d69af188e1",
       "version_major": 2,
       "version_minor": 0
      },
      "text/plain": [
       "  0%|          | 0/8 [00:00<?, ?it/s]"
      ]
     },
     "metadata": {},
     "output_type": "display_data"
    },
    {
     "name": "stdout",
     "output_type": "stream",
     "text": [
      "Epoch:985/1000.. Train Loss: 0.122.. Val Loss: 0.321.. Train mIoU:0.000.. Val mIoU: 0.000.. Train Acc:0.940.. Val Acc:0.846.. Time: 0.07m\n"
     ]
    },
    {
     "data": {
      "application/vnd.jupyter.widget-view+json": {
       "model_id": "99cca4d3ffc047d9a06c43be87c4e526",
       "version_major": 2,
       "version_minor": 0
      },
      "text/plain": [
       "  0%|          | 0/8 [00:00<?, ?it/s]"
      ]
     },
     "metadata": {},
     "output_type": "display_data"
    },
    {
     "name": "stdout",
     "output_type": "stream",
     "text": [
      "Epoch:986/1000.. Train Loss: 0.121.. Val Loss: 0.361.. Train mIoU:0.000.. Val mIoU: 0.000.. Train Acc:0.941.. Val Acc:0.828.. Time: 0.07m\n"
     ]
    },
    {
     "data": {
      "application/vnd.jupyter.widget-view+json": {
       "model_id": "915c7278e9c24eabbcff0bde36cd0806",
       "version_major": 2,
       "version_minor": 0
      },
      "text/plain": [
       "  0%|          | 0/8 [00:00<?, ?it/s]"
      ]
     },
     "metadata": {},
     "output_type": "display_data"
    },
    {
     "name": "stdout",
     "output_type": "stream",
     "text": [
      "Epoch:987/1000.. Train Loss: 0.119.. Val Loss: 0.364.. Train mIoU:0.000.. Val mIoU: 0.000.. Train Acc:0.941.. Val Acc:0.824.. Time: 0.07m\n"
     ]
    },
    {
     "data": {
      "application/vnd.jupyter.widget-view+json": {
       "model_id": "88b881239f7b4a72a80219c41bd3a80d",
       "version_major": 2,
       "version_minor": 0
      },
      "text/plain": [
       "  0%|          | 0/8 [00:00<?, ?it/s]"
      ]
     },
     "metadata": {},
     "output_type": "display_data"
    },
    {
     "name": "stdout",
     "output_type": "stream",
     "text": [
      "Epoch:988/1000.. Train Loss: 0.123.. Val Loss: 0.349.. Train mIoU:0.000.. Val mIoU: 0.000.. Train Acc:0.939.. Val Acc:0.814.. Time: 0.07m\n"
     ]
    },
    {
     "data": {
      "application/vnd.jupyter.widget-view+json": {
       "model_id": "9d34e3aed9034f5a87391b9006cf98ee",
       "version_major": 2,
       "version_minor": 0
      },
      "text/plain": [
       "  0%|          | 0/8 [00:00<?, ?it/s]"
      ]
     },
     "metadata": {},
     "output_type": "display_data"
    },
    {
     "name": "stdout",
     "output_type": "stream",
     "text": [
      "Epoch:989/1000.. Train Loss: 0.120.. Val Loss: 0.290.. Train mIoU:0.000.. Val mIoU: 0.000.. Train Acc:0.941.. Val Acc:0.863.. Time: 0.07m\n"
     ]
    },
    {
     "data": {
      "application/vnd.jupyter.widget-view+json": {
       "model_id": "92cf8aa9a0b74e04847fb428f0c6876b",
       "version_major": 2,
       "version_minor": 0
      },
      "text/plain": [
       "  0%|          | 0/8 [00:00<?, ?it/s]"
      ]
     },
     "metadata": {},
     "output_type": "display_data"
    },
    {
     "name": "stdout",
     "output_type": "stream",
     "text": [
      "Epoch:990/1000.. Train Loss: 0.123.. Val Loss: 0.355.. Train mIoU:0.000.. Val mIoU: 0.000.. Train Acc:0.939.. Val Acc:0.830.. Time: 0.07m\n"
     ]
    },
    {
     "data": {
      "application/vnd.jupyter.widget-view+json": {
       "model_id": "dcd55b4a984d448b8cc9edf55e27930d",
       "version_major": 2,
       "version_minor": 0
      },
      "text/plain": [
       "  0%|          | 0/8 [00:00<?, ?it/s]"
      ]
     },
     "metadata": {},
     "output_type": "display_data"
    },
    {
     "name": "stdout",
     "output_type": "stream",
     "text": [
      "Epoch:991/1000.. Train Loss: 0.124.. Val Loss: 0.389.. Train mIoU:0.000.. Val mIoU: 0.000.. Train Acc:0.939.. Val Acc:0.803.. Time: 0.07m\n"
     ]
    },
    {
     "data": {
      "application/vnd.jupyter.widget-view+json": {
       "model_id": "f5e8c02fad3c47d6a90d7a5f20ef6354",
       "version_major": 2,
       "version_minor": 0
      },
      "text/plain": [
       "  0%|          | 0/8 [00:00<?, ?it/s]"
      ]
     },
     "metadata": {},
     "output_type": "display_data"
    },
    {
     "name": "stdout",
     "output_type": "stream",
     "text": [
      "Epoch:992/1000.. Train Loss: 0.122.. Val Loss: 0.381.. Train mIoU:0.000.. Val mIoU: 0.000.. Train Acc:0.939.. Val Acc:0.812.. Time: 0.08m\n"
     ]
    },
    {
     "data": {
      "application/vnd.jupyter.widget-view+json": {
       "model_id": "1157859b4a0a44f4bc0ac726268d1832",
       "version_major": 2,
       "version_minor": 0
      },
      "text/plain": [
       "  0%|          | 0/8 [00:00<?, ?it/s]"
      ]
     },
     "metadata": {},
     "output_type": "display_data"
    },
    {
     "name": "stdout",
     "output_type": "stream",
     "text": [
      "Epoch:993/1000.. Train Loss: 0.123.. Val Loss: 0.342.. Train mIoU:0.000.. Val mIoU: 0.000.. Train Acc:0.940.. Val Acc:0.844.. Time: 0.07m\n"
     ]
    },
    {
     "data": {
      "application/vnd.jupyter.widget-view+json": {
       "model_id": "039e75ba2b4b40618a7e404b3feb4f9c",
       "version_major": 2,
       "version_minor": 0
      },
      "text/plain": [
       "  0%|          | 0/8 [00:00<?, ?it/s]"
      ]
     },
     "metadata": {},
     "output_type": "display_data"
    },
    {
     "name": "stdout",
     "output_type": "stream",
     "text": [
      "Epoch:994/1000.. Train Loss: 0.122.. Val Loss: 0.294.. Train mIoU:0.000.. Val mIoU: 0.000.. Train Acc:0.940.. Val Acc:0.856.. Time: 0.07m\n"
     ]
    },
    {
     "data": {
      "application/vnd.jupyter.widget-view+json": {
       "model_id": "bb55e14b647d4b55ae3b03f0367e11ba",
       "version_major": 2,
       "version_minor": 0
      },
      "text/plain": [
       "  0%|          | 0/8 [00:00<?, ?it/s]"
      ]
     },
     "metadata": {},
     "output_type": "display_data"
    },
    {
     "name": "stdout",
     "output_type": "stream",
     "text": [
      "Epoch:995/1000.. Train Loss: 0.122.. Val Loss: 0.288.. Train mIoU:0.000.. Val mIoU: 0.000.. Train Acc:0.941.. Val Acc:0.859.. Time: 0.07m\n"
     ]
    },
    {
     "data": {
      "application/vnd.jupyter.widget-view+json": {
       "model_id": "f29143c5200d4b06a2e8eeeee522b446",
       "version_major": 2,
       "version_minor": 0
      },
      "text/plain": [
       "  0%|          | 0/8 [00:00<?, ?it/s]"
      ]
     },
     "metadata": {},
     "output_type": "display_data"
    },
    {
     "name": "stdout",
     "output_type": "stream",
     "text": [
      "Epoch:996/1000.. Train Loss: 0.119.. Val Loss: 0.300.. Train mIoU:0.000.. Val mIoU: 0.000.. Train Acc:0.941.. Val Acc:0.856.. Time: 0.07m\n"
     ]
    },
    {
     "data": {
      "application/vnd.jupyter.widget-view+json": {
       "model_id": "37081613d8174d37938c42614078fb4c",
       "version_major": 2,
       "version_minor": 0
      },
      "text/plain": [
       "  0%|          | 0/8 [00:00<?, ?it/s]"
      ]
     },
     "metadata": {},
     "output_type": "display_data"
    },
    {
     "name": "stdout",
     "output_type": "stream",
     "text": [
      "Epoch:997/1000.. Train Loss: 0.120.. Val Loss: 0.293.. Train mIoU:0.000.. Val mIoU: 0.000.. Train Acc:0.941.. Val Acc:0.859.. Time: 0.07m\n"
     ]
    },
    {
     "data": {
      "application/vnd.jupyter.widget-view+json": {
       "model_id": "224fd4877f4b4b378b7c195298dc8776",
       "version_major": 2,
       "version_minor": 0
      },
      "text/plain": [
       "  0%|          | 0/8 [00:00<?, ?it/s]"
      ]
     },
     "metadata": {},
     "output_type": "display_data"
    },
    {
     "name": "stdout",
     "output_type": "stream",
     "text": [
      "Epoch:998/1000.. Train Loss: 0.121.. Val Loss: 0.297.. Train mIoU:0.000.. Val mIoU: 0.000.. Train Acc:0.941.. Val Acc:0.864.. Time: 0.07m\n"
     ]
    },
    {
     "data": {
      "application/vnd.jupyter.widget-view+json": {
       "model_id": "7220165848cf4a439e1f9553ecc5d63c",
       "version_major": 2,
       "version_minor": 0
      },
      "text/plain": [
       "  0%|          | 0/8 [00:00<?, ?it/s]"
      ]
     },
     "metadata": {},
     "output_type": "display_data"
    },
    {
     "name": "stdout",
     "output_type": "stream",
     "text": [
      "Epoch:999/1000.. Train Loss: 0.121.. Val Loss: 0.350.. Train mIoU:0.000.. Val mIoU: 0.000.. Train Acc:0.940.. Val Acc:0.837.. Time: 0.07m\n"
     ]
    },
    {
     "data": {
      "application/vnd.jupyter.widget-view+json": {
       "model_id": "4f15537bf4aa4f9d93142f66cd8b2a5e",
       "version_major": 2,
       "version_minor": 0
      },
      "text/plain": [
       "  0%|          | 0/8 [00:00<?, ?it/s]"
      ]
     },
     "metadata": {},
     "output_type": "display_data"
    },
    {
     "name": "stdout",
     "output_type": "stream",
     "text": [
      "Epoch:1000/1000.. Train Loss: 0.123.. Val Loss: 0.287.. Train mIoU:0.000.. Val mIoU: 0.000.. Train Acc:0.940.. Val Acc:0.864.. Time: 0.07m\n",
      "Total time: 69.29 m\n"
     ]
    }
   ],
   "source": [
    "max_lr = 1e-3\n",
    "epoch = 1000\n",
    "weight_decay = 1e-4\n",
    "\n",
    "criterion = nn.CrossEntropyLoss()\n",
    "optimizer = torch.optim.AdamW(model.parameters(), lr=max_lr, weight_decay=weight_decay)\n",
    "sched = torch.optim.lr_scheduler.OneCycleLR(optimizer, max_lr, epochs=epoch,\n",
    "                                            steps_per_epoch=len(train_loader))\n",
    "\n",
    "history = fit(epoch, model, train_loader, val_loader, criterion, optimizer, sched)"
   ]
  },
  {
   "cell_type": "code",
   "execution_count": 23,
   "metadata": {
    "id": "km58PT8qvJ4g",
    "papermill": {
     "duration": 0.15037,
     "end_time": "2021-02-18T11:11:15.01764",
     "exception": false,
     "start_time": "2021-02-18T11:11:14.86727",
     "status": "completed"
    },
    "tags": []
   },
   "outputs": [
    {
     "data": {
      "text/plain": [
       "<matplotlib.image.AxesImage at 0x2b3d1dc0280>"
      ]
     },
     "execution_count": 23,
     "metadata": {},
     "output_type": "execute_result"
    },
    {
     "data": {
      "image/png": "[encoded data removed]",
      "text/plain": [
       "<Figure size 432x288 with 1 Axes>"
      ]
     },
     "metadata": {
      "needs_background": "light"
     },
     "output_type": "display_data"
    },
    {
     "data": {
      "image/png": "[encoded data removed]",
      "text/plain": [
       "<Figure size 432x288 with 1 Axes>"
      ]
     },
     "metadata": {
      "needs_background": "light"
     },
     "output_type": "display_data"
    },
    {
     "data": {
      "image/png": "[encoded data removed]",
      "text/plain": [
       "<Figure size 432x288 with 1 Axes>"
      ]
     },
     "metadata": {
      "needs_background": "light"
     },
     "output_type": "display_data"
    }
   ],
   "source": [
    "i = 2\n",
    "img, mask = next(iter(val_loader))\n",
    "plt.figure()\n",
    "plt.imshow(img[i][3])\n",
    "plt.figure()\n",
    "plt.imshow(mask[i])\n",
    "pred = model(img.to(device).float())\n",
    "plt.figure()\n",
    "plt.imshow(pred[i][1].cpu().detach())"
   ]
  },
  {
   "cell_type": "code",
   "execution_count": 17,
   "metadata": {
    "id": "ojw74huJJSgn",
    "papermill": {
     "duration": 0.094126,
     "end_time": "2021-02-18T11:11:15.563574",
     "exception": false,
     "start_time": "2021-02-18T11:11:15.469448",
     "status": "completed"
    },
    "tags": []
   },
   "outputs": [],
   "source": [
    "def plot_loss(history):\n",
    "    plt.plot(history['val_loss'], label='val', marker='o')\n",
    "    plt.plot( history['train_loss'], label='train', marker='o')\n",
    "    plt.title('Loss per epoch'); plt.ylabel('loss');\n",
    "    plt.xlabel('epoch')\n",
    "    plt.legend(), plt.grid()\n",
    "    plt.show()\n",
    "    \n",
    "def plot_score(history):\n",
    "    plt.plot(history['train_miou'], label='train_mIoU', marker='*')\n",
    "    plt.plot(history['val_miou'], label='val_mIoU',  marker='*')\n",
    "    plt.title('Score per epoch'); plt.ylabel('mean IoU')\n",
    "    plt.xlabel('epoch')\n",
    "    plt.legend(), plt.grid()\n",
    "    plt.show()\n",
    "    \n",
    "def plot_acc(history):\n",
    "    plt.plot(history['train_acc'], label='train_accuracy', marker='*')\n",
    "    plt.plot(history['val_acc'], label='val_accuracy',  marker='*')\n",
    "    plt.title('Accuracy per epoch'); plt.ylabel('Accuracy')\n",
    "    plt.xlabel('epoch')\n",
    "    plt.legend(), plt.grid()\n",
    "    plt.show()"
   ]
  },
  {
   "cell_type": "code",
   "execution_count": 18,
   "metadata": {
    "id": "KT-pRvoJJSgq",
    "outputId": "76a82c62-46ca-44db-9129-8d20ec586471",
    "papermill": {
     "duration": 0.71827,
     "end_time": "2021-02-18T11:11:16.361999",
     "exception": false,
     "start_time": "2021-02-18T11:11:15.643729",
     "status": "completed"
    },
    "tags": []
   },
   "outputs": [
    {
     "data": {
      "image/png": "[encoded data removed]",
      "text/plain": [
       "<Figure size 432x288 with 1 Axes>"
      ]
     },
     "metadata": {
      "needs_background": "light"
     },
     "output_type": "display_data"
    },
    {
     "data": {
      "image/png": "[encoded data removed]",
      "text/plain": [
       "<Figure size 432x288 with 1 Axes>"
      ]
     },
     "metadata": {
      "needs_background": "light"
     },
     "output_type": "display_data"
    },
    {
     "data": {
      "image/png": "[encoded data removed]",
      "text/plain": [
       "<Figure size 432x288 with 1 Axes>"
      ]
     },
     "metadata": {
      "needs_background": "light"
     },
     "output_type": "display_data"
    }
   ],
   "source": [
    "plot_loss(history)\n",
    "plot_score(history)\n",
    "plot_acc(history)"
   ]
  },
  {
   "cell_type": "markdown",
   "metadata": {
    "id": "6BdSV7zxJSgu",
    "papermill": {
     "duration": 0.049339,
     "end_time": "2021-02-18T11:11:16.461916",
     "exception": false,
     "start_time": "2021-02-18T11:11:16.412577",
     "status": "completed"
    },
    "tags": []
   },
   "source": [
    "# Evaluation"
   ]
  },
  {
   "cell_type": "code",
   "execution_count": 19,
   "metadata": {
    "id": "s9A82ZcL14-M",
    "papermill": {
     "duration": 0.06197,
     "end_time": "2021-02-18T11:11:16.573439",
     "exception": false,
     "start_time": "2021-02-18T11:11:16.511469",
     "status": "completed"
    },
    "tags": []
   },
   "outputs": [
    {
     "ename": "NameError",
     "evalue": "name 'IMAGE_PATH' is not defined",
     "output_type": "error",
     "traceback": [
      "\u001b[1;31m---------------------------------------------------------------------------\u001b[0m",
      "\u001b[1;31mNameError\u001b[0m                                 Traceback (most recent call last)",
      "\u001b[1;32m~\\AppData\\Local\\Temp/ipykernel_27128/2765622950.py\u001b[0m in \u001b[0;36m<module>\u001b[1;34m\u001b[0m\n\u001b[0;32m     29\u001b[0m \u001b[1;33m\u001b[0m\u001b[0m\n\u001b[0;32m     30\u001b[0m \u001b[0mt_test\u001b[0m \u001b[1;33m=\u001b[0m \u001b[0mA\u001b[0m\u001b[1;33m.\u001b[0m\u001b[0mResize\u001b[0m\u001b[1;33m(\u001b[0m\u001b[1;36m768\u001b[0m\u001b[1;33m,\u001b[0m \u001b[1;36m1152\u001b[0m\u001b[1;33m,\u001b[0m \u001b[0minterpolation\u001b[0m\u001b[1;33m=\u001b[0m\u001b[0mcv2\u001b[0m\u001b[1;33m.\u001b[0m\u001b[0mINTER_NEAREST\u001b[0m\u001b[1;33m)\u001b[0m\u001b[1;33m\u001b[0m\u001b[1;33m\u001b[0m\u001b[0m\n\u001b[1;32m---> 31\u001b[1;33m \u001b[0mtest_set\u001b[0m \u001b[1;33m=\u001b[0m \u001b[0mDroneTestDataset\u001b[0m\u001b[1;33m(\u001b[0m\u001b[0mIMAGE_PATH\u001b[0m\u001b[1;33m,\u001b[0m \u001b[0mMASK_PATH\u001b[0m\u001b[1;33m,\u001b[0m \u001b[0mX_test\u001b[0m\u001b[1;33m,\u001b[0m \u001b[0mtransform\u001b[0m\u001b[1;33m=\u001b[0m\u001b[0mt_test\u001b[0m\u001b[1;33m)\u001b[0m\u001b[1;33m\u001b[0m\u001b[1;33m\u001b[0m\u001b[0m\n\u001b[0m",
      "\u001b[1;31mNameError\u001b[0m: name 'IMAGE_PATH' is not defined"
     ]
    }
   ],
   "source": [
    "class DroneTestDataset(Dataset):\n",
    "    \n",
    "    def __init__(self, img_path, mask_path, X, transform=None):\n",
    "        self.img_path = img_path\n",
    "        self.mask_path = mask_path\n",
    "        self.X = X\n",
    "        self.transform = transform\n",
    "      \n",
    "    def __len__(self):\n",
    "        return len(self.X)\n",
    "    \n",
    "    def __getitem__(self, idx):\n",
    "        img = cv2.imread(self.img_path + self.X[idx] + '.jpg')\n",
    "        img = cv2.cvtColor(img, cv2.COLOR_BGR2RGB)\n",
    "        mask = cv2.imread(self.mask_path + self.X[idx] + '.png', cv2.IMREAD_GRAYSCALE)\n",
    "        \n",
    "        if self.transform is not None:\n",
    "            aug = self.transform(image=img, mask=mask)\n",
    "            img = Image.fromarray(aug['image'])\n",
    "            mask = aug['mask']\n",
    "        \n",
    "        if self.transform is None:\n",
    "            img = Image.fromarray(img)\n",
    "        \n",
    "        mask = torch.from_numpy(mask).float()\n",
    "        \n",
    "        return img, mask\n",
    "\n",
    "\n",
    "t_test = A.Resize(768, 1152, interpolation=cv2.INTER_NEAREST)\n",
    "test_set = DroneTestDataset(IMAGE_PATH, MASK_PATH, X_test, transform=t_test)"
   ]
  },
  {
   "cell_type": "markdown",
   "metadata": {
    "id": "j0c6UnUz4gb6",
    "papermill": {
     "duration": 0.050775,
     "end_time": "2021-02-18T11:11:16.67452",
     "exception": false,
     "start_time": "2021-02-18T11:11:16.623745",
     "status": "completed"
    },
    "tags": []
   },
   "source": [
    "## Result"
   ]
  },
  {
   "cell_type": "code",
   "execution_count": null,
   "metadata": {
    "papermill": {
     "duration": 0.060719,
     "end_time": "2021-02-18T11:11:16.785872",
     "exception": false,
     "start_time": "2021-02-18T11:11:16.725153",
     "status": "completed"
    },
    "tags": []
   },
   "outputs": [],
   "source": [
    "def predict_image_mask_miou(model, image, mask, mean=[0.485, 0.456, 0.406], std=[0.229, 0.224, 0.225]):\n",
    "    model.eval()\n",
    "    t = T.Compose([T.ToTensor(), T.Normalize(mean, std)])\n",
    "    image = t(image)\n",
    "    model.to(device); image=image.to(device)\n",
    "    mask = mask.to(device)\n",
    "    with torch.no_grad():\n",
    "        \n",
    "        image = image.unsqueeze(0)\n",
    "        mask = mask.unsqueeze(0)\n",
    "        \n",
    "        output = model(image)\n",
    "        score = mIoU(output, mask)\n",
    "        masked = torch.argmax(output, dim=1)\n",
    "        masked = masked.cpu().squeeze(0)\n",
    "    return masked, score"
   ]
  },
  {
   "cell_type": "code",
   "execution_count": null,
   "metadata": {
    "id": "ggsxFaduVz2O",
    "papermill": {
     "duration": 0.059442,
     "end_time": "2021-02-18T11:11:16.89527",
     "exception": false,
     "start_time": "2021-02-18T11:11:16.835828",
     "status": "completed"
    },
    "tags": []
   },
   "outputs": [],
   "source": [
    "def predict_image_mask_pixel(model, image, mask, mean=[0.485, 0.456, 0.406], std=[0.229, 0.224, 0.225]):\n",
    "    model.eval()\n",
    "    t = T.Compose([T.ToTensor(), T.Normalize(mean, std)])\n",
    "    image = t(image)\n",
    "    model.to(device); image=image.to(device)\n",
    "    mask = mask.to(device)\n",
    "    with torch.no_grad():\n",
    "        \n",
    "        image = image.unsqueeze(0)\n",
    "        mask = mask.unsqueeze(0)\n",
    "        \n",
    "        output = model(image)\n",
    "        acc = pixel_accuracy(output, mask)\n",
    "        masked = torch.argmax(output, dim=1)\n",
    "        masked = masked.cpu().squeeze(0)\n",
    "    return masked, acc"
   ]
  },
  {
   "cell_type": "code",
   "execution_count": null,
   "metadata": {
    "id": "ZPPKBax53Kj7",
    "papermill": {
     "duration": 0.725244,
     "end_time": "2021-02-18T11:11:17.669662",
     "exception": false,
     "start_time": "2021-02-18T11:11:16.944418",
     "status": "completed"
    },
    "tags": []
   },
   "outputs": [],
   "source": [
    "image, mask = test_set[3]\n",
    "pred_mask, score = predict_image_mask_miou(model, image, mask)"
   ]
  },
  {
   "cell_type": "code",
   "execution_count": null,
   "metadata": {
    "id": "-UY_OKGW-Zo5",
    "papermill": {
     "duration": 0.057861,
     "end_time": "2021-02-18T11:11:17.777536",
     "exception": false,
     "start_time": "2021-02-18T11:11:17.719675",
     "status": "completed"
    },
    "tags": []
   },
   "outputs": [],
   "source": [
    "def miou_score(model, test_set):\n",
    "    score_iou = []\n",
    "    for i in tqdm(range(len(test_set))):\n",
    "        img, mask = test_set[i]\n",
    "        pred_mask, score = predict_image_mask_miou(model, img, mask)\n",
    "        score_iou.append(score)\n",
    "    return score_iou"
   ]
  },
  {
   "cell_type": "code",
   "execution_count": null,
   "metadata": {
    "id": "DCa1A9y8zTbg",
    "outputId": "68e99a8d-5500-482d-ed1d-1fa78e7bd02d",
    "papermill": {
     "duration": 26.64397,
     "end_time": "2021-02-18T11:11:44.471497",
     "exception": false,
     "start_time": "2021-02-18T11:11:17.827527",
     "status": "completed"
    },
    "tags": []
   },
   "outputs": [],
   "source": [
    "mob_miou = miou_score(model, test_set)"
   ]
  },
  {
   "cell_type": "code",
   "execution_count": null,
   "metadata": {
    "id": "LuexylyzXCmc",
    "papermill": {
     "duration": 0.058884,
     "end_time": "2021-02-18T11:11:44.581542",
     "exception": false,
     "start_time": "2021-02-18T11:11:44.522658",
     "status": "completed"
    },
    "tags": []
   },
   "outputs": [],
   "source": [
    "def pixel_acc(model, test_set):\n",
    "    accuracy = []\n",
    "    for i in tqdm(range(len(test_set))):\n",
    "        img, mask = test_set[i]\n",
    "        pred_mask, acc = predict_image_mask_pixel(model, img, mask)\n",
    "        accuracy.append(acc)\n",
    "    return accuracy"
   ]
  },
  {
   "cell_type": "code",
   "execution_count": null,
   "metadata": {
    "id": "wIEZR3w4XTFL",
    "outputId": "fb0ed4ba-1371-4a5f-fdea-17f64135f95a",
    "papermill": {
     "duration": 25.407116,
     "end_time": "2021-02-18T11:12:10.040411",
     "exception": false,
     "start_time": "2021-02-18T11:11:44.633295",
     "status": "completed"
    },
    "tags": []
   },
   "outputs": [],
   "source": [
    "mob_acc = pixel_acc(model, test_set)"
   ]
  },
  {
   "cell_type": "code",
   "execution_count": null,
   "metadata": {
    "id": "FV6xO9SLtSum",
    "outputId": "2bcbb0ff-987f-4596-b595-7f6614638d1f",
    "papermill": {
     "duration": 0.624904,
     "end_time": "2021-02-18T11:12:10.715853",
     "exception": false,
     "start_time": "2021-02-18T11:12:10.090949",
     "status": "completed"
    },
    "tags": []
   },
   "outputs": [],
   "source": [
    "fig, (ax1, ax2, ax3) = plt.subplots(1,3, figsize=(20,10))\n",
    "ax1.imshow(image)\n",
    "ax1.set_title('Picture');\n",
    "\n",
    "ax2.imshow(mask)\n",
    "ax2.set_title('Ground truth')\n",
    "ax2.set_axis_off()\n",
    "\n",
    "ax3.imshow(pred_mask)\n",
    "ax3.set_title('UNet-MobileNet | mIoU {:.3f}'.format(score))\n",
    "ax3.set_axis_off()"
   ]
  },
  {
   "cell_type": "code",
   "execution_count": null,
   "metadata": {
    "papermill": {
     "duration": 1.113059,
     "end_time": "2021-02-18T11:12:11.886384",
     "exception": false,
     "start_time": "2021-02-18T11:12:10.773325",
     "status": "completed"
    },
    "tags": []
   },
   "outputs": [],
   "source": [
    "image2, mask2 = test_set[4]\n",
    "pred_mask2, score2 = predict_image_mask_miou(model, image2, mask2)\n",
    "\n",
    "fig, (ax1, ax2, ax3) = plt.subplots(1,3, figsize=(20,10))\n",
    "ax1.imshow(image2)\n",
    "ax1.set_title('Picture');\n",
    "\n",
    "ax2.imshow(mask2)\n",
    "ax2.set_title('Ground truth')\n",
    "ax2.set_axis_off()\n",
    "\n",
    "ax3.imshow(pred_mask2)\n",
    "ax3.set_title('UNet-MobileNet | mIoU {:.3f}'.format(score2))\n",
    "ax3.set_axis_off()"
   ]
  },
  {
   "cell_type": "code",
   "execution_count": null,
   "metadata": {
    "papermill": {
     "duration": 1.110346,
     "end_time": "2021-02-18T11:12:13.062543",
     "exception": false,
     "start_time": "2021-02-18T11:12:11.952197",
     "status": "completed"
    },
    "tags": []
   },
   "outputs": [],
   "source": [
    "image3, mask3 = test_set[6]\n",
    "pred_mask3, score3 = predict_image_mask_miou(model, image3, mask3)\n",
    "\n",
    "fig, (ax1, ax2, ax3) = plt.subplots(1,3, figsize=(20,10))\n",
    "ax1.imshow(image3)\n",
    "ax1.set_title('Picture');\n",
    "\n",
    "ax2.imshow(mask3)\n",
    "ax2.set_title('Ground truth')\n",
    "ax2.set_axis_off()\n",
    "\n",
    "ax3.imshow(pred_mask3)\n",
    "ax3.set_title('UNet-MobileNet | mIoU {:.3f}'.format(score3))\n",
    "ax3.set_axis_off()"
   ]
  },
  {
   "cell_type": "code",
   "execution_count": null,
   "metadata": {
    "id": "xxTIX8P-JSh9",
    "outputId": "1c267692-9175-4d6d-b90f-02a8c5c21b1c",
    "papermill": {
     "duration": 0.079123,
     "end_time": "2021-02-18T11:12:13.21186",
     "exception": false,
     "start_time": "2021-02-18T11:12:13.132737",
     "status": "completed"
    },
    "tags": []
   },
   "outputs": [],
   "source": [
    "print('Test Set mIoU', np.mean(mob_miou))"
   ]
  },
  {
   "cell_type": "code",
   "execution_count": null,
   "metadata": {
    "id": "bcKnghXTXbAJ",
    "outputId": "9de5a72b-6154-4373-a51d-6e17ecdf9994",
    "papermill": {
     "duration": 0.080048,
     "end_time": "2021-02-18T11:12:13.361311",
     "exception": false,
     "start_time": "2021-02-18T11:12:13.281263",
     "status": "completed"
    },
    "tags": []
   },
   "outputs": [],
   "source": [
    "print('Test Set Pixel Accuracy', np.mean(mob_acc))"
   ]
  }
 ],
 "metadata": {
  "kernelspec": {
   "display_name": "Python 3 (ipykernel)",
   "language": "python",
   "name": "python3"
  },
  "language_info": {
   "codemirror_mode": {
    "name": "ipython",
    "version": 3
   },
   "file_extension": ".py",
   "mimetype": "text/x-python",
   "name": "python",
   "nbconvert_exporter": "python",
   "pygments_lexer": "ipython3",
   "version": "3.9.7"
  }
 },
 "nbformat": 4,
 "nbformat_minor": 4
}
