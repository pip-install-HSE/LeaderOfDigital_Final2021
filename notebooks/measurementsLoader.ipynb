{
 "cells": [
  {
   "cell_type": "code",
   "execution_count": 1,
   "id": "350283a3-22a1-46fc-bd95-2b20a508a29b",
   "metadata": {},
   "outputs": [],
   "source": [
    "client_id = 'a9e3e184-d841-457d-96eb-64447e00b568'\n",
    "client_secret = '*7)_kA#Ov_4zf_%)Kh[2RdHu3ci7&dsuidbzt?z>'"
   ]
  },
  {
   "cell_type": "code",
   "execution_count": null,
   "id": "da3331c7-fecc-4777-a079-d055d21a41fc",
   "metadata": {},
   "outputs": [],
   "source": []
  },
  {
   "cell_type": "code",
   "execution_count": 2,
   "id": "a126043b-fe66-4da3-85f9-01f7133c7e44",
   "metadata": {},
   "outputs": [],
   "source": [
    "import pandas as pd\n",
    "\n",
    "import sentinelhub\n",
    "from sentinelhub import SHConfig, WebFeatureService, Geometry, CRS, DataCollection, SentinelHubRequest, MimeType, bbox_to_dimensions\n",
    "\n",
    "from PIL import Image\n",
    "import os, json\n",
    "from secrets import token_hex\n",
    "\n",
    "import warnings\n",
    "warnings.filterwarnings('ignore')"
   ]
  },
  {
   "cell_type": "code",
   "execution_count": null,
   "id": "c32507a0-5be3-4fc1-87be-d38e70f1bbb4",
   "metadata": {},
   "outputs": [],
   "source": []
  },
  {
   "cell_type": "code",
   "execution_count": null,
   "id": "e1376d11-49b2-4d25-bf24-3f832fe83e55",
   "metadata": {},
   "outputs": [],
   "source": []
  },
  {
   "cell_type": "code",
   "execution_count": 3,
   "id": "98eec22a-aa34-4551-8889-000ae72f7402",
   "metadata": {},
   "outputs": [],
   "source": [
    "config = SHConfig()\n",
    "\n",
    "# config.instance_id = sentinelhub_instance_id\n",
    "\n",
    "config.sh_client_id = client_id\n",
    "config.sh_client_secret = client_secret"
   ]
  },
  {
   "cell_type": "code",
   "execution_count": null,
   "id": "d6dc3dcd-ac83-49dd-9e57-4d04b8b811d1",
   "metadata": {},
   "outputs": [],
   "source": []
  },
  {
   "cell_type": "code",
   "execution_count": null,
   "id": "3ebf508b-b10a-4918-a7e5-38de4f5f6194",
   "metadata": {},
   "outputs": [],
   "source": []
  },
  {
   "cell_type": "code",
   "execution_count": 95,
   "id": "71209323-ac24-4470-9757-521d71103383",
   "metadata": {},
   "outputs": [],
   "source": [
    "def getDate(geom, datе, bands):\n",
    "    \n",
    "    betsiboka = Geometry(geometry=geom, crs=CRS.WGS84)\n",
    "\n",
    "    \n",
    "    evalscript = '''\n",
    "    //VERSION=3\n",
    "    function setup(){return{input:[{bands:'''+str(bands)+''',units:\"DN\"}],output:{id:\"default\",sampleType:\"FLOAT32\",bands:''' + str(len(bands)) + '''}};}\n",
    "    function evaluatePixel(sample) {return [ ''' + ','.join(map(lambda x: f'sample.{x}', bands)) + '''];}\n",
    "    '''\n",
    "    \n",
    "    r = SentinelHubRequest(\n",
    "        evalscript=evalscript,\n",
    "        input_data=[SentinelHubRequest.input_data(data_collection=DataCollection.SENTINEL2_L1C, time_interval=datе, mosaicking_order='leastCC')],\n",
    "        responses=[SentinelHubRequest.output_response('default', MimeType.TIFF)],\n",
    "        geometry=betsiboka,\n",
    "        size=(64, 64),\n",
    "        config=config,\n",
    "        \n",
    "    )\n",
    "\n",
    "    r = r.get_data()[0]\n",
    "    r = r.swapaxes(0, 2).swapaxes(1, 2)\n",
    "    return dict(zip(bands, r))"
   ]
  },
  {
   "cell_type": "code",
   "execution_count": 96,
   "id": "12575bd0-5e73-4252-97b1-0bce09dcc91f",
   "metadata": {},
   "outputs": [],
   "source": [
    "def try_mkdir(path: str):\n",
    "    try:\n",
    "        os.mkdir(path)\n",
    "\n",
    "    except FileNotFoundError:\n",
    "        path_ = os.path.join(*os.path.split(path)[:-1])\n",
    "        try_mkdir(path_)\n",
    "        os.mkdir(path)\n",
    "\n",
    "    except FileExistsError:\n",
    "        pass\n",
    "\n",
    "\n",
    "def save(path: str, data: dict):\n",
    "    try_mkdir(path)\n",
    "    extension = 'TIFF'\n",
    "    \n",
    "    for k, v in data.items():\n",
    "        j = Image.fromarray(v)\n",
    "        path_ = os.path.join(path, k) + '.' + extension\n",
    "        j.save(path_)    "
   ]
  },
  {
   "cell_type": "code",
   "execution_count": 97,
   "id": "cc8a849f-3799-4fd0-b86a-2c8929b858da",
   "metadata": {},
   "outputs": [],
   "source": [
    "import shapely"
   ]
  },
  {
   "cell_type": "code",
   "execution_count": 98,
   "id": "ceba4831-2ae4-458f-be78-9b5d0c4fd095",
   "metadata": {},
   "outputs": [
    {
     "name": "stdout",
     "output_type": "stream",
     "text": [
      "Wall time: 650 ms\n"
     ]
    }
   ],
   "source": [
    "%%time\n",
    "bands = [\"B01\",\"B02\",\"B03\",\"B04\",\"B05\",\"B06\",\"B07\",\"B08\",\"B8A\",\"B09\",\"B10\",\"B11\",\"B12\",\"CLM\",\"dataMask\"]\n",
    "\n",
    "p = 'POLYGON ((72.16576044469464 60.44035609252692, 72.16576044469464 60.44634210700676, 72.17687709847911 60.44634210700676, 72.17687709847911 60.44035609252692, 72.16576044469464 60.44035609252692))'\n",
    "p = shapely.wkt.loads(p)\n",
    "\n",
    "datе = ('2021-02-01', '2021-02-07')\n",
    "img = getDate(p, datе=datе, bands=bands)"
   ]
  },
  {
   "cell_type": "code",
   "execution_count": 99,
   "id": "5861f009-0975-4c5d-ac42-00b4697cf383",
   "metadata": {},
   "outputs": [],
   "source": [
    "import numpy as np\n",
    "import pickle\n",
    "with open('data.p', 'wb') as fp:\n",
    "    pickle.dump(img, fp, protocol=pickle.HIGHEST_PROTOCOL)"
   ]
  },
  {
   "cell_type": "code",
   "execution_count": 100,
   "id": "5fc8f01f-34b5-4898-bf54-9f50541c3b2b",
   "metadata": {},
   "outputs": [],
   "source": [
    "# img"
   ]
  },
  {
   "cell_type": "code",
   "execution_count": 101,
   "id": "09f29938-4458-4364-9644-b7a8569aed3c",
   "metadata": {},
   "outputs": [],
   "source": [
    "def real(data):\n",
    "    assert 'B02' in data, 'B02 not set'\n",
    "    assert 'B03' in data, 'B03 not set'\n",
    "    assert 'B04' in data, 'B04 not set'\n",
    "    \n",
    "    B02, B03, B04 = data['B02'], data['B03'], data['B04']\n",
    "\n",
    "    real = np.concatenate([B04.reshape(*B04.shape, 1), B03.reshape(*B03.shape, 1), B02.reshape(*B02.shape, 1)], axis=2)\n",
    "    real = real * (.8 / real.max())\n",
    "    \n",
    "    data['real'] = real"
   ]
  },
  {
   "cell_type": "code",
   "execution_count": 102,
   "id": "79a749ae-81f9-4f1e-a3f3-889464762509",
   "metadata": {},
   "outputs": [],
   "source": [
    "from matplotlib import pyplot as plt"
   ]
  },
  {
   "cell_type": "code",
   "execution_count": 103,
   "id": "dd535e5f-1560-49c5-9501-40ac4a021601",
   "metadata": {},
   "outputs": [],
   "source": [
    "real(img)"
   ]
  },
  {
   "cell_type": "code",
   "execution_count": 104,
   "id": "1ab2adba-6328-4150-ad17-5d79a6e52380",
   "metadata": {},
   "outputs": [
    {
     "data": {
      "text/plain": [
       "<matplotlib.image.AxesImage at 0x1d4f4d16fd0>"
      ]
     },
     "execution_count": 104,
     "metadata": {},
     "output_type": "execute_result"
    },
    {
     "data": {
      "image/png": "[encoded data removed]",
      "text/plain": [
       "<Figure size 432x288 with 1 Axes>"
      ]
     },
     "metadata": {
      "needs_background": "light"
     },
     "output_type": "display_data"
    }
   ],
   "source": [
    "plt.imshow(img['real'])"
   ]
  },
  {
   "cell_type": "code",
   "execution_count": 105,
   "id": "73d54810-c76b-42fc-8512-fab324054875",
   "metadata": {},
   "outputs": [
    {
     "data": {
      "text/plain": [
       "(64, 64, 3)"
      ]
     },
     "execution_count": 105,
     "metadata": {},
     "output_type": "execute_result"
    }
   ],
   "source": [
    "img['real'].shape"
   ]
  },
  {
   "cell_type": "code",
   "execution_count": null,
   "id": "ce5c64ce-ce4a-4e67-b4b7-d1c6a3290e6e",
   "metadata": {},
   "outputs": [],
   "source": []
  },
  {
   "cell_type": "code",
   "execution_count": null,
   "id": "8425b014-2fe5-41b5-af27-045436275bb2",
   "metadata": {},
   "outputs": [],
   "source": []
  },
  {
   "cell_type": "code",
   "execution_count": null,
   "id": "f6fa56ee-d0e3-4ca6-b7f2-6eb92dba3404",
   "metadata": {},
   "outputs": [],
   "source": []
  },
  {
   "cell_type": "code",
   "execution_count": null,
   "id": "c9786788-9247-4fe6-999e-7a0e4cdbbaf8",
   "metadata": {},
   "outputs": [],
   "source": []
  },
  {
   "cell_type": "code",
   "execution_count": null,
   "id": "ec3b43db-7ffb-4b05-b4ed-80a77b917305",
   "metadata": {},
   "outputs": [],
   "source": []
  },
  {
   "cell_type": "code",
   "execution_count": null,
   "id": "4f2207a1-030e-47ef-b10e-00f112af3f53",
   "metadata": {},
   "outputs": [],
   "source": []
  },
  {
   "cell_type": "code",
   "execution_count": null,
   "id": "26ced6d3-f180-4bb4-ad84-19fe47443665",
   "metadata": {},
   "outputs": [],
   "source": []
  },
  {
   "cell_type": "code",
   "execution_count": null,
   "id": "de27a0b6-ff64-4579-a5fc-e18524119503",
   "metadata": {},
   "outputs": [],
   "source": []
  }
 ],
 "metadata": {
  "kernelspec": {
   "display_name": "Python 3 (ipykernel)",
   "language": "python",
   "name": "python3"
  },
  "language_info": {
   "codemirror_mode": {
    "name": "ipython",
    "version": 3
   },
   "file_extension": ".py",
   "mimetype": "text/x-python",
   "name": "python",
   "nbconvert_exporter": "python",
   "pygments_lexer": "ipython3",
   "version": "3.9.7"
  }
 },
 "nbformat": 4,
 "nbformat_minor": 5
}
