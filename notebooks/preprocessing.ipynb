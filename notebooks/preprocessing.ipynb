{
 "cells": [
  {
   "cell_type": "code",
   "execution_count": 1,
   "id": "164e983e-ce62-4b72-a779-7c0e7d0165e6",
   "metadata": {},
   "outputs": [],
   "source": [
    "import numpy as np\n",
    "import pandas as pd\n",
    "import os\n",
    "import zipfile\n",
    "import gzip\n",
    "from matplotlib import pyplot as plt\n",
    "import pickle\n",
    "import torch\n",
    "from torchvision.utils import make_grid"
   ]
  },
  {
   "cell_type": "code",
   "execution_count": 184,
   "id": "c65f7dd7-148e-4f63-9891-5cae75a61309",
   "metadata": {},
   "outputs": [],
   "source": [
    "# with zipfile.ZipFile(\"../data/2021/2017-01.zip\", 'r') as zip_ref:\n",
    "#     zip_ref.extractall(\"../data/2021/\")"
   ]
  },
  {
   "cell_type": "code",
   "execution_count": 2,
   "id": "72c7bb80-ed1d-4984-b14d-22146b0f180d",
   "metadata": {},
   "outputs": [],
   "source": [
    "samples_path = \"../data/2021/2021-01/\"\n",
    "labeled_path = \"../data/2021/2017-01/\"\n",
    "\n",
    "\n",
    "def read_npy_array(path_):\n",
    "    f = gzip.GzipFile(path_, \"r\")\n",
    "    array = np.load(f)\n",
    "    return array\n",
    "\n",
    "\n",
    "def read_pkl(path_):\n",
    "    data = pd.read_pickle(path_)\n",
    "    return data\n",
    "\n",
    "def read_sample(base_path, path_, train=True):\n",
    "    path_to = os.path.join(base_path, path_, \"sentinel2-l2a/patches/64x64-10/2021/\" if train else \"\")\n",
    "    path_to_img = os.path.join(path_to, \"data/L2a.npy.gz\")\n",
    "    path_to_mask = os.path.join(path_to, \"mask/\")\n",
    "    path_mask_CLD = os.path.join(path_to_mask, \"CLD.npy.gz\")\n",
    "    path_mask_CLM = os.path.join(path_to_mask, \"CLM.npy.gz\")\n",
    "    path_mask_CLP = os.path.join(path_to_mask, \"CLP.npy.gz\")\n",
    "    path_mask_IS_DATA = os.path.join(path_to_mask, \"IS_DATA.npy.gz\")\n",
    "    path_mask_SCL = os.path.join(path_to_mask, \"SCL.npy.gz\")\n",
    "    path_mask_SNW = os.path.join(path_to_mask, \"SNW.npy.gz\")\n",
    "    path_bbox = os.path.join(path_to, \"bbox.pkl.gz\")\n",
    "    \n",
    "    CLD = read_npy_array(path_mask_CLD)\n",
    "    CLM = read_npy_array(path_mask_CLM)\n",
    "    CLP = read_npy_array(path_mask_CLP)\n",
    "    IS_DATA = read_npy_array(path_mask_IS_DATA)\n",
    "    SCL = read_npy_array(path_mask_SCL)\n",
    "    SNW = read_npy_array(path_mask_SNW)\n",
    "    \n",
    "    img = read_npy_array(path_to_img)\n",
    "    \n",
    "    bbox = read_pkl(path_bbox)\n",
    "    \n",
    "    return {\n",
    "        \"img\": img,\n",
    "        \"bbox\": bbox,\n",
    "        \"CLD\": CLD,\n",
    "        \"CLM\": CLM,\n",
    "        \"CLP\": CLP,\n",
    "        \"IS_DATA\": IS_DATA,\n",
    "        \"SCL\": SCL,\n",
    "        \"SNW\": SNW,\n",
    "    }\n",
    "\n",
    "mask_list = [\n",
    "        # \"img\",\n",
    "        # \"bbox\",\n",
    "        \"CLD\",\n",
    "        \"CLM\",\n",
    "        \"CLP\",\n",
    "        \"IS_DATA\",\n",
    "        \"SCL\",\n",
    "        \"SNW\",\n",
    "]\n",
    "\n",
    "\n",
    "def show_img(img):\n",
    "    plt.figure(figsize=(8, 8))\n",
    "    plt.imshow(img)\n",
    "    \n",
    "def ch_first(img):\n",
    "    return np.moveaxis(img, -1, 0)\n",
    "\n",
    "def ch_last(img):\n",
    "    return np.moveaxis(img, 0, -1)\n",
    "\n",
    "def stack_channels(img13):\n",
    "    img13 = ch_first(img13)\n",
    "    img = ch_last(np.concatenate([img13[3], img13[2], img13[1]], axis=0).reshape(3, 64, 64))\n",
    "    \n",
    "    mx = img.max()\n",
    "    img *= 255 / mx\n",
    "    \n",
    "    return img.astype(np.int32)\n",
    "\n",
    "def stack_3(array):\n",
    "    return ch_last(np.concatenate([array[0], array[1], array[2]], axis=0).reshape(3, 64, 64))\n",
    "\n",
    "def build_feature1(img13):\n",
    "    img13 = ch_first(img13)\n",
    "    r = (img13[4] + img13[5]) / img13[6]\n",
    "    g = (img13[2] + img13[3]) / img13[1]\n",
    "    b = (img13[11] + img13[12]) / img13[7]\n",
    "    \n",
    "    img = stack_3([r, g, b])\n",
    "    \n",
    "    mx = img.max()\n",
    "    img *= 255/mx\n",
    "    \n",
    "    return img.astype(np.int32)\n",
    "\n",
    "\n",
    "def build_feature2(img13):\n",
    "    img13 = ch_first(img13)\n",
    "    r = img13[2] / img13[1]\n",
    "    g = (img13[2] + img13[3]) / img13[1]\n",
    "    b = (img13[5] + img13[6]) / img13[4]\n",
    "    \n",
    "    img = stack_3([r, g, b])\n",
    "    \n",
    "    mx = img.max()\n",
    "    img *= 255/mx\n",
    "    \n",
    "    return img.astype(np.int32)\n",
    "\n",
    "def show_timestamp(timestamp, ch=1):\n",
    "    for img in timestamp:\n",
    "        plt.figure(figsize=(8, 8))\n",
    "        plt.imshow(ch_first(img)[0]*255)"
   ]
  },
  {
   "cell_type": "code",
   "execution_count": 3,
   "id": "e6234d04-9e0c-4e8f-8ab3-6441d72c1c5f",
   "metadata": {},
   "outputs": [
    {
     "name": "stdout",
     "output_type": "stream",
     "text": [
      "74.44956331395248 63.02904804600002 74.46210459688555 63.03484056516876\n"
     ]
    }
   ],
   "source": [
    "samples = os.listdir(\"../data/2021/2021-01/\")\n",
    "label_samples = os.listdir(\"../data/2021/2017-01/\")\n",
    "\n",
    "\n",
    "sample = read_sample(labeled_path,  label_samples[0], False)\n",
    "\n",
    "img = sample[\"img\"]\n",
    "\n",
    "sample.keys()\n",
    "\n",
    "cld = sample[\"SNW\"]\n",
    "cld.shape\n",
    "\n",
    "# print(cld.min(), cld.mean(), cld.max())\n",
    "\n",
    "c = sample[\"bbox\"]\n",
    "\n",
    "\n",
    "p = c.wkt\n",
    "dir(c)\n",
    "print(c.min_x, c.min_y, c.max_x, c.max_y)\n",
    "\n",
    "# for x in mask_list:\n",
    "#     show_timestamp(sample[x])\n",
    "    # print(sample[x].shape)\n",
    "\n",
    "# for x in range(img.shape[0]):\n",
    "#     # feature = build_feature1(img[x])\n",
    "#     # show_img(feature)\n",
    "#     show_img(ch_first(cld[x])[0])\n",
    "\n",
    "# for x in range(img.shape[0]):\n",
    "#     show_img(stack_channels(img[x]))"
   ]
  },
  {
   "cell_type": "code",
   "execution_count": 7,
   "id": "301520b6-88cf-4507-9f08-47f25d48f1df",
   "metadata": {},
   "outputs": [],
   "source": [
    "reestr = pd.read_excel(\"../data/Reestr-ZZ-na-18.05.2021.xlsx\")"
   ]
  },
  {
   "cell_type": "code",
   "execution_count": 8,
   "id": "0e736dbb-48fe-436d-b0df-32eb5950ccb9",
   "metadata": {},
   "outputs": [],
   "source": [
    "data = reestr"
   ]
  },
  {
   "cell_type": "code",
   "execution_count": 9,
   "id": "b2831a6d-781b-476e-96d6-9ebd3e8bd6b6",
   "metadata": {},
   "outputs": [],
   "source": [
    "coords = data[\"Координаты загрязненного участка (в географической системе координат)\"]"
   ]
  },
  {
   "cell_type": "code",
   "execution_count": 10,
   "id": "0fcfa83f-6c7d-4b71-975c-2c38c861c411",
   "metadata": {},
   "outputs": [
    {
     "data": {
      "text/plain": [
       "Index(['Корректировка реестра', 'Unnamed: 1', 'Предприятие',\n",
       "       'Лицензионный участок', 'Unnamed: 4',\n",
       "       'Вид приоритетного загрязняющего вещества',\n",
       "       'Регистрационный номер загрязненного участка (предприятия)',\n",
       "       'Регистрационный номер загрязненного участка в Реестре',\n",
       "       'Старые регистрационные номера (примечание)',\n",
       "       'Местоположение загрязненного участка', 'Административный район',\n",
       "       'Координаты загрязненного участка (в географической системе координат)',\n",
       "       'Unnamed: 12', 'Дата регистрации в Реестре',\n",
       "       'Дата факта последнего разлива', 'Акт технического расследования ',\n",
       "       'Unnamed: 16', 'Категория земель до загрязнения',\n",
       "       'Наличие специальных защитных зон', 'Площадь загрязненного участка, га',\n",
       "       'Уровень загрязнения почв и земель нефтью,  нефтепродуктами, мг/кг ',\n",
       "       'Уровень содержания нефти, нефтепродуктов в донных отложениях водных объектов, мг/кг;  уровень содержания нефти, нефтепродуктов в поверхностных водах, мг/куб.дм',\n",
       "       'Год планируемой рекультивации', 'Unnamed: 23',\n",
       "       'Результаты освидетельствования', 'Unnamed: 25', 'Unnamed: 26',\n",
       "       'Unnamed: 27', 'Unnamed: 28', 'Unnamed: 29', 'Решение об исключении',\n",
       "       'Unnamed: 31', 'Unnamed: 32', 'Unnamed: 33', 'Unnamed: 34',\n",
       "       'Unnamed: 35', 'Unnamed: 36', 'Unnamed: 37', 'Unnamed: 38',\n",
       "       'Unnamed: 39'],\n",
       "      dtype='object')"
      ]
     },
     "execution_count": 10,
     "metadata": {},
     "output_type": "execute_result"
    }
   ],
   "source": [
    "data.columns"
   ]
  },
  {
   "cell_type": "code",
   "execution_count": 11,
   "id": "09d6b6ab-017e-4d73-93e9-83202aed8b4d",
   "metadata": {},
   "outputs": [],
   "source": [
    "coords = pd.DataFrame()\n",
    "coords[\"latitude\"] = data[\"Unnamed: 12\"]\n",
    "coords[\"longitude\"] = data[\"Координаты загрязненного участка (в географической системе координат)\"]\n",
    "coords[\"date\"] = data[\"Дата факта последнего разлива\"]"
   ]
  },
  {
   "cell_type": "code",
   "execution_count": 391,
   "id": "fb625287-0a99-4cc4-8590-897b4d941e1b",
   "metadata": {},
   "outputs": [],
   "source": [
    "# coords[:50]"
   ]
  },
  {
   "cell_type": "code",
   "execution_count": 12,
   "id": "d8b32ab3-a7ac-4653-9828-fe364fe539af",
   "metadata": {},
   "outputs": [
    {
     "name": "stdout",
     "output_type": "stream",
     "text": [
      "0\n"
     ]
    }
   ],
   "source": [
    "import re\n",
    "\n",
    "\n",
    "def is_dms(dms):\n",
    "    pass\n",
    "\n",
    "def dms_to_dd(dms):\n",
    "    try:\n",
    "        x = float(dms.replace(\",\",\".\"))\n",
    "        return x\n",
    "    except:\n",
    "        try:\n",
    "            result = re.findall(r\"[\\d]+[,\\.]?\\d*\", dms)\n",
    "            return int(result[0])+int(result[1])/60+float(result[2].replace(\",\",\".\"))/(60*60)\n",
    "        except Exception:\n",
    "            return None\n",
    "\n",
    "counter = 0\n",
    "\n",
    "# def dms_to_dd(dms):\n",
    "#     try:\n",
    "#         result = re.findall(r\"[\\d]+[,\\.]?\\d*\", dms)\n",
    "#         return int(result[0])+int(result[1])/60+float(result[2].replace(\",\",\".\"))/(60*60)\n",
    "#     except Exception:\n",
    "#         pass\n",
    "\n",
    "    \n",
    "# for i in range(2, len(coords)):\n",
    "#     lat = dms_to_dd(coords.iloc[i][0])\n",
    "#     lon = dms_to_dd(coords.iloc[i][1])\n",
    "    \n",
    "print(counter)"
   ]
  },
  {
   "cell_type": "code",
   "execution_count": null,
   "id": "5cbb6d34-79a5-4584-8148-cc9eef747fba",
   "metadata": {},
   "outputs": [],
   "source": []
  },
  {
   "cell_type": "code",
   "execution_count": 10,
   "id": "d7493cd0-0b35-4e83-9705-8552d05a19eb",
   "metadata": {},
   "outputs": [],
   "source": [
    "lats, lons, dates = [], [], []\n",
    "\n",
    "for i in range(2, len(coords)):\n",
    "    lat = dms_to_dd(coords.iloc[i][0])\n",
    "    lon = dms_to_dd(coords.iloc[i][1])\n",
    "    dat = coords.iloc[i][2]\n",
    "    if lat and lon:\n",
    "        lats.append(lat)\n",
    "        lons.append(lon)\n",
    "        dates.append(dat)"
   ]
  },
  {
   "cell_type": "code",
   "execution_count": 11,
   "id": "ac3a379c-4d4b-46bf-bbfd-2a8f6ae3efd3",
   "metadata": {},
   "outputs": [
    {
     "data": {
      "text/html": [
       "<div>\n",
       "<style scoped>\n",
       "    .dataframe tbody tr th:only-of-type {\n",
       "        vertical-align: middle;\n",
       "    }\n",
       "\n",
       "    .dataframe tbody tr th {\n",
       "        vertical-align: top;\n",
       "    }\n",
       "\n",
       "    .dataframe thead th {\n",
       "        text-align: right;\n",
       "    }\n",
       "</style>\n",
       "<table border=\"1\" class=\"dataframe\">\n",
       "  <thead>\n",
       "    <tr style=\"text-align: right;\">\n",
       "      <th></th>\n",
       "      <th>lat</th>\n",
       "      <th>lon</th>\n",
       "      <th>date</th>\n",
       "    </tr>\n",
       "  </thead>\n",
       "  <tbody>\n",
       "    <tr>\n",
       "      <th>0</th>\n",
       "      <td>62.592583</td>\n",
       "      <td>73.506833</td>\n",
       "      <td>1905-07-08 00:00:00</td>\n",
       "    </tr>\n",
       "    <tr>\n",
       "      <th>1</th>\n",
       "      <td>62.543500</td>\n",
       "      <td>73.508194</td>\n",
       "      <td>1905-07-08 00:00:00</td>\n",
       "    </tr>\n",
       "    <tr>\n",
       "      <th>2</th>\n",
       "      <td>62.616667</td>\n",
       "      <td>73.347778</td>\n",
       "      <td>1905-07-10 00:00:00</td>\n",
       "    </tr>\n",
       "    <tr>\n",
       "      <th>3</th>\n",
       "      <td>62.557611</td>\n",
       "      <td>73.547472</td>\n",
       "      <td>2019</td>\n",
       "    </tr>\n",
       "    <tr>\n",
       "      <th>4</th>\n",
       "      <td>62.129353</td>\n",
       "      <td>73.983397</td>\n",
       "      <td>2019</td>\n",
       "    </tr>\n",
       "    <tr>\n",
       "      <th>...</th>\n",
       "      <td>...</td>\n",
       "      <td>...</td>\n",
       "      <td>...</td>\n",
       "    </tr>\n",
       "    <tr>\n",
       "      <th>6994</th>\n",
       "      <td>61.020556</td>\n",
       "      <td>79.595556</td>\n",
       "      <td>23.08.2020\\n12:50</td>\n",
       "    </tr>\n",
       "    <tr>\n",
       "      <th>6995</th>\n",
       "      <td>61.035278</td>\n",
       "      <td>79.585278</td>\n",
       "      <td>23.08.2020\\n17:00</td>\n",
       "    </tr>\n",
       "    <tr>\n",
       "      <th>6996</th>\n",
       "      <td>61.061111</td>\n",
       "      <td>79.659722</td>\n",
       "      <td>26.08.2020\\n09:45</td>\n",
       "    </tr>\n",
       "    <tr>\n",
       "      <th>6997</th>\n",
       "      <td>61.316889</td>\n",
       "      <td>77.539306</td>\n",
       "      <td>18.03.2020</td>\n",
       "    </tr>\n",
       "    <tr>\n",
       "      <th>6998</th>\n",
       "      <td>61.429492</td>\n",
       "      <td>75.120758</td>\n",
       "      <td>2019-05-22 00:00:00</td>\n",
       "    </tr>\n",
       "  </tbody>\n",
       "</table>\n",
       "<p>6999 rows × 3 columns</p>\n",
       "</div>"
      ],
      "text/plain": [
       "            lat        lon                 date\n",
       "0     62.592583  73.506833  1905-07-08 00:00:00\n",
       "1     62.543500  73.508194  1905-07-08 00:00:00\n",
       "2     62.616667  73.347778  1905-07-10 00:00:00\n",
       "3     62.557611  73.547472                 2019\n",
       "4     62.129353  73.983397                 2019\n",
       "...         ...        ...                  ...\n",
       "6994  61.020556  79.595556    23.08.2020\\n12:50\n",
       "6995  61.035278  79.585278    23.08.2020\\n17:00\n",
       "6996  61.061111  79.659722    26.08.2020\\n09:45\n",
       "6997  61.316889  77.539306           18.03.2020\n",
       "6998  61.429492  75.120758  2019-05-22 00:00:00\n",
       "\n",
       "[6999 rows x 3 columns]"
      ]
     },
     "execution_count": 11,
     "metadata": {},
     "output_type": "execute_result"
    }
   ],
   "source": [
    "new_coords = pd.DataFrame()\n",
    "new_coords[\"lat\"] = lats\n",
    "new_coords[\"lon\"] = lons\n",
    "new_coords[\"date\"] = dates\n",
    "new_coords"
   ]
  },
  {
   "cell_type": "code",
   "execution_count": 12,
   "id": "7b1c06d4-cb42-49cf-8725-dc94dcb8a04c",
   "metadata": {},
   "outputs": [],
   "source": [
    "def compare(x: float, y: float):\n",
    "    return x - y < 1e-4\n",
    "\n",
    "def collect_all_paths(root=\"../data/2021/oilroad\"):\n",
    "    \n",
    "    objects = []\n",
    "    \n",
    "    for elem in os.listdir(root):\n",
    "        cur = os.path.join(root, elem)\n",
    "        if os.path.isdir(cur):\n",
    "            objects += collect_all_paths(cur)\n",
    "        else:\n",
    "            if elem == \"bbox.pkl.gz\":\n",
    "            # if \"zip\" in elem:\n",
    "                objects.append(cur)\n",
    "                # print(\n",
    "                \n",
    "                #     read_npy_array(os.path.join(root, \"data/L2a.npy.gz\")).shape\n",
    "                # )\n",
    "                return objects\n",
    "                \n",
    "    return objects"
   ]
  },
  {
   "cell_type": "code",
   "execution_count": 14,
   "id": "b8042815-75f8-4c1a-bb0e-46df98e94692",
   "metadata": {},
   "outputs": [
    {
     "data": {
      "text/plain": [
       "6999"
      ]
     },
     "execution_count": 14,
     "metadata": {},
     "output_type": "execute_result"
    }
   ],
   "source": [
    "# paths = collect_all_paths()\n",
    "\n",
    "len(new_coords)"
   ]
  },
  {
   "cell_type": "code",
   "execution_count": null,
   "id": "4b476c95-a2ed-4c60-aa53-5b2e422f6209",
   "metadata": {},
   "outputs": [],
   "source": []
  },
  {
   "cell_type": "code",
   "execution_count": 409,
   "id": "a9a8ee50-ed71-4c1f-a6b5-a5216929a0ae",
   "metadata": {},
   "outputs": [],
   "source": [
    "# for z in paths:\n",
    "#     with zipfile.ZipFile(z, 'r') as zip_ref:\n",
    "#         zip_ref.extractall(\"../data/2021/oilroad/\")"
   ]
  },
  {
   "cell_type": "code",
   "execution_count": 15,
   "id": "e6e8842f-b05c-4296-bada-13e902ac3a7a",
   "metadata": {},
   "outputs": [],
   "source": [
    "pk = read_pkl(\"../data/2021/2017-01/ÅÅ-2013-100/timestamp.pkl.gz\")"
   ]
  },
  {
   "cell_type": "code",
   "execution_count": 16,
   "id": "d9dcce2a-3913-4398-b9fa-8715bfb9f6f8",
   "metadata": {},
   "outputs": [
    {
     "data": {
      "text/plain": [
       "[datetime.datetime(2017, 1, 28, 6, 31, 18, tzinfo=tzlocal()),\n",
       " datetime.datetime(2017, 3, 9, 6, 30, 10, tzinfo=tzlocal()),\n",
       " datetime.datetime(2017, 4, 15, 6, 16, 30, tzinfo=tzlocal()),\n",
       " datetime.datetime(2017, 6, 14, 6, 16, 30, tzinfo=tzlocal()),\n",
       " datetime.datetime(2017, 7, 7, 6, 30, 17, tzinfo=tzlocal()),\n",
       " datetime.datetime(2017, 7, 31, 6, 6, 33, tzinfo=tzlocal()),\n",
       " datetime.datetime(2017, 8, 1, 6, 27, 39, tzinfo=tzlocal()),\n",
       " datetime.datetime(2017, 8, 31, 6, 30, 12, tzinfo=tzlocal()),\n",
       " datetime.datetime(2017, 11, 14, 6, 31, 20, tzinfo=tzlocal())]"
      ]
     },
     "execution_count": 16,
     "metadata": {},
     "output_type": "execute_result"
    }
   ],
   "source": [
    "pk"
   ]
  },
  {
   "cell_type": "code",
   "execution_count": 17,
   "id": "f0bf5c83-37a3-49e3-a70f-342855a7f0b8",
   "metadata": {},
   "outputs": [
    {
     "ename": "NameError",
     "evalue": "name 'paths' is not defined",
     "output_type": "error",
     "traceback": [
      "\u001b[1;31m---------------------------------------------------------------------------\u001b[0m",
      "\u001b[1;31mNameError\u001b[0m                                 Traceback (most recent call last)",
      "\u001b[1;32m~\\AppData\\Local\\Temp/ipykernel_25920/235339498.py\u001b[0m in \u001b[0;36m<module>\u001b[1;34m\u001b[0m\n\u001b[0;32m     21\u001b[0m \u001b[0mpkls\u001b[0m \u001b[1;33m=\u001b[0m \u001b[1;33m[\u001b[0m\u001b[1;33m]\u001b[0m\u001b[1;33m\u001b[0m\u001b[1;33m\u001b[0m\u001b[0m\n\u001b[0;32m     22\u001b[0m \u001b[1;33m\u001b[0m\u001b[0m\n\u001b[1;32m---> 23\u001b[1;33m \u001b[1;32mfor\u001b[0m \u001b[0mp\u001b[0m \u001b[1;32min\u001b[0m \u001b[0mpaths\u001b[0m\u001b[1;33m:\u001b[0m\u001b[1;33m\u001b[0m\u001b[1;33m\u001b[0m\u001b[0m\n\u001b[0m\u001b[0;32m     24\u001b[0m         \u001b[1;32mtry\u001b[0m\u001b[1;33m:\u001b[0m\u001b[1;33m\u001b[0m\u001b[1;33m\u001b[0m\u001b[0m\n\u001b[0;32m     25\u001b[0m             \u001b[0mpk\u001b[0m \u001b[1;33m=\u001b[0m \u001b[0mread_pkl\u001b[0m\u001b[1;33m(\u001b[0m\u001b[0mp\u001b[0m\u001b[1;33m)\u001b[0m\u001b[1;33m\u001b[0m\u001b[1;33m\u001b[0m\u001b[0m\n",
      "\u001b[1;31mNameError\u001b[0m: name 'paths' is not defined"
     ]
    }
   ],
   "source": [
    "from tqdm.notebook import tqdm\n",
    "\n",
    "def get_dd_from_bbox(bbox):\n",
    "    return (bbox.min_y + bbox.max_y)/2, (bbox.min_x + bbox.max_x)/2, \n",
    "\n",
    "def get_box(bbox):\n",
    "    return bbox.min_y, bbox.max_y, bbox.min_x, bbox.max_x\n",
    "\n",
    "\n",
    "def compare_t(a, b):\n",
    "    # print(a, b)\n",
    "    delta = 1e-3\n",
    "    return abs(a[0] - b[0])<delta and abs(a[1] - b[1])<delta\n",
    "\n",
    "def compare_in(a, b):\n",
    "    return a[0] <= b[0] <= a[1] and a[2] <= b[1] <= a[3]\n",
    "\n",
    "\n",
    "matches = []\n",
    "\n",
    "pkls = []\n",
    "\n",
    "for p in paths:\n",
    "        try:\n",
    "            pk = read_pkl(p)\n",
    "            # cor_pk = get_dd_from_bbox(pk)\n",
    "            cor_pk = get_box(pk)\n",
    "            pkls.append([cor_pk, p])\n",
    "        except Exception:\n",
    "            pass\n",
    "\n",
    "for cor in tqdm(new_coords.values):\n",
    "    cor_t = (cor[0], cor[1])\n",
    "    for cor_pk in pkls:\n",
    "        # if compare_t(cor_pk[0], cor_t):\n",
    "        if compare_in(cor_pk[0], cor_t):\n",
    "            index_of_day = 0\n",
    "            matches.append((cor_pk[1], cor[2]))\n",
    "    \n",
    "    \n",
    "print(len(matches))"
   ]
  },
  {
   "cell_type": "code",
   "execution_count": 414,
   "id": "fa43e19c-625d-4659-a39c-08faee24a2b9",
   "metadata": {},
   "outputs": [
    {
     "name": "stdout",
     "output_type": "stream",
     "text": [
      "('../data/2021/oilroad\\\\2021-07\\\\7d253c9b-b3a4-4556-a1a2-4ee6b3e65ff2\\\\sentinel2-l2a\\\\patches\\\\64x64-10\\\\2021\\\\bbox.pkl.gz', '23.04.2020\\n07.05.2020')\n"
     ]
    }
   ],
   "source": [
    "print(matches[0])"
   ]
  },
  {
   "cell_type": "code",
   "execution_count": 417,
   "id": "d7030652-f793-46bb-ac9a-9070678f89bc",
   "metadata": {},
   "outputs": [],
   "source": [
    "# list(new_coords[\"date\"].unique())"
   ]
  },
  {
   "cell_type": "code",
   "execution_count": 512,
   "id": "1a52969f-1e26-4580-8114-3d0cd6a6ff47",
   "metadata": {},
   "outputs": [],
   "source": [
    "import datetime\n",
    "\n",
    "def to_normal_date(date):\n",
    "    if type(new_coords.values[0][2]) == type(date):\n",
    "        return date.day, date.month\n",
    "    \n",
    "    if type(date) == int:\n",
    "        return 1, 1\n",
    "    \n",
    "    try:\n",
    "        arr =  re.findall(r\"\\d+\", date)\n",
    "    except Exception:\n",
    "        return 1, 1\n",
    "    \n",
    "    d, m = 1, 1\n",
    "    if len(arr) > 2:\n",
    "        for i in range(len(arr)):\n",
    "            if len(arr[i]) == 4:\n",
    "                d = arr[i - 2]\n",
    "                m = arr[i - 1]\n",
    "                break\n",
    "            \n",
    "    return d, m\n",
    "            \n",
    "        "
   ]
  },
  {
   "cell_type": "code",
   "execution_count": 513,
   "id": "f3dfa33f-4036-44a9-a4c8-fa4a4abe3fec",
   "metadata": {},
   "outputs": [
    {
     "data": {
      "text/plain": [
       "(8, 7)"
      ]
     },
     "execution_count": 513,
     "metadata": {},
     "output_type": "execute_result"
    }
   ],
   "source": [
    "to_normal_date(new_coords.values[0][2])"
   ]
  },
  {
   "cell_type": "code",
   "execution_count": 514,
   "id": "9b153432-7c38-439f-8935-b5f7d81fa74b",
   "metadata": {},
   "outputs": [
    {
     "data": {
      "application/vnd.jupyter.widget-view+json": {
       "model_id": "3d280402ef974889aa57a6019016c8af",
       "version_major": 2,
       "version_minor": 0
      },
      "text/plain": [
       "  0%|          | 0/6999 [00:00<?, ?it/s]"
      ]
     },
     "metadata": {},
     "output_type": "display_data"
    },
    {
     "data": {
      "text/plain": [
       "6999"
      ]
     },
     "execution_count": 514,
     "metadata": {},
     "output_type": "execute_result"
    }
   ],
   "source": [
    "ds = []\n",
    "\n",
    "for x in tqdm(new_coords.values):\n",
    "    ds.append(to_normal_date(x[2]))\n",
    "    \n",
    "    \n",
    "len(ds)"
   ]
  },
  {
   "cell_type": "code",
   "execution_count": 515,
   "id": "9cae0ecd-0192-4e7d-b70f-0b1adf5d4b88",
   "metadata": {},
   "outputs": [],
   "source": [
    "# new_coords[\"dm\"]=ds"
   ]
  },
  {
   "cell_type": "code",
   "execution_count": 21,
   "id": "b084b179-c61e-42ae-a946-e00850e28f55",
   "metadata": {},
   "outputs": [],
   "source": [
    "paths = [os.path.join(*(x[0].split(\"\\\\\")[:-1])) for x in matches]\n",
    "date_n = [tuple(map(int, to_normal_date(x[1]))) for x in matches]\n",
    "\n",
    "day_idx = []"
   ]
  },
  {
   "cell_type": "code",
   "execution_count": 22,
   "id": "7e20b55f-a406-437d-83d2-f88600469eb3",
   "metadata": {},
   "outputs": [],
   "source": [
    "def get_closest_date_idx(ds, date_t_l):\n",
    "    idx = 0\n",
    "    dd = None\n",
    "    dx = datetime.timedelta(days=1000)\n",
    "    for i, date in enumerate(date_t_l):\n",
    "        n_d = datetime.datetime(2021, date.month, date.day)\n",
    "        # print(ds)\n",
    "        if ds[1] == 2:\n",
    "            ds = (min(28, ds[0]), 2)\n",
    "        if datetime.datetime(2021, ds[1], ds[0], tzinfo=None) - n_d < dx:\n",
    "            dx = datetime.datetime(2021, ds[1], ds[0], tzinfo=None) - n_d\n",
    "            idx = i\n",
    "            dd = ds[1], ds[0]\n",
    "            \n",
    "    return idx, dd\n",
    "        \n",
    "\n",
    "dm_dat = []\n",
    "    \n",
    "for i in range(len(paths)):\n",
    "    dts = read_pkl(os.path.join(paths[i], \"timestamp.pkl.gz\"))\n",
    "    idx = get_closest_date_idx(date_n[i], dts)\n",
    "    day_idx.append(idx[0])\n",
    "    dm_dat.append(idx[1])\n",
    "    # for j, x in enumerate(dts):\n",
    "        \n",
    "        # if (x.day, x.month) == date_n[i]:\n",
    "        #     day_idx.append(j)\n",
    "        #     break"
   ]
  },
  {
   "cell_type": "code",
   "execution_count": 570,
   "id": "f2c24246-aa63-4f39-9afa-ac24d3944a02",
   "metadata": {},
   "outputs": [
    {
     "data": {
      "text/plain": [
       "1360"
      ]
     },
     "execution_count": 570,
     "metadata": {},
     "output_type": "execute_result"
    }
   ],
   "source": [
    "len(day_idx)"
   ]
  },
  {
   "cell_type": "code",
   "execution_count": 23,
   "id": "018e5bb7-bbbc-4ba4-8e75-423486a3d293",
   "metadata": {},
   "outputs": [
    {
     "data": {
      "application/vnd.jupyter.widget-view+json": {
       "model_id": "4fb3b515083b40adb575edae14ed7769",
       "version_major": 2,
       "version_minor": 0
      },
      "text/plain": [
       "0it [00:00, ?it/s]"
      ]
     },
     "metadata": {},
     "output_type": "display_data"
    }
   ],
   "source": [
    "dataset = pd.DataFrame()\n",
    "img_a = []\n",
    "lat_x = []\n",
    "lon_x = []\n",
    "bbox_x = []\n",
    "date = dm_dat\n",
    "\n",
    "for i in tqdm(range(len(day_idx))):\n",
    "    imgs = read_npy_array(os.path.join(paths[i], \"data/L2A.npy.gz\"))\n",
    "    bb = read_pkl(os.path.join(paths[i], \"bbox.pkl.gz\"))\n",
    "    box = get_dd_from_bbox(bb)\n",
    "    lat_x.append(box[0])\n",
    "    lon_x.append(box[1])\n",
    "    bbox_x.append(bb)\n",
    "    img_a.append(imgs[day_idx[i]])\n",
    "    \n",
    "dataset[\"image\"] = img_a\n",
    "dataset[\"lat\"] = lat_x\n",
    "dataset[\"lon\"] = lon_x"
   ]
  },
  {
   "cell_type": "code",
   "execution_count": 24,
   "id": "8f83d1d5-bb0b-4e03-9d13-0de7be4669d0",
   "metadata": {},
   "outputs": [],
   "source": []
  },
  {
   "cell_type": "code",
   "execution_count": 24,
   "id": "6ff4dab2-cad4-47fc-988d-8d220397147b",
   "metadata": {},
   "outputs": [
    {
     "ename": "IndexError",
     "evalue": "list index out of range",
     "output_type": "error",
     "traceback": [
      "\u001b[1;31m---------------------------------------------------------------------------\u001b[0m",
      "\u001b[1;31mIndexError\u001b[0m                                Traceback (most recent call last)",
      "\u001b[1;32m~\\AppData\\Local\\Temp/ipykernel_25920/2123013600.py\u001b[0m in \u001b[0;36m<module>\u001b[1;34m\u001b[0m\n\u001b[0;32m      1\u001b[0m \u001b[0mdataset\u001b[0m\u001b[1;33m[\u001b[0m\u001b[1;34m\"date\"\u001b[0m\u001b[1;33m]\u001b[0m \u001b[1;33m=\u001b[0m \u001b[0mdm_dat\u001b[0m\u001b[1;33m\u001b[0m\u001b[1;33m\u001b[0m\u001b[0m\n\u001b[1;32m----> 2\u001b[1;33m \u001b[0mdm_dat\u001b[0m\u001b[1;33m[\u001b[0m\u001b[1;36m121\u001b[0m\u001b[1;33m]\u001b[0m\u001b[1;33m\u001b[0m\u001b[1;33m\u001b[0m\u001b[0m\n\u001b[0m",
      "\u001b[1;31mIndexError\u001b[0m: list index out of range"
     ]
    }
   ],
   "source": [
    "dataset[\"date\"] = dm_dat\n",
    "dm_dat[121]"
   ]
  },
  {
   "cell_type": "code",
   "execution_count": 13,
   "id": "edb7d7bc-f28e-4d31-87a6-db44924dfb12",
   "metadata": {},
   "outputs": [
    {
     "ename": "NameError",
     "evalue": "name 'dataset' is not defined",
     "output_type": "error",
     "traceback": [
      "\u001b[1;31m---------------------------------------------------------------------------\u001b[0m",
      "\u001b[1;31mNameError\u001b[0m                                 Traceback (most recent call last)",
      "\u001b[1;32m~\\AppData\\Local\\Temp/ipykernel_26432/1932422540.py\u001b[0m in \u001b[0;36m<module>\u001b[1;34m\u001b[0m\n\u001b[0;32m      1\u001b[0m \u001b[0ms\u001b[0m \u001b[1;33m=\u001b[0m \u001b[1;36m121\u001b[0m\u001b[1;33m\u001b[0m\u001b[1;33m\u001b[0m\u001b[0m\n\u001b[1;32m----> 2\u001b[1;33m \u001b[0mimg\u001b[0m \u001b[1;33m=\u001b[0m \u001b[0mdataset\u001b[0m\u001b[1;33m.\u001b[0m\u001b[0mvalues\u001b[0m\u001b[1;33m[\u001b[0m\u001b[0ms\u001b[0m\u001b[1;33m]\u001b[0m\u001b[1;33m[\u001b[0m\u001b[1;36m0\u001b[0m\u001b[1;33m]\u001b[0m\u001b[1;33m\u001b[0m\u001b[1;33m\u001b[0m\u001b[0m\n\u001b[0m",
      "\u001b[1;31mNameError\u001b[0m: name 'dataset' is not defined"
     ]
    }
   ],
   "source": [
    "s = 121\n",
    "img = dataset.values[s][0]"
   ]
  },
  {
   "cell_type": "code",
   "execution_count": 605,
   "id": "7ec45d34-fe91-4556-ae35-fa81a7bc1a87",
   "metadata": {},
   "outputs": [
    {
     "data": {
      "text/plain": [
       "<matplotlib.image.AxesImage at 0x1f85942e8b0>"
      ]
     },
     "execution_count": 605,
     "metadata": {},
     "output_type": "execute_result"
    },
    {
     "data": {
      "image/png": "[encoded data removed]",
      "text/plain": [
       "<Figure size 432x288 with 1 Axes>"
      ]
     },
     "metadata": {
      "needs_background": "light"
     },
     "output_type": "display_data"
    }
   ],
   "source": [
    "plt.imshow(img[:, :, 1])"
   ]
  },
  {
   "cell_type": "code",
   "execution_count": 576,
   "id": "e6326de4-0c13-46bd-ae8d-c991538d8dcc",
   "metadata": {},
   "outputs": [
    {
     "data": {
      "text/plain": [
       "(60.443349099766834, 72.17131877158687)"
      ]
     },
     "execution_count": 576,
     "metadata": {},
     "output_type": "execute_result"
    }
   ],
   "source": [
    "dataset.values[s][1], dataset.values[s][2]"
   ]
  },
  {
   "cell_type": "code",
   "execution_count": 577,
   "id": "845371a1-0c63-4d0d-b91b-23795431c1e5",
   "metadata": {},
   "outputs": [
    {
     "data": {
      "text/plain": [
       "<matplotlib.image.AxesImage at 0x1f8583048e0>"
      ]
     },
     "execution_count": 577,
     "metadata": {},
     "output_type": "execute_result"
    },
    {
     "data": {
      "image/png": "[encoded data removed]",
      "text/plain": [
       "<Figure size 432x288 with 1 Axes>"
      ]
     },
     "metadata": {
      "needs_background": "light"
     },
     "output_type": "display_data"
    }
   ],
   "source": [
    "plt.imshow(build_feature1(img))"
   ]
  },
  {
   "cell_type": "code",
   "execution_count": 578,
   "id": "cecd319e-f495-472d-adb0-cbb63ae75760",
   "metadata": {},
   "outputs": [
    {
     "data": {
      "text/plain": [
       "<matplotlib.image.AxesImage at 0x1f848927430>"
      ]
     },
     "execution_count": 578,
     "metadata": {},
     "output_type": "execute_result"
    },
    {
     "data": {
      "image/png": "[encoded data removed]",
      "text/plain": [
       "<Figure size 432x288 with 1 Axes>"
      ]
     },
     "metadata": {
      "needs_background": "light"
     },
     "output_type": "display_data"
    }
   ],
   "source": [
    "plt.imshow(build_feature2(img))"
   ]
  },
  {
   "cell_type": "code",
   "execution_count": 579,
   "id": "beda6743-996f-45d6-8eb3-511ab63a6d42",
   "metadata": {},
   "outputs": [
    {
     "data": {
      "text/plain": [
       "'POLYGON ((72.16576044469464 60.44035609252692, 72.16576044469464 60.44634210700676, 72.17687709847911 60.44634210700676, 72.17687709847911 60.44035609252692, 72.16576044469464 60.44035609252692))'"
      ]
     },
     "execution_count": 579,
     "metadata": {},
     "output_type": "execute_result"
    }
   ],
   "source": [
    "bbox_x[s].wkt"
   ]
  },
  {
   "cell_type": "code",
   "execution_count": 580,
   "id": "1bae0b7e-27b4-436f-b7cd-eab1562c1218",
   "metadata": {},
   "outputs": [
    {
     "data": {
      "text/plain": [
       "(2, 7)"
      ]
     },
     "execution_count": 580,
     "metadata": {},
     "output_type": "execute_result"
    }
   ],
   "source": [
    "dataset.values[s][3]"
   ]
  },
  {
   "cell_type": "code",
   "execution_count": 631,
   "id": "72be0052-be98-4304-889f-1d387dd5de8b",
   "metadata": {},
   "outputs": [],
   "source": [
    "with open('data.p', 'rb') as fp:\n",
    "    data = pickle.load(fp)"
   ]
  },
  {
   "cell_type": "code",
   "execution_count": 632,
   "id": "c642dc65-1473-4c17-8972-dda843cf2480",
   "metadata": {},
   "outputs": [
    {
     "data": {
      "text/plain": [
       "<matplotlib.image.AxesImage at 0x1f85beee0a0>"
      ]
     },
     "execution_count": 632,
     "metadata": {},
     "output_type": "execute_result"
    },
    {
     "data": {
      "image/png": "[encoded data removed]",
      "text/plain": [
       "<Figure size 432x288 with 1 Axes>"
      ]
     },
     "metadata": {
      "needs_background": "light"
     },
     "output_type": "display_data"
    }
   ],
   "source": [
    "plt.imshow(data[\"B03\"])"
   ]
  },
  {
   "cell_type": "code",
   "execution_count": null,
   "id": "bbec5c5f-92c9-4c89-b602-1b274c5442dc",
   "metadata": {},
   "outputs": [
    {
     "data": {
      "text/plain": [
       "<matplotlib.image.AxesImage at 0x1fb142b7310>"
      ]
     },
     "execution_count": 630,
     "metadata": {},
     "output_type": "execute_result"
    },
    {
     "data": {
      "image/png": "[encoded data removed]",
      "text/plain": [
       "<Figure size 432x288 with 1 Axes>"
      ]
     },
     "metadata": {
      "needs_background": "light"
     },
     "output_type": "display_data"
    }
   ],
   "source": [
    "plt.imshow(img)"
   ]
  },
  {
   "cell_type": "code",
   "execution_count": null,
   "id": "e2497519-1830-4139-8318-53d4ab12d9b8",
   "metadata": {},
   "outputs": [
    {
     "ename": "IndentationError",
     "evalue": "expected an indented block (Temp/ipykernel_2464/22293589.py, line 3)",
     "output_type": "error",
     "traceback": [
      "\u001b[1;36m  File \u001b[1;32m\"C:\\Users\\Sergey\\AppData\\Local\\Temp/ipykernel_2464/22293589.py\"\u001b[1;36m, line \u001b[1;32m3\u001b[0m\n\u001b[1;33m    a = []\u001b[0m\n\u001b[1;37m    ^\u001b[0m\n\u001b[1;31mIndentationError\u001b[0m\u001b[1;31m:\u001b[0m expected an indented block\n"
     ]
    }
   ],
   "source": [
    "def resize64():\n",
    "\n",
    "\n",
    "a = []\n",
    "for layer in list(data.keys())[:13]:\n",
    "    a.append(data.get(layer))\n",
    "    \n",
    "a=np.array(a)"
   ]
  },
  {
   "cell_type": "code",
   "execution_count": null,
   "id": "0ded47a4-d6e5-4525-8571-87bb70b01b83",
   "metadata": {},
   "outputs": [],
   "source": []
  },
  {
   "cell_type": "code",
   "execution_count": 636,
   "id": "b21b9d7d-dfe6-4519-9df7-1cd6e01540cd",
   "metadata": {},
   "outputs": [],
   "source": [
    "# plt.imshow(stack_channels(a))"
   ]
  },
  {
   "cell_type": "code",
   "execution_count": 635,
   "id": "ea6933d5-87a8-4c27-9415-312c63fdee56",
   "metadata": {},
   "outputs": [
    {
     "data": {
      "text/html": [
       "<div>\n",
       "<style scoped>\n",
       "    .dataframe tbody tr th:only-of-type {\n",
       "        vertical-align: middle;\n",
       "    }\n",
       "\n",
       "    .dataframe tbody tr th {\n",
       "        vertical-align: top;\n",
       "    }\n",
       "\n",
       "    .dataframe thead th {\n",
       "        text-align: right;\n",
       "    }\n",
       "</style>\n",
       "<table border=\"1\" class=\"dataframe\">\n",
       "  <thead>\n",
       "    <tr style=\"text-align: right;\">\n",
       "      <th></th>\n",
       "      <th>image</th>\n",
       "      <th>lat</th>\n",
       "      <th>lon</th>\n",
       "      <th>date</th>\n",
       "    </tr>\n",
       "  </thead>\n",
       "  <tbody>\n",
       "    <tr>\n",
       "      <th>0</th>\n",
       "      <td>[[[5.302, 7.148, 6.836, 6.94, 6.954, 7.161, 7....</td>\n",
       "      <td>60.874022</td>\n",
       "      <td>77.064921</td>\n",
       "      <td>(4, 23)</td>\n",
       "    </tr>\n",
       "  </tbody>\n",
       "</table>\n",
       "</div>"
      ],
      "text/plain": [
       "                                               image        lat        lon  \\\n",
       "0  [[[5.302, 7.148, 6.836, 6.94, 6.954, 7.161, 7....  60.874022  77.064921   \n",
       "\n",
       "      date  \n",
       "0  (4, 23)  "
      ]
     },
     "execution_count": 635,
     "metadata": {},
     "output_type": "execute_result"
    }
   ],
   "source": [
    "dataset[:1]"
   ]
  },
  {
   "cell_type": "code",
   "execution_count": null,
   "id": "95274fe8-c5ac-4aa0-87a2-923e5c121be0",
   "metadata": {},
   "outputs": [],
   "source": []
  }
 ],
 "metadata": {
  "kernelspec": {
   "display_name": "Python 3 (ipykernel)",
   "language": "python",
   "name": "python3"
  },
  "language_info": {
   "codemirror_mode": {
    "name": "ipython",
    "version": 3
   },
   "file_extension": ".py",
   "mimetype": "text/x-python",
   "name": "python",
   "nbconvert_exporter": "python",
   "pygments_lexer": "ipython3",
   "version": "3.9.7"
  }
 },
 "nbformat": 4,
 "nbformat_minor": 5
}
