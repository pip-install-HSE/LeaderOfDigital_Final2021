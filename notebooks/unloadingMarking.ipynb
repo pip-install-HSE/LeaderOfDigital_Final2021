{
 "cells": [
  {
   "cell_type": "code",
   "execution_count": 12,
   "id": "8ef2fb14-0569-4dcf-a3c8-61b30f97ed96",
   "metadata": {},
   "outputs": [],
   "source": [
    "import pandas as pd\n",
    "import numpy as np\n",
    "\n",
    "from sklearn.model_selection import train_test_split\n",
    "\n",
    "from PIL import Image\n",
    "import matplotlib.pyplot as plt\n",
    "\n",
    "import torch\n",
    "from torch import nn\n",
    "from torch import optim\n",
    "from torch.utils.data import Dataset, DataLoader\n",
    "\n",
    "import torchvision\n",
    "from torchvision import models\n",
    "from torchvision import transforms\n",
    "\n",
    "import glob, gzip\n",
    "\n",
    "import random\n",
    "import ast\n",
    "import re"
   ]
  },
  {
   "cell_type": "code",
   "execution_count": 2,
   "id": "09a92c0c-7f62-4642-813a-f8e22ac1a2cc",
   "metadata": {},
   "outputs": [],
   "source": [
    "import warnings\n",
    "warnings.filterwarnings('ignore')"
   ]
  },
  {
   "cell_type": "code",
   "execution_count": null,
   "id": "2c7cb44b-1850-4b0e-8bc1-5b7ccb58db97",
   "metadata": {},
   "outputs": [],
   "source": []
  },
  {
   "cell_type": "code",
   "execution_count": 3,
   "id": "e4c6f082-175f-4817-a546-fbca351e87f6",
   "metadata": {},
   "outputs": [],
   "source": [
    "fs = glob.glob(f'../Denchik/dataСlass/oil/*.npy')"
   ]
  },
  {
   "cell_type": "code",
   "execution_count": 3,
   "id": "6f65e58f-d9b1-4d7f-ba27-69ca3befd6b2",
   "metadata": {},
   "outputs": [],
   "source": []
  },
  {
   "cell_type": "code",
   "execution_count": 4,
   "id": "deb9a37b-6526-447b-b5fc-f8d7eb548761",
   "metadata": {},
   "outputs": [],
   "source": [
    "def read_npy_array(path):\n",
    "    readBands = [\"B01\",\"B02\",\"B03\", \"B04\", \"B05\",\"B06\",\"B07\", \"B08\", \"B8A\",\"B09\",\"B10\",\"B11\",\"B12\"]\n",
    "    with open(path, 'rb') as f:\n",
    "        array = np.load(f)\n",
    "    array = array.transpose((2, 1, 0))        \n",
    "\n",
    "    return array"
   ]
  },
  {
   "cell_type": "code",
   "execution_count": 5,
   "id": "dc26c88a-f1c7-43b9-bede-d7e90dc8b063",
   "metadata": {},
   "outputs": [],
   "source": [
    "# https://www.sciencedirect.com/science/article/pii/S2215016121001205\n",
    "\n",
    "\n",
    "lambdasGenIndex = [\n",
    "    lambda x: (x['B05'] + x['B06']) / x['B07'],\n",
    "    lambda x: (x['B03'] + x['B04']) / x['B02'],\n",
    "    lambda x: (x['B11'] + x['B12']) / x['B08'],\n",
    "    lambda x: x['B03'] / x['B02'],\n",
    "    lambda x: (x['B06'] + x['B07']) / x['B05']\n",
    "]"
   ]
  },
  {
   "cell_type": "code",
   "execution_count": null,
   "id": "723080b2-66fe-4e3c-9362-7e6a188c44e5",
   "metadata": {},
   "outputs": [],
   "source": []
  },
  {
   "cell_type": "code",
   "execution_count": 10,
   "id": "f8a692b7-735d-42e6-bb42-0cb7134b1544",
   "metadata": {},
   "outputs": [],
   "source": [
    "def bilg_real(X):\n",
    "    X = np.concatenate([X[3], X[2], X[1]], axis=0).reshape(3, 64, 64)\n",
    "    X = np.moveaxis(X, 0, -1)\n",
    "    X /= 0.8 * X.max()\n",
    "    return X\n",
    "    \n",
    "def save_img(X, dir_):\n",
    "    img = Image.fromarray(np.uint8(X*255))\n",
    "    img.save(dir_)"
   ]
  },
  {
   "cell_type": "code",
   "execution_count": null,
   "id": "6c686faf-878f-4bdb-ba9c-51e5f6b9b6b6",
   "metadata": {},
   "outputs": [],
   "source": []
  },
  {
   "cell_type": "code",
   "execution_count": 27,
   "id": "e3c04b82-b106-4edb-a02a-82845ed1a2b1",
   "metadata": {},
   "outputs": [],
   "source": [
    "for i in range(0, len(fs), len(fs)//100):\n",
    "    data = read_npy_array(fs[i])\n",
    "    j = fs[i].split(\"\\\\\")[-1]\n",
    "    save_img(bilg_real(data), f'outputImg/{j}.png')"
   ]
  },
  {
   "cell_type": "code",
   "execution_count": 28,
   "id": "e8c8d123-9456-4ee6-8f64-b81a6c0418c2",
   "metadata": {},
   "outputs": [
    {
     "ename": "NameError",
     "evalue": "name 'X' is not defined",
     "output_type": "error",
     "traceback": [
      "\u001b[1;31m---------------------------------------------------------------------------\u001b[0m",
      "\u001b[1;31mNameError\u001b[0m                                 Traceback (most recent call last)",
      "\u001b[1;32m~\\AppData\\Local\\Temp/ipykernel_25620/4256117597.py\u001b[0m in \u001b[0;36m<module>\u001b[1;34m\u001b[0m\n\u001b[1;32m----> 1\u001b[1;33m \u001b[0mlen\u001b[0m\u001b[1;33m(\u001b[0m\u001b[0mX\u001b[0m\u001b[1;33m)\u001b[0m\u001b[1;33m//\u001b[0m\u001b[1;36m100\u001b[0m\u001b[1;33m\u001b[0m\u001b[1;33m\u001b[0m\u001b[0m\n\u001b[0m",
      "\u001b[1;31mNameError\u001b[0m: name 'X' is not defined"
     ]
    }
   ],
   "source": [
    "len(X)//100"
   ]
  },
  {
   "cell_type": "code",
   "execution_count": null,
   "id": "69bc53db-8060-4284-a279-aa614cfc9db5",
   "metadata": {},
   "outputs": [],
   "source": [
    "len(X)"
   ]
  },
  {
   "cell_type": "code",
   "execution_count": 16,
   "id": "66b01676-00cd-4738-b4a8-917cac5bd515",
   "metadata": {},
   "outputs": [
    {
     "ename": "SyntaxError",
     "evalue": "unmatched ')' (Temp/ipykernel_25620/687023194.py, line 1)",
     "output_type": "error",
     "traceback": [
      "\u001b[1;36m  File \u001b[1;32m\"C:\\Users\\Sergey\\AppData\\Local\\Temp/ipykernel_25620/687023194.py\"\u001b[1;36m, line \u001b[1;32m1\u001b[0m\n\u001b[1;33m    )\u001b[0m\n\u001b[1;37m    ^\u001b[0m\n\u001b[1;31mSyntaxError\u001b[0m\u001b[1;31m:\u001b[0m unmatched ')'\n"
     ]
    }
   ],
   "source": [
    ")"
   ]
  },
  {
   "cell_type": "code",
   "execution_count": null,
   "id": "c62d25cb-7c3e-4ab7-aae7-36ccde1e0653",
   "metadata": {},
   "outputs": [],
   "source": []
  },
  {
   "cell_type": "code",
   "execution_count": 26,
   "id": "4771e899-e2a1-457e-b747-16b099cff48b",
   "metadata": {},
   "outputs": [
    {
     "data": {
      "text/plain": [
       "'img0.npy'"
      ]
     },
     "execution_count": 26,
     "metadata": {},
     "output_type": "execute_result"
    }
   ],
   "source": [
    "fs[0].split(\"\\\\\")[-1]"
   ]
  },
  {
   "cell_type": "code",
   "execution_count": 29,
   "id": "e4e7312b-5354-4e79-810b-f9edd1f47bf4",
   "metadata": {},
   "outputs": [
    {
     "name": "stderr",
     "output_type": "stream",
     "text": [
      "ERROR: Could not find a version that satisfies the requirement zipfile (from versions: none)\n",
      "ERROR: No matching distribution found for zipfile\n"
     ]
    }
   ],
   "source": [
    "!"
   ]
  },
  {
   "cell_type": "code",
   "execution_count": 40,
   "id": "7c031f74-d64c-4873-9559-59124b67c558",
   "metadata": {},
   "outputs": [
    {
     "data": {
      "text/plain": [
       "'C:\\\\Users\\\\Sergey\\\\Desktop\\\\Hackaton2021\\\\Sergey\\\\outputImg.zip'"
      ]
     },
     "execution_count": 40,
     "metadata": {},
     "output_type": "execute_result"
    }
   ],
   "source": [
    "import shutil\n",
    "shutil.make_archive('outputImg', 'zip', 'outputImg')"
   ]
  },
  {
   "cell_type": "code",
   "execution_count": null,
   "id": "a03b5c66-412b-4fbf-8e45-6ef189e22d7b",
   "metadata": {},
   "outputs": [],
   "source": []
  },
  {
   "cell_type": "code",
   "execution_count": null,
   "id": "aa6f60da-b112-4d4b-88c2-cb2aac5cb5d1",
   "metadata": {},
   "outputs": [],
   "source": []
  },
  {
   "cell_type": "code",
   "execution_count": null,
   "id": "55ce2ae6-115e-4f8f-902e-c18827723001",
   "metadata": {},
   "outputs": [],
   "source": []
  },
  {
   "cell_type": "code",
   "execution_count": null,
   "id": "82cd17a4-24aa-4b16-accc-b25b1b73e186",
   "metadata": {},
   "outputs": [],
   "source": []
  },
  {
   "cell_type": "code",
   "execution_count": null,
   "id": "ee61938a-25c0-42ff-8376-ad24c3b712a2",
   "metadata": {},
   "outputs": [],
   "source": []
  }
 ],
 "metadata": {
  "kernelspec": {
   "display_name": "Python 3 (ipykernel)",
   "language": "python",
   "name": "python3"
  },
  "language_info": {
   "codemirror_mode": {
    "name": "ipython",
    "version": 3
   },
   "file_extension": ".py",
   "mimetype": "text/x-python",
   "name": "python",
   "nbconvert_exporter": "python",
   "pygments_lexer": "ipython3",
   "version": "3.9.7"
  }
 },
 "nbformat": 4,
 "nbformat_minor": 5
}
